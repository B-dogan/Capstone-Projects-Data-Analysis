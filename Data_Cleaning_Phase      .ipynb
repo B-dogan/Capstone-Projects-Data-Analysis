{
 "cells": [
  {
   "cell_type": "code",
   "execution_count": 327,
   "id": "1441acce",
   "metadata": {},
   "outputs": [],
   "source": [
    "import numpy as np\n",
    "import pandas as pd\n",
    "import matplotlib.pyplot as plt\n",
    "import seaborn as sns\n",
    "import re\n",
    "from scipy import stats\n",
    "\n",
    "import warnings\n",
    "warnings.filterwarnings(\"ignore\")\n",
    "warnings.warn(\"this will not show\")\n",
    "\n",
    "plt.rcParams[\"figure.figsize\"] = (10, 6)\n",
    "\n",
    "sns.set_style(\"whitegrid\")\n",
    "pd.set_option('display.float_format', lambda x: '%.3f' % x)\n",
    "\n",
    "# Set it None to display all rows in the dataframe\n",
    "# pd.set_option('display.max_rows', None)\n",
    "\n",
    "# Set it to None to display all columns in the dataframe\n",
    "pd.set_option('display.max_columns', None)"
   ]
  },
  {
   "cell_type": "code",
   "execution_count": 328,
   "id": "94ef3bdd",
   "metadata": {},
   "outputs": [
    {
     "data": {
      "text/html": [
       "<div>\n",
       "<style scoped>\n",
       "    .dataframe tbody tr th:only-of-type {\n",
       "        vertical-align: middle;\n",
       "    }\n",
       "\n",
       "    .dataframe tbody tr th {\n",
       "        vertical-align: top;\n",
       "    }\n",
       "\n",
       "    .dataframe thead th {\n",
       "        text-align: right;\n",
       "    }\n",
       "</style>\n",
       "<table border=\"1\" class=\"dataframe\">\n",
       "  <thead>\n",
       "    <tr style=\"text-align: right;\">\n",
       "      <th></th>\n",
       "      <th>url</th>\n",
       "      <th>make_model</th>\n",
       "      <th>short_description</th>\n",
       "      <th>body_type</th>\n",
       "      <th>price</th>\n",
       "      <th>vat</th>\n",
       "      <th>km</th>\n",
       "      <th>registration</th>\n",
       "      <th>prev_owner</th>\n",
       "      <th>kW</th>\n",
       "      <th>hp</th>\n",
       "      <th>Type</th>\n",
       "      <th>Previous Owners</th>\n",
       "      <th>Next Inspection</th>\n",
       "      <th>Inspection new</th>\n",
       "      <th>Warranty</th>\n",
       "      <th>Full Service</th>\n",
       "      <th>Non-smoking Vehicle</th>\n",
       "      <th>null</th>\n",
       "      <th>Make</th>\n",
       "      <th>Model</th>\n",
       "      <th>Offer Number</th>\n",
       "      <th>First Registration</th>\n",
       "      <th>Body Color</th>\n",
       "      <th>Paint Type</th>\n",
       "      <th>Body Color Original</th>\n",
       "      <th>Upholstery</th>\n",
       "      <th>Body</th>\n",
       "      <th>Nr. of Doors</th>\n",
       "      <th>Nr. of Seats</th>\n",
       "      <th>Model Code</th>\n",
       "      <th>Gearing Type</th>\n",
       "      <th>Displacement</th>\n",
       "      <th>Cylinders</th>\n",
       "      <th>Weight</th>\n",
       "      <th>Drive chain</th>\n",
       "      <th>Fuel</th>\n",
       "      <th>Consumption</th>\n",
       "      <th>CO2 Emission</th>\n",
       "      <th>Emission Class</th>\n",
       "      <th>\\nComfort &amp; Convenience\\n</th>\n",
       "      <th>\\nEntertainment &amp; Media\\n</th>\n",
       "      <th>\\nExtras\\n</th>\n",
       "      <th>\\nSafety &amp; Security\\n</th>\n",
       "      <th>description</th>\n",
       "      <th>Emission Label</th>\n",
       "      <th>Gears</th>\n",
       "      <th>Country version</th>\n",
       "      <th>Electricity consumption</th>\n",
       "      <th>Last Service Date</th>\n",
       "      <th>Other Fuel Types</th>\n",
       "      <th>Availability</th>\n",
       "      <th>Last Timing Belt Service Date</th>\n",
       "      <th>Available from</th>\n",
       "    </tr>\n",
       "  </thead>\n",
       "  <tbody>\n",
       "    <tr>\n",
       "      <th>0</th>\n",
       "      <td>https://www.autoscout24.com//offers/audi-a1-sp...</td>\n",
       "      <td>Audi A1</td>\n",
       "      <td>Sportback 1.4 TDI S-tronic Xenon Navi Klima</td>\n",
       "      <td>Sedans</td>\n",
       "      <td>15770</td>\n",
       "      <td>VAT deductible</td>\n",
       "      <td>56,013 km</td>\n",
       "      <td>01/2016</td>\n",
       "      <td>2 previous owners</td>\n",
       "      <td>NaN</td>\n",
       "      <td>66 kW</td>\n",
       "      <td>[, Used, , Diesel (Particulate Filter)]</td>\n",
       "      <td>\\n2\\n</td>\n",
       "      <td>[\\n06/2021\\n, \\n99 g CO2/km (comb)\\n]</td>\n",
       "      <td>[\\nYes\\n, \\nEuro 6\\n]</td>\n",
       "      <td>[\\n, \\n, \\n4 (Green)\\n]</td>\n",
       "      <td>[\\n, \\n]</td>\n",
       "      <td>[\\n, \\n]</td>\n",
       "      <td>[]</td>\n",
       "      <td>\\nAudi\\n</td>\n",
       "      <td>[\\n, A1, \\n]</td>\n",
       "      <td>[\\nLR-062483\\n]</td>\n",
       "      <td>[\\n, 2016, \\n]</td>\n",
       "      <td>[\\n, Black, \\n]</td>\n",
       "      <td>[\\nMetallic\\n]</td>\n",
       "      <td>[\\nMythosschwarz\\n]</td>\n",
       "      <td>[\\nCloth, Black\\n]</td>\n",
       "      <td>[\\n, Sedans, \\n]</td>\n",
       "      <td>[\\n5\\n]</td>\n",
       "      <td>[\\n5\\n]</td>\n",
       "      <td>[\\n0588/BDF\\n]</td>\n",
       "      <td>[\\n, Automatic, \\n]</td>\n",
       "      <td>[\\n1,422 cc\\n]</td>\n",
       "      <td>[\\n3\\n]</td>\n",
       "      <td>[\\n1,220 kg\\n]</td>\n",
       "      <td>[\\nfront\\n]</td>\n",
       "      <td>[\\n, Diesel (Particulate Filter), \\n]</td>\n",
       "      <td>[[3.8 l/100 km (comb)], [4.3 l/100 km (city)],...</td>\n",
       "      <td>[\\n99 g CO2/km (comb)\\n]</td>\n",
       "      <td>[\\nEuro 6\\n]</td>\n",
       "      <td>[Air conditioning, Armrest, Automatic climate ...</td>\n",
       "      <td>[Bluetooth, Hands-free equipment, On-board com...</td>\n",
       "      <td>[Alloy wheels, Catalytic Converter, Voice Cont...</td>\n",
       "      <td>[ABS, Central door lock, Daytime running light...</td>\n",
       "      <td>[\\n, Sicherheit:,  , Deaktivierung für Beifahr...</td>\n",
       "      <td>NaN</td>\n",
       "      <td>NaN</td>\n",
       "      <td>NaN</td>\n",
       "      <td>NaN</td>\n",
       "      <td>NaN</td>\n",
       "      <td>NaN</td>\n",
       "      <td>NaN</td>\n",
       "      <td>NaN</td>\n",
       "      <td>NaN</td>\n",
       "    </tr>\n",
       "    <tr>\n",
       "      <th>1</th>\n",
       "      <td>https://www.autoscout24.com//offers/audi-a1-1-...</td>\n",
       "      <td>Audi A1</td>\n",
       "      <td>1.8 TFSI sport</td>\n",
       "      <td>Sedans</td>\n",
       "      <td>14500</td>\n",
       "      <td>Price negotiable</td>\n",
       "      <td>80,000 km</td>\n",
       "      <td>03/2017</td>\n",
       "      <td>None</td>\n",
       "      <td>NaN</td>\n",
       "      <td>141 kW</td>\n",
       "      <td>[, Used, , Gasoline]</td>\n",
       "      <td>NaN</td>\n",
       "      <td>NaN</td>\n",
       "      <td>NaN</td>\n",
       "      <td>NaN</td>\n",
       "      <td>NaN</td>\n",
       "      <td>NaN</td>\n",
       "      <td>[]</td>\n",
       "      <td>\\nAudi\\n</td>\n",
       "      <td>[\\n, A1, \\n]</td>\n",
       "      <td>NaN</td>\n",
       "      <td>[\\n, 2017, \\n]</td>\n",
       "      <td>[\\n, Red, \\n]</td>\n",
       "      <td>NaN</td>\n",
       "      <td>NaN</td>\n",
       "      <td>[\\nCloth, Grey\\n]</td>\n",
       "      <td>[\\n, Sedans, \\n]</td>\n",
       "      <td>[\\n3\\n]</td>\n",
       "      <td>[\\n4\\n]</td>\n",
       "      <td>[\\n0588/BCY\\n]</td>\n",
       "      <td>[\\n, Automatic, \\n]</td>\n",
       "      <td>[\\n1,798 cc\\n]</td>\n",
       "      <td>[\\n4\\n]</td>\n",
       "      <td>[\\n1,255 kg\\n]</td>\n",
       "      <td>[\\nfront\\n]</td>\n",
       "      <td>[\\n, Gasoline, \\n]</td>\n",
       "      <td>[[5.6 l/100 km (comb)], [7.1 l/100 km (city)],...</td>\n",
       "      <td>[\\n129 g CO2/km (comb)\\n]</td>\n",
       "      <td>[\\nEuro 6\\n]</td>\n",
       "      <td>[Air conditioning, Automatic climate control, ...</td>\n",
       "      <td>[Bluetooth, Hands-free equipment, On-board com...</td>\n",
       "      <td>[Alloy wheels, Sport seats, Sport suspension, ...</td>\n",
       "      <td>[ABS, Central door lock, Central door lock wit...</td>\n",
       "      <td>[\\nLangstreckenfahrzeug daher die hohe Kilomet...</td>\n",
       "      <td>[\\n4 (Green)\\n]</td>\n",
       "      <td>[\\n7\\n]</td>\n",
       "      <td>NaN</td>\n",
       "      <td>NaN</td>\n",
       "      <td>NaN</td>\n",
       "      <td>NaN</td>\n",
       "      <td>NaN</td>\n",
       "      <td>NaN</td>\n",
       "      <td>NaN</td>\n",
       "    </tr>\n",
       "    <tr>\n",
       "      <th>2</th>\n",
       "      <td>https://www.autoscout24.com//offers/audi-a1-sp...</td>\n",
       "      <td>Audi A1</td>\n",
       "      <td>Sportback 1.6 TDI S tronic Einparkhilfe plus+m...</td>\n",
       "      <td>Sedans</td>\n",
       "      <td>14640</td>\n",
       "      <td>VAT deductible</td>\n",
       "      <td>83,450 km</td>\n",
       "      <td>02/2016</td>\n",
       "      <td>1 previous owner</td>\n",
       "      <td>NaN</td>\n",
       "      <td>85 kW</td>\n",
       "      <td>[, Used, , Diesel (Particulate Filter)]</td>\n",
       "      <td>\\n1\\n</td>\n",
       "      <td>NaN</td>\n",
       "      <td>NaN</td>\n",
       "      <td>[\\n, \\n, \\n99 g CO2/km (comb)\\n]</td>\n",
       "      <td>NaN</td>\n",
       "      <td>NaN</td>\n",
       "      <td>[]</td>\n",
       "      <td>\\nAudi\\n</td>\n",
       "      <td>[\\n, A1, \\n]</td>\n",
       "      <td>[\\nAM-95365\\n]</td>\n",
       "      <td>[\\n, 2016, \\n]</td>\n",
       "      <td>[\\n, Black, \\n]</td>\n",
       "      <td>[\\nMetallic\\n]</td>\n",
       "      <td>[\\nmythosschwarz metallic\\n]</td>\n",
       "      <td>[\\nCloth, Black\\n]</td>\n",
       "      <td>[\\n, Sedans, \\n]</td>\n",
       "      <td>[\\n4\\n]</td>\n",
       "      <td>[\\n4\\n]</td>\n",
       "      <td>NaN</td>\n",
       "      <td>[\\n, Automatic, \\n]</td>\n",
       "      <td>[\\n1,598 cc\\n]</td>\n",
       "      <td>NaN</td>\n",
       "      <td>NaN</td>\n",
       "      <td>[\\nfront\\n]</td>\n",
       "      <td>[\\n, Diesel (Particulate Filter), \\n]</td>\n",
       "      <td>[[3.8 l/100 km (comb)], [4.4 l/100 km (city)],...</td>\n",
       "      <td>[\\n99 g CO2/km (comb)\\n]</td>\n",
       "      <td>[\\nEuro 6\\n]</td>\n",
       "      <td>[Air conditioning, Cruise control, Electrical ...</td>\n",
       "      <td>[MP3, On-board computer]</td>\n",
       "      <td>[Alloy wheels, Voice Control]</td>\n",
       "      <td>[ABS, Central door lock, Daytime running light...</td>\n",
       "      <td>[\\n, Fahrzeug-Nummer: AM-95365,  , Ehem. UPE 2...</td>\n",
       "      <td>[\\n4 (Green)\\n]</td>\n",
       "      <td>NaN</td>\n",
       "      <td>NaN</td>\n",
       "      <td>NaN</td>\n",
       "      <td>NaN</td>\n",
       "      <td>NaN</td>\n",
       "      <td>NaN</td>\n",
       "      <td>NaN</td>\n",
       "      <td>NaN</td>\n",
       "    </tr>\n",
       "    <tr>\n",
       "      <th>3</th>\n",
       "      <td>https://www.autoscout24.com//offers/audi-a1-1-...</td>\n",
       "      <td>Audi A1</td>\n",
       "      <td>1.4 TDi Design S tronic</td>\n",
       "      <td>Sedans</td>\n",
       "      <td>14500</td>\n",
       "      <td>None</td>\n",
       "      <td>73,000 km</td>\n",
       "      <td>08/2016</td>\n",
       "      <td>1 previous owner</td>\n",
       "      <td>NaN</td>\n",
       "      <td>66 kW</td>\n",
       "      <td>[, Used, , Diesel (Particulate Filter)]</td>\n",
       "      <td>\\n1\\n</td>\n",
       "      <td>NaN</td>\n",
       "      <td>NaN</td>\n",
       "      <td>NaN</td>\n",
       "      <td>[\\n, \\n, \\n99 g CO2/km (comb)\\n]</td>\n",
       "      <td>[\\n, \\n, \\nEuro 6\\n]</td>\n",
       "      <td>[]</td>\n",
       "      <td>\\nAudi\\n</td>\n",
       "      <td>[\\n, A1, \\n]</td>\n",
       "      <td>NaN</td>\n",
       "      <td>[\\n, 2016, \\n]</td>\n",
       "      <td>[\\n, Brown, \\n]</td>\n",
       "      <td>[\\nMetallic\\n]</td>\n",
       "      <td>NaN</td>\n",
       "      <td>NaN</td>\n",
       "      <td>[\\n, Sedans, \\n]</td>\n",
       "      <td>[\\n3\\n]</td>\n",
       "      <td>[\\n4\\n]</td>\n",
       "      <td>NaN</td>\n",
       "      <td>[\\n, Automatic, \\n]</td>\n",
       "      <td>[\\n1,422 cc\\n]</td>\n",
       "      <td>[\\n3\\n]</td>\n",
       "      <td>[\\n1,195 kg\\n]</td>\n",
       "      <td>NaN</td>\n",
       "      <td>[\\n, Diesel (Particulate Filter), \\n]</td>\n",
       "      <td>[[3.8 l/100 km (comb)], [4.3 l/100 km (city)],...</td>\n",
       "      <td>[\\n99 g CO2/km (comb)\\n]</td>\n",
       "      <td>[\\nEuro 6\\n]</td>\n",
       "      <td>[Air suspension, Armrest, Auxiliary heating, E...</td>\n",
       "      <td>[Bluetooth, CD player, Hands-free equipment, M...</td>\n",
       "      <td>[Alloy wheels, Sport seats, Voice Control]</td>\n",
       "      <td>[ABS, Alarm system, Central door lock with rem...</td>\n",
       "      <td>[\\nAudi A1: , - 1e eigenaar , - Perfecte staat...</td>\n",
       "      <td>NaN</td>\n",
       "      <td>[\\n6\\n]</td>\n",
       "      <td>NaN</td>\n",
       "      <td>NaN</td>\n",
       "      <td>NaN</td>\n",
       "      <td>NaN</td>\n",
       "      <td>NaN</td>\n",
       "      <td>NaN</td>\n",
       "      <td>NaN</td>\n",
       "    </tr>\n",
       "    <tr>\n",
       "      <th>4</th>\n",
       "      <td>https://www.autoscout24.com//offers/audi-a1-sp...</td>\n",
       "      <td>Audi A1</td>\n",
       "      <td>Sportback 1.4 TDI S-Tronic S-Line Ext. admired...</td>\n",
       "      <td>Sedans</td>\n",
       "      <td>16790</td>\n",
       "      <td>None</td>\n",
       "      <td>16,200 km</td>\n",
       "      <td>05/2016</td>\n",
       "      <td>1 previous owner</td>\n",
       "      <td>NaN</td>\n",
       "      <td>66 kW</td>\n",
       "      <td>[, Used, , Diesel (Particulate Filter)]</td>\n",
       "      <td>\\n1\\n</td>\n",
       "      <td>NaN</td>\n",
       "      <td>[\\nYes\\n, \\n109 g CO2/km (comb)\\n]</td>\n",
       "      <td>[\\n, \\n, \\nEuro 6\\n]</td>\n",
       "      <td>[\\n, \\n, \\n4 (Green)\\n]</td>\n",
       "      <td>[\\n, \\n]</td>\n",
       "      <td>[]</td>\n",
       "      <td>\\nAudi\\n</td>\n",
       "      <td>[\\n, A1, \\n]</td>\n",
       "      <td>[\\nC1626\\n]</td>\n",
       "      <td>[\\n, 2016, \\n]</td>\n",
       "      <td>[\\n, Black, \\n]</td>\n",
       "      <td>[\\nMetallic\\n]</td>\n",
       "      <td>[\\nMythosschwarz Metallic\\n]</td>\n",
       "      <td>[\\nCloth, Black\\n]</td>\n",
       "      <td>[\\n, Sedans, \\n]</td>\n",
       "      <td>[\\n5\\n]</td>\n",
       "      <td>[\\n5\\n]</td>\n",
       "      <td>[\\n0588/BDF\\n]</td>\n",
       "      <td>[\\n, Automatic, \\n]</td>\n",
       "      <td>[\\n1,422 cc\\n]</td>\n",
       "      <td>[\\n3\\n]</td>\n",
       "      <td>NaN</td>\n",
       "      <td>[\\nfront\\n]</td>\n",
       "      <td>[\\n, Diesel (Particulate Filter), \\n]</td>\n",
       "      <td>[[4.1 l/100 km (comb)], [4.6 l/100 km (city)],...</td>\n",
       "      <td>[\\n109 g CO2/km (comb)\\n]</td>\n",
       "      <td>[\\nEuro 6\\n]</td>\n",
       "      <td>[Air conditioning, Armrest, Automatic climate ...</td>\n",
       "      <td>[Bluetooth, CD player, Hands-free equipment, M...</td>\n",
       "      <td>[Alloy wheels, Sport package, Sport suspension...</td>\n",
       "      <td>[ABS, Central door lock, Driver-side airbag, E...</td>\n",
       "      <td>[\\n, Technik &amp; Sicherheit:, Xenon plus, Klimaa...</td>\n",
       "      <td>NaN</td>\n",
       "      <td>NaN</td>\n",
       "      <td>[\\nGermany\\n]</td>\n",
       "      <td>NaN</td>\n",
       "      <td>NaN</td>\n",
       "      <td>NaN</td>\n",
       "      <td>NaN</td>\n",
       "      <td>NaN</td>\n",
       "      <td>NaN</td>\n",
       "    </tr>\n",
       "    <tr>\n",
       "      <th>...</th>\n",
       "      <td>...</td>\n",
       "      <td>...</td>\n",
       "      <td>...</td>\n",
       "      <td>...</td>\n",
       "      <td>...</td>\n",
       "      <td>...</td>\n",
       "      <td>...</td>\n",
       "      <td>...</td>\n",
       "      <td>...</td>\n",
       "      <td>...</td>\n",
       "      <td>...</td>\n",
       "      <td>...</td>\n",
       "      <td>...</td>\n",
       "      <td>...</td>\n",
       "      <td>...</td>\n",
       "      <td>...</td>\n",
       "      <td>...</td>\n",
       "      <td>...</td>\n",
       "      <td>...</td>\n",
       "      <td>...</td>\n",
       "      <td>...</td>\n",
       "      <td>...</td>\n",
       "      <td>...</td>\n",
       "      <td>...</td>\n",
       "      <td>...</td>\n",
       "      <td>...</td>\n",
       "      <td>...</td>\n",
       "      <td>...</td>\n",
       "      <td>...</td>\n",
       "      <td>...</td>\n",
       "      <td>...</td>\n",
       "      <td>...</td>\n",
       "      <td>...</td>\n",
       "      <td>...</td>\n",
       "      <td>...</td>\n",
       "      <td>...</td>\n",
       "      <td>...</td>\n",
       "      <td>...</td>\n",
       "      <td>...</td>\n",
       "      <td>...</td>\n",
       "      <td>...</td>\n",
       "      <td>...</td>\n",
       "      <td>...</td>\n",
       "      <td>...</td>\n",
       "      <td>...</td>\n",
       "      <td>...</td>\n",
       "      <td>...</td>\n",
       "      <td>...</td>\n",
       "      <td>...</td>\n",
       "      <td>...</td>\n",
       "      <td>...</td>\n",
       "      <td>...</td>\n",
       "      <td>...</td>\n",
       "      <td>...</td>\n",
       "    </tr>\n",
       "    <tr>\n",
       "      <th>15914</th>\n",
       "      <td>https://www.autoscout24.com//offers/renault-es...</td>\n",
       "      <td>Renault Espace</td>\n",
       "      <td>Blue dCi 200CV EDC Executive 4Control</td>\n",
       "      <td>Van</td>\n",
       "      <td>39950</td>\n",
       "      <td>VAT deductible</td>\n",
       "      <td>- km</td>\n",
       "      <td>-/-</td>\n",
       "      <td>None</td>\n",
       "      <td>NaN</td>\n",
       "      <td>147 kW</td>\n",
       "      <td>[, New, , Diesel (Particulate Filter)]</td>\n",
       "      <td>NaN</td>\n",
       "      <td>NaN</td>\n",
       "      <td>NaN</td>\n",
       "      <td>\\n24 months\\n</td>\n",
       "      <td>NaN</td>\n",
       "      <td>NaN</td>\n",
       "      <td>[]</td>\n",
       "      <td>\\nRenault\\n</td>\n",
       "      <td>[\\n, Espace, \\n]</td>\n",
       "      <td>[\\n10988301\\n]</td>\n",
       "      <td>NaN</td>\n",
       "      <td>[\\n, Grey, \\n]</td>\n",
       "      <td>[\\nMetallic\\n]</td>\n",
       "      <td>[\\nGrigio scuro\\n]</td>\n",
       "      <td>NaN</td>\n",
       "      <td>[\\n, Van, \\n]</td>\n",
       "      <td>[\\n5\\n]</td>\n",
       "      <td>[\\n5\\n]</td>\n",
       "      <td>NaN</td>\n",
       "      <td>[\\n, Automatic, \\n]</td>\n",
       "      <td>[\\n1,997 cc\\n]</td>\n",
       "      <td>[\\n4\\n]</td>\n",
       "      <td>[\\n1,758 kg\\n]</td>\n",
       "      <td>[\\nfront\\n]</td>\n",
       "      <td>[\\n, Diesel (Particulate Filter), \\n]</td>\n",
       "      <td>[[5.3 l/100 km (comb)], [6.2 l/100 km (city)],...</td>\n",
       "      <td>[\\n139 g CO2/km (comb)\\n]</td>\n",
       "      <td>NaN</td>\n",
       "      <td>[Air conditioning, Automatic climate control, ...</td>\n",
       "      <td>[Bluetooth, Digital radio, Hands-free equipmen...</td>\n",
       "      <td>[Alloy wheels, Touch screen]</td>\n",
       "      <td>[ABS, Central door lock, Central door lock wit...</td>\n",
       "      <td>[\\nVettura visionabile nella sede in Via Roma ...</td>\n",
       "      <td>NaN</td>\n",
       "      <td>[\\n6\\n]</td>\n",
       "      <td>NaN</td>\n",
       "      <td>NaN</td>\n",
       "      <td>NaN</td>\n",
       "      <td>NaN</td>\n",
       "      <td>NaN</td>\n",
       "      <td>NaN</td>\n",
       "      <td>NaN</td>\n",
       "    </tr>\n",
       "    <tr>\n",
       "      <th>15915</th>\n",
       "      <td>https://www.autoscout24.com//offers/renault-es...</td>\n",
       "      <td>Renault Espace</td>\n",
       "      <td>TCe 225 EDC GPF LIM Deluxe Pano,RFK</td>\n",
       "      <td>Van</td>\n",
       "      <td>39885</td>\n",
       "      <td>VAT deductible</td>\n",
       "      <td>9,900 km</td>\n",
       "      <td>01/2019</td>\n",
       "      <td>1 previous owner</td>\n",
       "      <td>NaN</td>\n",
       "      <td>165 kW</td>\n",
       "      <td>[, Used, , Super 95 / Super Plus 98 (Particula...</td>\n",
       "      <td>[\\n1\\n, \\n, 7.4 l/100 km (comb), \\n, 9.2 l/100...</td>\n",
       "      <td>[\\n01/2022\\n, \\n168 g CO2/km (comb)\\n]</td>\n",
       "      <td>NaN</td>\n",
       "      <td>[\\n, \\n, \\nEuro 6\\n]</td>\n",
       "      <td>NaN</td>\n",
       "      <td>[\\n, \\n, \\n4 (Green)\\n]</td>\n",
       "      <td>[]</td>\n",
       "      <td>\\nRenault\\n</td>\n",
       "      <td>[\\n, Espace, \\n]</td>\n",
       "      <td>[\\n507370_3223\\n]</td>\n",
       "      <td>[\\n, 2019, \\n]</td>\n",
       "      <td>[\\n, Grey, \\n]</td>\n",
       "      <td>[\\nMetallic\\n]</td>\n",
       "      <td>[\\nStahl-Grau Metallic\\n]</td>\n",
       "      <td>[\\nCloth\\n]</td>\n",
       "      <td>[\\n, Van, \\n]</td>\n",
       "      <td>[\\n5\\n]</td>\n",
       "      <td>[\\n5\\n]</td>\n",
       "      <td>[\\n0000/000\\n]</td>\n",
       "      <td>[\\n, Automatic, \\n]</td>\n",
       "      <td>[\\n1,798 cc\\n]</td>\n",
       "      <td>[\\n4\\n]</td>\n",
       "      <td>[\\n1,708 kg\\n]</td>\n",
       "      <td>[\\nfront\\n]</td>\n",
       "      <td>[\\n, Super 95 / Super Plus 98 (Particulate Fil...</td>\n",
       "      <td>[\\n, 7.4 l/100 km (comb), \\n, 9.2 l/100 km (ci...</td>\n",
       "      <td>[\\n168 g CO2/km (comb)\\n]</td>\n",
       "      <td>NaN</td>\n",
       "      <td>[Air conditioning, Automatic climate control, ...</td>\n",
       "      <td>[Bluetooth, Digital radio, Hands-free equipmen...</td>\n",
       "      <td>[Alloy wheels, Touch screen, Voice Control]</td>\n",
       "      <td>[ABS, Adaptive Cruise Control, Blind spot moni...</td>\n",
       "      <td>[\\nDach: Panorama-Glas-Schiebedach, Lackierung...</td>\n",
       "      <td>NaN</td>\n",
       "      <td>[\\n7\\n]</td>\n",
       "      <td>[\\nGermany\\n]</td>\n",
       "      <td>NaN</td>\n",
       "      <td>NaN</td>\n",
       "      <td>[[], [], []]</td>\n",
       "      <td>\\nin 5 days from ordering\\n</td>\n",
       "      <td>NaN</td>\n",
       "      <td>NaN</td>\n",
       "    </tr>\n",
       "    <tr>\n",
       "      <th>15916</th>\n",
       "      <td>https://www.autoscout24.com//offers/renault-es...</td>\n",
       "      <td>Renault Espace</td>\n",
       "      <td>Blue dCi 200 EDC Initiale Paris Leder LED Navi...</td>\n",
       "      <td>Van</td>\n",
       "      <td>39875</td>\n",
       "      <td>VAT deductible</td>\n",
       "      <td>15 km</td>\n",
       "      <td>03/2019</td>\n",
       "      <td>1 previous owner</td>\n",
       "      <td>NaN</td>\n",
       "      <td>146 kW</td>\n",
       "      <td>[, Pre-registered, , Diesel]</td>\n",
       "      <td>[\\n1\\n, \\n139 g CO2/km (comb)\\n]</td>\n",
       "      <td>NaN</td>\n",
       "      <td>[\\nYes\\n, \\nEuro 6d-TEMP\\n]</td>\n",
       "      <td>[\\n, \\n, \\n4 (Green)\\n]</td>\n",
       "      <td>[\\n, \\n]</td>\n",
       "      <td>[\\n, \\n]</td>\n",
       "      <td>[]</td>\n",
       "      <td>\\nRenault\\n</td>\n",
       "      <td>[\\n, Espace, \\n]</td>\n",
       "      <td>[\\nEspace16\\n]</td>\n",
       "      <td>[\\n, 2019, \\n]</td>\n",
       "      <td>[\\n, White, \\n]</td>\n",
       "      <td>NaN</td>\n",
       "      <td>[\\narktis-weiß\\n]</td>\n",
       "      <td>[\\nFull leather, Black\\n]</td>\n",
       "      <td>[\\n, Van, \\n]</td>\n",
       "      <td>[\\n5\\n]</td>\n",
       "      <td>[\\n7\\n]</td>\n",
       "      <td>NaN</td>\n",
       "      <td>[\\n, Automatic, \\n]</td>\n",
       "      <td>[\\n1,997 cc\\n]</td>\n",
       "      <td>[\\n4\\n]</td>\n",
       "      <td>NaN</td>\n",
       "      <td>[\\nfront\\n]</td>\n",
       "      <td>[\\n, Diesel, \\n]</td>\n",
       "      <td>[[5.3 l/100 km (comb)], [6.2 l/100 km (city)],...</td>\n",
       "      <td>[\\n139 g CO2/km (comb)\\n]</td>\n",
       "      <td>[\\nEuro 6d-TEMP\\n]</td>\n",
       "      <td>[Air conditioning, Armrest, Automatic climate ...</td>\n",
       "      <td>[Bluetooth, Hands-free equipment, On-board com...</td>\n",
       "      <td>[Alloy wheels]</td>\n",
       "      <td>[ABS, Adaptive Cruise Control, Blind spot moni...</td>\n",
       "      <td>[\\n, Getriebe:,  Automatik, Technik:,  Bordcom...</td>\n",
       "      <td>NaN</td>\n",
       "      <td>[\\n6\\n]</td>\n",
       "      <td>[\\nAustria\\n]</td>\n",
       "      <td>NaN</td>\n",
       "      <td>NaN</td>\n",
       "      <td>NaN</td>\n",
       "      <td>\\nin 120 days from ordering\\n</td>\n",
       "      <td>NaN</td>\n",
       "      <td>NaN</td>\n",
       "    </tr>\n",
       "    <tr>\n",
       "      <th>15917</th>\n",
       "      <td>https://www.autoscout24.com//offers/renault-es...</td>\n",
       "      <td>Renault Espace</td>\n",
       "      <td>Blue dCi 200CV EDC Business , NUOVA DA IMMATRI...</td>\n",
       "      <td>Van</td>\n",
       "      <td>39700</td>\n",
       "      <td>VAT deductible</td>\n",
       "      <td>10 km</td>\n",
       "      <td>06/2019</td>\n",
       "      <td>None</td>\n",
       "      <td>NaN</td>\n",
       "      <td>147 kW</td>\n",
       "      <td>[, Pre-registered, , Diesel]</td>\n",
       "      <td>NaN</td>\n",
       "      <td>NaN</td>\n",
       "      <td>NaN</td>\n",
       "      <td>\\n</td>\n",
       "      <td>NaN</td>\n",
       "      <td>NaN</td>\n",
       "      <td>[]</td>\n",
       "      <td>\\nRenault\\n</td>\n",
       "      <td>[\\n, Espace, \\n]</td>\n",
       "      <td>[\\n2691331\\n]</td>\n",
       "      <td>[\\n, 2019, \\n]</td>\n",
       "      <td>[\\n, Grey, \\n]</td>\n",
       "      <td>NaN</td>\n",
       "      <td>[\\nGrigio\\n]</td>\n",
       "      <td>[\\nPart leather\\n]</td>\n",
       "      <td>[\\n, Van, \\n]</td>\n",
       "      <td>[\\n5\\n]</td>\n",
       "      <td>[\\n7\\n]</td>\n",
       "      <td>NaN</td>\n",
       "      <td>[\\n, Automatic, \\n]</td>\n",
       "      <td>[\\n1,997 cc\\n]</td>\n",
       "      <td>[\\n4\\n]</td>\n",
       "      <td>[\\n1,758 kg\\n]</td>\n",
       "      <td>[\\nfront\\n]</td>\n",
       "      <td>[\\n, Diesel, \\n]</td>\n",
       "      <td>[[5.3 l/100 km (comb)], [6.2 l/100 km (city)],...</td>\n",
       "      <td>[\\n139 g CO2/km (comb)\\n]</td>\n",
       "      <td>[\\nEuro 6\\n]</td>\n",
       "      <td>[Air conditioning, Automatic climate control, ...</td>\n",
       "      <td>[Bluetooth, Digital radio, Radio, USB]</td>\n",
       "      <td>[Alloy wheels, Touch screen]</td>\n",
       "      <td>[ABS, Blind spot monitor, Driver-side airbag, ...</td>\n",
       "      <td>[\\nDEK:[2691331], Renault Espace Blue dCi 200C...</td>\n",
       "      <td>NaN</td>\n",
       "      <td>[\\n6\\n]</td>\n",
       "      <td>NaN</td>\n",
       "      <td>NaN</td>\n",
       "      <td>NaN</td>\n",
       "      <td>NaN</td>\n",
       "      <td>NaN</td>\n",
       "      <td>NaN</td>\n",
       "      <td>NaN</td>\n",
       "    </tr>\n",
       "    <tr>\n",
       "      <th>15918</th>\n",
       "      <td>https://www.autoscout24.com//offers/renault-es...</td>\n",
       "      <td>Renault Espace</td>\n",
       "      <td>INITIALE PARIS TCe 225 EDC GPF NAVI SHZ AUX</td>\n",
       "      <td>Van</td>\n",
       "      <td>40999</td>\n",
       "      <td>VAT deductible</td>\n",
       "      <td>- km</td>\n",
       "      <td>01/2019</td>\n",
       "      <td>1 previous owner</td>\n",
       "      <td>NaN</td>\n",
       "      <td>165 kW</td>\n",
       "      <td>[, Demonstration, , Super 95]</td>\n",
       "      <td>\\n1\\n</td>\n",
       "      <td>NaN</td>\n",
       "      <td>[\\nYes\\n, \\n153 g CO2/km (comb)\\n]</td>\n",
       "      <td>NaN</td>\n",
       "      <td>NaN</td>\n",
       "      <td>NaN</td>\n",
       "      <td>[]</td>\n",
       "      <td>\\nRenault\\n</td>\n",
       "      <td>[\\n, Espace, \\n]</td>\n",
       "      <td>[\\nRe_30000008029\\n]</td>\n",
       "      <td>[\\n, 2019, \\n]</td>\n",
       "      <td>[\\n, Grey, \\n]</td>\n",
       "      <td>[\\nMetallic\\n]</td>\n",
       "      <td>[\\nTitanium-Grau Metallic\\n]</td>\n",
       "      <td>[\\nFull leather, Brown\\n]</td>\n",
       "      <td>[\\n, Van, \\n]</td>\n",
       "      <td>[\\n5\\n]</td>\n",
       "      <td>[\\n5\\n]</td>\n",
       "      <td>[\\n3333/BHJ\\n]</td>\n",
       "      <td>[\\n, Automatic, \\n]</td>\n",
       "      <td>[\\n1,798 cc\\n]</td>\n",
       "      <td>[\\n4\\n]</td>\n",
       "      <td>[\\n1,685 kg\\n]</td>\n",
       "      <td>[\\n4WD\\n]</td>\n",
       "      <td>[\\n, Super 95, \\n]</td>\n",
       "      <td>[[6.8 l/100 km (comb)], [8.7 l/100 km (city)],...</td>\n",
       "      <td>[\\n153 g CO2/km (comb)\\n]</td>\n",
       "      <td>[\\nEuro 6\\n]</td>\n",
       "      <td>[Air conditioning, Automatic climate control, ...</td>\n",
       "      <td>[USB]</td>\n",
       "      <td>[Alloy wheels, Touch screen]</td>\n",
       "      <td>[ABS, Blind spot monitor, Daytime running ligh...</td>\n",
       "      <td>[\\n, Sicherheit Airbags:,  , Seitenairbag,  , ...</td>\n",
       "      <td>[\\n4 (Green)\\n]</td>\n",
       "      <td>NaN</td>\n",
       "      <td>[\\nGermany\\n]</td>\n",
       "      <td>NaN</td>\n",
       "      <td>NaN</td>\n",
       "      <td>NaN</td>\n",
       "      <td>NaN</td>\n",
       "      <td>NaN</td>\n",
       "      <td>NaN</td>\n",
       "    </tr>\n",
       "  </tbody>\n",
       "</table>\n",
       "<p>15919 rows × 54 columns</p>\n",
       "</div>"
      ],
      "text/plain": [
       "                                                     url      make_model  \\\n",
       "0      https://www.autoscout24.com//offers/audi-a1-sp...         Audi A1   \n",
       "1      https://www.autoscout24.com//offers/audi-a1-1-...         Audi A1   \n",
       "2      https://www.autoscout24.com//offers/audi-a1-sp...         Audi A1   \n",
       "3      https://www.autoscout24.com//offers/audi-a1-1-...         Audi A1   \n",
       "4      https://www.autoscout24.com//offers/audi-a1-sp...         Audi A1   \n",
       "...                                                  ...             ...   \n",
       "15914  https://www.autoscout24.com//offers/renault-es...  Renault Espace   \n",
       "15915  https://www.autoscout24.com//offers/renault-es...  Renault Espace   \n",
       "15916  https://www.autoscout24.com//offers/renault-es...  Renault Espace   \n",
       "15917  https://www.autoscout24.com//offers/renault-es...  Renault Espace   \n",
       "15918  https://www.autoscout24.com//offers/renault-es...  Renault Espace   \n",
       "\n",
       "                                       short_description body_type  price  \\\n",
       "0            Sportback 1.4 TDI S-tronic Xenon Navi Klima    Sedans  15770   \n",
       "1                                         1.8 TFSI sport    Sedans  14500   \n",
       "2      Sportback 1.6 TDI S tronic Einparkhilfe plus+m...    Sedans  14640   \n",
       "3                                1.4 TDi Design S tronic    Sedans  14500   \n",
       "4      Sportback 1.4 TDI S-Tronic S-Line Ext. admired...    Sedans  16790   \n",
       "...                                                  ...       ...    ...   \n",
       "15914              Blue dCi 200CV EDC Executive 4Control       Van  39950   \n",
       "15915                TCe 225 EDC GPF LIM Deluxe Pano,RFK       Van  39885   \n",
       "15916  Blue dCi 200 EDC Initiale Paris Leder LED Navi...       Van  39875   \n",
       "15917  Blue dCi 200CV EDC Business , NUOVA DA IMMATRI...       Van  39700   \n",
       "15918        INITIALE PARIS TCe 225 EDC GPF NAVI SHZ AUX       Van  40999   \n",
       "\n",
       "                    vat         km registration         prev_owner  kW  \\\n",
       "0        VAT deductible  56,013 km      01/2016  2 previous owners NaN   \n",
       "1      Price negotiable  80,000 km      03/2017               None NaN   \n",
       "2        VAT deductible  83,450 km      02/2016   1 previous owner NaN   \n",
       "3                  None  73,000 km      08/2016   1 previous owner NaN   \n",
       "4                  None  16,200 km      05/2016   1 previous owner NaN   \n",
       "...                 ...        ...          ...                ...  ..   \n",
       "15914    VAT deductible       - km          -/-               None NaN   \n",
       "15915    VAT deductible   9,900 km      01/2019   1 previous owner NaN   \n",
       "15916    VAT deductible      15 km      03/2019   1 previous owner NaN   \n",
       "15917    VAT deductible      10 km      06/2019               None NaN   \n",
       "15918    VAT deductible       - km      01/2019   1 previous owner NaN   \n",
       "\n",
       "           hp                                               Type  \\\n",
       "0       66 kW            [, Used, , Diesel (Particulate Filter)]   \n",
       "1      141 kW                               [, Used, , Gasoline]   \n",
       "2       85 kW            [, Used, , Diesel (Particulate Filter)]   \n",
       "3       66 kW            [, Used, , Diesel (Particulate Filter)]   \n",
       "4       66 kW            [, Used, , Diesel (Particulate Filter)]   \n",
       "...       ...                                                ...   \n",
       "15914  147 kW             [, New, , Diesel (Particulate Filter)]   \n",
       "15915  165 kW  [, Used, , Super 95 / Super Plus 98 (Particula...   \n",
       "15916  146 kW                       [, Pre-registered, , Diesel]   \n",
       "15917  147 kW                       [, Pre-registered, , Diesel]   \n",
       "15918  165 kW                      [, Demonstration, , Super 95]   \n",
       "\n",
       "                                         Previous Owners  \\\n",
       "0                                                  \\n2\\n   \n",
       "1                                                    NaN   \n",
       "2                                                  \\n1\\n   \n",
       "3                                                  \\n1\\n   \n",
       "4                                                  \\n1\\n   \n",
       "...                                                  ...   \n",
       "15914                                                NaN   \n",
       "15915  [\\n1\\n, \\n, 7.4 l/100 km (comb), \\n, 9.2 l/100...   \n",
       "15916                   [\\n1\\n, \\n139 g CO2/km (comb)\\n]   \n",
       "15917                                                NaN   \n",
       "15918                                              \\n1\\n   \n",
       "\n",
       "                              Next Inspection  \\\n",
       "0       [\\n06/2021\\n, \\n99 g CO2/km (comb)\\n]   \n",
       "1                                         NaN   \n",
       "2                                         NaN   \n",
       "3                                         NaN   \n",
       "4                                         NaN   \n",
       "...                                       ...   \n",
       "15914                                     NaN   \n",
       "15915  [\\n01/2022\\n, \\n168 g CO2/km (comb)\\n]   \n",
       "15916                                     NaN   \n",
       "15917                                     NaN   \n",
       "15918                                     NaN   \n",
       "\n",
       "                           Inspection new                          Warranty  \\\n",
       "0                   [\\nYes\\n, \\nEuro 6\\n]           [\\n, \\n, \\n4 (Green)\\n]   \n",
       "1                                     NaN                               NaN   \n",
       "2                                     NaN  [\\n, \\n, \\n99 g CO2/km (comb)\\n]   \n",
       "3                                     NaN                               NaN   \n",
       "4      [\\nYes\\n, \\n109 g CO2/km (comb)\\n]              [\\n, \\n, \\nEuro 6\\n]   \n",
       "...                                   ...                               ...   \n",
       "15914                                 NaN                     \\n24 months\\n   \n",
       "15915                                 NaN              [\\n, \\n, \\nEuro 6\\n]   \n",
       "15916         [\\nYes\\n, \\nEuro 6d-TEMP\\n]           [\\n, \\n, \\n4 (Green)\\n]   \n",
       "15917                                 NaN                                \\n   \n",
       "15918  [\\nYes\\n, \\n153 g CO2/km (comb)\\n]                               NaN   \n",
       "\n",
       "                           Full Service      Non-smoking Vehicle null  \\\n",
       "0                              [\\n, \\n]                 [\\n, \\n]   []   \n",
       "1                                   NaN                      NaN   []   \n",
       "2                                   NaN                      NaN   []   \n",
       "3      [\\n, \\n, \\n99 g CO2/km (comb)\\n]     [\\n, \\n, \\nEuro 6\\n]   []   \n",
       "4               [\\n, \\n, \\n4 (Green)\\n]                 [\\n, \\n]   []   \n",
       "...                                 ...                      ...  ...   \n",
       "15914                               NaN                      NaN   []   \n",
       "15915                               NaN  [\\n, \\n, \\n4 (Green)\\n]   []   \n",
       "15916                          [\\n, \\n]                 [\\n, \\n]   []   \n",
       "15917                               NaN                      NaN   []   \n",
       "15918                               NaN                      NaN   []   \n",
       "\n",
       "              Make             Model          Offer Number First Registration  \\\n",
       "0         \\nAudi\\n      [\\n, A1, \\n]       [\\nLR-062483\\n]     [\\n, 2016, \\n]   \n",
       "1         \\nAudi\\n      [\\n, A1, \\n]                   NaN     [\\n, 2017, \\n]   \n",
       "2         \\nAudi\\n      [\\n, A1, \\n]        [\\nAM-95365\\n]     [\\n, 2016, \\n]   \n",
       "3         \\nAudi\\n      [\\n, A1, \\n]                   NaN     [\\n, 2016, \\n]   \n",
       "4         \\nAudi\\n      [\\n, A1, \\n]           [\\nC1626\\n]     [\\n, 2016, \\n]   \n",
       "...            ...               ...                   ...                ...   \n",
       "15914  \\nRenault\\n  [\\n, Espace, \\n]        [\\n10988301\\n]                NaN   \n",
       "15915  \\nRenault\\n  [\\n, Espace, \\n]     [\\n507370_3223\\n]     [\\n, 2019, \\n]   \n",
       "15916  \\nRenault\\n  [\\n, Espace, \\n]        [\\nEspace16\\n]     [\\n, 2019, \\n]   \n",
       "15917  \\nRenault\\n  [\\n, Espace, \\n]         [\\n2691331\\n]     [\\n, 2019, \\n]   \n",
       "15918  \\nRenault\\n  [\\n, Espace, \\n]  [\\nRe_30000008029\\n]     [\\n, 2019, \\n]   \n",
       "\n",
       "            Body Color      Paint Type           Body Color Original  \\\n",
       "0      [\\n, Black, \\n]  [\\nMetallic\\n]           [\\nMythosschwarz\\n]   \n",
       "1        [\\n, Red, \\n]             NaN                           NaN   \n",
       "2      [\\n, Black, \\n]  [\\nMetallic\\n]  [\\nmythosschwarz metallic\\n]   \n",
       "3      [\\n, Brown, \\n]  [\\nMetallic\\n]                           NaN   \n",
       "4      [\\n, Black, \\n]  [\\nMetallic\\n]  [\\nMythosschwarz Metallic\\n]   \n",
       "...                ...             ...                           ...   \n",
       "15914   [\\n, Grey, \\n]  [\\nMetallic\\n]            [\\nGrigio scuro\\n]   \n",
       "15915   [\\n, Grey, \\n]  [\\nMetallic\\n]     [\\nStahl-Grau Metallic\\n]   \n",
       "15916  [\\n, White, \\n]             NaN             [\\narktis-weiß\\n]   \n",
       "15917   [\\n, Grey, \\n]             NaN                  [\\nGrigio\\n]   \n",
       "15918   [\\n, Grey, \\n]  [\\nMetallic\\n]  [\\nTitanium-Grau Metallic\\n]   \n",
       "\n",
       "                      Upholstery              Body Nr. of Doors Nr. of Seats  \\\n",
       "0             [\\nCloth, Black\\n]  [\\n, Sedans, \\n]      [\\n5\\n]      [\\n5\\n]   \n",
       "1              [\\nCloth, Grey\\n]  [\\n, Sedans, \\n]      [\\n3\\n]      [\\n4\\n]   \n",
       "2             [\\nCloth, Black\\n]  [\\n, Sedans, \\n]      [\\n4\\n]      [\\n4\\n]   \n",
       "3                            NaN  [\\n, Sedans, \\n]      [\\n3\\n]      [\\n4\\n]   \n",
       "4             [\\nCloth, Black\\n]  [\\n, Sedans, \\n]      [\\n5\\n]      [\\n5\\n]   \n",
       "...                          ...               ...          ...          ...   \n",
       "15914                        NaN     [\\n, Van, \\n]      [\\n5\\n]      [\\n5\\n]   \n",
       "15915                [\\nCloth\\n]     [\\n, Van, \\n]      [\\n5\\n]      [\\n5\\n]   \n",
       "15916  [\\nFull leather, Black\\n]     [\\n, Van, \\n]      [\\n5\\n]      [\\n7\\n]   \n",
       "15917         [\\nPart leather\\n]     [\\n, Van, \\n]      [\\n5\\n]      [\\n7\\n]   \n",
       "15918  [\\nFull leather, Brown\\n]     [\\n, Van, \\n]      [\\n5\\n]      [\\n5\\n]   \n",
       "\n",
       "           Model Code         Gearing Type    Displacement Cylinders  \\\n",
       "0      [\\n0588/BDF\\n]  [\\n, Automatic, \\n]  [\\n1,422 cc\\n]   [\\n3\\n]   \n",
       "1      [\\n0588/BCY\\n]  [\\n, Automatic, \\n]  [\\n1,798 cc\\n]   [\\n4\\n]   \n",
       "2                 NaN  [\\n, Automatic, \\n]  [\\n1,598 cc\\n]       NaN   \n",
       "3                 NaN  [\\n, Automatic, \\n]  [\\n1,422 cc\\n]   [\\n3\\n]   \n",
       "4      [\\n0588/BDF\\n]  [\\n, Automatic, \\n]  [\\n1,422 cc\\n]   [\\n3\\n]   \n",
       "...               ...                  ...             ...       ...   \n",
       "15914             NaN  [\\n, Automatic, \\n]  [\\n1,997 cc\\n]   [\\n4\\n]   \n",
       "15915  [\\n0000/000\\n]  [\\n, Automatic, \\n]  [\\n1,798 cc\\n]   [\\n4\\n]   \n",
       "15916             NaN  [\\n, Automatic, \\n]  [\\n1,997 cc\\n]   [\\n4\\n]   \n",
       "15917             NaN  [\\n, Automatic, \\n]  [\\n1,997 cc\\n]   [\\n4\\n]   \n",
       "15918  [\\n3333/BHJ\\n]  [\\n, Automatic, \\n]  [\\n1,798 cc\\n]   [\\n4\\n]   \n",
       "\n",
       "               Weight  Drive chain  \\\n",
       "0      [\\n1,220 kg\\n]  [\\nfront\\n]   \n",
       "1      [\\n1,255 kg\\n]  [\\nfront\\n]   \n",
       "2                 NaN  [\\nfront\\n]   \n",
       "3      [\\n1,195 kg\\n]          NaN   \n",
       "4                 NaN  [\\nfront\\n]   \n",
       "...               ...          ...   \n",
       "15914  [\\n1,758 kg\\n]  [\\nfront\\n]   \n",
       "15915  [\\n1,708 kg\\n]  [\\nfront\\n]   \n",
       "15916             NaN  [\\nfront\\n]   \n",
       "15917  [\\n1,758 kg\\n]  [\\nfront\\n]   \n",
       "15918  [\\n1,685 kg\\n]    [\\n4WD\\n]   \n",
       "\n",
       "                                                    Fuel  \\\n",
       "0                  [\\n, Diesel (Particulate Filter), \\n]   \n",
       "1                                     [\\n, Gasoline, \\n]   \n",
       "2                  [\\n, Diesel (Particulate Filter), \\n]   \n",
       "3                  [\\n, Diesel (Particulate Filter), \\n]   \n",
       "4                  [\\n, Diesel (Particulate Filter), \\n]   \n",
       "...                                                  ...   \n",
       "15914              [\\n, Diesel (Particulate Filter), \\n]   \n",
       "15915  [\\n, Super 95 / Super Plus 98 (Particulate Fil...   \n",
       "15916                                   [\\n, Diesel, \\n]   \n",
       "15917                                   [\\n, Diesel, \\n]   \n",
       "15918                                 [\\n, Super 95, \\n]   \n",
       "\n",
       "                                             Consumption  \\\n",
       "0      [[3.8 l/100 km (comb)], [4.3 l/100 km (city)],...   \n",
       "1      [[5.6 l/100 km (comb)], [7.1 l/100 km (city)],...   \n",
       "2      [[3.8 l/100 km (comb)], [4.4 l/100 km (city)],...   \n",
       "3      [[3.8 l/100 km (comb)], [4.3 l/100 km (city)],...   \n",
       "4      [[4.1 l/100 km (comb)], [4.6 l/100 km (city)],...   \n",
       "...                                                  ...   \n",
       "15914  [[5.3 l/100 km (comb)], [6.2 l/100 km (city)],...   \n",
       "15915  [\\n, 7.4 l/100 km (comb), \\n, 9.2 l/100 km (ci...   \n",
       "15916  [[5.3 l/100 km (comb)], [6.2 l/100 km (city)],...   \n",
       "15917  [[5.3 l/100 km (comb)], [6.2 l/100 km (city)],...   \n",
       "15918  [[6.8 l/100 km (comb)], [8.7 l/100 km (city)],...   \n",
       "\n",
       "                    CO2 Emission      Emission Class  \\\n",
       "0       [\\n99 g CO2/km (comb)\\n]        [\\nEuro 6\\n]   \n",
       "1      [\\n129 g CO2/km (comb)\\n]        [\\nEuro 6\\n]   \n",
       "2       [\\n99 g CO2/km (comb)\\n]        [\\nEuro 6\\n]   \n",
       "3       [\\n99 g CO2/km (comb)\\n]        [\\nEuro 6\\n]   \n",
       "4      [\\n109 g CO2/km (comb)\\n]        [\\nEuro 6\\n]   \n",
       "...                          ...                 ...   \n",
       "15914  [\\n139 g CO2/km (comb)\\n]                 NaN   \n",
       "15915  [\\n168 g CO2/km (comb)\\n]                 NaN   \n",
       "15916  [\\n139 g CO2/km (comb)\\n]  [\\nEuro 6d-TEMP\\n]   \n",
       "15917  [\\n139 g CO2/km (comb)\\n]        [\\nEuro 6\\n]   \n",
       "15918  [\\n153 g CO2/km (comb)\\n]        [\\nEuro 6\\n]   \n",
       "\n",
       "                               \\nComfort & Convenience\\n  \\\n",
       "0      [Air conditioning, Armrest, Automatic climate ...   \n",
       "1      [Air conditioning, Automatic climate control, ...   \n",
       "2      [Air conditioning, Cruise control, Electrical ...   \n",
       "3      [Air suspension, Armrest, Auxiliary heating, E...   \n",
       "4      [Air conditioning, Armrest, Automatic climate ...   \n",
       "...                                                  ...   \n",
       "15914  [Air conditioning, Automatic climate control, ...   \n",
       "15915  [Air conditioning, Automatic climate control, ...   \n",
       "15916  [Air conditioning, Armrest, Automatic climate ...   \n",
       "15917  [Air conditioning, Automatic climate control, ...   \n",
       "15918  [Air conditioning, Automatic climate control, ...   \n",
       "\n",
       "                               \\nEntertainment & Media\\n  \\\n",
       "0      [Bluetooth, Hands-free equipment, On-board com...   \n",
       "1      [Bluetooth, Hands-free equipment, On-board com...   \n",
       "2                               [MP3, On-board computer]   \n",
       "3      [Bluetooth, CD player, Hands-free equipment, M...   \n",
       "4      [Bluetooth, CD player, Hands-free equipment, M...   \n",
       "...                                                  ...   \n",
       "15914  [Bluetooth, Digital radio, Hands-free equipmen...   \n",
       "15915  [Bluetooth, Digital radio, Hands-free equipmen...   \n",
       "15916  [Bluetooth, Hands-free equipment, On-board com...   \n",
       "15917             [Bluetooth, Digital radio, Radio, USB]   \n",
       "15918                                              [USB]   \n",
       "\n",
       "                                              \\nExtras\\n  \\\n",
       "0      [Alloy wheels, Catalytic Converter, Voice Cont...   \n",
       "1      [Alloy wheels, Sport seats, Sport suspension, ...   \n",
       "2                          [Alloy wheels, Voice Control]   \n",
       "3             [Alloy wheels, Sport seats, Voice Control]   \n",
       "4      [Alloy wheels, Sport package, Sport suspension...   \n",
       "...                                                  ...   \n",
       "15914                       [Alloy wheels, Touch screen]   \n",
       "15915        [Alloy wheels, Touch screen, Voice Control]   \n",
       "15916                                     [Alloy wheels]   \n",
       "15917                       [Alloy wheels, Touch screen]   \n",
       "15918                       [Alloy wheels, Touch screen]   \n",
       "\n",
       "                                   \\nSafety & Security\\n  \\\n",
       "0      [ABS, Central door lock, Daytime running light...   \n",
       "1      [ABS, Central door lock, Central door lock wit...   \n",
       "2      [ABS, Central door lock, Daytime running light...   \n",
       "3      [ABS, Alarm system, Central door lock with rem...   \n",
       "4      [ABS, Central door lock, Driver-side airbag, E...   \n",
       "...                                                  ...   \n",
       "15914  [ABS, Central door lock, Central door lock wit...   \n",
       "15915  [ABS, Adaptive Cruise Control, Blind spot moni...   \n",
       "15916  [ABS, Adaptive Cruise Control, Blind spot moni...   \n",
       "15917  [ABS, Blind spot monitor, Driver-side airbag, ...   \n",
       "15918  [ABS, Blind spot monitor, Daytime running ligh...   \n",
       "\n",
       "                                             description   Emission Label  \\\n",
       "0      [\\n, Sicherheit:,  , Deaktivierung für Beifahr...              NaN   \n",
       "1      [\\nLangstreckenfahrzeug daher die hohe Kilomet...  [\\n4 (Green)\\n]   \n",
       "2      [\\n, Fahrzeug-Nummer: AM-95365,  , Ehem. UPE 2...  [\\n4 (Green)\\n]   \n",
       "3      [\\nAudi A1: , - 1e eigenaar , - Perfecte staat...              NaN   \n",
       "4      [\\n, Technik & Sicherheit:, Xenon plus, Klimaa...              NaN   \n",
       "...                                                  ...              ...   \n",
       "15914  [\\nVettura visionabile nella sede in Via Roma ...              NaN   \n",
       "15915  [\\nDach: Panorama-Glas-Schiebedach, Lackierung...              NaN   \n",
       "15916  [\\n, Getriebe:,  Automatik, Technik:,  Bordcom...              NaN   \n",
       "15917  [\\nDEK:[2691331], Renault Espace Blue dCi 200C...              NaN   \n",
       "15918  [\\n, Sicherheit Airbags:,  , Seitenairbag,  , ...  [\\n4 (Green)\\n]   \n",
       "\n",
       "         Gears Country version Electricity consumption Last Service Date  \\\n",
       "0          NaN             NaN                     NaN               NaN   \n",
       "1      [\\n7\\n]             NaN                     NaN               NaN   \n",
       "2          NaN             NaN                     NaN               NaN   \n",
       "3      [\\n6\\n]             NaN                     NaN               NaN   \n",
       "4          NaN   [\\nGermany\\n]                     NaN               NaN   \n",
       "...        ...             ...                     ...               ...   \n",
       "15914  [\\n6\\n]             NaN                     NaN               NaN   \n",
       "15915  [\\n7\\n]   [\\nGermany\\n]                     NaN               NaN   \n",
       "15916  [\\n6\\n]   [\\nAustria\\n]                     NaN               NaN   \n",
       "15917  [\\n6\\n]             NaN                     NaN               NaN   \n",
       "15918      NaN   [\\nGermany\\n]                     NaN               NaN   \n",
       "\n",
       "      Other Fuel Types                   Availability  \\\n",
       "0                  NaN                            NaN   \n",
       "1                  NaN                            NaN   \n",
       "2                  NaN                            NaN   \n",
       "3                  NaN                            NaN   \n",
       "4                  NaN                            NaN   \n",
       "...                ...                            ...   \n",
       "15914              NaN                            NaN   \n",
       "15915     [[], [], []]    \\nin 5 days from ordering\\n   \n",
       "15916              NaN  \\nin 120 days from ordering\\n   \n",
       "15917              NaN                            NaN   \n",
       "15918              NaN                            NaN   \n",
       "\n",
       "      Last Timing Belt Service Date Available from  \n",
       "0                               NaN            NaN  \n",
       "1                               NaN            NaN  \n",
       "2                               NaN            NaN  \n",
       "3                               NaN            NaN  \n",
       "4                               NaN            NaN  \n",
       "...                             ...            ...  \n",
       "15914                           NaN            NaN  \n",
       "15915                           NaN            NaN  \n",
       "15916                           NaN            NaN  \n",
       "15917                           NaN            NaN  \n",
       "15918                           NaN            NaN  \n",
       "\n",
       "[15919 rows x 54 columns]"
      ]
     },
     "execution_count": 328,
     "metadata": {},
     "output_type": "execute_result"
    }
   ],
   "source": [
    "df_origin = pd.read_json(\"scout_car.json\",lines=True)\n",
    "df = df_origin.copy()\n",
    "df"
   ]
  },
  {
   "cell_type": "code",
   "execution_count": 329,
   "id": "ba4f7a35",
   "metadata": {},
   "outputs": [
    {
     "data": {
      "text/html": [
       "<div>\n",
       "<style scoped>\n",
       "    .dataframe tbody tr th:only-of-type {\n",
       "        vertical-align: middle;\n",
       "    }\n",
       "\n",
       "    .dataframe tbody tr th {\n",
       "        vertical-align: top;\n",
       "    }\n",
       "\n",
       "    .dataframe thead th {\n",
       "        text-align: right;\n",
       "    }\n",
       "</style>\n",
       "<table border=\"1\" class=\"dataframe\">\n",
       "  <thead>\n",
       "    <tr style=\"text-align: right;\">\n",
       "      <th></th>\n",
       "      <th>12697</th>\n",
       "      <th>4528</th>\n",
       "      <th>12196</th>\n",
       "      <th>6519</th>\n",
       "      <th>2927</th>\n",
       "    </tr>\n",
       "  </thead>\n",
       "  <tbody>\n",
       "    <tr>\n",
       "      <th>url</th>\n",
       "      <td>https://www.autoscout24.com//offers/opel-insig...</td>\n",
       "      <td>https://www.autoscout24.com//offers/audi-a3-sp...</td>\n",
       "      <td>https://www.autoscout24.com//offers/opel-insig...</td>\n",
       "      <td>https://www.autoscout24.com//offers/opel-astra...</td>\n",
       "      <td>https://www.autoscout24.com//offers/audi-a3-sp...</td>\n",
       "    </tr>\n",
       "    <tr>\n",
       "      <th>make_model</th>\n",
       "      <td>Opel Insignia</td>\n",
       "      <td>Audi A3</td>\n",
       "      <td>Opel Insignia</td>\n",
       "      <td>Opel Astra</td>\n",
       "      <td>Audi A3</td>\n",
       "    </tr>\n",
       "    <tr>\n",
       "      <th>short_description</th>\n",
       "      <td>Grand Sport 1.5 Turbo Business Executive AT</td>\n",
       "      <td>Sportback 1.6 TDI Design e Sitze, Navi, GRA, SHZ,</td>\n",
       "      <td>GrandSport *Garantie*Euro6*Klima*Navi/Smartphone*</td>\n",
       "      <td>1.0T S/S Selective</td>\n",
       "      <td>Sportback Ambition 2.0TDI*110kW*S-tronic*Xeno F</td>\n",
       "    </tr>\n",
       "    <tr>\n",
       "      <th>body_type</th>\n",
       "      <td>Sedans</td>\n",
       "      <td>Sedans</td>\n",
       "      <td>Sedans</td>\n",
       "      <td>Compact</td>\n",
       "      <td>Sedans</td>\n",
       "    </tr>\n",
       "    <tr>\n",
       "      <th>price</th>\n",
       "      <td>26125</td>\n",
       "      <td>23240</td>\n",
       "      <td>20900</td>\n",
       "      <td>10791</td>\n",
       "      <td>15980</td>\n",
       "    </tr>\n",
       "    <tr>\n",
       "      <th>vat</th>\n",
       "      <td>VAT deductible</td>\n",
       "      <td>VAT deductible</td>\n",
       "      <td>VAT deductible</td>\n",
       "      <td>None</td>\n",
       "      <td>None</td>\n",
       "    </tr>\n",
       "    <tr>\n",
       "      <th>km</th>\n",
       "      <td>- km</td>\n",
       "      <td>4,170 km</td>\n",
       "      <td>14,500 km</td>\n",
       "      <td>23,128 km</td>\n",
       "      <td>101,300 km</td>\n",
       "    </tr>\n",
       "    <tr>\n",
       "      <th>registration</th>\n",
       "      <td>-/-</td>\n",
       "      <td>04/2018</td>\n",
       "      <td>01/2018</td>\n",
       "      <td>06/2017</td>\n",
       "      <td>02/2016</td>\n",
       "    </tr>\n",
       "    <tr>\n",
       "      <th>prev_owner</th>\n",
       "      <td>None</td>\n",
       "      <td>1 previous owner</td>\n",
       "      <td>None</td>\n",
       "      <td>None</td>\n",
       "      <td>2 previous owners</td>\n",
       "    </tr>\n",
       "    <tr>\n",
       "      <th>kW</th>\n",
       "      <td>NaN</td>\n",
       "      <td>NaN</td>\n",
       "      <td>NaN</td>\n",
       "      <td>NaN</td>\n",
       "      <td>NaN</td>\n",
       "    </tr>\n",
       "    <tr>\n",
       "      <th>hp</th>\n",
       "      <td>121 kW</td>\n",
       "      <td>85 kW</td>\n",
       "      <td>100 kW</td>\n",
       "      <td>77 kW</td>\n",
       "      <td>110 kW</td>\n",
       "    </tr>\n",
       "    <tr>\n",
       "      <th>Type</th>\n",
       "      <td>[, New, , Super E10 95]</td>\n",
       "      <td>[, Used, , Diesel (Particulate Filter)]</td>\n",
       "      <td>[, Used, , Diesel (Particulate Filter)]</td>\n",
       "      <td>[, Used, , Gasoline]</td>\n",
       "      <td>[, Used, , Diesel (Particulate Filter)]</td>\n",
       "    </tr>\n",
       "    <tr>\n",
       "      <th>Previous Owners</th>\n",
       "      <td>NaN</td>\n",
       "      <td>\\n1\\n</td>\n",
       "      <td>NaN</td>\n",
       "      <td>NaN</td>\n",
       "      <td>\\n2\\n</td>\n",
       "    </tr>\n",
       "    <tr>\n",
       "      <th>Next Inspection</th>\n",
       "      <td>NaN</td>\n",
       "      <td>[\\n04/2021\\n, \\n111 g CO2/km (comb)\\n]</td>\n",
       "      <td>NaN</td>\n",
       "      <td>NaN</td>\n",
       "      <td>[\\n10/2020\\n, \\n119 g CO2/km (comb)\\n]</td>\n",
       "    </tr>\n",
       "    <tr>\n",
       "      <th>Inspection new</th>\n",
       "      <td>[\\nYes\\n, \\n135 g CO2/km (comb)\\n]</td>\n",
       "      <td>NaN</td>\n",
       "      <td>NaN</td>\n",
       "      <td>NaN</td>\n",
       "      <td>NaN</td>\n",
       "    </tr>\n",
       "    <tr>\n",
       "      <th>Warranty</th>\n",
       "      <td>NaN</td>\n",
       "      <td>[\\n, \\n, \\nEuro 6\\n]</td>\n",
       "      <td>\\n</td>\n",
       "      <td>NaN</td>\n",
       "      <td>[\\n, \\n, \\nEuro 6\\n]</td>\n",
       "    </tr>\n",
       "    <tr>\n",
       "      <th>Full Service</th>\n",
       "      <td>NaN</td>\n",
       "      <td>NaN</td>\n",
       "      <td>NaN</td>\n",
       "      <td>NaN</td>\n",
       "      <td>[\\n, \\n, \\n4 (Green)\\n]</td>\n",
       "    </tr>\n",
       "    <tr>\n",
       "      <th>Non-smoking Vehicle</th>\n",
       "      <td>[\\n, \\n, \\nEuro 6d-TEMP\\n]</td>\n",
       "      <td>NaN</td>\n",
       "      <td>NaN</td>\n",
       "      <td>NaN</td>\n",
       "      <td>NaN</td>\n",
       "    </tr>\n",
       "    <tr>\n",
       "      <th>null</th>\n",
       "      <td>[]</td>\n",
       "      <td>[]</td>\n",
       "      <td>[]</td>\n",
       "      <td>[]</td>\n",
       "      <td>[]</td>\n",
       "    </tr>\n",
       "    <tr>\n",
       "      <th>Make</th>\n",
       "      <td>\\nOpel\\n</td>\n",
       "      <td>\\nAudi\\n</td>\n",
       "      <td>\\nOpel\\n</td>\n",
       "      <td>\\nOpel\\n</td>\n",
       "      <td>\\nAudi\\n</td>\n",
       "    </tr>\n",
       "    <tr>\n",
       "      <th>Model</th>\n",
       "      <td>[\\n, Insignia, \\n]</td>\n",
       "      <td>[\\n, A3, \\n]</td>\n",
       "      <td>[\\n, Insignia, \\n]</td>\n",
       "      <td>[\\n, Astra, \\n]</td>\n",
       "      <td>[\\n, A3, \\n]</td>\n",
       "    </tr>\n",
       "    <tr>\n",
       "      <th>Offer Number</th>\n",
       "      <td>[\\n71263\\n]</td>\n",
       "      <td>[\\n30309\\n]</td>\n",
       "      <td>[\\n1098139\\n]</td>\n",
       "      <td>[\\n2865028\\n]</td>\n",
       "      <td>[\\nA04864GW\\n]</td>\n",
       "    </tr>\n",
       "    <tr>\n",
       "      <th>First Registration</th>\n",
       "      <td>NaN</td>\n",
       "      <td>[\\n, 2018, \\n]</td>\n",
       "      <td>[\\n, 2018, \\n]</td>\n",
       "      <td>[\\n, 2017, \\n]</td>\n",
       "      <td>[\\n, 2016, \\n]</td>\n",
       "    </tr>\n",
       "    <tr>\n",
       "      <th>Body Color</th>\n",
       "      <td>NaN</td>\n",
       "      <td>[\\n, Grey, \\n]</td>\n",
       "      <td>[\\n, Grey, \\n]</td>\n",
       "      <td>[\\n, White, \\n]</td>\n",
       "      <td>[\\n, White, \\n]</td>\n",
       "    </tr>\n",
       "    <tr>\n",
       "      <th>Paint Type</th>\n",
       "      <td>NaN</td>\n",
       "      <td>[\\nMetallic\\n]</td>\n",
       "      <td>[\\nMetallic\\n]</td>\n",
       "      <td>NaN</td>\n",
       "      <td>[\\nMetallic\\n]</td>\n",
       "    </tr>\n",
       "    <tr>\n",
       "      <th>Body Color Original</th>\n",
       "      <td>[\\nwählbar - ggf. mit Aufpreis\\n]</td>\n",
       "      <td>[\\nNanograu Metallic\\n]</td>\n",
       "      <td>[\\nLichtgrau\\n]</td>\n",
       "      <td>[\\nBlanco\\n]</td>\n",
       "      <td>[\\nGletscherweiss Metallic\\n]</td>\n",
       "    </tr>\n",
       "    <tr>\n",
       "      <th>Upholstery</th>\n",
       "      <td>[\\nCloth, Other\\n]</td>\n",
       "      <td>[\\nPart leather, Black\\n]</td>\n",
       "      <td>[\\nCloth, Black\\n]</td>\n",
       "      <td>NaN</td>\n",
       "      <td>[\\nCloth, Black\\n]</td>\n",
       "    </tr>\n",
       "    <tr>\n",
       "      <th>Body</th>\n",
       "      <td>[\\n, Sedans, \\n]</td>\n",
       "      <td>[\\n, Sedans, \\n]</td>\n",
       "      <td>[\\n, Sedans, \\n]</td>\n",
       "      <td>[\\n, Compact, \\n]</td>\n",
       "      <td>[\\n, Sedans, \\n]</td>\n",
       "    </tr>\n",
       "    <tr>\n",
       "      <th>Nr. of Doors</th>\n",
       "      <td>[\\n4\\n]</td>\n",
       "      <td>[\\n5\\n]</td>\n",
       "      <td>[\\n5\\n]</td>\n",
       "      <td>[\\n5\\n]</td>\n",
       "      <td>[\\n4\\n]</td>\n",
       "    </tr>\n",
       "    <tr>\n",
       "      <th>Nr. of Seats</th>\n",
       "      <td>[\\n5\\n]</td>\n",
       "      <td>[\\n5\\n]</td>\n",
       "      <td>[\\n5\\n]</td>\n",
       "      <td>[\\n5\\n]</td>\n",
       "      <td>NaN</td>\n",
       "    </tr>\n",
       "    <tr>\n",
       "      <th>Model Code</th>\n",
       "      <td>NaN</td>\n",
       "      <td>[\\n0588/BLH\\n]</td>\n",
       "      <td>[\\n0035/BKQ\\n]</td>\n",
       "      <td>NaN</td>\n",
       "      <td>NaN</td>\n",
       "    </tr>\n",
       "    <tr>\n",
       "      <th>Gearing Type</th>\n",
       "      <td>[\\n, Automatic, \\n]</td>\n",
       "      <td>[\\n, Automatic, \\n]</td>\n",
       "      <td>[\\n, Manual, \\n]</td>\n",
       "      <td>[\\n, Manual, \\n]</td>\n",
       "      <td>[\\n, Automatic, \\n]</td>\n",
       "    </tr>\n",
       "    <tr>\n",
       "      <th>Displacement</th>\n",
       "      <td>[\\n1,490 cc\\n]</td>\n",
       "      <td>[\\n1,598 cc\\n]</td>\n",
       "      <td>[\\n1,598 cc\\n]</td>\n",
       "      <td>[\\n999 cc\\n]</td>\n",
       "      <td>[\\n1,968 cc\\n]</td>\n",
       "    </tr>\n",
       "    <tr>\n",
       "      <th>Cylinders</th>\n",
       "      <td>[\\n4\\n]</td>\n",
       "      <td>[\\n4\\n]</td>\n",
       "      <td>[\\n4\\n]</td>\n",
       "      <td>[\\n3\\n]</td>\n",
       "      <td>NaN</td>\n",
       "    </tr>\n",
       "    <tr>\n",
       "      <th>Weight</th>\n",
       "      <td>[\\n1,472 kg\\n]</td>\n",
       "      <td>[\\n1,335 kg\\n]</td>\n",
       "      <td>[\\n1,503 kg\\n]</td>\n",
       "      <td>[\\n1,263 kg\\n]</td>\n",
       "      <td>NaN</td>\n",
       "    </tr>\n",
       "    <tr>\n",
       "      <th>Drive chain</th>\n",
       "      <td>[\\nfront\\n]</td>\n",
       "      <td>[\\nfront\\n]</td>\n",
       "      <td>[\\nfront\\n]</td>\n",
       "      <td>[\\nfront\\n]</td>\n",
       "      <td>NaN</td>\n",
       "    </tr>\n",
       "    <tr>\n",
       "      <th>Fuel</th>\n",
       "      <td>[\\n, Super E10 95, \\n]</td>\n",
       "      <td>[\\n, Diesel (Particulate Filter), \\n]</td>\n",
       "      <td>[\\n, Diesel (Particulate Filter), \\n]</td>\n",
       "      <td>[\\n, Gasoline, \\n]</td>\n",
       "      <td>[\\n, Diesel (Particulate Filter), \\n]</td>\n",
       "    </tr>\n",
       "    <tr>\n",
       "      <th>Consumption</th>\n",
       "      <td>[[5.9 l/100 km (comb)], [7.6 l/100 km (city)],...</td>\n",
       "      <td>[[4.2 l/100 km (comb)], [4.7 l/100 km (city)],...</td>\n",
       "      <td>[[4.2 l/100 km (comb)], [5.8 l/100 km (city)],...</td>\n",
       "      <td>[[4 l/100 km (comb)], [5 l/100 km (city)], [3 ...</td>\n",
       "      <td>[[4.5 l/100 km (comb)], [5.3 l/100 km (city)],...</td>\n",
       "    </tr>\n",
       "    <tr>\n",
       "      <th>CO2 Emission</th>\n",
       "      <td>[\\n135 g CO2/km (comb)\\n]</td>\n",
       "      <td>[\\n111 g CO2/km (comb)\\n]</td>\n",
       "      <td>[\\n126 g CO2/km (comb)\\n]</td>\n",
       "      <td>NaN</td>\n",
       "      <td>[\\n119 g CO2/km (comb)\\n]</td>\n",
       "    </tr>\n",
       "    <tr>\n",
       "      <th>Emission Class</th>\n",
       "      <td>[\\nEuro 6d-TEMP\\n]</td>\n",
       "      <td>[\\nEuro 6\\n]</td>\n",
       "      <td>NaN</td>\n",
       "      <td>NaN</td>\n",
       "      <td>[\\nEuro 6\\n]</td>\n",
       "    </tr>\n",
       "    <tr>\n",
       "      <th>\\nComfort &amp; Convenience\\n</th>\n",
       "      <td>[Air conditioning, Armrest, Automatic climate ...</td>\n",
       "      <td>[Air conditioning, Armrest, Automatic climate ...</td>\n",
       "      <td>[Air conditioning, Armrest, Cruise control, El...</td>\n",
       "      <td>NaN</td>\n",
       "      <td>[Air conditioning, Armrest, Automatic climate ...</td>\n",
       "    </tr>\n",
       "    <tr>\n",
       "      <th>\\nEntertainment &amp; Media\\n</th>\n",
       "      <td>[Bluetooth, Digital radio, On-board computer, ...</td>\n",
       "      <td>[Bluetooth, CD player, Hands-free equipment, M...</td>\n",
       "      <td>[MP3, Radio]</td>\n",
       "      <td>NaN</td>\n",
       "      <td>[Bluetooth, CD player, Hands-free equipment, M...</td>\n",
       "    </tr>\n",
       "    <tr>\n",
       "      <th>\\nExtras\\n</th>\n",
       "      <td>[Alloy wheels, Catalytic Converter, Touch screen]</td>\n",
       "      <td>[Alloy wheels, Roof rack]</td>\n",
       "      <td>[Alloy wheels]</td>\n",
       "      <td>NaN</td>\n",
       "      <td>[Alloy wheels, Roof rack, Sport seats, Sport s...</td>\n",
       "    </tr>\n",
       "    <tr>\n",
       "      <th>\\nSafety &amp; Security\\n</th>\n",
       "      <td>[ABS, Adaptive Cruise Control, Central door lo...</td>\n",
       "      <td>[ABS, Central door lock, Daytime running light...</td>\n",
       "      <td>[ABS, Central door lock, Daytime running light...</td>\n",
       "      <td>NaN</td>\n",
       "      <td>[ABS, Blind spot monitor, Central door lock, D...</td>\n",
       "    </tr>\n",
       "    <tr>\n",
       "      <th>description</th>\n",
       "      <td>[\\n,  , Neues Fahrzeug inkl.19% MWST, Fahrzeug...</td>\n",
       "      <td>[\\n, Highlights, AUDI GEBRAUCHTWAGEN :plus GAR...</td>\n",
       "      <td>[\\n, Herzlich Willkommen auf unserem Inserat.,...</td>\n",
       "      <td>[\\n[Ref:MP622527] ,  , Extras,  ,  , Equipamie...</td>\n",
       "      <td>[\\n, Fahrzeugnummer: A04864GW,  Herzlichen Dan...</td>\n",
       "    </tr>\n",
       "    <tr>\n",
       "      <th>Emission Label</th>\n",
       "      <td>[\\n4 (Green)\\n]</td>\n",
       "      <td>[\\n4 (Green)\\n]</td>\n",
       "      <td>[\\n4 (Green)\\n]</td>\n",
       "      <td>NaN</td>\n",
       "      <td>NaN</td>\n",
       "    </tr>\n",
       "    <tr>\n",
       "      <th>Gears</th>\n",
       "      <td>[\\n6\\n]</td>\n",
       "      <td>[\\n7\\n]</td>\n",
       "      <td>[\\n6\\n]</td>\n",
       "      <td>[\\n5\\n]</td>\n",
       "      <td>[\\n6\\n]</td>\n",
       "    </tr>\n",
       "    <tr>\n",
       "      <th>Country version</th>\n",
       "      <td>[\\nNetherlands\\n]</td>\n",
       "      <td>NaN</td>\n",
       "      <td>NaN</td>\n",
       "      <td>NaN</td>\n",
       "      <td>[\\nGermany\\n]</td>\n",
       "    </tr>\n",
       "    <tr>\n",
       "      <th>Electricity consumption</th>\n",
       "      <td>NaN</td>\n",
       "      <td>NaN</td>\n",
       "      <td>NaN</td>\n",
       "      <td>NaN</td>\n",
       "      <td>NaN</td>\n",
       "    </tr>\n",
       "    <tr>\n",
       "      <th>Last Service Date</th>\n",
       "      <td>NaN</td>\n",
       "      <td>NaN</td>\n",
       "      <td>NaN</td>\n",
       "      <td>NaN</td>\n",
       "      <td>NaN</td>\n",
       "    </tr>\n",
       "    <tr>\n",
       "      <th>Other Fuel Types</th>\n",
       "      <td>NaN</td>\n",
       "      <td>NaN</td>\n",
       "      <td>NaN</td>\n",
       "      <td>NaN</td>\n",
       "      <td>NaN</td>\n",
       "    </tr>\n",
       "    <tr>\n",
       "      <th>Availability</th>\n",
       "      <td>\\nin 90 days from ordering\\n</td>\n",
       "      <td>NaN</td>\n",
       "      <td>NaN</td>\n",
       "      <td>NaN</td>\n",
       "      <td>NaN</td>\n",
       "    </tr>\n",
       "    <tr>\n",
       "      <th>Last Timing Belt Service Date</th>\n",
       "      <td>NaN</td>\n",
       "      <td>NaN</td>\n",
       "      <td>NaN</td>\n",
       "      <td>NaN</td>\n",
       "      <td>NaN</td>\n",
       "    </tr>\n",
       "    <tr>\n",
       "      <th>Available from</th>\n",
       "      <td>NaN</td>\n",
       "      <td>NaN</td>\n",
       "      <td>NaN</td>\n",
       "      <td>NaN</td>\n",
       "      <td>NaN</td>\n",
       "    </tr>\n",
       "  </tbody>\n",
       "</table>\n",
       "</div>"
      ],
      "text/plain": [
       "                                                                           12697  \\\n",
       "url                            https://www.autoscout24.com//offers/opel-insig...   \n",
       "make_model                                                         Opel Insignia   \n",
       "short_description                    Grand Sport 1.5 Turbo Business Executive AT   \n",
       "body_type                                                                 Sedans   \n",
       "price                                                                      26125   \n",
       "vat                                                               VAT deductible   \n",
       "km                                                                          - km   \n",
       "registration                                                                 -/-   \n",
       "prev_owner                                                                  None   \n",
       "kW                                                                           NaN   \n",
       "hp                                                                        121 kW   \n",
       "Type                                                     [, New, , Super E10 95]   \n",
       "Previous Owners                                                              NaN   \n",
       "Next Inspection                                                              NaN   \n",
       "Inspection new                                [\\nYes\\n, \\n135 g CO2/km (comb)\\n]   \n",
       "Warranty                                                                     NaN   \n",
       "Full Service                                                                 NaN   \n",
       "Non-smoking Vehicle                                   [\\n, \\n, \\nEuro 6d-TEMP\\n]   \n",
       "null                                                                          []   \n",
       "Make                                                                    \\nOpel\\n   \n",
       "Model                                                         [\\n, Insignia, \\n]   \n",
       "Offer Number                                                         [\\n71263\\n]   \n",
       "First Registration                                                           NaN   \n",
       "Body Color                                                                   NaN   \n",
       "Paint Type                                                                   NaN   \n",
       "Body Color Original                            [\\nwählbar - ggf. mit Aufpreis\\n]   \n",
       "Upholstery                                                    [\\nCloth, Other\\n]   \n",
       "Body                                                            [\\n, Sedans, \\n]   \n",
       "Nr. of Doors                                                             [\\n4\\n]   \n",
       "Nr. of Seats                                                             [\\n5\\n]   \n",
       "Model Code                                                                   NaN   \n",
       "Gearing Type                                                 [\\n, Automatic, \\n]   \n",
       "Displacement                                                      [\\n1,490 cc\\n]   \n",
       "Cylinders                                                                [\\n4\\n]   \n",
       "Weight                                                            [\\n1,472 kg\\n]   \n",
       "Drive chain                                                          [\\nfront\\n]   \n",
       "Fuel                                                      [\\n, Super E10 95, \\n]   \n",
       "Consumption                    [[5.9 l/100 km (comb)], [7.6 l/100 km (city)],...   \n",
       "CO2 Emission                                           [\\n135 g CO2/km (comb)\\n]   \n",
       "Emission Class                                                [\\nEuro 6d-TEMP\\n]   \n",
       "\\nComfort & Convenience\\n      [Air conditioning, Armrest, Automatic climate ...   \n",
       "\\nEntertainment & Media\\n      [Bluetooth, Digital radio, On-board computer, ...   \n",
       "\\nExtras\\n                     [Alloy wheels, Catalytic Converter, Touch screen]   \n",
       "\\nSafety & Security\\n          [ABS, Adaptive Cruise Control, Central door lo...   \n",
       "description                    [\\n,  , Neues Fahrzeug inkl.19% MWST, Fahrzeug...   \n",
       "Emission Label                                                   [\\n4 (Green)\\n]   \n",
       "Gears                                                                    [\\n6\\n]   \n",
       "Country version                                                [\\nNetherlands\\n]   \n",
       "Electricity consumption                                                      NaN   \n",
       "Last Service Date                                                            NaN   \n",
       "Other Fuel Types                                                             NaN   \n",
       "Availability                                        \\nin 90 days from ordering\\n   \n",
       "Last Timing Belt Service Date                                                NaN   \n",
       "Available from                                                               NaN   \n",
       "\n",
       "                                                                           4528   \\\n",
       "url                            https://www.autoscout24.com//offers/audi-a3-sp...   \n",
       "make_model                                                               Audi A3   \n",
       "short_description              Sportback 1.6 TDI Design e Sitze, Navi, GRA, SHZ,   \n",
       "body_type                                                                 Sedans   \n",
       "price                                                                      23240   \n",
       "vat                                                               VAT deductible   \n",
       "km                                                                      4,170 km   \n",
       "registration                                                             04/2018   \n",
       "prev_owner                                                      1 previous owner   \n",
       "kW                                                                           NaN   \n",
       "hp                                                                         85 kW   \n",
       "Type                                     [, Used, , Diesel (Particulate Filter)]   \n",
       "Previous Owners                                                            \\n1\\n   \n",
       "Next Inspection                           [\\n04/2021\\n, \\n111 g CO2/km (comb)\\n]   \n",
       "Inspection new                                                               NaN   \n",
       "Warranty                                                    [\\n, \\n, \\nEuro 6\\n]   \n",
       "Full Service                                                                 NaN   \n",
       "Non-smoking Vehicle                                                          NaN   \n",
       "null                                                                          []   \n",
       "Make                                                                    \\nAudi\\n   \n",
       "Model                                                               [\\n, A3, \\n]   \n",
       "Offer Number                                                         [\\n30309\\n]   \n",
       "First Registration                                                [\\n, 2018, \\n]   \n",
       "Body Color                                                        [\\n, Grey, \\n]   \n",
       "Paint Type                                                        [\\nMetallic\\n]   \n",
       "Body Color Original                                      [\\nNanograu Metallic\\n]   \n",
       "Upholstery                                             [\\nPart leather, Black\\n]   \n",
       "Body                                                            [\\n, Sedans, \\n]   \n",
       "Nr. of Doors                                                             [\\n5\\n]   \n",
       "Nr. of Seats                                                             [\\n5\\n]   \n",
       "Model Code                                                        [\\n0588/BLH\\n]   \n",
       "Gearing Type                                                 [\\n, Automatic, \\n]   \n",
       "Displacement                                                      [\\n1,598 cc\\n]   \n",
       "Cylinders                                                                [\\n4\\n]   \n",
       "Weight                                                            [\\n1,335 kg\\n]   \n",
       "Drive chain                                                          [\\nfront\\n]   \n",
       "Fuel                                       [\\n, Diesel (Particulate Filter), \\n]   \n",
       "Consumption                    [[4.2 l/100 km (comb)], [4.7 l/100 km (city)],...   \n",
       "CO2 Emission                                           [\\n111 g CO2/km (comb)\\n]   \n",
       "Emission Class                                                      [\\nEuro 6\\n]   \n",
       "\\nComfort & Convenience\\n      [Air conditioning, Armrest, Automatic climate ...   \n",
       "\\nEntertainment & Media\\n      [Bluetooth, CD player, Hands-free equipment, M...   \n",
       "\\nExtras\\n                                             [Alloy wheels, Roof rack]   \n",
       "\\nSafety & Security\\n          [ABS, Central door lock, Daytime running light...   \n",
       "description                    [\\n, Highlights, AUDI GEBRAUCHTWAGEN :plus GAR...   \n",
       "Emission Label                                                   [\\n4 (Green)\\n]   \n",
       "Gears                                                                    [\\n7\\n]   \n",
       "Country version                                                              NaN   \n",
       "Electricity consumption                                                      NaN   \n",
       "Last Service Date                                                            NaN   \n",
       "Other Fuel Types                                                             NaN   \n",
       "Availability                                                                 NaN   \n",
       "Last Timing Belt Service Date                                                NaN   \n",
       "Available from                                                               NaN   \n",
       "\n",
       "                                                                           12196  \\\n",
       "url                            https://www.autoscout24.com//offers/opel-insig...   \n",
       "make_model                                                         Opel Insignia   \n",
       "short_description              GrandSport *Garantie*Euro6*Klima*Navi/Smartphone*   \n",
       "body_type                                                                 Sedans   \n",
       "price                                                                      20900   \n",
       "vat                                                               VAT deductible   \n",
       "km                                                                     14,500 km   \n",
       "registration                                                             01/2018   \n",
       "prev_owner                                                                  None   \n",
       "kW                                                                           NaN   \n",
       "hp                                                                        100 kW   \n",
       "Type                                     [, Used, , Diesel (Particulate Filter)]   \n",
       "Previous Owners                                                              NaN   \n",
       "Next Inspection                                                              NaN   \n",
       "Inspection new                                                               NaN   \n",
       "Warranty                                                                      \\n   \n",
       "Full Service                                                                 NaN   \n",
       "Non-smoking Vehicle                                                          NaN   \n",
       "null                                                                          []   \n",
       "Make                                                                    \\nOpel\\n   \n",
       "Model                                                         [\\n, Insignia, \\n]   \n",
       "Offer Number                                                       [\\n1098139\\n]   \n",
       "First Registration                                                [\\n, 2018, \\n]   \n",
       "Body Color                                                        [\\n, Grey, \\n]   \n",
       "Paint Type                                                        [\\nMetallic\\n]   \n",
       "Body Color Original                                              [\\nLichtgrau\\n]   \n",
       "Upholstery                                                    [\\nCloth, Black\\n]   \n",
       "Body                                                            [\\n, Sedans, \\n]   \n",
       "Nr. of Doors                                                             [\\n5\\n]   \n",
       "Nr. of Seats                                                             [\\n5\\n]   \n",
       "Model Code                                                        [\\n0035/BKQ\\n]   \n",
       "Gearing Type                                                    [\\n, Manual, \\n]   \n",
       "Displacement                                                      [\\n1,598 cc\\n]   \n",
       "Cylinders                                                                [\\n4\\n]   \n",
       "Weight                                                            [\\n1,503 kg\\n]   \n",
       "Drive chain                                                          [\\nfront\\n]   \n",
       "Fuel                                       [\\n, Diesel (Particulate Filter), \\n]   \n",
       "Consumption                    [[4.2 l/100 km (comb)], [5.8 l/100 km (city)],...   \n",
       "CO2 Emission                                           [\\n126 g CO2/km (comb)\\n]   \n",
       "Emission Class                                                               NaN   \n",
       "\\nComfort & Convenience\\n      [Air conditioning, Armrest, Cruise control, El...   \n",
       "\\nEntertainment & Media\\n                                           [MP3, Radio]   \n",
       "\\nExtras\\n                                                        [Alloy wheels]   \n",
       "\\nSafety & Security\\n          [ABS, Central door lock, Daytime running light...   \n",
       "description                    [\\n, Herzlich Willkommen auf unserem Inserat.,...   \n",
       "Emission Label                                                   [\\n4 (Green)\\n]   \n",
       "Gears                                                                    [\\n6\\n]   \n",
       "Country version                                                              NaN   \n",
       "Electricity consumption                                                      NaN   \n",
       "Last Service Date                                                            NaN   \n",
       "Other Fuel Types                                                             NaN   \n",
       "Availability                                                                 NaN   \n",
       "Last Timing Belt Service Date                                                NaN   \n",
       "Available from                                                               NaN   \n",
       "\n",
       "                                                                           6519   \\\n",
       "url                            https://www.autoscout24.com//offers/opel-astra...   \n",
       "make_model                                                            Opel Astra   \n",
       "short_description                                             1.0T S/S Selective   \n",
       "body_type                                                                Compact   \n",
       "price                                                                      10791   \n",
       "vat                                                                         None   \n",
       "km                                                                     23,128 km   \n",
       "registration                                                             06/2017   \n",
       "prev_owner                                                                  None   \n",
       "kW                                                                           NaN   \n",
       "hp                                                                         77 kW   \n",
       "Type                                                        [, Used, , Gasoline]   \n",
       "Previous Owners                                                              NaN   \n",
       "Next Inspection                                                              NaN   \n",
       "Inspection new                                                               NaN   \n",
       "Warranty                                                                     NaN   \n",
       "Full Service                                                                 NaN   \n",
       "Non-smoking Vehicle                                                          NaN   \n",
       "null                                                                          []   \n",
       "Make                                                                    \\nOpel\\n   \n",
       "Model                                                            [\\n, Astra, \\n]   \n",
       "Offer Number                                                       [\\n2865028\\n]   \n",
       "First Registration                                                [\\n, 2017, \\n]   \n",
       "Body Color                                                       [\\n, White, \\n]   \n",
       "Paint Type                                                                   NaN   \n",
       "Body Color Original                                                 [\\nBlanco\\n]   \n",
       "Upholstery                                                                   NaN   \n",
       "Body                                                           [\\n, Compact, \\n]   \n",
       "Nr. of Doors                                                             [\\n5\\n]   \n",
       "Nr. of Seats                                                             [\\n5\\n]   \n",
       "Model Code                                                                   NaN   \n",
       "Gearing Type                                                    [\\n, Manual, \\n]   \n",
       "Displacement                                                        [\\n999 cc\\n]   \n",
       "Cylinders                                                                [\\n3\\n]   \n",
       "Weight                                                            [\\n1,263 kg\\n]   \n",
       "Drive chain                                                          [\\nfront\\n]   \n",
       "Fuel                                                          [\\n, Gasoline, \\n]   \n",
       "Consumption                    [[4 l/100 km (comb)], [5 l/100 km (city)], [3 ...   \n",
       "CO2 Emission                                                                 NaN   \n",
       "Emission Class                                                               NaN   \n",
       "\\nComfort & Convenience\\n                                                    NaN   \n",
       "\\nEntertainment & Media\\n                                                    NaN   \n",
       "\\nExtras\\n                                                                   NaN   \n",
       "\\nSafety & Security\\n                                                        NaN   \n",
       "description                    [\\n[Ref:MP622527] ,  , Extras,  ,  , Equipamie...   \n",
       "Emission Label                                                               NaN   \n",
       "Gears                                                                    [\\n5\\n]   \n",
       "Country version                                                              NaN   \n",
       "Electricity consumption                                                      NaN   \n",
       "Last Service Date                                                            NaN   \n",
       "Other Fuel Types                                                             NaN   \n",
       "Availability                                                                 NaN   \n",
       "Last Timing Belt Service Date                                                NaN   \n",
       "Available from                                                               NaN   \n",
       "\n",
       "                                                                           2927   \n",
       "url                            https://www.autoscout24.com//offers/audi-a3-sp...  \n",
       "make_model                                                               Audi A3  \n",
       "short_description                Sportback Ambition 2.0TDI*110kW*S-tronic*Xeno F  \n",
       "body_type                                                                 Sedans  \n",
       "price                                                                      15980  \n",
       "vat                                                                         None  \n",
       "km                                                                    101,300 km  \n",
       "registration                                                             02/2016  \n",
       "prev_owner                                                     2 previous owners  \n",
       "kW                                                                           NaN  \n",
       "hp                                                                        110 kW  \n",
       "Type                                     [, Used, , Diesel (Particulate Filter)]  \n",
       "Previous Owners                                                            \\n2\\n  \n",
       "Next Inspection                           [\\n10/2020\\n, \\n119 g CO2/km (comb)\\n]  \n",
       "Inspection new                                                               NaN  \n",
       "Warranty                                                    [\\n, \\n, \\nEuro 6\\n]  \n",
       "Full Service                                             [\\n, \\n, \\n4 (Green)\\n]  \n",
       "Non-smoking Vehicle                                                          NaN  \n",
       "null                                                                          []  \n",
       "Make                                                                    \\nAudi\\n  \n",
       "Model                                                               [\\n, A3, \\n]  \n",
       "Offer Number                                                      [\\nA04864GW\\n]  \n",
       "First Registration                                                [\\n, 2016, \\n]  \n",
       "Body Color                                                       [\\n, White, \\n]  \n",
       "Paint Type                                                        [\\nMetallic\\n]  \n",
       "Body Color Original                                [\\nGletscherweiss Metallic\\n]  \n",
       "Upholstery                                                    [\\nCloth, Black\\n]  \n",
       "Body                                                            [\\n, Sedans, \\n]  \n",
       "Nr. of Doors                                                             [\\n4\\n]  \n",
       "Nr. of Seats                                                                 NaN  \n",
       "Model Code                                                                   NaN  \n",
       "Gearing Type                                                 [\\n, Automatic, \\n]  \n",
       "Displacement                                                      [\\n1,968 cc\\n]  \n",
       "Cylinders                                                                    NaN  \n",
       "Weight                                                                       NaN  \n",
       "Drive chain                                                                  NaN  \n",
       "Fuel                                       [\\n, Diesel (Particulate Filter), \\n]  \n",
       "Consumption                    [[4.5 l/100 km (comb)], [5.3 l/100 km (city)],...  \n",
       "CO2 Emission                                           [\\n119 g CO2/km (comb)\\n]  \n",
       "Emission Class                                                      [\\nEuro 6\\n]  \n",
       "\\nComfort & Convenience\\n      [Air conditioning, Armrest, Automatic climate ...  \n",
       "\\nEntertainment & Media\\n      [Bluetooth, CD player, Hands-free equipment, M...  \n",
       "\\nExtras\\n                     [Alloy wheels, Roof rack, Sport seats, Sport s...  \n",
       "\\nSafety & Security\\n          [ABS, Blind spot monitor, Central door lock, D...  \n",
       "description                    [\\n, Fahrzeugnummer: A04864GW,  Herzlichen Dan...  \n",
       "Emission Label                                                               NaN  \n",
       "Gears                                                                    [\\n6\\n]  \n",
       "Country version                                                    [\\nGermany\\n]  \n",
       "Electricity consumption                                                      NaN  \n",
       "Last Service Date                                                            NaN  \n",
       "Other Fuel Types                                                             NaN  \n",
       "Availability                                                                 NaN  \n",
       "Last Timing Belt Service Date                                                NaN  \n",
       "Available from                                                               NaN  "
      ]
     },
     "execution_count": 329,
     "metadata": {},
     "output_type": "execute_result"
    }
   ],
   "source": [
    "df.sample(5).T"
   ]
  },
  {
   "cell_type": "code",
   "execution_count": 330,
   "id": "1edb2d73",
   "metadata": {},
   "outputs": [
    {
     "name": "stdout",
     "output_type": "stream",
     "text": [
      "<class 'pandas.core.frame.DataFrame'>\n",
      "RangeIndex: 15919 entries, 0 to 15918\n",
      "Data columns (total 54 columns):\n",
      " #   Column                         Non-Null Count  Dtype  \n",
      "---  ------                         --------------  -----  \n",
      " 0   url                            15919 non-null  object \n",
      " 1   make_model                     15919 non-null  object \n",
      " 2   short_description              15873 non-null  object \n",
      " 3   body_type                      15859 non-null  object \n",
      " 4   price                          15919 non-null  int64  \n",
      " 5   vat                            11406 non-null  object \n",
      " 6   km                             15919 non-null  object \n",
      " 7   registration                   15919 non-null  object \n",
      " 8   prev_owner                     9091 non-null   object \n",
      " 9   kW                             0 non-null      float64\n",
      " 10  hp                             15919 non-null  object \n",
      " 11  Type                           15917 non-null  object \n",
      " 12  Previous Owners                9279 non-null   object \n",
      " 13  Next Inspection                3535 non-null   object \n",
      " 14  Inspection new                 3932 non-null   object \n",
      " 15  Warranty                       10499 non-null  object \n",
      " 16  Full Service                   8215 non-null   object \n",
      " 17  Non-smoking Vehicle            7177 non-null   object \n",
      " 18  null                           15919 non-null  object \n",
      " 19  Make                           15919 non-null  object \n",
      " 20  Model                          15919 non-null  object \n",
      " 21  Offer Number                   12744 non-null  object \n",
      " 22  First Registration             14322 non-null  object \n",
      " 23  Body Color                     15322 non-null  object \n",
      " 24  Paint Type                     10147 non-null  object \n",
      " 25  Body Color Original            12160 non-null  object \n",
      " 26  Upholstery                     12199 non-null  object \n",
      " 27  Body                           15859 non-null  object \n",
      " 28  Nr. of Doors                   15707 non-null  object \n",
      " 29  Nr. of Seats                   14942 non-null  object \n",
      " 30  Model Code                     4978 non-null   object \n",
      " 31  Gearing Type                   15919 non-null  object \n",
      " 32  Displacement                   15423 non-null  object \n",
      " 33  Cylinders                      10239 non-null  object \n",
      " 34  Weight                         8945 non-null   object \n",
      " 35  Drive chain                    9061 non-null   object \n",
      " 36  Fuel                           15919 non-null  object \n",
      " 37  Consumption                    14013 non-null  object \n",
      " 38  CO2 Emission                   14111 non-null  object \n",
      " 39  Emission Class                 12898 non-null  object \n",
      " 40  \n",
      "Comfort & Convenience\n",
      "        14999 non-null  object \n",
      " 41  \n",
      "Entertainment & Media\n",
      "        14545 non-null  object \n",
      " 42  \n",
      "Extras\n",
      "                       12957 non-null  object \n",
      " 43  \n",
      "Safety & Security\n",
      "            14937 non-null  object \n",
      " 44  description                    15919 non-null  object \n",
      " 45  Emission Label                 3985 non-null   object \n",
      " 46  Gears                          11207 non-null  object \n",
      " 47  Country version                7586 non-null   object \n",
      " 48  Electricity consumption        137 non-null    object \n",
      " 49  Last Service Date              566 non-null    object \n",
      " 50  Other Fuel Types               880 non-null    object \n",
      " 51  Availability                   635 non-null    object \n",
      " 52  Last Timing Belt Service Date  16 non-null     object \n",
      " 53  Available from                 272 non-null    object \n",
      "dtypes: float64(1), int64(1), object(52)\n",
      "memory usage: 6.6+ MB\n"
     ]
    }
   ],
   "source": [
    "df.info()"
   ]
  },
  {
   "cell_type": "code",
   "execution_count": 331,
   "id": "d8f17acc",
   "metadata": {},
   "outputs": [],
   "source": [
    "## bazı sütunlar isimlerinde newline karakterler olduğundan dolayı sıkıntılar var"
   ]
  },
  {
   "cell_type": "code",
   "execution_count": 332,
   "id": "cf2e3c97",
   "metadata": {},
   "outputs": [
    {
     "data": {
      "text/plain": [
       "Index(['url', 'make_model', 'short_description', 'body_type', 'price', 'vat',\n",
       "       'km', 'registration', 'prev_owner', 'kW', 'hp', 'Type',\n",
       "       'Previous Owners', 'Next Inspection', 'Inspection new', 'Warranty',\n",
       "       'Full Service', 'Non-smoking Vehicle', 'null', 'Make', 'Model',\n",
       "       'Offer Number', 'First Registration', 'Body Color', 'Paint Type',\n",
       "       'Body Color Original', 'Upholstery', 'Body', 'Nr. of Doors',\n",
       "       'Nr. of Seats', 'Model Code', 'Gearing Type', 'Displacement',\n",
       "       'Cylinders', 'Weight', 'Drive chain', 'Fuel', 'Consumption',\n",
       "       'CO2 Emission', 'Emission Class', '\\nComfort & Convenience\\n',\n",
       "       '\\nEntertainment & Media\\n', '\\nExtras\\n', '\\nSafety & Security\\n',\n",
       "       'description', 'Emission Label', 'Gears', 'Country version',\n",
       "       'Electricity consumption', 'Last Service Date', 'Other Fuel Types',\n",
       "       'Availability', 'Last Timing Belt Service Date', 'Available from'],\n",
       "      dtype='object')"
      ]
     },
     "execution_count": 332,
     "metadata": {},
     "output_type": "execute_result"
    }
   ],
   "source": [
    "df.columns"
   ]
  },
  {
   "cell_type": "code",
   "execution_count": 333,
   "id": "ed02dc0f",
   "metadata": {},
   "outputs": [
    {
     "name": "stdout",
     "output_type": "stream",
     "text": [
      "<class 'pandas.core.frame.DataFrame'>\n",
      "RangeIndex: 15919 entries, 0 to 15918\n",
      "Data columns (total 54 columns):\n",
      " #   Column                         Non-Null Count  Dtype  \n",
      "---  ------                         --------------  -----  \n",
      " 0   url                            15919 non-null  object \n",
      " 1   make_model                     15919 non-null  object \n",
      " 2   short_description              15873 non-null  object \n",
      " 3   body_type                      15859 non-null  object \n",
      " 4   price                          15919 non-null  int64  \n",
      " 5   vat                            11406 non-null  object \n",
      " 6   km                             15919 non-null  object \n",
      " 7   registration                   15919 non-null  object \n",
      " 8   prev_owner                     9091 non-null   object \n",
      " 9   kW                             0 non-null      float64\n",
      " 10  hp                             15919 non-null  object \n",
      " 11  Type                           15917 non-null  object \n",
      " 12  Previous Owners                9279 non-null   object \n",
      " 13  Next Inspection                3535 non-null   object \n",
      " 14  Inspection new                 3932 non-null   object \n",
      " 15  Warranty                       10499 non-null  object \n",
      " 16  Full Service                   8215 non-null   object \n",
      " 17  Non-smoking Vehicle            7177 non-null   object \n",
      " 18  null                           15919 non-null  object \n",
      " 19  Make                           15919 non-null  object \n",
      " 20  Model                          15919 non-null  object \n",
      " 21  Offer Number                   12744 non-null  object \n",
      " 22  First Registration             14322 non-null  object \n",
      " 23  Body Color                     15322 non-null  object \n",
      " 24  Paint Type                     10147 non-null  object \n",
      " 25  Body Color Original            12160 non-null  object \n",
      " 26  Upholstery                     12199 non-null  object \n",
      " 27  Body                           15859 non-null  object \n",
      " 28  Nr. of Doors                   15707 non-null  object \n",
      " 29  Nr. of Seats                   14942 non-null  object \n",
      " 30  Model Code                     4978 non-null   object \n",
      " 31  Gearing Type                   15919 non-null  object \n",
      " 32  Displacement                   15423 non-null  object \n",
      " 33  Cylinders                      10239 non-null  object \n",
      " 34  Weight                         8945 non-null   object \n",
      " 35  Drive chain                    9061 non-null   object \n",
      " 36  Fuel                           15919 non-null  object \n",
      " 37  Consumption                    14013 non-null  object \n",
      " 38  CO2 Emission                   14111 non-null  object \n",
      " 39  Emission Class                 12898 non-null  object \n",
      " 40  Comfort & Convenience          14999 non-null  object \n",
      " 41  Entertainment & Media          14545 non-null  object \n",
      " 42  Extras                         12957 non-null  object \n",
      " 43  Safety & Security              14937 non-null  object \n",
      " 44  description                    15919 non-null  object \n",
      " 45  Emission Label                 3985 non-null   object \n",
      " 46  Gears                          11207 non-null  object \n",
      " 47  Country version                7586 non-null   object \n",
      " 48  Electricity consumption        137 non-null    object \n",
      " 49  Last Service Date              566 non-null    object \n",
      " 50  Other Fuel Types               880 non-null    object \n",
      " 51  Availability                   635 non-null    object \n",
      " 52  Last Timing Belt Service Date  16 non-null     object \n",
      " 53  Available from                 272 non-null    object \n",
      "dtypes: float64(1), int64(1), object(52)\n",
      "memory usage: 6.6+ MB\n"
     ]
    }
   ],
   "source": [
    " df.rename(columns={\"\\nEntertainment & Media\\n\":\"Entertainment & Media\",\n",
    "                    '\\nComfort & Convenience\\n':\"Comfort & Convenience\",\n",
    "                    \"\\nExtras\\n\" : \"Extras\",\n",
    "                    '\\nSafety & Security\\n':\"Safety & Security\"\n",
    "                   \n",
    "                   \n",
    "                   }).info()"
   ]
  },
  {
   "cell_type": "code",
   "execution_count": 334,
   "id": "16aa63fa",
   "metadata": {},
   "outputs": [],
   "source": [
    " df.rename(columns={\"\\nEntertainment & Media\\n\":\"Entertainment & Media\",\n",
    "                    '\\nComfort & Convenience\\n':\"Comfort & Convenience\",\n",
    "                    \"\\nExtras\\n\" : \"Extras\",\n",
    "                    '\\nSafety & Security\\n':\"Safety & Security\"\n",
    "                   \n",
    "                   \n",
    "                   },inplace=True)"
   ]
  },
  {
   "cell_type": "code",
   "execution_count": 335,
   "id": "0f59de87",
   "metadata": {},
   "outputs": [
    {
     "data": {
      "text/plain": [
       "(15919, 54)"
      ]
     },
     "execution_count": 335,
     "metadata": {},
     "output_type": "execute_result"
    }
   ],
   "source": [
    "df.shape"
   ]
  },
  {
   "cell_type": "code",
   "execution_count": 336,
   "id": "c81052bf",
   "metadata": {},
   "outputs": [
    {
     "data": {
      "text/plain": [
       "url                                  0\n",
       "make_model                           0\n",
       "short_description                   46\n",
       "body_type                           60\n",
       "price                                0\n",
       "vat                               4513\n",
       "km                                   0\n",
       "registration                         0\n",
       "prev_owner                        6828\n",
       "kW                               15919\n",
       "hp                                   0\n",
       "Type                                 2\n",
       "Previous Owners                   6640\n",
       "Next Inspection                  12384\n",
       "Inspection new                   11987\n",
       "Warranty                          5420\n",
       "Full Service                      7704\n",
       "Non-smoking Vehicle               8742\n",
       "null                                 0\n",
       "Make                                 0\n",
       "Model                                0\n",
       "Offer Number                      3175\n",
       "First Registration                1597\n",
       "Body Color                         597\n",
       "Paint Type                        5772\n",
       "Body Color Original               3759\n",
       "Upholstery                        3720\n",
       "Body                                60\n",
       "Nr. of Doors                       212\n",
       "Nr. of Seats                       977\n",
       "Model Code                       10941\n",
       "Gearing Type                         0\n",
       "Displacement                       496\n",
       "Cylinders                         5680\n",
       "Weight                            6974\n",
       "Drive chain                       6858\n",
       "Fuel                                 0\n",
       "Consumption                       1906\n",
       "CO2 Emission                      1808\n",
       "Emission Class                    3021\n",
       "Comfort & Convenience              920\n",
       "Entertainment & Media             1374\n",
       "Extras                            2962\n",
       "Safety & Security                  982\n",
       "description                          0\n",
       "Emission Label                   11934\n",
       "Gears                             4712\n",
       "Country version                   8333\n",
       "Electricity consumption          15782\n",
       "Last Service Date                15353\n",
       "Other Fuel Types                 15039\n",
       "Availability                     15284\n",
       "Last Timing Belt Service Date    15903\n",
       "Available from                   15647\n",
       "dtype: int64"
      ]
     },
     "execution_count": 336,
     "metadata": {},
     "output_type": "execute_result"
    }
   ],
   "source": [
    "df.isna().sum()        # gerçek NaN'ları ve None'ları verecek garip değerleri değil."
   ]
  },
  {
   "cell_type": "markdown",
   "id": "38de10ae",
   "metadata": {},
   "source": [
    "Electricity consumption          15782\n",
    "Last Service Date                15353\n",
    "Other Fuel Types                 15039\n",
    "Availability                     15284\n",
    "Last Timing Belt Service Date    15903\n",
    "Available from                   15647\n",
    "kW                               15919                   ## bunlar düşülebilir hemen."
   ]
  },
  {
   "cell_type": "code",
   "execution_count": 337,
   "id": "b8295b29",
   "metadata": {},
   "outputs": [
    {
     "data": {
      "text/plain": [
       "url                               0.000\n",
       "make_model                        0.000\n",
       "short_description                 0.289\n",
       "body_type                         0.377\n",
       "price                             0.000\n",
       "vat                              28.350\n",
       "km                                0.000\n",
       "registration                      0.000\n",
       "prev_owner                       42.892\n",
       "kW                              100.000\n",
       "hp                                0.000\n",
       "Type                              0.013\n",
       "Previous Owners                  41.711\n",
       "Next Inspection                  77.794\n",
       "Inspection new                   75.300\n",
       "Warranty                         34.047\n",
       "Full Service                     48.395\n",
       "Non-smoking Vehicle              54.916\n",
       "null                              0.000\n",
       "Make                              0.000\n",
       "Model                             0.000\n",
       "Offer Number                     19.945\n",
       "First Registration               10.032\n",
       "Body Color                        3.750\n",
       "Paint Type                       36.259\n",
       "Body Color Original              23.613\n",
       "Upholstery                       23.368\n",
       "Body                              0.377\n",
       "Nr. of Doors                      1.332\n",
       "Nr. of Seats                      6.137\n",
       "Model Code                       68.729\n",
       "Gearing Type                      0.000\n",
       "Displacement                      3.116\n",
       "Cylinders                        35.681\n",
       "Weight                           43.809\n",
       "Drive chain                      43.081\n",
       "Fuel                              0.000\n",
       "Consumption                      11.973\n",
       "CO2 Emission                     11.357\n",
       "Emission Class                   18.977\n",
       "Comfort & Convenience             5.779\n",
       "Entertainment & Media             8.631\n",
       "Extras                           18.607\n",
       "Safety & Security                 6.169\n",
       "description                       0.000\n",
       "Emission Label                   74.967\n",
       "Gears                            29.600\n",
       "Country version                  52.346\n",
       "Electricity consumption          99.139\n",
       "Last Service Date                96.445\n",
       "Other Fuel Types                 94.472\n",
       "Availability                     96.011\n",
       "Last Timing Belt Service Date    99.899\n",
       "Available from                   98.291\n",
       "dtype: float64"
      ]
     },
     "execution_count": 337,
     "metadata": {},
     "output_type": "execute_result"
    }
   ],
   "source": [
    "df.isna().sum() / len(df) * 100  "
   ]
  },
  {
   "cell_type": "code",
   "execution_count": 338,
   "id": "9db44b73",
   "metadata": {},
   "outputs": [],
   "source": [
    "## % 85'den fazla missing value olan sütunlar düşülebilir."
   ]
  },
  {
   "cell_type": "code",
   "execution_count": 339,
   "id": "f4d0d156",
   "metadata": {},
   "outputs": [
    {
     "data": {
      "text/plain": [
       "(15919, 47)"
      ]
     },
     "execution_count": 339,
     "metadata": {},
     "output_type": "execute_result"
    }
   ],
   "source": [
    "df.drop(labels=[\"Available from\",\"Last Timing Belt Service Date\",\"Availability\",\"Other Fuel Types\",\"Last Service Date\",\n",
    "               \"Electricity consumption\",\"kW\"],axis=1).shape"
   ]
  },
  {
   "cell_type": "code",
   "execution_count": 340,
   "id": "e99ee44d",
   "metadata": {},
   "outputs": [],
   "source": [
    "df.drop(labels=[\"Available from\",\"Last Timing Belt Service Date\",\"Availability\",\"Other Fuel Types\",\"Last Service Date\",\n",
    "               \"Electricity consumption\",\"kW\"],axis=1,inplace=True)"
   ]
  },
  {
   "cell_type": "code",
   "execution_count": 341,
   "id": "b0d7b595",
   "metadata": {},
   "outputs": [
    {
     "name": "stdout",
     "output_type": "stream",
     "text": [
      "<class 'pandas.core.frame.DataFrame'>\n",
      "RangeIndex: 15919 entries, 0 to 15918\n",
      "Data columns (total 47 columns):\n",
      " #   Column                 Non-Null Count  Dtype \n",
      "---  ------                 --------------  ----- \n",
      " 0   url                    15919 non-null  object\n",
      " 1   make_model             15919 non-null  object\n",
      " 2   short_description      15873 non-null  object\n",
      " 3   body_type              15859 non-null  object\n",
      " 4   price                  15919 non-null  int64 \n",
      " 5   vat                    11406 non-null  object\n",
      " 6   km                     15919 non-null  object\n",
      " 7   registration           15919 non-null  object\n",
      " 8   prev_owner             9091 non-null   object\n",
      " 9   hp                     15919 non-null  object\n",
      " 10  Type                   15917 non-null  object\n",
      " 11  Previous Owners        9279 non-null   object\n",
      " 12  Next Inspection        3535 non-null   object\n",
      " 13  Inspection new         3932 non-null   object\n",
      " 14  Warranty               10499 non-null  object\n",
      " 15  Full Service           8215 non-null   object\n",
      " 16  Non-smoking Vehicle    7177 non-null   object\n",
      " 17  null                   15919 non-null  object\n",
      " 18  Make                   15919 non-null  object\n",
      " 19  Model                  15919 non-null  object\n",
      " 20  Offer Number           12744 non-null  object\n",
      " 21  First Registration     14322 non-null  object\n",
      " 22  Body Color             15322 non-null  object\n",
      " 23  Paint Type             10147 non-null  object\n",
      " 24  Body Color Original    12160 non-null  object\n",
      " 25  Upholstery             12199 non-null  object\n",
      " 26  Body                   15859 non-null  object\n",
      " 27  Nr. of Doors           15707 non-null  object\n",
      " 28  Nr. of Seats           14942 non-null  object\n",
      " 29  Model Code             4978 non-null   object\n",
      " 30  Gearing Type           15919 non-null  object\n",
      " 31  Displacement           15423 non-null  object\n",
      " 32  Cylinders              10239 non-null  object\n",
      " 33  Weight                 8945 non-null   object\n",
      " 34  Drive chain            9061 non-null   object\n",
      " 35  Fuel                   15919 non-null  object\n",
      " 36  Consumption            14013 non-null  object\n",
      " 37  CO2 Emission           14111 non-null  object\n",
      " 38  Emission Class         12898 non-null  object\n",
      " 39  Comfort & Convenience  14999 non-null  object\n",
      " 40  Entertainment & Media  14545 non-null  object\n",
      " 41  Extras                 12957 non-null  object\n",
      " 42  Safety & Security      14937 non-null  object\n",
      " 43  description            15919 non-null  object\n",
      " 44  Emission Label         3985 non-null   object\n",
      " 45  Gears                  11207 non-null  object\n",
      " 46  Country version        7586 non-null   object\n",
      "dtypes: int64(1), object(46)\n",
      "memory usage: 5.7+ MB\n"
     ]
    }
   ],
   "source": [
    "df.info()"
   ]
  },
  {
   "cell_type": "code",
   "execution_count": 342,
   "id": "dc9a2798",
   "metadata": {},
   "outputs": [],
   "source": [
    "# df.nunique()   # TypeError: unhashable type: 'list  bundan dolayı  str methodlarını daha iyi uygulayabilmem için\n",
    "                 # listedeki verileri stringe dönüştürmeliyim."
   ]
  },
  {
   "cell_type": "code",
   "execution_count": 343,
   "id": "d73c7bb9",
   "metadata": {},
   "outputs": [
    {
     "data": {
      "text/html": [
       "<div>\n",
       "<style scoped>\n",
       "    .dataframe tbody tr th:only-of-type {\n",
       "        vertical-align: middle;\n",
       "    }\n",
       "\n",
       "    .dataframe tbody tr th {\n",
       "        vertical-align: top;\n",
       "    }\n",
       "\n",
       "    .dataframe thead th {\n",
       "        text-align: right;\n",
       "    }\n",
       "</style>\n",
       "<table border=\"1\" class=\"dataframe\">\n",
       "  <thead>\n",
       "    <tr style=\"text-align: right;\">\n",
       "      <th></th>\n",
       "      <th>url</th>\n",
       "      <th>make_model</th>\n",
       "      <th>short_description</th>\n",
       "      <th>body_type</th>\n",
       "      <th>price</th>\n",
       "      <th>vat</th>\n",
       "      <th>km</th>\n",
       "      <th>registration</th>\n",
       "      <th>prev_owner</th>\n",
       "      <th>hp</th>\n",
       "      <th>Type</th>\n",
       "      <th>Previous Owners</th>\n",
       "      <th>Next Inspection</th>\n",
       "      <th>Inspection new</th>\n",
       "      <th>Warranty</th>\n",
       "      <th>Full Service</th>\n",
       "      <th>Non-smoking Vehicle</th>\n",
       "      <th>null</th>\n",
       "      <th>Make</th>\n",
       "      <th>Model</th>\n",
       "      <th>Offer Number</th>\n",
       "      <th>First Registration</th>\n",
       "      <th>Body Color</th>\n",
       "      <th>Paint Type</th>\n",
       "      <th>Body Color Original</th>\n",
       "      <th>Upholstery</th>\n",
       "      <th>Body</th>\n",
       "      <th>Nr. of Doors</th>\n",
       "      <th>Nr. of Seats</th>\n",
       "      <th>Model Code</th>\n",
       "      <th>Gearing Type</th>\n",
       "      <th>Displacement</th>\n",
       "      <th>Cylinders</th>\n",
       "      <th>Weight</th>\n",
       "      <th>Drive chain</th>\n",
       "      <th>Fuel</th>\n",
       "      <th>Consumption</th>\n",
       "      <th>CO2 Emission</th>\n",
       "      <th>Emission Class</th>\n",
       "      <th>Comfort &amp; Convenience</th>\n",
       "      <th>Entertainment &amp; Media</th>\n",
       "      <th>Extras</th>\n",
       "      <th>Safety &amp; Security</th>\n",
       "      <th>description</th>\n",
       "      <th>Emission Label</th>\n",
       "      <th>Gears</th>\n",
       "      <th>Country version</th>\n",
       "    </tr>\n",
       "  </thead>\n",
       "  <tbody>\n",
       "    <tr>\n",
       "      <th>949</th>\n",
       "      <td>https://www.autoscout24.com//offers/audi-a1-sp...</td>\n",
       "      <td>Audi A1</td>\n",
       "      <td>Sportback 1.4 TFSi Pano, Navi, Xenon</td>\n",
       "      <td>Sedans</td>\n",
       "      <td>21400</td>\n",
       "      <td>None</td>\n",
       "      <td>15,201 km</td>\n",
       "      <td>05/2017</td>\n",
       "      <td>1 previous owner</td>\n",
       "      <td>92 kW</td>\n",
       "      <td>,Used,,Regular/Benzine 91</td>\n",
       "      <td>\\n1\\n</td>\n",
       "      <td>\\n05/2020\\n,\\n123 g CO2/km (comb)\\n</td>\n",
       "      <td>NaN</td>\n",
       "      <td>\\n,\\n,\\nEuro 6\\n</td>\n",
       "      <td>\\n,\\n,\\n4 (Green)\\n</td>\n",
       "      <td>\\n,\\n</td>\n",
       "      <td></td>\n",
       "      <td>\\nAudi\\n</td>\n",
       "      <td>\\n,A1,\\n</td>\n",
       "      <td>\\n27547\\n</td>\n",
       "      <td>\\n,2017,\\n</td>\n",
       "      <td>\\n,Black,\\n</td>\n",
       "      <td>\\nMetallic\\n</td>\n",
       "      <td>\\nMythosschwarz Metallic\\n</td>\n",
       "      <td>\\nCloth, Orange\\n</td>\n",
       "      <td>\\n,Sedans,\\n</td>\n",
       "      <td>\\n5\\n</td>\n",
       "      <td>\\n4\\n</td>\n",
       "      <td>\\n0588/BDC\\n</td>\n",
       "      <td>\\n,Automatic,\\n</td>\n",
       "      <td>\\n1,395 cc\\n</td>\n",
       "      <td>NaN</td>\n",
       "      <td>NaN</td>\n",
       "      <td>\\nfront\\n</td>\n",
       "      <td>\\n,Regular/Benzine 91,\\n</td>\n",
       "      <td>['5.2 l/100 km (comb)'],['6.7 l/100 km (city)'...</td>\n",
       "      <td>\\n123 g CO2/km (comb)\\n</td>\n",
       "      <td>\\nEuro 6\\n</td>\n",
       "      <td>Air conditioning,Armrest,Automatic climate con...</td>\n",
       "      <td>Bluetooth,CD player,Hands-free equipment,On-bo...</td>\n",
       "      <td>Alloy wheels,Catalytic Converter,Sport seats,V...</td>\n",
       "      <td>ABS,Central door lock,Daytime running lights,D...</td>\n",
       "      <td>\\n,Highlights:,Anschlussgarantie 1 Jahr, max. ...</td>\n",
       "      <td>NaN</td>\n",
       "      <td>NaN</td>\n",
       "      <td>\\nGermany\\n</td>\n",
       "    </tr>\n",
       "    <tr>\n",
       "      <th>248</th>\n",
       "      <td>https://www.autoscout24.com//offers/audi-a1-sp...</td>\n",
       "      <td>Audi A1</td>\n",
       "      <td>Sportback sport DriveSel°Xenon+°S-Tronic°1.Ha</td>\n",
       "      <td>Compact</td>\n",
       "      <td>16999</td>\n",
       "      <td>None</td>\n",
       "      <td>31,987 km</td>\n",
       "      <td>06/2017</td>\n",
       "      <td>1 previous owner</td>\n",
       "      <td>85 kW</td>\n",
       "      <td>,Used,,Diesel (Particulate Filter)</td>\n",
       "      <td>\\n1\\n</td>\n",
       "      <td>\\n06/2020\\n,\\n106 g CO2/km (comb)\\n</td>\n",
       "      <td>NaN</td>\n",
       "      <td>NaN</td>\n",
       "      <td>\\n,\\n,\\nEuro 6\\n</td>\n",
       "      <td>\\n,\\n,\\n4 (Green)\\n</td>\n",
       "      <td></td>\n",
       "      <td>\\nAudi\\n</td>\n",
       "      <td>\\n,A1,\\n</td>\n",
       "      <td>NaN</td>\n",
       "      <td>\\n,2017,\\n</td>\n",
       "      <td>\\n,Blue,\\n</td>\n",
       "      <td>\\nMetallic\\n</td>\n",
       "      <td>\\nUtopiablau Metallic\\n</td>\n",
       "      <td>\\nCloth, Black\\n</td>\n",
       "      <td>\\n,Compact,\\n</td>\n",
       "      <td>\\n4\\n</td>\n",
       "      <td>\\n4\\n</td>\n",
       "      <td>\\n0588/BDG\\n</td>\n",
       "      <td>\\n,Automatic,\\n</td>\n",
       "      <td>\\n1,598 cc\\n</td>\n",
       "      <td>NaN</td>\n",
       "      <td>NaN</td>\n",
       "      <td>NaN</td>\n",
       "      <td>\\n,Diesel (Particulate Filter),\\n</td>\n",
       "      <td>['4 l/100 km (comb)'],['4.6 l/100 km (city)'],...</td>\n",
       "      <td>\\n106 g CO2/km (comb)\\n</td>\n",
       "      <td>\\nEuro 6\\n</td>\n",
       "      <td>Air conditioning,Armrest,Automatic climate con...</td>\n",
       "      <td>Bluetooth,CD player,Hands-free equipment,On-bo...</td>\n",
       "      <td>Sport package,Sport seats,Sport suspension,Voi...</td>\n",
       "      <td>ABS,Alarm system,Central door lock,Daytime run...</td>\n",
       "      <td>\\nAUDI A1 SPORTBACK SPORT in Utopiablau met.,1...</td>\n",
       "      <td>NaN</td>\n",
       "      <td>NaN</td>\n",
       "      <td>\\nGermany\\n</td>\n",
       "    </tr>\n",
       "  </tbody>\n",
       "</table>\n",
       "</div>"
      ],
      "text/plain": [
       "                                                   url make_model  \\\n",
       "949  https://www.autoscout24.com//offers/audi-a1-sp...    Audi A1   \n",
       "248  https://www.autoscout24.com//offers/audi-a1-sp...    Audi A1   \n",
       "\n",
       "                                 short_description body_type  price   vat  \\\n",
       "949           Sportback 1.4 TFSi Pano, Navi, Xenon    Sedans  21400  None   \n",
       "248  Sportback sport DriveSel°Xenon+°S-Tronic°1.Ha   Compact  16999  None   \n",
       "\n",
       "            km registration        prev_owner     hp  \\\n",
       "949  15,201 km      05/2017  1 previous owner  92 kW   \n",
       "248  31,987 km      06/2017  1 previous owner  85 kW   \n",
       "\n",
       "                                   Type Previous Owners  \\\n",
       "949           ,Used,,Regular/Benzine 91           \\n1\\n   \n",
       "248  ,Used,,Diesel (Particulate Filter)           \\n1\\n   \n",
       "\n",
       "                         Next Inspection Inspection new          Warranty  \\\n",
       "949  \\n05/2020\\n,\\n123 g CO2/km (comb)\\n            NaN  \\n,\\n,\\nEuro 6\\n   \n",
       "248  \\n06/2020\\n,\\n106 g CO2/km (comb)\\n            NaN               NaN   \n",
       "\n",
       "            Full Service  Non-smoking Vehicle null      Make     Model  \\\n",
       "949  \\n,\\n,\\n4 (Green)\\n                \\n,\\n       \\nAudi\\n  \\n,A1,\\n   \n",
       "248     \\n,\\n,\\nEuro 6\\n  \\n,\\n,\\n4 (Green)\\n       \\nAudi\\n  \\n,A1,\\n   \n",
       "\n",
       "    Offer Number First Registration   Body Color    Paint Type  \\\n",
       "949    \\n27547\\n         \\n,2017,\\n  \\n,Black,\\n  \\nMetallic\\n   \n",
       "248          NaN         \\n,2017,\\n   \\n,Blue,\\n  \\nMetallic\\n   \n",
       "\n",
       "            Body Color Original         Upholstery           Body  \\\n",
       "949  \\nMythosschwarz Metallic\\n  \\nCloth, Orange\\n   \\n,Sedans,\\n   \n",
       "248     \\nUtopiablau Metallic\\n   \\nCloth, Black\\n  \\n,Compact,\\n   \n",
       "\n",
       "    Nr. of Doors Nr. of Seats    Model Code     Gearing Type  Displacement  \\\n",
       "949        \\n5\\n        \\n4\\n  \\n0588/BDC\\n  \\n,Automatic,\\n  \\n1,395 cc\\n   \n",
       "248        \\n4\\n        \\n4\\n  \\n0588/BDG\\n  \\n,Automatic,\\n  \\n1,598 cc\\n   \n",
       "\n",
       "    Cylinders Weight Drive chain                               Fuel  \\\n",
       "949       NaN    NaN   \\nfront\\n           \\n,Regular/Benzine 91,\\n   \n",
       "248       NaN    NaN         NaN  \\n,Diesel (Particulate Filter),\\n   \n",
       "\n",
       "                                           Consumption  \\\n",
       "949  ['5.2 l/100 km (comb)'],['6.7 l/100 km (city)'...   \n",
       "248  ['4 l/100 km (comb)'],['4.6 l/100 km (city)'],...   \n",
       "\n",
       "                CO2 Emission Emission Class  \\\n",
       "949  \\n123 g CO2/km (comb)\\n     \\nEuro 6\\n   \n",
       "248  \\n106 g CO2/km (comb)\\n     \\nEuro 6\\n   \n",
       "\n",
       "                                 Comfort & Convenience  \\\n",
       "949  Air conditioning,Armrest,Automatic climate con...   \n",
       "248  Air conditioning,Armrest,Automatic climate con...   \n",
       "\n",
       "                                 Entertainment & Media  \\\n",
       "949  Bluetooth,CD player,Hands-free equipment,On-bo...   \n",
       "248  Bluetooth,CD player,Hands-free equipment,On-bo...   \n",
       "\n",
       "                                                Extras  \\\n",
       "949  Alloy wheels,Catalytic Converter,Sport seats,V...   \n",
       "248  Sport package,Sport seats,Sport suspension,Voi...   \n",
       "\n",
       "                                     Safety & Security  \\\n",
       "949  ABS,Central door lock,Daytime running lights,D...   \n",
       "248  ABS,Alarm system,Central door lock,Daytime run...   \n",
       "\n",
       "                                           description Emission Label Gears  \\\n",
       "949  \\n,Highlights:,Anschlussgarantie 1 Jahr, max. ...            NaN   NaN   \n",
       "248  \\nAUDI A1 SPORTBACK SPORT in Utopiablau met.,1...            NaN   NaN   \n",
       "\n",
       "    Country version  \n",
       "949     \\nGermany\\n  \n",
       "248     \\nGermany\\n  "
      ]
     },
     "execution_count": 343,
     "metadata": {},
     "output_type": "execute_result"
    }
   ],
   "source": [
    "df = df.applymap(lambda x: ','.join(map(str, x)) if isinstance(x, list) else x)\n",
    "df.sample(2)"
   ]
  },
  {
   "cell_type": "code",
   "execution_count": 344,
   "id": "54e367b7",
   "metadata": {},
   "outputs": [],
   "source": [
    "## bazı \\n'leri df'den temizleyebiliriz kolayca : "
   ]
  },
  {
   "cell_type": "code",
   "execution_count": 345,
   "id": "8639a395",
   "metadata": {},
   "outputs": [
    {
     "data": {
      "text/html": [
       "<div>\n",
       "<style scoped>\n",
       "    .dataframe tbody tr th:only-of-type {\n",
       "        vertical-align: middle;\n",
       "    }\n",
       "\n",
       "    .dataframe tbody tr th {\n",
       "        vertical-align: top;\n",
       "    }\n",
       "\n",
       "    .dataframe thead th {\n",
       "        text-align: right;\n",
       "    }\n",
       "</style>\n",
       "<table border=\"1\" class=\"dataframe\">\n",
       "  <thead>\n",
       "    <tr style=\"text-align: right;\">\n",
       "      <th></th>\n",
       "      <th>url</th>\n",
       "      <th>make_model</th>\n",
       "      <th>short_description</th>\n",
       "      <th>body_type</th>\n",
       "      <th>price</th>\n",
       "      <th>vat</th>\n",
       "      <th>km</th>\n",
       "      <th>registration</th>\n",
       "      <th>prev_owner</th>\n",
       "      <th>hp</th>\n",
       "      <th>Type</th>\n",
       "      <th>Previous Owners</th>\n",
       "      <th>Next Inspection</th>\n",
       "      <th>Inspection new</th>\n",
       "      <th>Warranty</th>\n",
       "      <th>Full Service</th>\n",
       "      <th>Non-smoking Vehicle</th>\n",
       "      <th>null</th>\n",
       "      <th>Make</th>\n",
       "      <th>Model</th>\n",
       "      <th>Offer Number</th>\n",
       "      <th>First Registration</th>\n",
       "      <th>Body Color</th>\n",
       "      <th>Paint Type</th>\n",
       "      <th>Body Color Original</th>\n",
       "      <th>Upholstery</th>\n",
       "      <th>Body</th>\n",
       "      <th>Nr. of Doors</th>\n",
       "      <th>Nr. of Seats</th>\n",
       "      <th>Model Code</th>\n",
       "      <th>Gearing Type</th>\n",
       "      <th>Displacement</th>\n",
       "      <th>Cylinders</th>\n",
       "      <th>Weight</th>\n",
       "      <th>Drive chain</th>\n",
       "      <th>Fuel</th>\n",
       "      <th>Consumption</th>\n",
       "      <th>CO2 Emission</th>\n",
       "      <th>Emission Class</th>\n",
       "      <th>Comfort &amp; Convenience</th>\n",
       "      <th>Entertainment &amp; Media</th>\n",
       "      <th>Extras</th>\n",
       "      <th>Safety &amp; Security</th>\n",
       "      <th>description</th>\n",
       "      <th>Emission Label</th>\n",
       "      <th>Gears</th>\n",
       "      <th>Country version</th>\n",
       "    </tr>\n",
       "  </thead>\n",
       "  <tbody>\n",
       "    <tr>\n",
       "      <th>4921</th>\n",
       "      <td>https://www.autoscout24.com//offers/audi-a3-sp...</td>\n",
       "      <td>Audi A3</td>\n",
       "      <td>SPB 30 1.0 TFSI 116CV Sport , NAVI - KM0</td>\n",
       "      <td>Sedans</td>\n",
       "      <td>20900</td>\n",
       "      <td>VAT deductible</td>\n",
       "      <td>10 km</td>\n",
       "      <td>10/2018</td>\n",
       "      <td>None</td>\n",
       "      <td>85 kW</td>\n",
       "      <td>Pre-registered,,Gasoline (Particulate Filter)</td>\n",
       "      <td>NaN</td>\n",
       "      <td>NaN</td>\n",
       "      <td>NaN</td>\n",
       "      <td></td>\n",
       "      <td>NaN</td>\n",
       "      <td>NaN</td>\n",
       "      <td></td>\n",
       "      <td>Audi</td>\n",
       "      <td>A3</td>\n",
       "      <td>2056951</td>\n",
       "      <td>2018</td>\n",
       "      <td>White</td>\n",
       "      <td>NaN</td>\n",
       "      <td>Bianco</td>\n",
       "      <td>Cloth</td>\n",
       "      <td>Sedans</td>\n",
       "      <td>5</td>\n",
       "      <td>5</td>\n",
       "      <td>NaN</td>\n",
       "      <td>Manual</td>\n",
       "      <td>999 cc</td>\n",
       "      <td>3</td>\n",
       "      <td>1,255 kg</td>\n",
       "      <td>front</td>\n",
       "      <td>Gasoline (Particulate Filter)</td>\n",
       "      <td>['5.1 l/100 km (comb)'],['6 l/100 km (city)'],...</td>\n",
       "      <td>117 g CO2/km (comb)</td>\n",
       "      <td>Euro 6</td>\n",
       "      <td>Air conditioning,Automatic climate control,Cru...</td>\n",
       "      <td>Bluetooth</td>\n",
       "      <td>Alloy wheels,Sport seats</td>\n",
       "      <td>ABS,Central door lock,Driver-side airbag,Elect...</td>\n",
       "      <td>DEK:[2056951],RIF Gruppo Carmeli: 194519V,Audi...</td>\n",
       "      <td>NaN</td>\n",
       "      <td>6</td>\n",
       "      <td>NaN</td>\n",
       "    </tr>\n",
       "    <tr>\n",
       "      <th>1808</th>\n",
       "      <td>https://www.autoscout24.com//offers/audi-a1-sp...</td>\n",
       "      <td>Audi A1</td>\n",
       "      <td>Sportback 1.0 TFSI Navi, GRA, Einnparkh. hin.</td>\n",
       "      <td>Sedans</td>\n",
       "      <td>16880</td>\n",
       "      <td>VAT deductible</td>\n",
       "      <td>27,200 km</td>\n",
       "      <td>03/2018</td>\n",
       "      <td>1 previous owner</td>\n",
       "      <td>70 kW</td>\n",
       "      <td>Used,,Super 95</td>\n",
       "      <td>1</td>\n",
       "      <td>NaN</td>\n",
       "      <td>Yes,104 g CO2/km (comb)</td>\n",
       "      <td>36 months,Euro 6</td>\n",
       "      <td>4 (Green)</td>\n",
       "      <td></td>\n",
       "      <td></td>\n",
       "      <td>Audi</td>\n",
       "      <td>A1</td>\n",
       "      <td>75538</td>\n",
       "      <td>2018</td>\n",
       "      <td>Black</td>\n",
       "      <td>Metallic</td>\n",
       "      <td>Mythosschwarz Metallic/Florett</td>\n",
       "      <td>Cloth, Black</td>\n",
       "      <td>Sedans</td>\n",
       "      <td>5</td>\n",
       "      <td>4</td>\n",
       "      <td>0588/BDB</td>\n",
       "      <td>Manual</td>\n",
       "      <td>999 cc</td>\n",
       "      <td>3</td>\n",
       "      <td>1,135 kg</td>\n",
       "      <td>front</td>\n",
       "      <td>Super 95</td>\n",
       "      <td>['4.4 l/100 km (comb)'],['5.2 l/100 km (city)'...</td>\n",
       "      <td>104 g CO2/km (comb)</td>\n",
       "      <td>Euro 6</td>\n",
       "      <td>Air conditioning,Automatic climate control,Cru...</td>\n",
       "      <td>Bluetooth,Hands-free equipment,On-board computer</td>\n",
       "      <td>Alloy wheels,Voice Control</td>\n",
       "      <td>ABS,Central door lock,Daytime running lights,D...</td>\n",
       "      <td>Assistenzsysteme,Einparkhilfe hinten,Geschwind...</td>\n",
       "      <td>NaN</td>\n",
       "      <td>5</td>\n",
       "      <td>NaN</td>\n",
       "    </tr>\n",
       "    <tr>\n",
       "      <th>6665</th>\n",
       "      <td>https://www.autoscout24.com//offers/opel-astra...</td>\n",
       "      <td>Opel Astra</td>\n",
       "      <td>1.4 Turbo Dynamic INTELLILINK NAVI EU6</td>\n",
       "      <td>Sedans</td>\n",
       "      <td>17440</td>\n",
       "      <td>VAT deductible</td>\n",
       "      <td>11,287 km</td>\n",
       "      <td>06/2018</td>\n",
       "      <td>None</td>\n",
       "      <td>110 kW</td>\n",
       "      <td>Used,,Super 95</td>\n",
       "      <td>NaN</td>\n",
       "      <td>NaN</td>\n",
       "      <td>Yes</td>\n",
       "      <td>127 g CO2/km (comb)</td>\n",
       "      <td>NaN</td>\n",
       "      <td>NaN</td>\n",
       "      <td></td>\n",
       "      <td>Opel</td>\n",
       "      <td>Astra</td>\n",
       "      <td>G111918-481</td>\n",
       "      <td>2018</td>\n",
       "      <td>Brown</td>\n",
       "      <td>Metallic</td>\n",
       "      <td>rouge braun (metallic)</td>\n",
       "      <td>Cloth, Black</td>\n",
       "      <td>Sedans</td>\n",
       "      <td>5</td>\n",
       "      <td>5</td>\n",
       "      <td>NaN</td>\n",
       "      <td>Automatic</td>\n",
       "      <td>1,399 cc</td>\n",
       "      <td>4</td>\n",
       "      <td>NaN</td>\n",
       "      <td>front</td>\n",
       "      <td>Super 95</td>\n",
       "      <td>['5.5 l/100 km (comb)'],['7.2 l/100 km (city)'...</td>\n",
       "      <td>127 g CO2/km (comb)</td>\n",
       "      <td>Euro 6</td>\n",
       "      <td>Air conditioning,Armrest,Automatic climate con...</td>\n",
       "      <td>Bluetooth,Hands-free equipment,MP3,On-board co...</td>\n",
       "      <td>Alloy wheels,Catalytic Converter,Touch screen,...</td>\n",
       "      <td>ABS,Central door lock,Daytime running lights,D...</td>\n",
       "      <td>Fahrzeug-Nr.: G111918-481 (481).,Media:,Intell...</td>\n",
       "      <td>4 (Green)</td>\n",
       "      <td>NaN</td>\n",
       "      <td>NaN</td>\n",
       "    </tr>\n",
       "    <tr>\n",
       "      <th>5483</th>\n",
       "      <td>https://www.autoscout24.com//offers/audi-a3-sp...</td>\n",
       "      <td>Audi A3</td>\n",
       "      <td>Sportback 35 TFSI 150 Nav PDC SHZ Klimaaut</td>\n",
       "      <td>Sedans</td>\n",
       "      <td>23988</td>\n",
       "      <td>VAT deductible</td>\n",
       "      <td>10 km</td>\n",
       "      <td>-/-</td>\n",
       "      <td>None</td>\n",
       "      <td>110 kW</td>\n",
       "      <td>New,,Regular/Benzine 91 (Particulate Filter)</td>\n",
       "      <td>NaN</td>\n",
       "      <td>NaN</td>\n",
       "      <td>Yes</td>\n",
       "      <td>125 g CO2/km (comb)</td>\n",
       "      <td>Euro 6d-TEMP</td>\n",
       "      <td>NaN</td>\n",
       "      <td></td>\n",
       "      <td>Audi</td>\n",
       "      <td>A3</td>\n",
       "      <td>GW-AZ982</td>\n",
       "      <td>NaN</td>\n",
       "      <td>Red</td>\n",
       "      <td>Metallic</td>\n",
       "      <td>Tangorot Metallic</td>\n",
       "      <td>Cloth</td>\n",
       "      <td>Sedans</td>\n",
       "      <td>5</td>\n",
       "      <td>5</td>\n",
       "      <td>0588/BLL</td>\n",
       "      <td>Manual</td>\n",
       "      <td>1,498 cc</td>\n",
       "      <td>NaN</td>\n",
       "      <td>1,325 kg</td>\n",
       "      <td>front</td>\n",
       "      <td>Regular/Benzine 91 (Particulate Filter)</td>\n",
       "      <td>['5.5 l/100 km (comb)'],['6.9 l/100 km (city)'...</td>\n",
       "      <td>125 g CO2/km (comb)</td>\n",
       "      <td>Euro 6d-TEMP</td>\n",
       "      <td>Air conditioning,Armrest,Automatic climate con...</td>\n",
       "      <td>Bluetooth,CD player,Hands-free equipment,MP3,O...</td>\n",
       "      <td>Alloy wheels,Roof rack,Sport suspension</td>\n",
       "      <td>ABS,Central door lock,Daytime running lights,D...</td>\n",
       "      <td>Aktionspreis, auf limitierte Stückzahl - nur f...</td>\n",
       "      <td>NaN</td>\n",
       "      <td>6</td>\n",
       "      <td>European Union</td>\n",
       "    </tr>\n",
       "  </tbody>\n",
       "</table>\n",
       "</div>"
      ],
      "text/plain": [
       "                                                    url  make_model  \\\n",
       "4921  https://www.autoscout24.com//offers/audi-a3-sp...     Audi A3   \n",
       "1808  https://www.autoscout24.com//offers/audi-a1-sp...     Audi A1   \n",
       "6665  https://www.autoscout24.com//offers/opel-astra...  Opel Astra   \n",
       "5483  https://www.autoscout24.com//offers/audi-a3-sp...     Audi A3   \n",
       "\n",
       "                                  short_description body_type  price  \\\n",
       "4921       SPB 30 1.0 TFSI 116CV Sport , NAVI - KM0    Sedans  20900   \n",
       "1808  Sportback 1.0 TFSI Navi, GRA, Einnparkh. hin.    Sedans  16880   \n",
       "6665         1.4 Turbo Dynamic INTELLILINK NAVI EU6    Sedans  17440   \n",
       "5483     Sportback 35 TFSI 150 Nav PDC SHZ Klimaaut    Sedans  23988   \n",
       "\n",
       "                 vat         km registration        prev_owner      hp  \\\n",
       "4921  VAT deductible      10 km      10/2018              None   85 kW   \n",
       "1808  VAT deductible  27,200 km      03/2018  1 previous owner   70 kW   \n",
       "6665  VAT deductible  11,287 km      06/2018              None  110 kW   \n",
       "5483  VAT deductible      10 km          -/-              None  110 kW   \n",
       "\n",
       "                                               Type Previous Owners  \\\n",
       "4921  Pre-registered,,Gasoline (Particulate Filter)             NaN   \n",
       "1808                                 Used,,Super 95               1   \n",
       "6665                                 Used,,Super 95             NaN   \n",
       "5483   New,,Regular/Benzine 91 (Particulate Filter)             NaN   \n",
       "\n",
       "     Next Inspection           Inspection new             Warranty  \\\n",
       "4921             NaN                      NaN                        \n",
       "1808             NaN  Yes,104 g CO2/km (comb)     36 months,Euro 6   \n",
       "6665             NaN                      Yes  127 g CO2/km (comb)   \n",
       "5483             NaN                      Yes  125 g CO2/km (comb)   \n",
       "\n",
       "      Full Service Non-smoking Vehicle null  Make  Model Offer Number  \\\n",
       "4921           NaN                 NaN       Audi     A3      2056951   \n",
       "1808     4 (Green)                           Audi     A1        75538   \n",
       "6665           NaN                 NaN       Opel  Astra  G111918-481   \n",
       "5483  Euro 6d-TEMP                 NaN       Audi     A3     GW-AZ982   \n",
       "\n",
       "     First Registration Body Color Paint Type             Body Color Original  \\\n",
       "4921               2018      White        NaN                          Bianco   \n",
       "1808               2018      Black   Metallic  Mythosschwarz Metallic/Florett   \n",
       "6665               2018      Brown   Metallic          rouge braun (metallic)   \n",
       "5483                NaN        Red   Metallic               Tangorot Metallic   \n",
       "\n",
       "        Upholstery    Body Nr. of Doors Nr. of Seats Model Code Gearing Type  \\\n",
       "4921         Cloth  Sedans            5            5        NaN       Manual   \n",
       "1808  Cloth, Black  Sedans            5            4   0588/BDB       Manual   \n",
       "6665  Cloth, Black  Sedans            5            5        NaN    Automatic   \n",
       "5483         Cloth  Sedans            5            5   0588/BLL       Manual   \n",
       "\n",
       "     Displacement Cylinders    Weight Drive chain  \\\n",
       "4921       999 cc         3  1,255 kg       front   \n",
       "1808       999 cc         3  1,135 kg       front   \n",
       "6665     1,399 cc         4       NaN       front   \n",
       "5483     1,498 cc       NaN  1,325 kg       front   \n",
       "\n",
       "                                         Fuel  \\\n",
       "4921            Gasoline (Particulate Filter)   \n",
       "1808                                 Super 95   \n",
       "6665                                 Super 95   \n",
       "5483  Regular/Benzine 91 (Particulate Filter)   \n",
       "\n",
       "                                            Consumption         CO2 Emission  \\\n",
       "4921  ['5.1 l/100 km (comb)'],['6 l/100 km (city)'],...  117 g CO2/km (comb)   \n",
       "1808  ['4.4 l/100 km (comb)'],['5.2 l/100 km (city)'...  104 g CO2/km (comb)   \n",
       "6665  ['5.5 l/100 km (comb)'],['7.2 l/100 km (city)'...  127 g CO2/km (comb)   \n",
       "5483  ['5.5 l/100 km (comb)'],['6.9 l/100 km (city)'...  125 g CO2/km (comb)   \n",
       "\n",
       "     Emission Class                              Comfort & Convenience  \\\n",
       "4921         Euro 6  Air conditioning,Automatic climate control,Cru...   \n",
       "1808         Euro 6  Air conditioning,Automatic climate control,Cru...   \n",
       "6665         Euro 6  Air conditioning,Armrest,Automatic climate con...   \n",
       "5483   Euro 6d-TEMP  Air conditioning,Armrest,Automatic climate con...   \n",
       "\n",
       "                                  Entertainment & Media  \\\n",
       "4921                                          Bluetooth   \n",
       "1808   Bluetooth,Hands-free equipment,On-board computer   \n",
       "6665  Bluetooth,Hands-free equipment,MP3,On-board co...   \n",
       "5483  Bluetooth,CD player,Hands-free equipment,MP3,O...   \n",
       "\n",
       "                                                 Extras  \\\n",
       "4921                           Alloy wheels,Sport seats   \n",
       "1808                         Alloy wheels,Voice Control   \n",
       "6665  Alloy wheels,Catalytic Converter,Touch screen,...   \n",
       "5483            Alloy wheels,Roof rack,Sport suspension   \n",
       "\n",
       "                                      Safety & Security  \\\n",
       "4921  ABS,Central door lock,Driver-side airbag,Elect...   \n",
       "1808  ABS,Central door lock,Daytime running lights,D...   \n",
       "6665  ABS,Central door lock,Daytime running lights,D...   \n",
       "5483  ABS,Central door lock,Daytime running lights,D...   \n",
       "\n",
       "                                            description Emission Label Gears  \\\n",
       "4921  DEK:[2056951],RIF Gruppo Carmeli: 194519V,Audi...            NaN     6   \n",
       "1808  Assistenzsysteme,Einparkhilfe hinten,Geschwind...            NaN     5   \n",
       "6665  Fahrzeug-Nr.: G111918-481 (481).,Media:,Intell...      4 (Green)   NaN   \n",
       "5483  Aktionspreis, auf limitierte Stückzahl - nur f...            NaN     6   \n",
       "\n",
       "     Country version  \n",
       "4921             NaN  \n",
       "1808             NaN  \n",
       "6665             NaN  \n",
       "5483  European Union  "
      ]
     },
     "execution_count": 345,
     "metadata": {},
     "output_type": "execute_result"
    }
   ],
   "source": [
    "df= df.apply(lambda x: x.str.replace(\"\\n\",\"\").str.strip(\",\") if x.dtype == \"O\" else x)\n",
    "df.sample(4)"
   ]
  },
  {
   "cell_type": "code",
   "execution_count": 346,
   "id": "9039b1af",
   "metadata": {},
   "outputs": [
    {
     "data": {
      "text/plain": [
       "url                      15919\n",
       "make_model                   9\n",
       "short_description        10001\n",
       "body_type                    9\n",
       "price                     2956\n",
       "vat                          2\n",
       "km                        6690\n",
       "registration                48\n",
       "prev_owner                   4\n",
       "hp                          81\n",
       "Type                       169\n",
       "Previous Owners            101\n",
       "Next Inspection           1384\n",
       "Inspection new             201\n",
       "Warranty                   506\n",
       "Full Service               121\n",
       "Non-smoking Vehicle         93\n",
       "null                         1\n",
       "Make                         3\n",
       "Model                        9\n",
       "Offer Number             11440\n",
       "First Registration           4\n",
       "Body Color                  14\n",
       "Paint Type                   3\n",
       "Body Color Original       1927\n",
       "Upholstery                  46\n",
       "Body                         9\n",
       "Nr. of Doors                 6\n",
       "Nr. of Seats                 6\n",
       "Model Code                 232\n",
       "Gearing Type                 3\n",
       "Displacement                77\n",
       "Cylinders                    7\n",
       "Weight                     434\n",
       "Drive chain                  3\n",
       "Fuel                        77\n",
       "Consumption                881\n",
       "CO2 Emission               123\n",
       "Emission Class               7\n",
       "Comfort & Convenience     6198\n",
       "Entertainment & Media      346\n",
       "Extras                     659\n",
       "Safety & Security         4443\n",
       "description              12864\n",
       "Emission Label               6\n",
       "Gears                       10\n",
       "Country version             23\n",
       "dtype: int64"
      ]
     },
     "execution_count": 346,
     "metadata": {},
     "output_type": "execute_result"
    }
   ],
   "source": [
    "df.nunique()"
   ]
  },
  {
   "cell_type": "code",
   "execution_count": 347,
   "id": "28ddd902",
   "metadata": {},
   "outputs": [],
   "source": [
    "# df.isin(\"\").sum()"
   ]
  },
  {
   "cell_type": "code",
   "execution_count": 348,
   "id": "50c11d14",
   "metadata": {},
   "outputs": [
    {
     "data": {
      "text/plain": [
       "url                          0\n",
       "make_model                   0\n",
       "short_description            0\n",
       "body_type                    0\n",
       "price                        0\n",
       "vat                          0\n",
       "km                           0\n",
       "registration                 0\n",
       "prev_owner                   0\n",
       "hp                           0\n",
       "Type                         0\n",
       "Previous Owners              0\n",
       "Next Inspection              0\n",
       "Inspection new               0\n",
       "Warranty                  1343\n",
       "Full Service              1985\n",
       "Non-smoking Vehicle       3717\n",
       "null                     15919\n",
       "Make                         0\n",
       "Model                        0\n",
       "Offer Number                 0\n",
       "First Registration           0\n",
       "Body Color                   0\n",
       "Paint Type                   0\n",
       "Body Color Original          0\n",
       "Upholstery                   0\n",
       "Body                         0\n",
       "Nr. of Doors                 0\n",
       "Nr. of Seats                 0\n",
       "Model Code                   0\n",
       "Gearing Type                 0\n",
       "Displacement                 0\n",
       "Cylinders                    0\n",
       "Weight                       0\n",
       "Drive chain                  0\n",
       "Fuel                         0\n",
       "Consumption                  0\n",
       "CO2 Emission                 0\n",
       "Emission Class               0\n",
       "Comfort & Convenience        0\n",
       "Entertainment & Media        0\n",
       "Extras                       0\n",
       "Safety & Security            0\n",
       "description                667\n",
       "Emission Label               0\n",
       "Gears                        0\n",
       "Country version              0\n",
       "dtype: int64"
      ]
     },
     "execution_count": 348,
     "metadata": {},
     "output_type": "execute_result"
    }
   ],
   "source": [
    "df.isin([\"\"]).sum()   # hangi sütunlarda kaçar tane boş satır var yani bu satırlar da hiçbir şey yok : "
   ]
  },
  {
   "cell_type": "code",
   "execution_count": 349,
   "id": "2f3654cf",
   "metadata": {},
   "outputs": [],
   "source": [
    "## aslında bu bizim için NaN demek. O yüzden ; "
   ]
  },
  {
   "cell_type": "code",
   "execution_count": 350,
   "id": "6c15d5a3",
   "metadata": {},
   "outputs": [],
   "source": [
    "df[df.isin([\"\"])] = np.nan"
   ]
  },
  {
   "cell_type": "markdown",
   "id": "3d0ef62f",
   "metadata": {},
   "source": [
    "### 0-) url"
   ]
  },
  {
   "cell_type": "code",
   "execution_count": 351,
   "id": "efbe9d0c",
   "metadata": {},
   "outputs": [
    {
     "data": {
      "text/plain": [
       "https://www.autoscout24.com//offers/audi-a1-sportback-1-4-tdi-s-tronic-xenon-navi-klima-diesel-black-bdab349a-caa5-41b0-98eb-c1345b84445e                  1\n",
       "https://www.autoscout24.com//offers/opel-insignia-bus-inno-2-0-cdti-aut-navi-bi-xe-led-e6-diesel-black-8710b253-dd98-4ed0-9d46-cbad2d79532b                1\n",
       "https://www.autoscout24.com//offers/opel-insignia-sport-tourer-opel-sport-tourer-1-6-cdti-136-ch-a-c-diesel-silver-10b7463b-9f56-4348-af35-df3432b2b585    1\n",
       "https://www.autoscout24.com//offers/opel-insignia-2-0cdti-st-business-innovation-navi-bt-diesel-black-ba5a3368-dedc-4e51-9127-3976b26e93c2                 1\n",
       "https://www.autoscout24.com//offers/opel-insignia-sport-tourer-opel-sport-tourer-1-6-cdti-136-ch-a-c-diesel-silver-7b52f054-78d3-4d5e-9370-8a7d081d7edd    1\n",
       "                                                                                                                                                          ..\n",
       "https://www.autoscout24.com//offers/audi-a3-sb-30-1-6-tdi-business-116cv-s-tronic-diesel-black-cf50f7b1-4d7b-466f-93a2-4e11ec0b4107                        1\n",
       "https://www.autoscout24.com//offers/audi-a3-sb-30-1-6-tdi-business-116cv-s-tronic-diesel-grey-3f47eb34-15c4-4763-860d-78fcbbd2c9ff                         1\n",
       "https://www.autoscout24.com//offers/audi-a3-sb-30-1-6-tdi-business-116cv-s-tronic-diesel-silver-f7a4bc95-b2ef-4bac-9497-6bcbcd05db0b                       1\n",
       "https://www.autoscout24.com//offers/audi-a3-sb-30-1-6-tdi-business-116cv-s-tronic-diesel-silver-1c94c7a2-67b5-49ca-ae42-42a6800fb3f5                       1\n",
       "https://www.autoscout24.com//offers/renault-espace-initiale-paris-tce-225-edc-gpf-navi-shz-aux-gasoline-grey-0bd690d9-7e93-4cab-bc5a-9d5b63402481          1\n",
       "Name: url, Length: 15919, dtype: int64"
      ]
     },
     "execution_count": 351,
     "metadata": {},
     "output_type": "execute_result"
    }
   ],
   "source": [
    "df[\"url\"].value_counts()"
   ]
  },
  {
   "cell_type": "code",
   "execution_count": 352,
   "id": "09e205ae",
   "metadata": {},
   "outputs": [],
   "source": [
    "## bunun bize yararlı olmayacağını düşünüyorum."
   ]
  },
  {
   "cell_type": "code",
   "execution_count": 353,
   "id": "58707a14",
   "metadata": {},
   "outputs": [],
   "source": [
    "df.drop(\"url\",axis=1,inplace=True)"
   ]
  },
  {
   "cell_type": "markdown",
   "id": "e5b6652e",
   "metadata": {},
   "source": [
    "### 1-) make_model"
   ]
  },
  {
   "cell_type": "code",
   "execution_count": 354,
   "id": "92bae302",
   "metadata": {},
   "outputs": [
    {
     "data": {
      "text/plain": [
       "Audi A3           3097\n",
       "Audi A1           2614\n",
       "Opel Insignia     2598\n",
       "Opel Astra        2526\n",
       "Opel Corsa        2219\n",
       "Renault Clio      1839\n",
       "Renault Espace     991\n",
       "Renault Duster      34\n",
       "Audi A2              1\n",
       "Name: make_model, dtype: int64"
      ]
     },
     "execution_count": 354,
     "metadata": {},
     "output_type": "execute_result"
    }
   ],
   "source": [
    "df[\"make_model\"].value_counts(dropna=False)  \n",
    "## tam ve düzgün bir feature  gibi belki marka / model diye 2 farklı sütun yapılabilir."
   ]
  },
  {
   "cell_type": "markdown",
   "id": "22f1002f",
   "metadata": {},
   "source": [
    "### 18-) Make"
   ]
  },
  {
   "cell_type": "code",
   "execution_count": 355,
   "id": "a2f66bfd",
   "metadata": {},
   "outputs": [
    {
     "data": {
      "text/plain": [
       "Opel       7343\n",
       "Audi       5712\n",
       "Renault    2864\n",
       "Name: Make, dtype: int64"
      ]
     },
     "execution_count": 355,
     "metadata": {},
     "output_type": "execute_result"
    }
   ],
   "source": [
    "df[\"Make\"].value_counts(dropna=False)"
   ]
  },
  {
   "cell_type": "code",
   "execution_count": 356,
   "id": "106f1ae0",
   "metadata": {},
   "outputs": [
    {
     "data": {
      "text/plain": [
       "Opel      0.461\n",
       "Audi      0.359\n",
       "Renault   0.180\n",
       "Name: Make, dtype: float64"
      ]
     },
     "execution_count": 356,
     "metadata": {},
     "output_type": "execute_result"
    }
   ],
   "source": [
    "df[\"Make\"].value_counts(normalize=True)"
   ]
  },
  {
   "cell_type": "markdown",
   "id": "38f76419",
   "metadata": {},
   "source": [
    "### 19-)  Model "
   ]
  },
  {
   "cell_type": "code",
   "execution_count": 357,
   "id": "1e1cbb5f",
   "metadata": {},
   "outputs": [
    {
     "data": {
      "text/plain": [
       "0            A1\n",
       "1            A1\n",
       "2            A1\n",
       "3            A1\n",
       "4            A1\n",
       "          ...  \n",
       "15914    Espace\n",
       "15915    Espace\n",
       "15916    Espace\n",
       "15917    Espace\n",
       "15918    Espace\n",
       "Name: Model, Length: 15919, dtype: object"
      ]
     },
     "execution_count": 357,
     "metadata": {},
     "output_type": "execute_result"
    }
   ],
   "source": [
    "df[\"Model\"]"
   ]
  },
  {
   "cell_type": "code",
   "execution_count": 358,
   "id": "d84b753d",
   "metadata": {},
   "outputs": [
    {
     "data": {
      "text/plain": [
       "A3          3097\n",
       "A1          2614\n",
       "Insignia    2598\n",
       "Astra       2526\n",
       "Corsa       2219\n",
       "Clio        1839\n",
       "Espace       991\n",
       "Duster        34\n",
       "A2             1\n",
       "Name: Model, dtype: int64"
      ]
     },
     "execution_count": 358,
     "metadata": {},
     "output_type": "execute_result"
    }
   ],
   "source": [
    "df[\"Model\"].value_counts()"
   ]
  },
  {
   "cell_type": "code",
   "execution_count": 359,
   "id": "46daa256",
   "metadata": {},
   "outputs": [],
   "source": [
    "df.drop([\"Model\",\"Make\"],axis=1,inplace=True)  "
   ]
  },
  {
   "cell_type": "code",
   "execution_count": 360,
   "id": "9e2795f7",
   "metadata": {},
   "outputs": [
    {
     "data": {
      "text/plain": [
       "(15919, 44)"
      ]
     },
     "execution_count": 360,
     "metadata": {},
     "output_type": "execute_result"
    }
   ],
   "source": [
    "df.shape"
   ]
  },
  {
   "cell_type": "markdown",
   "id": "6fae7536",
   "metadata": {},
   "source": [
    "### 2-)  short_description"
   ]
  },
  {
   "cell_type": "code",
   "execution_count": 361,
   "id": "3435efb5",
   "metadata": {},
   "outputs": [
    {
     "data": {
      "text/plain": [
       "SPB 1.6 TDI 116 CV S tronic Sport                 64\n",
       "NaN                                               46\n",
       "1.4 66kW (90CV) Selective                         40\n",
       "MOVE KLIMA CD USB ALLWETTER BLUETOOTH             38\n",
       "SPB 30 TDI S tronic Business                      35\n",
       "                                                  ..\n",
       "K Sports Tourer Business **Navi*Voll**             1\n",
       "1.0 Turbo ecoFLEX Automatic Elective Park Navi     1\n",
       "1.6 CDTI Business *Navi*Automatik*Spurh.*          1\n",
       "1.6 136 CV Automatica Navi E 6 Garanzia Full       1\n",
       "TCe 225 EDC GPF LIM Deluxe Pano,RFK                1\n",
       "Name: short_description, Length: 10002, dtype: int64"
      ]
     },
     "execution_count": 361,
     "metadata": {},
     "output_type": "execute_result"
    }
   ],
   "source": [
    "df.short_description.value_counts(dropna=False) "
   ]
  },
  {
   "cell_type": "code",
   "execution_count": 362,
   "id": "e46bd471",
   "metadata": {},
   "outputs": [],
   "source": [
    "## arabalarla ilgili kısa bilgiler içeriyor belki ileride yardımcı olabilir missing_value konusunda o yüzden şimdilik düşmüyorum"
   ]
  },
  {
   "cell_type": "markdown",
   "id": "17cf22aa",
   "metadata": {},
   "source": [
    "### 43-)description    "
   ]
  },
  {
   "cell_type": "code",
   "execution_count": 363,
   "id": "3515b805",
   "metadata": {},
   "outputs": [
    {
     "data": {
      "text/plain": [
       "nan                                                                                                                                                                                                                                                                                                                                                                                                                                                                                                                                                                                                                                                                                                                                                                                                                                                                                                                                                                                                                                                                                                                                                                                                                                                                                                                                                                                                                                                                                                                                                                                                                                                                                                                                                                                                                                                                                                                                                                                                                                                                                                                                                                                                                                                                                                                                                                                                                                                                                                                                                                                                                                                                                                                                                                                                                                                                                                                                       667\n",
       "Fahrzeugbeschreibung, Sichern Sie sich diesen Audi A1 1.4 TFSI Design zum Top-Preis inklusive dem,AUTOHERO-RUNDUM-SORGLOS-PAKET, ,Infos:, 2. Hand, deutsche Auslieferung, Unfallfrei, scheckheftgepflegt , ,Highlights, ,Einparkhilfe hinten , ,Sportsitze vorn , ,Leichtmetallfelgen, ,Sitzheizung vorn , ,Dynamik-Fahrwerk,Komfort, ,Klimaautomatik, ,Einstieghilfe Easy-Entry, ,Mittelarmlehne vorn mit Fach, ,Fensterheber elektrisch vorn, ,Zentralverriegelung mit Fernbedienung, ,Multifunktionslenkrad Sport (Leder), ,Rücksitzlehne geteilt/klappbar, ,Lendenwirbelstützen verstellbar , ,Multimedia, ,Audiosystem chorus (Radio/CD-Player), ,Multi-Media-Interface MMI Basic / MMI Radio, ,Audi music interface, ,Fahrer-Informations-System (FIS), ,Universal-Schnittstelle Bluetooth, ,Licht und Sicht, ,Außenspiegel elektr. verstell- und heizbar, beide, ,Tagfahrlicht, ,Scheibenwaschdüsen heizbar, ,Licht- und Regensensor, ,Nebelscheinwerfer integriert, ,Wärmeschutzverglasung grün getönt, ,Heckleuchten LED, ,Sicherheit, ,Isofix-Aufnahmen für Kindersitz, ,Bremsassistent, ,Seitenairbag vorn, ,Reifenkontroll-Anzeige, ,Anti-Blockier-System (ABS), ,Wegfahrsperre (elektronisch), ,Airbag Fahrer-/Beifahrerseite, ,Antriebs-Schlupfregelung (ASR), ,Kopf-Airbag-System (Sideguard), ,Airbag Beifahrerseite abschaltbar, ,Elektron. Differentialsperre (EDS), ,Elektron. Stabilitäts-Programm (ESP), ,Weiteres, ,Start/Stop-Anlage, ,LM-Felgen, ,Wagenheber, ,Servolenkung, ,Reifen-Reparaturkit, ,Ausströmer Schwarz Hochglanz , ,Aluminium-Optik , ,Einstiegleisten mit Schriftzug , ,Bremssättel dunkelgrau lackiert , Ihr ,AUTOHERO-RUNDUM-SORGLOS-PAKET, beinhaltet:,Kostenlose Lieferung in Ihre Nähe,Optische & technische Aufbereitung,Mindestens 12 Monate gültige HU und AU,1-Jahr-Premium-Garantie,Zulassung inklusive ,14-Tage-Rückgaberecht,Markenunabhängige Inzahlungnahme ,Individuelle Finanzierungen zu fairen Konditionen , ,HIER GEHT ES ZUR 360° - ANSICHT DES FAHRZEUGES:,:,https://www.autohero.com/de/audi-a1-1-4-tfsi-design/id/a7dca4b1-6ed3-4104-a04f-40391237d638/, ,Haftungsausschluss,:,Für Angaben vom Verkäufer, des Herstellers oder von Datenbankabfragen übernimmt Autohero keine Haftung. Änderungen, Zwischenverkauf und Irrtümer sind vorbehalten.                                                                                                                                                                                                                                                                                                                                                                                                                                                                                                                                                                                                                          27\n",
       "Fahrzeugbeschreibung, Sichern Sie sich diesen Renault Clio 1.6 TCE Energy Sport Trophy zum Top-Preis inklusive dem ,AUTOHERO-RUNDUM-SORGLOS-PAKET, ,Infos:, 1.Hand, deutsche Auslieferung, Unfallfrei, scheckheftgepflegt, ,Highlights, ,Audio-Navigationssystem R-Link Evolution mit Touchscreen und Carminat TomTom, ,Sportsitze , ,Sportfahrwerk, ,Scheinwerfer Full-LED ,Komfort, ,Geschwindigkeits-Regelanlage (Tempomat) , ,Klimaanlage, ,Einparkhilfe hinten, ,Multifunktionslenkrad (Sport/Leder) mit Schaltwippen/-tasten , ,Fensterheber elektr. mit Impulsgeber links/rechts vorn, ,Zentralverriegelung / Startanlage Handsfree Entry & Drive , ,Berganfahr-Assistent (HSA) ,Multimedia, ,Audiosystem: Radio R & GO (Bluetooth, DAB-Tuner), ,Bordcomputer, ,Freisprecheinrichtung Bluetooth , ,USB-Anschluss inkl. AUX-IN-Anschluss (Plug & Music) ,Licht und Sicht, ,Außenspiegel elektr. verstell- und heizbar , ,Licht- und Regensensor , ,Tagfahrlicht LED , ,Nebelscheinwerfer LED , ,Coming-Home-Lichtfunktion , ,Heckleuchten LED ,Sicherheit, ,Isofix-Aufnahmen für Kindersitz , ,Seitenairbag vorn, ,Wegfahrsperre, ,Differentialsperre, ,Bremsassistent , ,Elektron. Stabilitäts-Programm (ESP), ,Anti-Blockier-System (ABS), ,Anti-Submarining-Airbag im Fond, ,Airbag Fahrer-/Beifahrerseite , ,Differentialsperre , ,Reifendruck-Kontrollsystem , ,Untersteuerungskontrolle (USC) , ,Antischlupfregelung (ASR) ,Weiteres, ,Start/Stop-Anlage , ,Servolenkung geschwindigkeitsabhängig, ,R.S. Drive (Fahrmodusschalter) , ,Gepäckraumabdeckung / Rollo , ,Heckdiffusor , ,LM-Felgen , ,Heckspoiler (Renault Sport) , ,Pedale Aluminium , ,Energierückgewinnung (Energy Smart Management) , ,Elektr. Bremskraftverteilung , ,Reifen-Reparaturkit , ,Sitzbezug / Polsterung: Stoff , Ihr ,AUTOHERO-RUNDUM-SORGLOS-PAKET, beinhaltet:,Kostenlose Lieferung in Ihre Nähe,Optische & technische Aufbereitung,Mindestens 12 Monate gültige HU und AU,1-Jahr-Premium-Garantie,Zulassung inklusive ,14-Tage-Rückgaberecht,Markenunabhängige Inzahlungnahme ,Individuelle Finanzierungen zu fairen Konditionen, ,HIER GEHT ES ZUR 360° - ANSICHT DES FAHRZEUGES:,:,https://www.autohero.com/de/renault-clio-1-6-tce-energy-renault-sport-trophy/id/f7ca29bf-e005-453f-bbc9-8c6fe892dec6/, ,Haftungsausschluss,:,Für Angaben vom Verkäufer, des Herstellers oder von Datenbankabfragen übernimmt Autohero keine Haftung. Änderungen, Zwischenverkauf und Irrtümer sind vorbehalten.                                                                                                                                                                                                                                                                                                                                                                                                                                           27\n",
       "Sichern Sie sich diesen Opel Astra K 1.4 SIDI Turbo Innovation Start/Stop zum Top-Preis inklusive dem,AUTOHERO-RUNDUM-SORGLOS-PAKET, ,Infos:, 2.Hand, deutsche Auslieferung, Unfallfrei, scheckheftgepflegt, mindestens 12 Monate gültige HU und AU, ,Highlights, ,Rückfahrkamera, ,Voll-LED-Matrix-Scheinwerfer (IntelliLux), ,Audio-Navigationssystem Navi 900 Europa Touch, ,Spurassistent, ,Leichtmetallfelgen ,Komfort, ,Sitzheizung vorn, ,Klimaautomatik 2-Zonen, ,Parkpilotsystem vorn und hinten, ,6-Stufen Automatikgetriebe, ,Tempomat (Geschwindigkeits-Regelanlage) mit Begrenzer , ,Berganfahrassistent , ,Servolenkung, ,Lendenwirbelstütze elektropneumatisch für Fahrer , ,Kopfstützen vorn und hinten , ,Multifunktionslenkrad in Leder, beheizbar , ,Mittelarmlehne vorn verschiebbar, ,Zentralverriegelung mit Fernbedienung, ,Fensterheber elektrisch vorn + hinten, ,Berganfahr-Assistent (HSA, Hill Start Assist),Multimedia, ,8 Zoll Touchscreen-Farbdisplay, ,Verkehrszeichenerkennung, ,Audiostreaming , ,Apple CarPlay und Android Auto, ,6 Lautsprecher , ,Bluetooth-Freisprecheinrichtung , ,Sprachsteuerung, ,Bordcomputer, ,Multimedia-Schnittstelle (USB / AUX-IN),Licht und Sicht, ,Außenspiegel elektrisch verstell-, heiz- und anklappbar, ,Abbiegelicht, ,LED Tagfahrlicht, ,Nebelscheinwerfer, ,Ambientebeleuchtung, ,Innenrückspiegel automatisch abblendend, ,Fernlichtassistent und Leuchtweitenregulierung , ,Licht und Regensensor , ,Wärmeschutzverglasung hinten abgedunkelt (Solar-Protect), ,LED Heckleuchten ,Sicherheit, ,Abstandswarner, ,Auffahrwarnsystem, ,Isofix-Aufnahmen für Kindersitz an Rücksitz, ,Frontkamera, ,Airbag für Fahrer- und Beifahrerseite, ,Wegfahrsperre, ,Seitenairbag vorn, ,Kopf-Airbag-System, ,Bremsassistent (HBA), ,Elektronisches Stabilitätsprogramm Plus (ESP Plus), ,Reifendruck-Kontrollsystem, ,Anti-Blockier-System (ABS), ,Reifen-Reparaturkit, ,Parkbremse elektrisch, ,Elektronische Traktionskontrolle,Weiteres, ,Start/Stop-Anlage, ,Metallic-/Mineraleffekt-Lackierung, ,Ecoflex, ,Licht-Paket, ,Sicht-Paket, ,ecoFLEX-Paket, ,Winter-Paket, ,Fußmatten Velours, ,Laderaumabdeckung, ,Innovations-Paket, ,OnStar SOS Service, ,Check-Control-System, Ihr ,AUTOHERO-RUNDUM-SORGLOS-PAKET, beinhaltet:,Kostenlose Lieferung in Ihre Nähe,Optische & technische Aufbereitung,Mindestens 12 Monate gültige HU und AU,1-Jahr-Premium-Garantie,Zulassung inklusive,14-Tage-Rückgaberecht,Markenunabhängige Inzahlungnahme,Individuelle Finanzierungen zu fairen Konditionen, ,HIER GEHT ES ZUR 360° - ANSICHT DES FAHRZEUGES:,:,https://www.autohero.com/de/opel-astra-k-1-4-sidi-turbo-innovation-start-stop/id/99fb856b-41be-40f0-9b36-0d70989440c6/, ,Haftungsausschluss,:,Für Angaben vom Verkäufer, des Herstellers oder von Datenbankabfragen übernimmt Autohero keine Haftung. Änderungen, Zwischenverkauf und Irrtümer sind vorbehalten.     27\n",
       "Posibilidad de prueba del vehículo hasta 5 días. Consultar condiciones. PVP para particulares. Varias unidades y colores disponibles. Precios publicados para vehículos industriales (furgonetas) válidos para compradores autónomos o empresas, consultar condiciones para particulares. Las imágenes y kilómetros pueden no corresponder con el modelo anunciado. Para confirmar póngase en contacto con nuestro departamento comercial. Consulta las excepcionales condiciones de financiación que tenemos disponibles. Precio de venta final IVA y gastos de transferencia incluidos. Horario de atención al cliente: Lunes a Viernes de 09:00 a 18:00.                                                                                                                                                                                                                                                                                                                                                                                                                                                                                                                                                                                                                                                                                                                                                                                                                                                                                                                                                                                                                                                                                                                                                                                                                                                                                                                                                                                                                                                                                                                                                                                                                                                                                                                                                                                                                                                                                                                                                                                                                                                                                                                                                                                                                                                                                27\n",
       "                                                                                                                                                                                                                                                                                                                                                                                                                                                                                                                                                                                                                                                                                                                                                                                                                                                                                                                                                                                                                                                                                                                                                                                                                                                                                                                                                                                                                                                                                                                                                                                                                                                                                                                                                                                                                                                                                                                                                                                                                                                                                                                                                                                                                                                                                                                                                                                                                                                                                                                                                                                                                                                                                                                                                                                                                                                                                                                                         ... \n",
       "Pratica 67374,Airbag fullsize per conducente e passeggero, Alzacristalli elettrici ant. e post. con funzione attivaz. a pressione, Assetto dinamico, Audi drive select, Inserti in micrometallic argento, Kit riparazione pneumatici, Pacchetto di navigazione, Piano di copertura del vano bagagli estraibile, Presa AUX-IN, Proiettori allo Xenon Plus con reg. aut. prof. fari, Lavafari, Rivestimenti dei sedili in tessuto, Serbatoio AdBlue, Sistema controllo pressione pneumatici, Sistema di ancoraggio ISOFIX e 3° punto di ancoraggio Top Tether sui sedili post. laterali, Sistema di informazioni per il conducente con display monocromatico, Tappetini anteriori e posteriori, Versione Business, Volante sportivo multifunzionale in pelle 3 razze, ABS, EBV (Ripartitore elettronico della forza frenante), Airbag laterali anteriori integrati negli schienali dei sedili, Airbag per la testa, Airbag per le ginocchia (lato conducente), Appoggiatesta anteriori (2) e posteriori (3) regolabili, Radio MMI plus, Interfaccia Bluetooth, Appoggiabraccia centrale anteriore, Cambio manuale, Cerchi in lega 7 J x 16\" a 5 razze a stella, Chiusura centralizzata con telecomando, Regolatore di velocità, ESC - Sistema elettronico di controllo della stabilizzazione con bloccaggio trasversale elettronico, ASR - Dispositivo di controllo della trazione, EDS (Dispositivo antislittamento in partenza), Filtro anti particolato, Cinture di sicurezza con pretensionatore, Specchietti retrovisivi esterni riscaldabili e ripiegabili elettricamente, Schienale del sedile posteriore ribaltabile (divisibile in rapporto 40:60 o ribaltabile completam.), Sistema di ausilio al parcheggio posteriore, Servosterzo elettromeccanico, Tergilunotto                                                                                                                                                                                                                                                                                                                                                                                                                                                                                                                                                                                                                                                                                                                                                                                                                                                                                                                                                                                                                                                                                                                                                                 1\n",
       "Getriebe:, Schaltgetriebe,Technik:, Bordcomputer, Start-Stop-Automatik,Assistenten:, Regensensor, Lichtsensor, Berganfahrassistent,Komfort:, Servolenkung, Zentralverriegelung, Elektrischer Fensterheber, Sitzheizung, Elektrische Aussenspiegel, Teilbare Ruecksitzlehne, Tempomat, Park Distance Control, Multifunktionslenkrad, Innenspiegel autom. abblendbar, Mittelarmlehne, Innenraumfilter, Lenksaeule einstellbar, Sportsitze, Klimaautomatik-2-Zonen,Sicht:, Xenon Scheinwerfer, Colorverglasung, Scheinwerferreinigung, Aussenspiegel beheizbar, Privacyverglasung,Sicherheit:, ABS, Airbag, Beifahrer-Airbag, Wegfahrsperre, Seitenairbags, ESP, Antriebsschlupfregelung, Reifendruckkontrolle, Traktionskontrolle, Kopfairbag, Knieairbag, Kindersitzbefestigung, Pannenkit,Entertainment:, CD, Radio, AUX-In, USB-Anschluss, MP3, Bluetooth, Freisprecheinrichtung,Umwelt:, Grüne Umweltplakette, ,Energieeffizienzklasse B,Qualität:, Garantie, Scheckheftgepflegt, HUAU neu, Nichtraucherfahrzeug,Sonstiges:, Metallic, Alufelgen, Dachreling, Gepaeckraumabdeckung, Stossfaenger in Wagenfarbe, Sportfahrwerk,Weiteres:, Connectivity-Paket inkl. Bluetooth-Schnittstelle, Klimaautomatik 2-Zonen, Optik-Paket schwarz Audi exclusive, Einparkhilfe (APS), Verglasung hinten abgedunkelt, Sitzheizung vorn, Dachreling (Aluminium), Soundsystem DSP / Audi Sound-System, Ablage- und Gepäckraum-Paket, Audi music interface, Scheibenwaschdüsen heizbar, Vorbereitung Navigationssystem, Adaptives Bremslicht, Anfahr-Assistent (hold assist), Antriebsart: Frontantrieb, Audi Drive Select, Außenspiegel Wagenfarbe, Blinkleuchten LED in Außenspiegel integriert, Bremsanlage mit Rekuperation - Bremsenergierückgewinnung, Bremsassistent, Dachspoiler, Dekoreinlagen Aluminium Mistral, Einstiegsleisten Aluminium, Elektron. Differentialsperre (EDS), Elektron. Stabilitätskontrolle (ESC), Elektron. Stabilitäts-Programm, Euro 6, Fahrer-Informations-System (FIS), Fensterheber elektrisch vorn und hinten, Frontscheibe Akustikglas, Fußmatten Velours, Getriebe 6-Gang, Heckscheibe heizbar, Interieur Aluminium-Optik, Isofix-Aufnahmen für Kindersitz, Kopfstützen hinten, Multi-Media-Interface MMI, Parkbremse elektro-mechanisch, Polster: Stoff Rallye, Servolenkung elektro-mechanisch, Sitze vorn mit ausziehbarer Oberschenkelauflage, Sitzhöhenverstellung, Sport/Lederlenkrad, Sport-Fahrwerk, Start/Stop-Anlage, Telefon-Vorbereitung mit Bluetooth-Schnittstelle, Wagenheber, Wärmeschutzverglasung, Xenon Plus, ZV mit Fernbedienung,... Änderungen, Zwischenverkauf und Irrtümer vorbehalten., by CG360.de                                                                                                                                                                                                                                                                                      1\n",
       "Getriebe,6-Gang,Licht und Sicht,Xenon-Scheinwerfer Plus (Abblend- und Fernlicht),Technik und Sicherheit,Fahrerairbag,Airbag Fahrer-/Beifahrerseite,Seitenairbag vorn,Kopfairbags,Anti-Blockier-System (ABS),Elektron. Stabilitätskontrolle (ESC),Elektron. Differentialsperre (EDS),Zentralverriegelung mit Fernbedienung,Schließ-/Startsystem Advanced Key (Komfortschlüssel),Servolenkung elektro-mechanisch,Geschwindigkeits-Regelanlage (Tempomat),Elektronische Wegfahrsperre,Bordcomputer,Reifendruck-Kontrollsystem,Assistenzsysteme,Fahrassistenz-System: Anfahr-Assistent (hold assist),Multimedia,Multi-Media-Interface MMI Basic Plus / MMI Radio Plus,Audi Smartphone Interface,Komfort,Komfort-Klimaautomatik 2-Zonen,Einparkhilfe hinten (APS),Fensterheber elektrisch,Licht- und Regensensor,Außenspiegel elektr. verstellbar beide,Scheibenwaschdüsen und Außenspiegel beheizt,Wärmeschutzverglasung grün getönt,Innenausstattung,Sitzheizung vorn,Lenkrad (Sport/Leder - 3-Speichen) mit Multifunktion,Mittelarmlehne vorn,Rücksitzlehne geteilt/klappbar,Aussenausstattung,LM-Felgen,Pakete,Komfort-Paket,Sonstiges,Rußpartikelfilter,Scheckheftgepflegt,Nichtraucherfahrzeug,Weitere Informationen,Schadstoffklasse: EURO 6D-TEMP,Connectivity-Paket,Glanz-Paket,LM-Felgen 7.5x17 (5-Speichen Y-Design),Progressivlenkung,Antriebs-Schlupfregelung (ASR),Elektron. Stabilitäts-Programm (ESP),Getriebe 6-Gang,Lenkrad (Sport - 3-Speichen),Parkbremse elektro-mechanisch,Sitze vorn höhenverstellbar,Vorrüstung Mobiltelefon/Handy mit Bluetooth-Schnittstelle,Audi music interface,Außenspiegel elektr. verstell- und heizbar beide,Vorbereitung Navigationssystem,Irrtümer und Änderungen vorbehalten.,Die im Internet angebotene Ausstattung ist kein Vertragsbestandteil.,Die Ausstattung muss vor Ort geprüft werden.,Das angebotene Fahrzeug kann von einer Rückrufaktion betroffen sein. Co2 Angaben können abweichen.                                                                                                                                                                                                                                                                                                                                                                                                                                                                                                                                                                                                                                                                                                                                                                                                                                                                                                                                                                                            1\n",
       "Aluminium-Gussräder im 5-Speichen-Stern-Design Größe 7 J x 16 mit Reifen 205/55 R 16,Dachreling eloxiert,Einparkhilfe hinten,Fahrerinformationssystem mit Farbdisplay,Lederlenkrad im 3-Speichen-Design mit Multifunktion plus,Ablage-/Gepäckraumpaket mit erweitertem USB-Buchsen-Angebot,Lichtpaket,Reifen 16',Anlaufvariante RdW,Vorbereitung für Anhängevorrichtung,Audi sound system,Reifen 205/55 R16 91W,Xenon plus,Allwetterlicht,Kopfstützen hinten (3 Stück),MMI Radio plus,Zentralverriegelung mit Funkschlüssel,Bluetooth-Schnittstelle,Innenspiegel abblendbar,elektronische Stabilisierungskontrolle (ESC),Airbags,6-Gang-Schaltgetriebe,Seitenairbags vorn und Kopfairbagsystem,elektromechanische Servolenkung,Leuchtweitenregulierung automatisch-statisch,Scheibenwaschdüsen beheizbar vorn,Reifendruck-Kontrollanzeige,Tagfahrlicht,Start-Stop-System,AUX-IN-Anschluss,Kindersitzverankerung ISOFIX und Top Tether für die äußeren Fondsitze,Sitzbezüge in Stoff Index,Wärmeschutzverglasung,Akustikfrontscheibe,Außenspiegel links asphärisch,Außen-Sound Standard,Außenspiegel rechts (großes Sichtfeld) konvex,elektromechanische Parkbremse,Dachhimmel in Stoff felsgrau,Kraftstoffsystem Otto-Einspritzer,Linkslenker,Reifenreparaturset,Heckleuchten,Scheibenwaschanlage,Entriegelung Hintersitz Standard,Waschwasserstandsanzeige,Abgaskonzept EU6 AG/H/I,Frontantrieb,A3,Außenspiegelgehäuse in Wagenfarbe,Ohne erweitertem Sicherheitssystem,Geschwindigkeitsbegrenzungsanlage,Dachkantenspoiler,Heckscheibenwischer,Sportback,Kindersicherung manuell,Ohne Kamerasysteme/Umfeldsensorik,4-Zyl. Ottomotor 1 5 L/110KW TSI Grundmotor ist: TJ7/N09/T9F,Nebelschlussleuchten,Nichtraucherausführung,Radstand,Doppeltonfanfare,Serienfahrwerk,4 Türen,Modellbezeichnung gemäß neuer Leistungskennzeichnung,Warnleuchten,Zierleisten schwarz,Nichtraucherfahrzeug,Irrtümer Änderungen und Zwischenverkauf vorbehalten,sehr guter Zustand,Komfortklima,Aussenspiegel heizbar,elektrische Aussenspiegel,geteilte Rückbank,Scheckheft gepflegt,Fahrersitz höhenverstellbar,Beifahrersitz höhenverstellbar                                                                                                                                                                                                                                                                                                                                                                                                                                                                                                                                                                                                                                                                                                                                                                                                              1\n",
       "DEK:[2691331],Renault Espace Blue dCi 200CV EDC Business,Nuova da Immatricolare,COLORE: Grigio Titanio,INTERNO: Pelle+Tessuto,TRASMISSIONE: Cambio Automatico EDC,---,ACCESSORI: ,7 Posti,, ,Cerchi in Lega 17, Navigatore con Display 8.7, Clima Automatico, Sensori di Parcheggio Anteriori e Posteriori con Retrocamera, Fari Full LED Pure Vision, Cruise Control, Renault Multisense,---,Listino Nuovo 44.300 Euro,Prezzo Gruppo Carmeli: 39.700 Euro (Esclusa IPT e Messa in Strada),IVA Esposta,In caso di Adesione alla PROMO GRUPPO CARMELI puoi Averla a 36.000 Euro,Contattaci per scoprire tutti i vantaggi della PROMO GRUPPO CARMELI,____________________________________,Gruppo Carmeli S.p.A. è Concessionaria e Service ufficiale dei Marchi Renault, Dacia, Nissan, Mercedes e Smart per la provincia di Brescia e Bergamo ed opera nel mercato dell’auto da più di 40 anni.,Nelle sedi di Brescia (Nissan e Renault-Dacia Autospazio), di Coccaglio (Renault-Dacia e Nissan) e di Bergamo (Nissan) oltre a tutta la gamma di veicoli dei Marchi rappresentati, propone anche 2.000 auto a Km Zero e Aziendali di tutte le marche.,Offriamo Servizi:,-VALUTAZIONE e PERMUTA del tuo USATO,-ACQUISTO con pagamento immediato del tuo USATO,-FINANZIAMENTI e LEASING agevolati,-NOLEGGIO A LUNGO TERMINE di veicoli di tutte le marche,-PACCHETTI ASSICURATIVI su misura con possibilità di garanzia del valore a Nuovo,____________________________________,Sebbene sia stato fatto ogni ragionevole sforzo per assicurare l'esattezza delle informazioni riportate, vi potrebbero essere involontarie incongruenze riguardanti le immagini e la descrizione degli accessori, che pertanto non rappresentano vincolo contrattuale. Per ulteriori informazioni sulle condizioni economiche ti invitiamo a contattarci.                                                                                                                                                                                                                                                                                                                                                                                                                                                                                                                                                                                                                                                                                                                                                                                                                                                                                                                                                                                                                                                                                                      1\n",
       "Name: description, Length: 12864, dtype: int64"
      ]
     },
     "execution_count": 363,
     "metadata": {},
     "output_type": "execute_result"
    }
   ],
   "source": [
    "df[\"description\"].astype(\"str\").value_counts(dropna=False)"
   ]
  },
  {
   "cell_type": "code",
   "execution_count": 364,
   "id": "62db1fc0",
   "metadata": {},
   "outputs": [],
   "source": [
    "## short description gibi bu da belki lazım olabilir.şimdilik tutuyorum."
   ]
  },
  {
   "cell_type": "markdown",
   "id": "a6ad0352",
   "metadata": {},
   "source": [
    "###  3-) body_type "
   ]
  },
  {
   "cell_type": "code",
   "execution_count": 365,
   "id": "07b6e154",
   "metadata": {},
   "outputs": [
    {
     "data": {
      "text/plain": [
       "Sedans           7903\n",
       "Station wagon    3553\n",
       "Compact          3153\n",
       "Van               783\n",
       "Other             290\n",
       "Transporter        88\n",
       "NaN                60\n",
       "Off-Road           56\n",
       "Coupe              25\n",
       "Convertible         8\n",
       "Name: body_type, dtype: int64"
      ]
     },
     "execution_count": 365,
     "metadata": {},
     "output_type": "execute_result"
    }
   ],
   "source": [
    "df[\"body_type\"].value_counts(dropna=False)    # 60 tane orijinal NaN değerimiz var,sağında solunda temizlenecek bir şey yok\n",
    "                                              # 290 tane other var."
   ]
  },
  {
   "cell_type": "markdown",
   "id": "01f5794c",
   "metadata": {},
   "source": [
    "### 26-)Body"
   ]
  },
  {
   "cell_type": "code",
   "execution_count": 366,
   "id": "a3d198ed",
   "metadata": {},
   "outputs": [
    {
     "data": {
      "text/plain": [
       "Sedans           7903\n",
       "Station wagon    3553\n",
       "Compact          3153\n",
       "Van               783\n",
       "Other             290\n",
       "Transporter        88\n",
       "NaN                60\n",
       "Off-Road           56\n",
       "Coupe              25\n",
       "Convertible         8\n",
       "Name: Body, dtype: int64"
      ]
     },
     "execution_count": 366,
     "metadata": {},
     "output_type": "execute_result"
    }
   ],
   "source": [
    "df[\"Body\"].value_counts(dropna=False)"
   ]
  },
  {
   "cell_type": "code",
   "execution_count": 367,
   "id": "2760cbd7",
   "metadata": {},
   "outputs": [],
   "source": [
    "## body_type ile aynı sütunlara ve değerlere sahip olduğundan dolayı bunu bırakacağız."
   ]
  },
  {
   "cell_type": "code",
   "execution_count": 368,
   "id": "b9c6aa39",
   "metadata": {},
   "outputs": [],
   "source": [
    "df.drop([\"Body\"],axis=1,inplace=True)"
   ]
  },
  {
   "cell_type": "code",
   "execution_count": 369,
   "id": "d3f71b03",
   "metadata": {},
   "outputs": [
    {
     "data": {
      "text/plain": [
       "(15919, 43)"
      ]
     },
     "execution_count": 369,
     "metadata": {},
     "output_type": "execute_result"
    }
   ],
   "source": [
    "df.shape"
   ]
  },
  {
   "cell_type": "markdown",
   "id": "4b90e7dc",
   "metadata": {},
   "source": [
    "### 5-) vat"
   ]
  },
  {
   "cell_type": "markdown",
   "id": "51d2e698",
   "metadata": {},
   "source": [
    "VAT deductible : geri talep edilebilir KDV\n",
    "Price negotiable : Pazarlık edilebilir fiyat"
   ]
  },
  {
   "cell_type": "code",
   "execution_count": 370,
   "id": "3900cbf2",
   "metadata": {},
   "outputs": [
    {
     "data": {
      "text/plain": [
       "VAT deductible      10980\n",
       "NaN                  4513\n",
       "Price negotiable      426\n",
       "Name: vat, dtype: int64"
      ]
     },
     "execution_count": 370,
     "metadata": {},
     "output_type": "execute_result"
    }
   ],
   "source": [
    "df[\"vat\"].value_counts(dropna=False)"
   ]
  },
  {
   "cell_type": "code",
   "execution_count": 371,
   "id": "6308093e",
   "metadata": {},
   "outputs": [
    {
     "data": {
      "text/plain": [
       "VAT deductible     0.690\n",
       "NaN                0.283\n",
       "Price negotiable   0.027\n",
       "Name: vat, dtype: float64"
      ]
     },
     "execution_count": 371,
     "metadata": {},
     "output_type": "execute_result"
    }
   ],
   "source": [
    "df[\"vat\"].value_counts(normalize=True,dropna=False)"
   ]
  },
  {
   "cell_type": "code",
   "execution_count": 372,
   "id": "8211141f",
   "metadata": {},
   "outputs": [],
   "source": [
    "## bu sütunda extra temizlenecek bir şey yok ve 4513 tane NaN var."
   ]
  },
  {
   "cell_type": "markdown",
   "id": "6f2186d8",
   "metadata": {},
   "source": [
    "### 6-) km    "
   ]
  },
  {
   "cell_type": "code",
   "execution_count": 373,
   "id": "1e42657d",
   "metadata": {},
   "outputs": [
    {
     "data": {
      "text/plain": [
       "10 km        1045\n",
       "- km         1024\n",
       "1 km          367\n",
       "5 km          170\n",
       "50 km         148\n",
       "             ... \n",
       "67,469 km       1\n",
       "43,197 km       1\n",
       "10,027 km       1\n",
       "35,882 km       1\n",
       "57 km           1\n",
       "Name: km, Length: 6690, dtype: int64"
      ]
     },
     "execution_count": 373,
     "metadata": {},
     "output_type": "execute_result"
    }
   ],
   "source": [
    "df[\"km\"].value_counts(dropna=False)"
   ]
  },
  {
   "cell_type": "code",
   "execution_count": 374,
   "id": "ea71285e",
   "metadata": {},
   "outputs": [
    {
     "data": {
      "text/plain": [
       "8444     54,251 km\n",
       "4371     54,740 km\n",
       "124      31,750 km\n",
       "4117     17,412 km\n",
       "12888         - km\n",
       "Name: km, dtype: object"
      ]
     },
     "execution_count": 374,
     "metadata": {},
     "output_type": "execute_result"
    }
   ],
   "source": [
    "df[\"km\"].sample(5)"
   ]
  },
  {
   "cell_type": "code",
   "execution_count": 375,
   "id": "410a2ee0",
   "metadata": {},
   "outputs": [],
   "source": [
    "# df[\"km\"].str.replace(\"km\",\"\").str.replace(\",\",\"\").astype(\"float\")"
   ]
  },
  {
   "cell_type": "code",
   "execution_count": 376,
   "id": "420d0150",
   "metadata": {},
   "outputs": [
    {
     "data": {
      "text/plain": [
       "0       56013.000\n",
       "1       80000.000\n",
       "2       83450.000\n",
       "3       73000.000\n",
       "4       16200.000\n",
       "           ...   \n",
       "15914         NaN\n",
       "15915    9900.000\n",
       "15916      15.000\n",
       "15917      10.000\n",
       "15918         NaN\n",
       "Name: km, Length: 15919, dtype: float64"
      ]
     },
     "execution_count": 376,
     "metadata": {},
     "output_type": "execute_result"
    }
   ],
   "source": [
    "df[\"km\"].str.replace(\"km\",\"\").str.replace(\",\",\"\").replace(\"- \",np.nan).astype(\"float\")"
   ]
  },
  {
   "cell_type": "code",
   "execution_count": 377,
   "id": "fd79ac04",
   "metadata": {},
   "outputs": [],
   "source": [
    "df[\"km\"] = df[\"km\"].str.replace(\"km\",\"\").str.replace(\",\",\"\").replace(\"- \",np.nan).astype(\"float\")"
   ]
  },
  {
   "cell_type": "code",
   "execution_count": 378,
   "id": "0ecf5045",
   "metadata": {},
   "outputs": [
    {
     "data": {
      "text/plain": [
       "10.000       1045\n",
       "NaN          1024\n",
       "1.000         367\n",
       "5.000         170\n",
       "50.000        148\n",
       "             ... \n",
       "36980.000       1\n",
       "36818.000       1\n",
       "46398.000       1\n",
       "59535.000       1\n",
       "57.000          1\n",
       "Name: km, Length: 6690, dtype: int64"
      ]
     },
     "execution_count": 378,
     "metadata": {},
     "output_type": "execute_result"
    }
   ],
   "source": [
    "df.km.value_counts(dropna=False).sort_values(ascending=False)"
   ]
  },
  {
   "cell_type": "code",
   "execution_count": 379,
   "id": "bbde48fa",
   "metadata": {},
   "outputs": [
    {
     "data": {
      "text/plain": [
       "0       56013.000\n",
       "1       80000.000\n",
       "2       83450.000\n",
       "3       73000.000\n",
       "4       16200.000\n",
       "           ...   \n",
       "15914         NaN\n",
       "15915    9900.000\n",
       "15916      15.000\n",
       "15917      10.000\n",
       "15918         NaN\n",
       "Name: km, Length: 15919, dtype: float64"
      ]
     },
     "execution_count": 379,
     "metadata": {},
     "output_type": "execute_result"
    }
   ],
   "source": [
    "df[\"km\"]"
   ]
  },
  {
   "cell_type": "code",
   "execution_count": 380,
   "id": "b1423cdf",
   "metadata": {},
   "outputs": [],
   "source": [
    "## NaN  sayısı 1024  "
   ]
  },
  {
   "cell_type": "markdown",
   "id": "23968249",
   "metadata": {},
   "source": [
    "### 7-) registration : ruhsatın verildiği tarih "
   ]
  },
  {
   "cell_type": "code",
   "execution_count": 381,
   "id": "74e9f399",
   "metadata": {},
   "outputs": [
    {
     "data": {
      "text/plain": [
       "-/-        1597\n",
       "03/2018     695\n",
       "02/2019     585\n",
       "05/2018     572\n",
       "03/2019     543\n",
       "01/2019     541\n",
       "04/2018     541\n",
       "02/2018     539\n",
       "03/2016     536\n",
       "04/2016     532\n",
       "06/2018     532\n",
       "01/2018     511\n",
       "04/2019     506\n",
       "02/2016     472\n",
       "03/2017     471\n",
       "05/2016     459\n",
       "06/2016     452\n",
       "05/2019     440\n",
       "06/2017     409\n",
       "05/2017     404\n",
       "07/2018     396\n",
       "04/2017     380\n",
       "01/2016     376\n",
       "02/2017     368\n",
       "01/2017     306\n",
       "08/2018     285\n",
       "06/2019     224\n",
       "07/2017     215\n",
       "11/2017     180\n",
       "07/2016     176\n",
       "10/2016     160\n",
       "10/2017     154\n",
       "09/2017     149\n",
       "11/2016     142\n",
       "09/2018     141\n",
       "09/2016     141\n",
       "12/2016     134\n",
       "12/2017     123\n",
       "08/2017     114\n",
       "11/2018     110\n",
       "12/2018     103\n",
       "10/2018      97\n",
       "08/2016      94\n",
       "07/2019       6\n",
       "09/2019       5\n",
       "08/2019       1\n",
       "11/2019       1\n",
       "12/2019       1\n",
       "Name: registration, dtype: int64"
      ]
     },
     "execution_count": 381,
     "metadata": {},
     "output_type": "execute_result"
    }
   ],
   "source": [
    "df[\"registration\"].value_counts(dropna=False)"
   ]
  },
  {
   "cell_type": "markdown",
   "id": "ad08de69",
   "metadata": {},
   "source": [
    "### 21-) First Registration"
   ]
  },
  {
   "cell_type": "code",
   "execution_count": 382,
   "id": "0ceaf5f3",
   "metadata": {},
   "outputs": [
    {
     "data": {
      "text/plain": [
       "2018    4522\n",
       "2016    3674\n",
       "2017    3273\n",
       "2019    2853\n",
       "NaN     1597\n",
       "Name: First Registration, dtype: int64"
      ]
     },
     "execution_count": 382,
     "metadata": {},
     "output_type": "execute_result"
    }
   ],
   "source": [
    "df[\"First Registration\"].value_counts(dropna=False)"
   ]
  },
  {
   "cell_type": "code",
   "execution_count": 383,
   "id": "498e5055",
   "metadata": {},
   "outputs": [],
   "source": [
    "# bu iki sütun ruhsat ile ilgili olduğundan arabanın yaşına gidebiliriz buradan ve ayın fazla bir önemi olmadığından ve \n",
    "#  registration sütununda da 1597 tane NaN değer olduğundan bu sütunu drop edeceğim."
   ]
  },
  {
   "cell_type": "code",
   "execution_count": 384,
   "id": "74347a25",
   "metadata": {},
   "outputs": [],
   "source": [
    "df.drop(\"registration\",axis=1,inplace=True) "
   ]
  },
  {
   "cell_type": "code",
   "execution_count": 385,
   "id": "65969feb",
   "metadata": {},
   "outputs": [
    {
     "data": {
      "text/plain": [
       "(15919, 42)"
      ]
     },
     "execution_count": 385,
     "metadata": {},
     "output_type": "execute_result"
    }
   ],
   "source": [
    "df.shape"
   ]
  },
  {
   "cell_type": "markdown",
   "id": "6cccb371",
   "metadata": {},
   "source": [
    "### new_feature (age)"
   ]
  },
  {
   "cell_type": "code",
   "execution_count": 391,
   "id": "dea80f74",
   "metadata": {},
   "outputs": [],
   "source": [
    "# 2019-df[\"First Registration\"]   # assumption . böyle yaparsak hata alırız önce sütunumuzun data type'nı değiştirmeliyiz\n",
    "                                  # demek ki first registration sütunumuz listelerden oluşuyormuş."
   ]
  },
  {
   "cell_type": "code",
   "execution_count": 392,
   "id": "0a9ee5c4",
   "metadata": {},
   "outputs": [],
   "source": [
    "df[\"First Registration\"] =df[\"First Registration\"].astype(float)"
   ]
  },
  {
   "cell_type": "code",
   "execution_count": 393,
   "id": "0577da39",
   "metadata": {},
   "outputs": [],
   "source": [
    "df[\"age\"] = 2019-df[\"First Registration\"]"
   ]
  },
  {
   "cell_type": "code",
   "execution_count": 394,
   "id": "62cac08b",
   "metadata": {},
   "outputs": [
    {
     "data": {
      "text/plain": [
       "1.000    4522\n",
       "3.000    3674\n",
       "2.000    3273\n",
       "0.000    2853\n",
       "NaN      1597\n",
       "Name: age, dtype: int64"
      ]
     },
     "execution_count": 394,
     "metadata": {},
     "output_type": "execute_result"
    }
   ],
   "source": [
    "df[\"age\"].value_counts(dropna=False)"
   ]
  },
  {
   "cell_type": "code",
   "execution_count": 395,
   "id": "84eccaa1",
   "metadata": {},
   "outputs": [],
   "source": [
    "df.drop(\"First Registration\", axis=1, inplace=True)  # buna da  artık ihtiyacımız kalmadı."
   ]
  },
  {
   "cell_type": "code",
   "execution_count": 396,
   "id": "bb3c5692",
   "metadata": {},
   "outputs": [
    {
     "data": {
      "text/plain": [
       "(15919, 42)"
      ]
     },
     "execution_count": 396,
     "metadata": {},
     "output_type": "execute_result"
    }
   ],
   "source": [
    "df.shape"
   ]
  },
  {
   "cell_type": "code",
   "execution_count": 132,
   "id": "c7fcce5f",
   "metadata": {},
   "outputs": [
    {
     "name": "stdout",
     "output_type": "stream",
     "text": [
      "<class 'pandas.core.frame.DataFrame'>\n",
      "RangeIndex: 15919 entries, 0 to 15918\n",
      "Data columns (total 43 columns):\n",
      " #   Column                 Non-Null Count  Dtype  \n",
      "---  ------                 --------------  -----  \n",
      " 0   short_description      15873 non-null  object \n",
      " 1   body_type              15859 non-null  object \n",
      " 2   price                  15919 non-null  int64  \n",
      " 3   vat                    11406 non-null  object \n",
      " 4   km                     14895 non-null  float64\n",
      " 5   prev_owner             9091 non-null   object \n",
      " 6   hp                     15919 non-null  object \n",
      " 7   Type                   15917 non-null  object \n",
      " 8   Previous Owners        9279 non-null   object \n",
      " 9   Next Inspection        3535 non-null   object \n",
      " 10  Inspection new         3932 non-null   object \n",
      " 11  Warranty               10499 non-null  object \n",
      " 12  Full Service           8215 non-null   object \n",
      " 13  Non-smoking Vehicle    7177 non-null   object \n",
      " 14  null                   15919 non-null  object \n",
      " 15  Make                   15919 non-null  object \n",
      " 16  Model                  15919 non-null  object \n",
      " 17  Offer Number           12744 non-null  object \n",
      " 18  Body Color             15322 non-null  object \n",
      " 19  Paint Type             10147 non-null  object \n",
      " 20  Body Color Original    12160 non-null  object \n",
      " 21  Upholstery             12199 non-null  object \n",
      " 22  Nr. of Doors           15707 non-null  object \n",
      " 23  Nr. of Seats           14942 non-null  object \n",
      " 24  Model Code             4978 non-null   object \n",
      " 25  Gearing Type           15919 non-null  object \n",
      " 26  Displacement           15423 non-null  object \n",
      " 27  Cylinders              10239 non-null  object \n",
      " 28  Weight                 8945 non-null   object \n",
      " 29  Drive chain            9061 non-null   object \n",
      " 30  Fuel                   15919 non-null  object \n",
      " 31  Consumption            14013 non-null  object \n",
      " 32  CO2 Emission           14111 non-null  object \n",
      " 33  Emission Class         12898 non-null  object \n",
      " 34  Comfort & Convenience  14999 non-null  object \n",
      " 35  Entertainment & Media  14545 non-null  object \n",
      " 36  Extras                 12957 non-null  object \n",
      " 37  Safety & Security      14937 non-null  object \n",
      " 38  description            15919 non-null  object \n",
      " 39  Emission Label         3985 non-null   object \n",
      " 40  Gears                  11207 non-null  object \n",
      " 41  Country version        7586 non-null   object \n",
      " 42  age                    14322 non-null  float64\n",
      "dtypes: float64(2), int64(1), object(40)\n",
      "memory usage: 5.2+ MB\n"
     ]
    }
   ],
   "source": [
    "df.info()"
   ]
  },
  {
   "cell_type": "markdown",
   "id": "dff68102",
   "metadata": {},
   "source": [
    "### 5- ) prev_owner"
   ]
  },
  {
   "cell_type": "code",
   "execution_count": 397,
   "id": "fd317b04",
   "metadata": {},
   "outputs": [
    {
     "data": {
      "text/plain": [
       "1 previous owner     8294\n",
       "NaN                  6828\n",
       "2 previous owners     778\n",
       "3 previous owners      17\n",
       "4 previous owners       2\n",
       "Name: prev_owner, dtype: int64"
      ]
     },
     "execution_count": 397,
     "metadata": {},
     "output_type": "execute_result"
    }
   ],
   "source": [
    "df[\"prev_owner\"].value_counts(dropna=False)"
   ]
  },
  {
   "cell_type": "code",
   "execution_count": 398,
   "id": "1ec98ade",
   "metadata": {},
   "outputs": [
    {
     "data": {
      "text/plain": [
       "1 previous owner    0.521\n",
       "NaN                 0.429\n",
       "2 previous owners   0.049\n",
       "3 previous owners   0.001\n",
       "4 previous owners   0.000\n",
       "Name: prev_owner, dtype: float64"
      ]
     },
     "execution_count": 398,
     "metadata": {},
     "output_type": "execute_result"
    }
   ],
   "source": [
    "df[\"prev_owner\"].value_counts(dropna=False,normalize=True)"
   ]
  },
  {
   "cell_type": "code",
   "execution_count": 403,
   "id": "219f69af",
   "metadata": {},
   "outputs": [
    {
     "data": {
      "text/html": [
       "<div>\n",
       "<style scoped>\n",
       "    .dataframe tbody tr th:only-of-type {\n",
       "        vertical-align: middle;\n",
       "    }\n",
       "\n",
       "    .dataframe tbody tr th {\n",
       "        vertical-align: top;\n",
       "    }\n",
       "\n",
       "    .dataframe thead th {\n",
       "        text-align: right;\n",
       "    }\n",
       "</style>\n",
       "<table border=\"1\" class=\"dataframe\">\n",
       "  <thead>\n",
       "    <tr style=\"text-align: right;\">\n",
       "      <th></th>\n",
       "      <th>0</th>\n",
       "    </tr>\n",
       "  </thead>\n",
       "  <tbody>\n",
       "    <tr>\n",
       "      <th>0</th>\n",
       "      <td>2.000</td>\n",
       "    </tr>\n",
       "    <tr>\n",
       "      <th>1</th>\n",
       "      <td>NaN</td>\n",
       "    </tr>\n",
       "    <tr>\n",
       "      <th>2</th>\n",
       "      <td>1.000</td>\n",
       "    </tr>\n",
       "    <tr>\n",
       "      <th>3</th>\n",
       "      <td>1.000</td>\n",
       "    </tr>\n",
       "    <tr>\n",
       "      <th>4</th>\n",
       "      <td>1.000</td>\n",
       "    </tr>\n",
       "    <tr>\n",
       "      <th>...</th>\n",
       "      <td>...</td>\n",
       "    </tr>\n",
       "    <tr>\n",
       "      <th>15914</th>\n",
       "      <td>NaN</td>\n",
       "    </tr>\n",
       "    <tr>\n",
       "      <th>15915</th>\n",
       "      <td>1.000</td>\n",
       "    </tr>\n",
       "    <tr>\n",
       "      <th>15916</th>\n",
       "      <td>1.000</td>\n",
       "    </tr>\n",
       "    <tr>\n",
       "      <th>15917</th>\n",
       "      <td>NaN</td>\n",
       "    </tr>\n",
       "    <tr>\n",
       "      <th>15918</th>\n",
       "      <td>1.000</td>\n",
       "    </tr>\n",
       "  </tbody>\n",
       "</table>\n",
       "<p>15919 rows × 1 columns</p>\n",
       "</div>"
      ],
      "text/plain": [
       "          0\n",
       "0     2.000\n",
       "1       NaN\n",
       "2     1.000\n",
       "3     1.000\n",
       "4     1.000\n",
       "...     ...\n",
       "15914   NaN\n",
       "15915 1.000\n",
       "15916 1.000\n",
       "15917   NaN\n",
       "15918 1.000\n",
       "\n",
       "[15919 rows x 1 columns]"
      ]
     },
     "execution_count": 403,
     "metadata": {},
     "output_type": "execute_result"
    }
   ],
   "source": [
    "df[\"prev_owner\"].str.extract(\"(\\d)\").astype(float)"
   ]
  },
  {
   "cell_type": "code",
   "execution_count": 404,
   "id": "180c7c58",
   "metadata": {},
   "outputs": [],
   "source": [
    "df[\"prev_owner\"] = df[\"prev_owner\"].str.extract(\"(\\d)\").astype(float)"
   ]
  },
  {
   "cell_type": "markdown",
   "id": "fdfa887d",
   "metadata": {},
   "source": [
    "###  9-) Previous Owners"
   ]
  },
  {
   "cell_type": "code",
   "execution_count": 405,
   "id": "ba058afd",
   "metadata": {},
   "outputs": [
    {
     "data": {
      "text/plain": [
       "1                                                                      8103\n",
       "NaN                                                                    6640\n",
       "2                                                                       766\n",
       "0                                                                       163\n",
       "3                                                                        17\n",
       "                                                                       ... \n",
       "1,111 g CO2/km (comb)                                                     1\n",
       "1,Euro 6                                                                  1\n",
       "2,119 g CO2/km (comb)                                                     1\n",
       "1,,6.6 l/100 km (comb),,8.1 l/100 km (city),,5.7 l/100 km (country)       1\n",
       "1,142 g CO2/km (comb)                                                     1\n",
       "Name: Previous Owners, Length: 102, dtype: int64"
      ]
     },
     "execution_count": 405,
     "metadata": {},
     "output_type": "execute_result"
    }
   ],
   "source": [
    "df[\"Previous Owners\"].value_counts(dropna=False)"
   ]
  },
  {
   "cell_type": "code",
   "execution_count": 406,
   "id": "6ba78dbc",
   "metadata": {},
   "outputs": [
    {
     "data": {
      "text/plain": [
       "1                                                                     0.509\n",
       "NaN                                                                   0.417\n",
       "2                                                                     0.048\n",
       "0                                                                     0.010\n",
       "3                                                                     0.001\n",
       "                                                                       ... \n",
       "1,111 g CO2/km (comb)                                                 0.000\n",
       "1,Euro 6                                                              0.000\n",
       "2,119 g CO2/km (comb)                                                 0.000\n",
       "1,,6.6 l/100 km (comb),,8.1 l/100 km (city),,5.7 l/100 km (country)   0.000\n",
       "1,142 g CO2/km (comb)                                                 0.000\n",
       "Name: Previous Owners, Length: 102, dtype: float64"
      ]
     },
     "execution_count": 406,
     "metadata": {},
     "output_type": "execute_result"
    }
   ],
   "source": [
    "df[\"Previous Owners\"].value_counts(dropna=False,normalize=True)"
   ]
  },
  {
   "cell_type": "markdown",
   "id": "a2889f2b",
   "metadata": {},
   "source": [
    "burada consumption (tüketim) ile ilgili bilgiler var doldurma işlemleri sırasında kullanılabilir o yüzden şimdilik drop etmeyelim"
   ]
  },
  {
   "cell_type": "markdown",
   "id": "82ba446c",
   "metadata": {},
   "source": [
    "###  7-) hp"
   ]
  },
  {
   "cell_type": "code",
   "execution_count": 411,
   "id": "44cf0aff",
   "metadata": {},
   "outputs": [],
   "source": [
    "pd.options.display.max_rows = 100\n",
    "pd.options.display.max_columns = 100"
   ]
  },
  {
   "cell_type": "code",
   "execution_count": 412,
   "id": "6071d8ed",
   "metadata": {},
   "outputs": [
    {
     "data": {
      "text/plain": [
       "85 kW     2542\n",
       "66 kW     2122\n",
       "81 kW     1402\n",
       "100 kW    1308\n",
       "110 kW    1112\n",
       "70 kW      888\n",
       "125 kW     707\n",
       "51 kW      695\n",
       "55 kW      569\n",
       "118 kW     516\n",
       "92 kW      466\n",
       "121 kW     392\n",
       "147 kW     380\n",
       "77 kW      345\n",
       "56 kW      286\n",
       "54 kW      276\n",
       "103 kW     253\n",
       "87 kW      232\n",
       "165 kW     194\n",
       "88 kW      177\n",
       "60 kW      160\n",
       "162 kW      98\n",
       "- kW        88\n",
       "74 kW       81\n",
       "96 kW       72\n",
       "71 kW       59\n",
       "101 kW      47\n",
       "67 kW       40\n",
       "154 kW      39\n",
       "122 kW      35\n",
       "119 kW      30\n",
       "164 kW      27\n",
       "135 kW      24\n",
       "82 kW       22\n",
       "52 kW       22\n",
       "78 kW       20\n",
       "1 kW        20\n",
       "294 kW      18\n",
       "146 kW      18\n",
       "141 kW      16\n",
       "57 kW       10\n",
       "104 kW       8\n",
       "120 kW       8\n",
       "191 kW       7\n",
       "112 kW       7\n",
       "155 kW       6\n",
       "117 kW       6\n",
       "184 kW       5\n",
       "90 kW        4\n",
       "76 kW        4\n",
       "65 kW        4\n",
       "149 kW       3\n",
       "80 kW        3\n",
       "168 kW       3\n",
       "98 kW        3\n",
       "93 kW        3\n",
       "228 kW       2\n",
       "270 kW       2\n",
       "53 kW        2\n",
       "140 kW       2\n",
       "86 kW        2\n",
       "167 kW       2\n",
       "127 kW       2\n",
       "89 kW        2\n",
       "143 kW       2\n",
       "63 kW        2\n",
       "40 kW        2\n",
       "150 kW       2\n",
       "163 kW       1\n",
       "115 kW       1\n",
       "132 kW       1\n",
       "75 kW        1\n",
       "4 kW         1\n",
       "137 kW       1\n",
       "123 kW       1\n",
       "133 kW       1\n",
       "84 kW        1\n",
       "195 kW       1\n",
       "44 kW        1\n",
       "239 kW       1\n",
       "9 kW         1\n",
       "Name: hp, dtype: int64"
      ]
     },
     "execution_count": 412,
     "metadata": {},
     "output_type": "execute_result"
    }
   ],
   "source": [
    "df[\"hp\"].value_counts(dropna=False)"
   ]
  },
  {
   "cell_type": "code",
   "execution_count": 413,
   "id": "c8c6d4dc",
   "metadata": {},
   "outputs": [
    {
     "data": {
      "text/plain": [
       "85 kW    0.160\n",
       "66 kW    0.133\n",
       "81 kW    0.088\n",
       "100 kW   0.082\n",
       "110 kW   0.070\n",
       "70 kW    0.056\n",
       "125 kW   0.044\n",
       "51 kW    0.044\n",
       "55 kW    0.036\n",
       "118 kW   0.032\n",
       "92 kW    0.029\n",
       "121 kW   0.025\n",
       "147 kW   0.024\n",
       "77 kW    0.022\n",
       "56 kW    0.018\n",
       "54 kW    0.017\n",
       "103 kW   0.016\n",
       "87 kW    0.015\n",
       "165 kW   0.012\n",
       "88 kW    0.011\n",
       "60 kW    0.010\n",
       "162 kW   0.006\n",
       "- kW     0.006\n",
       "74 kW    0.005\n",
       "96 kW    0.005\n",
       "71 kW    0.004\n",
       "101 kW   0.003\n",
       "67 kW    0.003\n",
       "154 kW   0.002\n",
       "122 kW   0.002\n",
       "119 kW   0.002\n",
       "164 kW   0.002\n",
       "135 kW   0.002\n",
       "82 kW    0.001\n",
       "52 kW    0.001\n",
       "78 kW    0.001\n",
       "1 kW     0.001\n",
       "294 kW   0.001\n",
       "146 kW   0.001\n",
       "141 kW   0.001\n",
       "57 kW    0.001\n",
       "104 kW   0.001\n",
       "120 kW   0.001\n",
       "191 kW   0.000\n",
       "112 kW   0.000\n",
       "155 kW   0.000\n",
       "117 kW   0.000\n",
       "184 kW   0.000\n",
       "90 kW    0.000\n",
       "76 kW    0.000\n",
       "65 kW    0.000\n",
       "149 kW   0.000\n",
       "80 kW    0.000\n",
       "168 kW   0.000\n",
       "98 kW    0.000\n",
       "93 kW    0.000\n",
       "228 kW   0.000\n",
       "270 kW   0.000\n",
       "53 kW    0.000\n",
       "140 kW   0.000\n",
       "86 kW    0.000\n",
       "167 kW   0.000\n",
       "127 kW   0.000\n",
       "89 kW    0.000\n",
       "143 kW   0.000\n",
       "63 kW    0.000\n",
       "40 kW    0.000\n",
       "150 kW   0.000\n",
       "163 kW   0.000\n",
       "115 kW   0.000\n",
       "132 kW   0.000\n",
       "75 kW    0.000\n",
       "4 kW     0.000\n",
       "137 kW   0.000\n",
       "123 kW   0.000\n",
       "133 kW   0.000\n",
       "84 kW    0.000\n",
       "195 kW   0.000\n",
       "44 kW    0.000\n",
       "239 kW   0.000\n",
       "9 kW     0.000\n",
       "Name: hp, dtype: float64"
      ]
     },
     "execution_count": 413,
     "metadata": {},
     "output_type": "execute_result"
    }
   ],
   "source": [
    "df[\"hp\"].value_counts(dropna=False,normalize=True)"
   ]
  },
  {
   "cell_type": "code",
   "execution_count": 418,
   "id": "b6686271",
   "metadata": {},
   "outputs": [
    {
     "data": {
      "text/plain": [
       "0        66.000\n",
       "1       141.000\n",
       "2        85.000\n",
       "3        66.000\n",
       "4        66.000\n",
       "          ...  \n",
       "15914   147.000\n",
       "15915   165.000\n",
       "15916   146.000\n",
       "15917   147.000\n",
       "15918   165.000\n",
       "Name: hp, Length: 15919, dtype: float64"
      ]
     },
     "execution_count": 418,
     "metadata": {},
     "output_type": "execute_result"
    }
   ],
   "source": [
    "df[\"hp\"].str.strip(\"kW\").replace(\"- \",np.nan).astype(float)"
   ]
  },
  {
   "cell_type": "code",
   "execution_count": 423,
   "id": "df32dbcd",
   "metadata": {},
   "outputs": [],
   "source": [
    "df[\"hp_kw\"] =  df[\"hp\"].str.strip(\"kW\").replace(\"- \",np.nan).astype(float)  # birimini belirtmeliyiz."
   ]
  },
  {
   "cell_type": "code",
   "execution_count": 421,
   "id": "73884ede",
   "metadata": {},
   "outputs": [],
   "source": [
    "df.drop(columns=\"hp\",inplace=True)"
   ]
  },
  {
   "cell_type": "code",
   "execution_count": 424,
   "id": "4d8ce2ff",
   "metadata": {},
   "outputs": [
    {
     "data": {
      "text/plain": [
       "(15919, 42)"
      ]
     },
     "execution_count": 424,
     "metadata": {},
     "output_type": "execute_result"
    }
   ],
   "source": [
    "df.shape"
   ]
  },
  {
   "cell_type": "code",
   "execution_count": 425,
   "id": "a714487f",
   "metadata": {},
   "outputs": [],
   "source": [
    "## biz ilk başta baktığımızda NaN değer yoktu ama garip değerleri NaN'a çevirdik peki kaç tane ? "
   ]
  },
  {
   "cell_type": "code",
   "execution_count": 426,
   "id": "14dcea1e",
   "metadata": {},
   "outputs": [
    {
     "data": {
      "text/plain": [
       "85.000     2542\n",
       "66.000     2122\n",
       "81.000     1402\n",
       "100.000    1308\n",
       "110.000    1112\n",
       "70.000      888\n",
       "125.000     707\n",
       "51.000      695\n",
       "55.000      569\n",
       "118.000     516\n",
       "92.000      466\n",
       "121.000     392\n",
       "147.000     380\n",
       "77.000      345\n",
       "56.000      286\n",
       "54.000      276\n",
       "103.000     253\n",
       "87.000      232\n",
       "165.000     194\n",
       "88.000      177\n",
       "60.000      160\n",
       "162.000      98\n",
       "NaN          88\n",
       "74.000       81\n",
       "96.000       72\n",
       "71.000       59\n",
       "101.000      47\n",
       "67.000       40\n",
       "154.000      39\n",
       "122.000      35\n",
       "119.000      30\n",
       "164.000      27\n",
       "135.000      24\n",
       "82.000       22\n",
       "52.000       22\n",
       "78.000       20\n",
       "1.000        20\n",
       "294.000      18\n",
       "146.000      18\n",
       "141.000      16\n",
       "57.000       10\n",
       "104.000       8\n",
       "120.000       8\n",
       "191.000       7\n",
       "112.000       7\n",
       "155.000       6\n",
       "117.000       6\n",
       "184.000       5\n",
       "90.000        4\n",
       "76.000        4\n",
       "65.000        4\n",
       "149.000       3\n",
       "80.000        3\n",
       "168.000       3\n",
       "98.000        3\n",
       "93.000        3\n",
       "228.000       2\n",
       "270.000       2\n",
       "53.000        2\n",
       "140.000       2\n",
       "86.000        2\n",
       "167.000       2\n",
       "127.000       2\n",
       "89.000        2\n",
       "143.000       2\n",
       "63.000        2\n",
       "40.000        2\n",
       "150.000       2\n",
       "163.000       1\n",
       "115.000       1\n",
       "132.000       1\n",
       "75.000        1\n",
       "4.000         1\n",
       "137.000       1\n",
       "123.000       1\n",
       "133.000       1\n",
       "84.000        1\n",
       "195.000       1\n",
       "44.000        1\n",
       "239.000       1\n",
       "9.000         1\n",
       "Name: hp_kw, dtype: int64"
      ]
     },
     "execution_count": 426,
     "metadata": {},
     "output_type": "execute_result"
    }
   ],
   "source": [
    "df[\"hp_kw\"].value_counts(dropna=False)"
   ]
  },
  {
   "cell_type": "markdown",
   "id": "dd9f4361",
   "metadata": {},
   "source": [
    "NaN ----> 88"
   ]
  },
  {
   "cell_type": "markdown",
   "id": "5ab78d53",
   "metadata": {},
   "source": [
    "### 8-) Type "
   ]
  },
  {
   "cell_type": "code",
   "execution_count": 428,
   "id": "17cec144",
   "metadata": {},
   "outputs": [
    {
     "data": {
      "text/plain": [
       "Used,,Diesel (Particulate Filter)                                                                                 3475\n",
       "Used,,Diesel                                                                                                      2516\n",
       "Used,,Gasoline                                                                                                    2367\n",
       "Used,,Super 95                                                                                                    1818\n",
       "Pre-registered,,Super 95                                                                                           500\n",
       "                                                                                                                  ... \n",
       "New,,Regular/Benzine 91 / Super 95 / Super Plus 98 / Regular/Benzine E10 91 / Super Plus E10 98 / Super E10 95       1\n",
       "Used,,Super 95 / Super Plus 98 / Super E10 95 / Super Plus E10 98 (Particulate Filter)                               1\n",
       "Demonstration,,Super Plus 98                                                                                         1\n",
       "New,,Super Plus E10 98                                                                                               1\n",
       "Demonstration,,Regular/Benzine E10 91                                                                                1\n",
       "Name: Type, Length: 170, dtype: int64"
      ]
     },
     "execution_count": 428,
     "metadata": {},
     "output_type": "execute_result"
    }
   ],
   "source": [
    "df[\"Type\"].value_counts(dropna=False)"
   ]
  },
  {
   "cell_type": "code",
   "execution_count": 429,
   "id": "b63418a7",
   "metadata": {},
   "outputs": [
    {
     "data": {
      "text/plain": [
       "Used,,Diesel (Particulate Filter)                                                                                0.218\n",
       "Used,,Diesel                                                                                                     0.158\n",
       "Used,,Gasoline                                                                                                   0.149\n",
       "Used,,Super 95                                                                                                   0.114\n",
       "Pre-registered,,Super 95                                                                                         0.031\n",
       "                                                                                                                  ... \n",
       "New,,Regular/Benzine 91 / Super 95 / Super Plus 98 / Regular/Benzine E10 91 / Super Plus E10 98 / Super E10 95   0.000\n",
       "Used,,Super 95 / Super Plus 98 / Super E10 95 / Super Plus E10 98 (Particulate Filter)                           0.000\n",
       "Demonstration,,Super Plus 98                                                                                     0.000\n",
       "New,,Super Plus E10 98                                                                                           0.000\n",
       "Demonstration,,Regular/Benzine E10 91                                                                            0.000\n",
       "Name: Type, Length: 170, dtype: float64"
      ]
     },
     "execution_count": 429,
     "metadata": {},
     "output_type": "execute_result"
    }
   ],
   "source": [
    "df[\"Type\"].value_counts(dropna=False,normalize=True)"
   ]
  },
  {
   "cell_type": "code",
   "execution_count": 430,
   "id": "d5eb65bc",
   "metadata": {},
   "outputs": [
    {
     "data": {
      "text/plain": [
       "2"
      ]
     },
     "execution_count": 430,
     "metadata": {},
     "output_type": "execute_result"
    }
   ],
   "source": [
    "df[\"Type\"].isna().sum()"
   ]
  },
  {
   "cell_type": "markdown",
   "id": "8ea7f3e3",
   "metadata": {},
   "source": [
    " bir de bizim fuel sütunumuz var ileride bu ikisini karşılaştırıp hangisini kullanacaksak oradaki NaN'ları doldurmak için diğerini kullanabiliriz."
   ]
  },
  {
   "cell_type": "code",
   "execution_count": 433,
   "id": "a28c34db",
   "metadata": {},
   "outputs": [
    {
     "data": {
      "text/html": [
       "<div>\n",
       "<style scoped>\n",
       "    .dataframe tbody tr th:only-of-type {\n",
       "        vertical-align: middle;\n",
       "    }\n",
       "\n",
       "    .dataframe tbody tr th {\n",
       "        vertical-align: top;\n",
       "    }\n",
       "\n",
       "    .dataframe thead th {\n",
       "        text-align: right;\n",
       "    }\n",
       "</style>\n",
       "<table border=\"1\" class=\"dataframe\">\n",
       "  <thead>\n",
       "    <tr style=\"text-align: right;\">\n",
       "      <th></th>\n",
       "      <th>Type</th>\n",
       "      <th>Fuel</th>\n",
       "    </tr>\n",
       "  </thead>\n",
       "  <tbody>\n",
       "    <tr>\n",
       "      <th>324</th>\n",
       "      <td>Used,,Diesel (Particulate Filter)</td>\n",
       "      <td>Diesel (Particulate Filter)</td>\n",
       "    </tr>\n",
       "    <tr>\n",
       "      <th>2979</th>\n",
       "      <td>Used,,Diesel (Particulate Filter)</td>\n",
       "      <td>Diesel (Particulate Filter)</td>\n",
       "    </tr>\n",
       "    <tr>\n",
       "      <th>15581</th>\n",
       "      <td>Used,,Diesel</td>\n",
       "      <td>Diesel</td>\n",
       "    </tr>\n",
       "    <tr>\n",
       "      <th>8018</th>\n",
       "      <td>Demonstration,,Gasoline</td>\n",
       "      <td>Gasoline</td>\n",
       "    </tr>\n",
       "    <tr>\n",
       "      <th>15791</th>\n",
       "      <td>Used,,Diesel</td>\n",
       "      <td>Diesel</td>\n",
       "    </tr>\n",
       "    <tr>\n",
       "      <th>1615</th>\n",
       "      <td>Used,,Gasoline</td>\n",
       "      <td>Gasoline</td>\n",
       "    </tr>\n",
       "    <tr>\n",
       "      <th>12062</th>\n",
       "      <td>Used,,Diesel</td>\n",
       "      <td>Diesel</td>\n",
       "    </tr>\n",
       "    <tr>\n",
       "      <th>4574</th>\n",
       "      <td>Used,,Diesel (Particulate Filter)</td>\n",
       "      <td>Diesel (Particulate Filter)</td>\n",
       "    </tr>\n",
       "    <tr>\n",
       "      <th>14466</th>\n",
       "      <td>Demonstration,,Diesel</td>\n",
       "      <td>Diesel</td>\n",
       "    </tr>\n",
       "    <tr>\n",
       "      <th>15439</th>\n",
       "      <td>Used,,Diesel</td>\n",
       "      <td>Diesel</td>\n",
       "    </tr>\n",
       "  </tbody>\n",
       "</table>\n",
       "</div>"
      ],
      "text/plain": [
       "                                    Type                         Fuel\n",
       "324    Used,,Diesel (Particulate Filter)  Diesel (Particulate Filter)\n",
       "2979   Used,,Diesel (Particulate Filter)  Diesel (Particulate Filter)\n",
       "15581                       Used,,Diesel                       Diesel\n",
       "8018             Demonstration,,Gasoline                     Gasoline\n",
       "15791                       Used,,Diesel                       Diesel\n",
       "1615                      Used,,Gasoline                     Gasoline\n",
       "12062                       Used,,Diesel                       Diesel\n",
       "4574   Used,,Diesel (Particulate Filter)  Diesel (Particulate Filter)\n",
       "14466              Demonstration,,Diesel                       Diesel\n",
       "15439                       Used,,Diesel                       Diesel"
      ]
     },
     "execution_count": 433,
     "metadata": {},
     "output_type": "execute_result"
    }
   ],
   "source": [
    "#   ex :\n",
    "df[[\"Type\",\"Fuel\"]].sample(10)"
   ]
  },
  {
   "cell_type": "code",
   "execution_count": 437,
   "id": "821eca05",
   "metadata": {},
   "outputs": [
    {
     "data": {
      "text/plain": [
       "0                    [Used, , Diesel (Particulate Filter)]\n",
       "1                                       [Used, , Gasoline]\n",
       "2                    [Used, , Diesel (Particulate Filter)]\n",
       "3                    [Used, , Diesel (Particulate Filter)]\n",
       "4                    [Used, , Diesel (Particulate Filter)]\n",
       "                               ...                        \n",
       "15914                 [New, , Diesel (Particulate Filter)]\n",
       "15915    [Used, , Super 95 / Super Plus 98 (Particulate...\n",
       "15916                           [Pre-registered, , Diesel]\n",
       "15917                           [Pre-registered, , Diesel]\n",
       "15918                          [Demonstration, , Super 95]\n",
       "Name: Type, Length: 15919, dtype: object"
      ]
     },
     "execution_count": 437,
     "metadata": {},
     "output_type": "execute_result"
    }
   ],
   "source": [
    "df[\"Type\"].str.split(\",\")"
   ]
  },
  {
   "cell_type": "code",
   "execution_count": 440,
   "id": "c7f86860",
   "metadata": {},
   "outputs": [
    {
     "data": {
      "text/plain": [
       "0                  Used\n",
       "1                  Used\n",
       "2                  Used\n",
       "3                  Used\n",
       "4                  Used\n",
       "              ...      \n",
       "15914               New\n",
       "15915              Used\n",
       "15916    Pre-registered\n",
       "15917    Pre-registered\n",
       "15918     Demonstration\n",
       "Name: Type, Length: 15919, dtype: object"
      ]
     },
     "execution_count": 440,
     "metadata": {},
     "output_type": "execute_result"
    }
   ],
   "source": [
    "df[\"Type\"].str.split(\",\").str[0]  # burada mesela liste yeniden işimize yaradı."
   ]
  },
  {
   "cell_type": "code",
   "execution_count": 441,
   "id": "8ff2a3d6",
   "metadata": {},
   "outputs": [],
   "source": [
    "df[\"Type_\"] = df[\"Type\"].str.split(\",\").str[0]"
   ]
  },
  {
   "cell_type": "code",
   "execution_count": 443,
   "id": "10e67097",
   "metadata": {},
   "outputs": [
    {
     "data": {
      "text/plain": [
       "Used              11096\n",
       "New                1650\n",
       "Pre-registered     1364\n",
       "Employee's car     1011\n",
       "Demonstration       796\n",
       "NaN                   2\n",
       "Name: Type_, dtype: int64"
      ]
     },
     "execution_count": 443,
     "metadata": {},
     "output_type": "execute_result"
    }
   ],
   "source": [
    "df[\"Type_\"].value_counts(dropna=False)               "
   ]
  },
  {
   "cell_type": "markdown",
   "id": "1f2994c0",
   "metadata": {},
   "source": [
    "NaN ------> 2"
   ]
  },
  {
   "cell_type": "code",
   "execution_count": 444,
   "id": "8fb62602",
   "metadata": {},
   "outputs": [
    {
     "data": {
      "text/plain": [
       "(15919, 43)"
      ]
     },
     "execution_count": 444,
     "metadata": {},
     "output_type": "execute_result"
    }
   ],
   "source": [
    "df.shape"
   ]
  },
  {
   "cell_type": "markdown",
   "id": "fee00f8a",
   "metadata": {},
   "source": [
    "### 10-) Next Inspection   ---> sonraki muayene tarihi"
   ]
  },
  {
   "cell_type": "code",
   "execution_count": 460,
   "id": "4dc23c51",
   "metadata": {},
   "outputs": [],
   "source": [
    "df.rename(columns={\"Next Inspection\":\"next_inspection\"},inplace=True)"
   ]
  },
  {
   "cell_type": "code",
   "execution_count": 461,
   "id": "0d3fba6d",
   "metadata": {},
   "outputs": [
    {
     "data": {
      "text/plain": [
       "NaN                            12384\n",
       "04/2022                           62\n",
       "06/2021                           47\n",
       "03/2021                           39\n",
       "03/2022                           36\n",
       "                               ...  \n",
       "06/2021,121 g CO2/km (comb)        1\n",
       "02/2020,139 g CO2/km (comb)        1\n",
       "10/2021,136 g CO2/km (comb)        1\n",
       "06/2019,139 g CO2/km (comb)        1\n",
       "01/2022,168 g CO2/km (comb)        1\n",
       "Name: next_inspection, Length: 1385, dtype: int64"
      ]
     },
     "execution_count": 461,
     "metadata": {},
     "output_type": "execute_result"
    }
   ],
   "source": [
    "df[\"next_inspection\"].value_counts(dropna=False)"
   ]
  },
  {
   "cell_type": "code",
   "execution_count": 462,
   "id": "8a2e8f0f",
   "metadata": {},
   "outputs": [
    {
     "data": {
      "text/plain": [
       "NaN                           0.778\n",
       "04/2022                       0.004\n",
       "06/2021                       0.003\n",
       "03/2021                       0.002\n",
       "03/2022                       0.002\n",
       "                               ... \n",
       "06/2021,121 g CO2/km (comb)   0.000\n",
       "02/2020,139 g CO2/km (comb)   0.000\n",
       "10/2021,136 g CO2/km (comb)   0.000\n",
       "06/2019,139 g CO2/km (comb)   0.000\n",
       "01/2022,168 g CO2/km (comb)   0.000\n",
       "Name: next_inspection, Length: 1385, dtype: float64"
      ]
     },
     "execution_count": 462,
     "metadata": {},
     "output_type": "execute_result"
    }
   ],
   "source": [
    "df[\"next_inspection\"].value_counts(dropna=False,normalize=True)"
   ]
  },
  {
   "cell_type": "code",
   "execution_count": 463,
   "id": "1c8538e1",
   "metadata": {},
   "outputs": [],
   "source": [
    "# NaN DEĞER BAYA FAZLA."
   ]
  },
  {
   "cell_type": "code",
   "execution_count": 472,
   "id": "91f65758",
   "metadata": {},
   "outputs": [
    {
     "data": {
      "text/plain": [
       "0    12384\n",
       "dtype: int64"
      ]
     },
     "execution_count": 472,
     "metadata": {},
     "output_type": "execute_result"
    }
   ],
   "source": [
    "df.next_inspection.str.extract(\"(\\d+/\\d{0,4})\").isna().sum() \n",
    "## tarihler ayrı bir sütun yapılsa 12384 tane null değer var şimdilik böyle bırakıyorum.                                                             "
   ]
  },
  {
   "cell_type": "code",
   "execution_count": 464,
   "id": "f0ee13bc",
   "metadata": {},
   "outputs": [],
   "source": [
    "## bir de bizim inspection new diye bir column'umuz var: "
   ]
  },
  {
   "cell_type": "markdown",
   "id": "68b14a01",
   "metadata": {},
   "source": [
    "### 11 -) Inspection new "
   ]
  },
  {
   "cell_type": "code",
   "execution_count": 465,
   "id": "cf2b62ab",
   "metadata": {},
   "outputs": [],
   "source": [
    "df.rename(columns={\"Inspection new\":\"inspection_new\"},inplace=True)"
   ]
  },
  {
   "cell_type": "code",
   "execution_count": 466,
   "id": "d814b8ac",
   "metadata": {},
   "outputs": [
    {
     "data": {
      "text/plain": [
       "11987"
      ]
     },
     "execution_count": 466,
     "metadata": {},
     "output_type": "execute_result"
    }
   ],
   "source": [
    "df[\"inspection_new\"].isna().sum()"
   ]
  },
  {
   "cell_type": "code",
   "execution_count": 467,
   "id": "d56f5430",
   "metadata": {},
   "outputs": [
    {
     "data": {
      "text/html": [
       "<div>\n",
       "<style scoped>\n",
       "    .dataframe tbody tr th:only-of-type {\n",
       "        vertical-align: middle;\n",
       "    }\n",
       "\n",
       "    .dataframe tbody tr th {\n",
       "        vertical-align: top;\n",
       "    }\n",
       "\n",
       "    .dataframe thead th {\n",
       "        text-align: right;\n",
       "    }\n",
       "</style>\n",
       "<table border=\"1\" class=\"dataframe\">\n",
       "  <thead>\n",
       "    <tr style=\"text-align: right;\">\n",
       "      <th></th>\n",
       "      <th>next_inspection</th>\n",
       "      <th>inspection_new</th>\n",
       "    </tr>\n",
       "  </thead>\n",
       "  <tbody>\n",
       "    <tr>\n",
       "      <th>6000</th>\n",
       "      <td>05/2020</td>\n",
       "      <td>NaN</td>\n",
       "    </tr>\n",
       "    <tr>\n",
       "      <th>13</th>\n",
       "      <td>NaN</td>\n",
       "      <td>NaN</td>\n",
       "    </tr>\n",
       "    <tr>\n",
       "      <th>911</th>\n",
       "      <td>NaN</td>\n",
       "      <td>Yes,0 kWh/100 km (comb)</td>\n",
       "    </tr>\n",
       "    <tr>\n",
       "      <th>5742</th>\n",
       "      <td>NaN</td>\n",
       "      <td>Yes,119 g CO2/km (comb)</td>\n",
       "    </tr>\n",
       "    <tr>\n",
       "      <th>7767</th>\n",
       "      <td>NaN</td>\n",
       "      <td>NaN</td>\n",
       "    </tr>\n",
       "    <tr>\n",
       "      <th>12648</th>\n",
       "      <td>NaN</td>\n",
       "      <td>NaN</td>\n",
       "    </tr>\n",
       "    <tr>\n",
       "      <th>8314</th>\n",
       "      <td>NaN</td>\n",
       "      <td>NaN</td>\n",
       "    </tr>\n",
       "    <tr>\n",
       "      <th>11816</th>\n",
       "      <td>NaN</td>\n",
       "      <td>Yes,141 g CO2/km (comb)</td>\n",
       "    </tr>\n",
       "    <tr>\n",
       "      <th>5841</th>\n",
       "      <td>03/2021,124 g CO2/km (comb)</td>\n",
       "      <td>NaN</td>\n",
       "    </tr>\n",
       "    <tr>\n",
       "      <th>1484</th>\n",
       "      <td>NaN</td>\n",
       "      <td>Yes,102 g CO2/km (comb)</td>\n",
       "    </tr>\n",
       "  </tbody>\n",
       "</table>\n",
       "</div>"
      ],
      "text/plain": [
       "                   next_inspection           inspection_new\n",
       "6000                       05/2020                      NaN\n",
       "13                             NaN                      NaN\n",
       "911                            NaN  Yes,0 kWh/100 km (comb)\n",
       "5742                           NaN  Yes,119 g CO2/km (comb)\n",
       "7767                           NaN                      NaN\n",
       "12648                          NaN                      NaN\n",
       "8314                           NaN                      NaN\n",
       "11816                          NaN  Yes,141 g CO2/km (comb)\n",
       "5841   03/2021,124 g CO2/km (comb)                      NaN\n",
       "1484                           NaN  Yes,102 g CO2/km (comb)"
      ]
     },
     "execution_count": 467,
     "metadata": {},
     "output_type": "execute_result"
    }
   ],
   "source": [
    "df[[\"next_inspection\",\"inspection_new\"]].sample(10)"
   ]
  },
  {
   "cell_type": "code",
   "execution_count": 468,
   "id": "66f7e721",
   "metadata": {},
   "outputs": [],
   "source": [
    "## bir benzerlik bulunamadı aralarında."
   ]
  },
  {
   "cell_type": "markdown",
   "id": "74a5159e",
   "metadata": {},
   "source": [
    "### 12-)  Warranty"
   ]
  },
  {
   "cell_type": "code",
   "execution_count": 474,
   "id": "48e9f20a",
   "metadata": {},
   "outputs": [
    {
     "data": {
      "text/plain": [
       "NaN                                                                          6763\n",
       "Euro 6                                                                       1868\n",
       "12 months                                                                    1305\n",
       "24 months                                                                     585\n",
       "4 (Green)                                                                     517\n",
       "                                                                             ... \n",
       "2 months                                                                        1\n",
       "72 months,125 g CO2/km (comb)                                                   1\n",
       "60 months,14 g CO2/km (comb)                                                    1\n",
       "24 months,121 g CO2/km (comb)                                                   1\n",
       "36 months,,7.4 l/100 km (comb),,9.6 l/100 km (city),,6 l/100 km (country)       1\n",
       "Name: Warranty, Length: 506, dtype: int64"
      ]
     },
     "execution_count": 474,
     "metadata": {},
     "output_type": "execute_result"
    }
   ],
   "source": [
    "df[\"Warranty\"].value_counts(dropna=False)"
   ]
  },
  {
   "cell_type": "code",
   "execution_count": 473,
   "id": "89f72238",
   "metadata": {},
   "outputs": [
    {
     "data": {
      "text/plain": [
       "NaN                                                                         0.425\n",
       "Euro 6                                                                      0.117\n",
       "12 months                                                                   0.082\n",
       "24 months                                                                   0.037\n",
       "4 (Green)                                                                   0.032\n",
       "                                                                             ... \n",
       "2 months                                                                    0.000\n",
       "72 months,125 g CO2/km (comb)                                               0.000\n",
       "60 months,14 g CO2/km (comb)                                                0.000\n",
       "24 months,121 g CO2/km (comb)                                               0.000\n",
       "36 months,,7.4 l/100 km (comb),,9.6 l/100 km (city),,6 l/100 km (country)   0.000\n",
       "Name: Warranty, Length: 506, dtype: float64"
      ]
     },
     "execution_count": 473,
     "metadata": {},
     "output_type": "execute_result"
    }
   ],
   "source": [
    "df[\"Warranty\"].value_counts(dropna=False,normalize=True)"
   ]
  },
  {
   "cell_type": "code",
   "execution_count": 494,
   "id": "8ebc5488",
   "metadata": {},
   "outputs": [
    {
     "data": {
      "text/html": [
       "<div>\n",
       "<style scoped>\n",
       "    .dataframe tbody tr th:only-of-type {\n",
       "        vertical-align: middle;\n",
       "    }\n",
       "\n",
       "    .dataframe tbody tr th {\n",
       "        vertical-align: top;\n",
       "    }\n",
       "\n",
       "    .dataframe thead th {\n",
       "        text-align: right;\n",
       "    }\n",
       "</style>\n",
       "<table border=\"1\" class=\"dataframe\">\n",
       "  <thead>\n",
       "    <tr style=\"text-align: right;\">\n",
       "      <th></th>\n",
       "      <th>0</th>\n",
       "    </tr>\n",
       "  </thead>\n",
       "  <tbody>\n",
       "    <tr>\n",
       "      <th>0</th>\n",
       "      <td>NaN</td>\n",
       "    </tr>\n",
       "    <tr>\n",
       "      <th>1</th>\n",
       "      <td>NaN</td>\n",
       "    </tr>\n",
       "    <tr>\n",
       "      <th>2</th>\n",
       "      <td>NaN</td>\n",
       "    </tr>\n",
       "    <tr>\n",
       "      <th>3</th>\n",
       "      <td>NaN</td>\n",
       "    </tr>\n",
       "    <tr>\n",
       "      <th>4</th>\n",
       "      <td>NaN</td>\n",
       "    </tr>\n",
       "    <tr>\n",
       "      <th>...</th>\n",
       "      <td>...</td>\n",
       "    </tr>\n",
       "    <tr>\n",
       "      <th>15914</th>\n",
       "      <td>24.000</td>\n",
       "    </tr>\n",
       "    <tr>\n",
       "      <th>15915</th>\n",
       "      <td>NaN</td>\n",
       "    </tr>\n",
       "    <tr>\n",
       "      <th>15916</th>\n",
       "      <td>NaN</td>\n",
       "    </tr>\n",
       "    <tr>\n",
       "      <th>15917</th>\n",
       "      <td>NaN</td>\n",
       "    </tr>\n",
       "    <tr>\n",
       "      <th>15918</th>\n",
       "      <td>NaN</td>\n",
       "    </tr>\n",
       "  </tbody>\n",
       "</table>\n",
       "<p>15919 rows × 1 columns</p>\n",
       "</div>"
      ],
      "text/plain": [
       "           0\n",
       "0        NaN\n",
       "1        NaN\n",
       "2        NaN\n",
       "3        NaN\n",
       "4        NaN\n",
       "...      ...\n",
       "15914 24.000\n",
       "15915    NaN\n",
       "15916    NaN\n",
       "15917    NaN\n",
       "15918    NaN\n",
       "\n",
       "[15919 rows x 1 columns]"
      ]
     },
     "execution_count": 494,
     "metadata": {},
     "output_type": "execute_result"
    }
   ],
   "source": [
    "df[\"Warranty\"].str.extract(r\"(\\d+)\\s*month\").astype(float)"
   ]
  },
  {
   "cell_type": "code",
   "execution_count": 495,
   "id": "f66174e9",
   "metadata": {},
   "outputs": [],
   "source": [
    "df[\"warranty_month\"] = df[\"Warranty\"].str.extract(r\"(\\d+)\\s*month\").astype(float)"
   ]
  },
  {
   "cell_type": "code",
   "execution_count": 497,
   "id": "7425cc12",
   "metadata": {},
   "outputs": [
    {
     "data": {
      "text/plain": [
       "11066"
      ]
     },
     "execution_count": 497,
     "metadata": {},
     "output_type": "execute_result"
    }
   ],
   "source": [
    "df[\"warranty_month\"].isnull().sum()      # ÇOK FAZLA NULL DEĞER VAR YİNE."
   ]
  },
  {
   "cell_type": "markdown",
   "id": "0fbce0ba",
   "metadata": {},
   "source": [
    "### 13-) Full Service"
   ]
  },
  {
   "cell_type": "code",
   "execution_count": 498,
   "id": "3895b2fa",
   "metadata": {},
   "outputs": [],
   "source": [
    "df.rename(columns={\"Full Service\":\"full_service\"},inplace=1)"
   ]
  },
  {
   "cell_type": "code",
   "execution_count": 505,
   "id": "64148bb0",
   "metadata": {},
   "outputs": [
    {
     "data": {
      "text/plain": [
       "NaN                                                                 9689\n",
       "4 (Green)                                                           2235\n",
       "Euro 6                                                              2097\n",
       "Euro 6d-TEMP                                                         399\n",
       "120 g CO2/km (comb)                                                  105\n",
       "                                                                    ... \n",
       "6 l/100 km (comb),,8 l/100 km (city),,4.9 l/100 km (country)           1\n",
       "84 g CO2/km (comb)                                                     1\n",
       "87 g CO2/km (comb)                                                     1\n",
       "5.7 l/100 km (comb),,7.3 l/100 km (city),,4.9 l/100 km (country)       1\n",
       "Euro 4                                                                 1\n",
       "Name: full_service, Length: 121, dtype: int64"
      ]
     },
     "execution_count": 505,
     "metadata": {},
     "output_type": "execute_result"
    }
   ],
   "source": [
    "df[\"full_service\"].value_counts(dropna=False)"
   ]
  },
  {
   "cell_type": "code",
   "execution_count": 500,
   "id": "a7853e08",
   "metadata": {},
   "outputs": [
    {
     "data": {
      "text/plain": [
       "NaN                                                                0.609\n",
       "4 (Green)                                                          0.140\n",
       "Euro 6                                                             0.132\n",
       "Euro 6d-TEMP                                                       0.025\n",
       "120 g CO2/km (comb)                                                0.007\n",
       "                                                                    ... \n",
       "6 l/100 km (comb),,8 l/100 km (city),,4.9 l/100 km (country)       0.000\n",
       "84 g CO2/km (comb)                                                 0.000\n",
       "87 g CO2/km (comb)                                                 0.000\n",
       "5.7 l/100 km (comb),,7.3 l/100 km (city),,4.9 l/100 km (country)   0.000\n",
       "Euro 4                                                             0.000\n",
       "Name: full_service, Length: 121, dtype: float64"
      ]
     },
     "execution_count": 500,
     "metadata": {},
     "output_type": "execute_result"
    }
   ],
   "source": [
    "df[\"full_service\"].value_counts(dropna=False,normalize=True)"
   ]
  },
  {
   "cell_type": "markdown",
   "id": "8648c299",
   "metadata": {},
   "source": [
    "### DİKKAT : SÜTUNLARI İNCELERKEN HEP AYNI ŞEYLERİ YAPTIĞIMIZDAN DOLAYI GENELLEŞTİRME İHİYACI\n",
    "### AKLIMA GELDİ  BİR SÜTUNU ALDIĞIMIZDA BİR FONKSİYON YARDIMIYLA BAKABİLİRİZ BUNLARA:"
   ]
  },
  {
   "cell_type": "code",
   "execution_count": 508,
   "id": "b3acf139",
   "metadata": {},
   "outputs": [],
   "source": [
    "def summary(dataframe,col_name):\n",
    "    print(pd.DataFrame({col_name: dataframe[col_name].value_counts(dropna=False),\n",
    "           \"oran\" : (dataframe[col_name].value_counts(normalize=True,dropna=False) * 100)}))\n",
    "    print(\"########################################\")\n",
    "    print('Number_of_Nulls   : ', dataframe[col_name].isnull().sum())"
   ]
  },
  {
   "cell_type": "code",
   "execution_count": 509,
   "id": "ab63182d",
   "metadata": {},
   "outputs": [
    {
     "name": "stdout",
     "output_type": "stream",
     "text": [
      "                                                    full_service   oran\n",
      "NaN                                                         9689 60.864\n",
      "4 (Green)                                                   2235 14.040\n",
      "Euro 6                                                      2097 13.173\n",
      "Euro 6d-TEMP                                                 399  2.506\n",
      "120 g CO2/km (comb)                                          105  0.660\n",
      "...                                                          ...    ...\n",
      "6 l/100 km (comb),,8 l/100 km (city),,4.9 l/100...             1  0.006\n",
      "84 g CO2/km (comb)                                             1  0.006\n",
      "87 g CO2/km (comb)                                             1  0.006\n",
      "5.7 l/100 km (comb),,7.3 l/100 km (city),,4.9 l...             1  0.006\n",
      "Euro 4                                                         1  0.006\n",
      "\n",
      "[121 rows x 2 columns]\n",
      "########################################\n",
      "Number_of_Nulls   :  9689\n"
     ]
    }
   ],
   "source": [
    "summary(df,\"full_service\")"
   ]
  },
  {
   "cell_type": "markdown",
   "id": "d82b8d1b",
   "metadata": {},
   "source": [
    "### 14-) Non-smoking Vehicle"
   ]
  },
  {
   "cell_type": "code",
   "execution_count": 512,
   "id": "40f90784",
   "metadata": {},
   "outputs": [],
   "source": [
    "df.rename({\"Non-smoking Vehicle\" : \"non_smoking_vehicle\"},axis=1,inplace=1)"
   ]
  },
  {
   "cell_type": "code",
   "execution_count": 513,
   "id": "af49152e",
   "metadata": {},
   "outputs": [
    {
     "name": "stdout",
     "output_type": "stream",
     "text": [
      "                                                    non_smoking_vehicle   oran\n",
      "NaN                                                               12459 78.265\n",
      "4 (Green)                                                          1240  7.789\n",
      "Euro 6                                                             1127  7.080\n",
      "Euro 6d-TEMP                                                        345  2.167\n",
      "120 g CO2/km (comb)                                                  63  0.396\n",
      "85 g CO2/km (comb)                                                   46  0.289\n",
      "107 g CO2/km (comb)                                                  36  0.226\n",
      "104 g CO2/km (comb)                                                  36  0.226\n",
      "153 g CO2/km (comb)                                                  31  0.195\n",
      "124 g CO2/km (comb)                                                  29  0.182\n",
      "1 (No sticker)                                                       24  0.151\n",
      "99 g CO2/km (comb)                                                   23  0.144\n",
      "97 g CO2/km (comb)                                                   20  0.126\n",
      "106 g CO2/km (comb)                                                  20  0.126\n",
      "108 g CO2/km (comb)                                                  19  0.119\n",
      "109 g CO2/km (comb)                                                  18  0.113\n",
      "113 g CO2/km (comb)                                                  18  0.113\n",
      "105 g CO2/km (comb)                                                  18  0.113\n",
      "100 g CO2/km (comb)                                                  18  0.113\n",
      "Euro 6c                                                              17  0.107\n",
      "98 g CO2/km (comb)                                                   15  0.094\n",
      "129 g CO2/km (comb)                                                  14  0.088\n",
      "131 g CO2/km (comb)                                                  13  0.082\n",
      "133 g CO2/km (comb)                                                  12  0.075\n",
      "103 g CO2/km (comb)                                                  12  0.075\n",
      "114 g CO2/km (comb)                                                  12  0.075\n",
      "135 g CO2/km (comb)                                                  11  0.069\n",
      "116 g CO2/km (comb)                                                  11  0.069\n",
      "102 g CO2/km (comb)                                                  11  0.069\n",
      "143 g CO2/km (comb)                                                  10  0.063\n",
      "127 g CO2/km (comb)                                                  10  0.063\n",
      "Euro 6d                                                               9  0.057\n",
      "92 g CO2/km (comb)                                                    9  0.057\n",
      "112 g CO2/km (comb)                                                   9  0.057\n",
      "5 (Blue)                                                              8  0.050\n",
      "118 g CO2/km (comb)                                                   8  0.050\n",
      "147 g CO2/km (comb)                                                   7  0.044\n",
      "128 g CO2/km (comb)                                                   7  0.044\n",
      "139 g CO2/km (comb)                                                   7  0.044\n",
      "140 g CO2/km (comb)                                                   6  0.038\n",
      "137 g CO2/km (comb)                                                   6  0.038\n",
      "117 g CO2/km (comb)                                                   6  0.038\n",
      "126 g CO2/km (comb)                                                   6  0.038\n",
      "130 g CO2/km (comb)                                                   5  0.031\n",
      "115 g CO2/km (comb)                                                   5  0.031\n",
      "5.2 l/100 km (comb),,5.8 l/100 km (city),,4.8 l...                    4  0.025\n",
      "123 g CO2/km (comb)                                                   4  0.025\n",
      "Euro 5                                                                4  0.025\n",
      "151 g CO2/km (comb)                                                   4  0.025\n",
      "136 g CO2/km (comb)                                                   3  0.019\n",
      "110 g CO2/km (comb)                                                   3  0.019\n",
      "148 g CO2/km (comb)                                                   3  0.019\n",
      "157 g CO2/km (comb)                                                   3  0.019\n",
      "95 g CO2/km (comb)                                                    3  0.019\n",
      "119 g CO2/km (comb)                                                   3  0.019\n",
      "149 g CO2/km (comb)                                                   3  0.019\n",
      "166 g CO2/km (comb)                                                   2  0.013\n",
      "138 g CO2/km (comb)                                                   2  0.013\n",
      "121 g CO2/km (comb)                                                   2  0.013\n",
      "111 g CO2/km (comb)                                                   2  0.013\n",
      "90 g CO2/km (comb)                                                    2  0.013\n",
      "142 g CO2/km (comb)                                                   2  0.013\n",
      "125 g CO2/km (comb)                                                   2  0.013\n",
      "134 g CO2/km (comb)                                                   2  0.013\n",
      "5.2 l/100 km (comb),,6.4 l/100 km (city),,4.4 l...                    2  0.013\n",
      "6.5 l/100 km (comb),,8.5 l/100 km (city),,5.4 l...                    1  0.006\n",
      "146 g CO2/km (comb)                                                   1  0.006\n",
      "189 g CO2/km (comb)                                                   1  0.006\n",
      "6.1 l/100 km (comb),,7.7 l/100 km (city),,5.2 l...                    1  0.006\n",
      "6.3 l/100 km (comb),,8 l/100 km (city),,5.3 l/1...                    1  0.006\n",
      "154 g CO2/km (comb)                                                   1  0.006\n",
      "6.5 l/100 km (comb),,7.9 l/100 km (city),,5.6 l...                    1  0.006\n",
      "6.4 l/100 km (comb),,8.1 l/100 km (city),,5.4 l...                    1  0.006\n",
      "122 g CO2/km (comb)                                                   1  0.006\n",
      "82 g CO2/km (comb)                                                    1  0.006\n",
      "1.6 l/100 km (comb)                                                   1  0.006\n",
      "172 g CO2/km (comb)                                                   1  0.006\n",
      "161 g CO2/km (comb)                                                   1  0.006\n",
      "156 g CO2/km (comb)                                                   1  0.006\n",
      "169 g CO2/km (comb)                                                   1  0.006\n",
      "6.1 l/100 km (comb),,7.8 l/100 km (city),,5.1 l...                    1  0.006\n",
      "152 g CO2/km (comb)                                                   1  0.006\n",
      "144 g CO2/km (comb)                                                   1  0.006\n",
      "132 g CO2/km (comb)                                                   1  0.006\n",
      "159 g CO2/km (comb)                                                   1  0.006\n",
      "5.6 l/100 km (comb),,7.3 l/100 km (city),,4.7 l...                    1  0.006\n",
      "158 g CO2/km (comb)                                                   1  0.006\n",
      "150 g CO2/km (comb)                                                   1  0.006\n",
      "6.2 l/100 km (comb),,7.9 l/100 km (city),,5.3 l...                    1  0.006\n",
      "91 g CO2/km (comb)                                                    1  0.006\n",
      "101 g CO2/km (comb)                                                   1  0.006\n",
      "5.7 l/100 km (comb),,7.3 l/100 km (city),,4.7 l...                    1  0.006\n",
      "175 g CO2/km (comb)                                                   1  0.006\n",
      "########################################\n",
      "Number_of_Nulls   :  12459\n"
     ]
    }
   ],
   "source": [
    "summary(df,\"non_smoking_vehicle\")"
   ]
  },
  {
   "cell_type": "code",
   "execution_count": 514,
   "id": "e030680c",
   "metadata": {},
   "outputs": [],
   "source": [
    "## null değer 12459 *****  ayrıca içerikle sütun örtüşmüyor ama diğer sütunların doldurulmasında kullanılabilir."
   ]
  },
  {
   "cell_type": "markdown",
   "id": "8cde384c",
   "metadata": {},
   "source": [
    "###  15-)  null  "
   ]
  },
  {
   "cell_type": "code",
   "execution_count": 516,
   "id": "7827a2e7",
   "metadata": {},
   "outputs": [
    {
     "name": "stdout",
     "output_type": "stream",
     "text": [
      "      null    oran\n",
      "NaN  15919 100.000\n",
      "########################################\n",
      "Number_of_Nulls   :  15919\n"
     ]
    }
   ],
   "source": [
    "summary(df,\"null\")"
   ]
  },
  {
   "cell_type": "code",
   "execution_count": 519,
   "id": "3b35e33c",
   "metadata": {},
   "outputs": [],
   "source": [
    "# bunu önceden atmayı unutmuşuz.\n",
    "df.drop(\"null\",axis=1,inplace=True)"
   ]
  },
  {
   "cell_type": "markdown",
   "id": "9fd47bf5",
   "metadata": {},
   "source": [
    "### 18-) Offer Number"
   ]
  },
  {
   "cell_type": "code",
   "execution_count": 521,
   "id": "d5ceffbd",
   "metadata": {},
   "outputs": [
    {
     "name": "stdout",
     "output_type": "stream",
     "text": [
      "                                          Offer Number   oran\n",
      "NaN                                               3175 19.945\n",
      "LT67679                                             27  0.170\n",
      "UN89904                                             27  0.170\n",
      "XJ38068                                             27  0.170\n",
      "JV03654                                             27  0.170\n",
      "...                                                ...    ...\n",
      "160_dcbb6c3e-a6da-43a3-8754-ccd994cec93b             1  0.006\n",
      "6701576                                              1  0.006\n",
      "6701569                                              1  0.006\n",
      "158121                                               1  0.006\n",
      "Re_30000008029                                       1  0.006\n",
      "\n",
      "[11441 rows x 2 columns]\n",
      "########################################\n",
      "Number_of_Nulls   :  3175\n"
     ]
    }
   ],
   "source": [
    "summary(df,\"Offer Number\")"
   ]
  },
  {
   "cell_type": "code",
   "execution_count": 522,
   "id": "88bb0fbb",
   "metadata": {},
   "outputs": [],
   "source": [
    "## url sütunu gibi bir sütun bizim için o yüzden düşeceğiz : "
   ]
  },
  {
   "cell_type": "code",
   "execution_count": 523,
   "id": "d9183c06",
   "metadata": {},
   "outputs": [],
   "source": [
    "df.drop(\"Offer Number\",axis=1,inplace=True)"
   ]
  },
  {
   "cell_type": "markdown",
   "id": "0a32280f",
   "metadata": {},
   "source": [
    "### 20-) Body Color"
   ]
  },
  {
   "cell_type": "code",
   "execution_count": 525,
   "id": "6631174f",
   "metadata": {},
   "outputs": [],
   "source": [
    "df.rename({\"Body Color\":\"body_color\"},axis=1,inplace=True)"
   ]
  },
  {
   "cell_type": "code",
   "execution_count": 526,
   "id": "e5814f92",
   "metadata": {},
   "outputs": [
    {
     "name": "stdout",
     "output_type": "stream",
     "text": [
      "        body_color   oran\n",
      "Black         3745 23.525\n",
      "Grey          3505 22.018\n",
      "White         3406 21.396\n",
      "Silver        1647 10.346\n",
      "Blue          1431  8.989\n",
      "Red            957  6.012\n",
      "NaN            597  3.750\n",
      "Brown          289  1.815\n",
      "Green          154  0.967\n",
      "Beige          108  0.678\n",
      "Yellow          51  0.320\n",
      "Violet          18  0.113\n",
      "Bronze           6  0.038\n",
      "Orange           3  0.019\n",
      "Gold             2  0.013\n",
      "########################################\n",
      "Number_of_Nulls   :  597\n"
     ]
    }
   ],
   "source": [
    "summary(df,\"body_color\")"
   ]
  },
  {
   "cell_type": "code",
   "execution_count": 527,
   "id": "f83f3336",
   "metadata": {},
   "outputs": [],
   "source": [
    "## ekstra temizlenecek bir şey yok nullar var onlar doldurulabilir mi vs ona ileride bakılacak."
   ]
  },
  {
   "cell_type": "markdown",
   "id": "b850d14d",
   "metadata": {},
   "source": [
    "### 22-) Body Color Original"
   ]
  },
  {
   "cell_type": "code",
   "execution_count": 528,
   "id": "b937bedc",
   "metadata": {},
   "outputs": [],
   "source": [
    "df.rename({\"Body Color Original\":\"body_color_orig\"},axis=1,inplace=True)"
   ]
  },
  {
   "cell_type": "code",
   "execution_count": 529,
   "id": "53606ebd",
   "metadata": {},
   "outputs": [
    {
     "name": "stdout",
     "output_type": "stream",
     "text": [
      "                               body_color_orig   oran\n",
      "NaN                                       3759 23.613\n",
      "Onyx Schwarz                               338  2.123\n",
      "Bianco                                     282  1.771\n",
      "Mythosschwarz Metallic                     238  1.495\n",
      "Brillantschwarz                            216  1.357\n",
      "...                                        ...    ...\n",
      "Rouge-Braun (G0Y)                            1  0.006\n",
      "VARI COLRI DISPONIBILI                       1  0.006\n",
      "Kokosnussbraun Metallic                      1  0.006\n",
      "Farbe frei wählbar                           1  0.006\n",
      "Perlmutt-Weiß Metallic (Weiß)                1  0.006\n",
      "\n",
      "[1928 rows x 2 columns]\n",
      "########################################\n",
      "Number_of_Nulls   :  3759\n"
     ]
    }
   ],
   "source": [
    "summary(df,\"body_color_orig\")"
   ]
  },
  {
   "cell_type": "markdown",
   "id": "249d0286",
   "metadata": {},
   "source": [
    "### 21-)  Paint Type"
   ]
  },
  {
   "cell_type": "code",
   "execution_count": 530,
   "id": "b4348c75",
   "metadata": {},
   "outputs": [],
   "source": [
    "df.rename({\"Paint Type\":\"paint_type\"},axis=1,inplace=True)"
   ]
  },
  {
   "cell_type": "code",
   "execution_count": 531,
   "id": "b21316e0",
   "metadata": {},
   "outputs": [
    {
     "name": "stdout",
     "output_type": "stream",
     "text": [
      "             paint_type   oran\n",
      "Metallic           9794 61.524\n",
      "NaN                5772 36.259\n",
      "Uni/basic           347  2.180\n",
      "Perl effect           6  0.038\n",
      "########################################\n",
      "Number_of_Nulls   :  5772\n"
     ]
    }
   ],
   "source": [
    "summary(df,\"paint_type\")"
   ]
  },
  {
   "cell_type": "code",
   "execution_count": 532,
   "id": "ca7609d4",
   "metadata": {},
   "outputs": [],
   "source": [
    "## şimdi bu  3 column birbiriyle ilintili olabilir bunlara beraber bakacak olursak : "
   ]
  },
  {
   "cell_type": "code",
   "execution_count": 535,
   "id": "a8fda4e8",
   "metadata": {},
   "outputs": [
    {
     "data": {
      "text/html": [
       "<div>\n",
       "<style scoped>\n",
       "    .dataframe tbody tr th:only-of-type {\n",
       "        vertical-align: middle;\n",
       "    }\n",
       "\n",
       "    .dataframe tbody tr th {\n",
       "        vertical-align: top;\n",
       "    }\n",
       "\n",
       "    .dataframe thead th {\n",
       "        text-align: right;\n",
       "    }\n",
       "</style>\n",
       "<table border=\"1\" class=\"dataframe\">\n",
       "  <thead>\n",
       "    <tr style=\"text-align: right;\">\n",
       "      <th></th>\n",
       "      <th>paint_type</th>\n",
       "      <th>body_color_orig</th>\n",
       "      <th>body_color</th>\n",
       "    </tr>\n",
       "  </thead>\n",
       "  <tbody>\n",
       "    <tr>\n",
       "      <th>13593</th>\n",
       "      <td>NaN</td>\n",
       "      <td>NaN</td>\n",
       "      <td>White</td>\n",
       "    </tr>\n",
       "    <tr>\n",
       "      <th>11340</th>\n",
       "      <td>Metallic</td>\n",
       "      <td>Quarz Grau</td>\n",
       "      <td>Grey</td>\n",
       "    </tr>\n",
       "    <tr>\n",
       "      <th>2978</th>\n",
       "      <td>NaN</td>\n",
       "      <td>Blanco</td>\n",
       "      <td>White</td>\n",
       "    </tr>\n",
       "    <tr>\n",
       "      <th>14340</th>\n",
       "      <td>NaN</td>\n",
       "      <td>NaN</td>\n",
       "      <td>White</td>\n",
       "    </tr>\n",
       "    <tr>\n",
       "      <th>15542</th>\n",
       "      <td>Metallic</td>\n",
       "      <td>NaN</td>\n",
       "      <td>Black</td>\n",
       "    </tr>\n",
       "    <tr>\n",
       "      <th>1306</th>\n",
       "      <td>Metallic</td>\n",
       "      <td>NaN</td>\n",
       "      <td>Blue</td>\n",
       "    </tr>\n",
       "    <tr>\n",
       "      <th>13152</th>\n",
       "      <td>Metallic</td>\n",
       "      <td>CASSIOPEE</td>\n",
       "      <td>Grey</td>\n",
       "    </tr>\n",
       "    <tr>\n",
       "      <th>3844</th>\n",
       "      <td>Metallic</td>\n",
       "      <td>Florettsilber Metallic</td>\n",
       "      <td>Silver</td>\n",
       "    </tr>\n",
       "    <tr>\n",
       "      <th>13782</th>\n",
       "      <td>NaN</td>\n",
       "      <td>NaN</td>\n",
       "      <td>White</td>\n",
       "    </tr>\n",
       "    <tr>\n",
       "      <th>5112</th>\n",
       "      <td>Metallic</td>\n",
       "      <td>Blu Cosmo Metallizzato</td>\n",
       "      <td>Blue</td>\n",
       "    </tr>\n",
       "    <tr>\n",
       "      <th>1662</th>\n",
       "      <td>Metallic</td>\n",
       "      <td>Blu</td>\n",
       "      <td>Blue</td>\n",
       "    </tr>\n",
       "    <tr>\n",
       "      <th>14085</th>\n",
       "      <td>Metallic</td>\n",
       "      <td>NaN</td>\n",
       "      <td>Grey</td>\n",
       "    </tr>\n",
       "    <tr>\n",
       "      <th>6507</th>\n",
       "      <td>Metallic</td>\n",
       "      <td>Blauw Metallic</td>\n",
       "      <td>Blue</td>\n",
       "    </tr>\n",
       "    <tr>\n",
       "      <th>2451</th>\n",
       "      <td>Metallic</td>\n",
       "      <td>Manhattangrau Metallic</td>\n",
       "      <td>Grey</td>\n",
       "    </tr>\n",
       "    <tr>\n",
       "      <th>11479</th>\n",
       "      <td>NaN</td>\n",
       "      <td>BLACK MEET KETTLE MET-4 (507B)</td>\n",
       "      <td>NaN</td>\n",
       "    </tr>\n",
       "  </tbody>\n",
       "</table>\n",
       "</div>"
      ],
      "text/plain": [
       "      paint_type                 body_color_orig body_color\n",
       "13593        NaN                             NaN      White\n",
       "11340   Metallic                      Quarz Grau       Grey\n",
       "2978         NaN                          Blanco      White\n",
       "14340        NaN                             NaN      White\n",
       "15542   Metallic                             NaN      Black\n",
       "1306    Metallic                             NaN       Blue\n",
       "13152   Metallic                       CASSIOPEE       Grey\n",
       "3844    Metallic          Florettsilber Metallic     Silver\n",
       "13782        NaN                             NaN      White\n",
       "5112    Metallic          Blu Cosmo Metallizzato       Blue\n",
       "1662    Metallic                             Blu       Blue\n",
       "14085   Metallic                             NaN       Grey\n",
       "6507    Metallic                  Blauw Metallic       Blue\n",
       "2451    Metallic          Manhattangrau Metallic       Grey\n",
       "11479        NaN  BLACK MEET KETTLE MET-4 (507B)        NaN"
      ]
     },
     "execution_count": 535,
     "metadata": {},
     "output_type": "execute_result"
    }
   ],
   "source": [
    "df[[\"paint_type\",\"body_color_orig\",\"body_color\"]].sample(15)"
   ]
  },
  {
   "cell_type": "markdown",
   "id": "529e229f",
   "metadata": {},
   "source": [
    "### acaba body_color sütunundaki boş değerleri body_color_origin ile doldurabilir miyim ? "
   ]
  },
  {
   "cell_type": "code",
   "execution_count": 547,
   "id": "c45f7a8a",
   "metadata": {},
   "outputs": [
    {
     "data": {
      "text/html": [
       "<div>\n",
       "<style scoped>\n",
       "    .dataframe tbody tr th:only-of-type {\n",
       "        vertical-align: middle;\n",
       "    }\n",
       "\n",
       "    .dataframe tbody tr th {\n",
       "        vertical-align: top;\n",
       "    }\n",
       "\n",
       "    .dataframe thead th {\n",
       "        text-align: right;\n",
       "    }\n",
       "</style>\n",
       "<table border=\"1\" class=\"dataframe\">\n",
       "  <thead>\n",
       "    <tr style=\"text-align: right;\">\n",
       "      <th></th>\n",
       "      <th>body_color</th>\n",
       "      <th>body_color_orig</th>\n",
       "    </tr>\n",
       "  </thead>\n",
       "  <tbody>\n",
       "    <tr>\n",
       "      <th>70</th>\n",
       "      <td>NaN</td>\n",
       "      <td>gris nano</td>\n",
       "    </tr>\n",
       "    <tr>\n",
       "      <th>122</th>\n",
       "      <td>NaN</td>\n",
       "      <td>wählbar</td>\n",
       "    </tr>\n",
       "    <tr>\n",
       "      <th>150</th>\n",
       "      <td>NaN</td>\n",
       "      <td>BLEU UTOPIA</td>\n",
       "    </tr>\n",
       "    <tr>\n",
       "      <th>195</th>\n",
       "      <td>NaN</td>\n",
       "      <td>BLEU UTOPIA</td>\n",
       "    </tr>\n",
       "    <tr>\n",
       "      <th>198</th>\n",
       "      <td>NaN</td>\n",
       "      <td>null</td>\n",
       "    </tr>\n",
       "    <tr>\n",
       "      <th>...</th>\n",
       "      <td>...</td>\n",
       "      <td>...</td>\n",
       "    </tr>\n",
       "    <tr>\n",
       "      <th>15690</th>\n",
       "      <td>NaN</td>\n",
       "      <td>NaN</td>\n",
       "    </tr>\n",
       "    <tr>\n",
       "      <th>15785</th>\n",
       "      <td>NaN</td>\n",
       "      <td>GNE NOIR ETOILE</td>\n",
       "    </tr>\n",
       "    <tr>\n",
       "      <th>15849</th>\n",
       "      <td>NaN</td>\n",
       "      <td>Farbe: Sonstige</td>\n",
       "    </tr>\n",
       "    <tr>\n",
       "      <th>15854</th>\n",
       "      <td>NaN</td>\n",
       "      <td>NaN</td>\n",
       "    </tr>\n",
       "    <tr>\n",
       "      <th>15864</th>\n",
       "      <td>NaN</td>\n",
       "      <td>NaN</td>\n",
       "    </tr>\n",
       "  </tbody>\n",
       "</table>\n",
       "<p>597 rows × 2 columns</p>\n",
       "</div>"
      ],
      "text/plain": [
       "      body_color  body_color_orig\n",
       "70           NaN        gris nano\n",
       "122          NaN          wählbar\n",
       "150          NaN      BLEU UTOPIA\n",
       "195          NaN      BLEU UTOPIA\n",
       "198          NaN             null\n",
       "...          ...              ...\n",
       "15690        NaN              NaN\n",
       "15785        NaN  GNE NOIR ETOILE\n",
       "15849        NaN  Farbe: Sonstige\n",
       "15854        NaN              NaN\n",
       "15864        NaN              NaN\n",
       "\n",
       "[597 rows x 2 columns]"
      ]
     },
     "execution_count": 547,
     "metadata": {},
     "output_type": "execute_result"
    }
   ],
   "source": [
    "df.loc[df[\"body_color\"].isna(),[\"body_color\",\"body_color_orig\"]]"
   ]
  },
  {
   "cell_type": "code",
   "execution_count": 548,
   "id": "30e1bcd0",
   "metadata": {},
   "outputs": [],
   "source": [
    "## bunu part2'de kullanabiliriz."
   ]
  },
  {
   "cell_type": "markdown",
   "id": "32b3c227",
   "metadata": {},
   "source": [
    "### 23-) Upholstery (döşeme)"
   ]
  },
  {
   "cell_type": "code",
   "execution_count": 550,
   "id": "5c4fd601",
   "metadata": {},
   "outputs": [
    {
     "name": "stdout",
     "output_type": "stream",
     "text": [
      "                     Upholstery   oran\n",
      "Cloth, Black               5821 36.566\n",
      "NaN                        3720 23.368\n",
      "Part leather, Black        1121  7.042\n",
      "Cloth                      1005  6.313\n",
      "Cloth, Grey                 891  5.597\n",
      "Cloth, Other                639  4.014\n",
      "Full leather, Black         575  3.612\n",
      "Black                       491  3.084\n",
      "Grey                        273  1.715\n",
      "Other, Other                182  1.143\n",
      "Part leather                140  0.879\n",
      "Full leather                139  0.873\n",
      "Full leather, Brown         116  0.729\n",
      "Part leather, Grey          116  0.729\n",
      "Other, Black                110  0.691\n",
      "Full leather, Other          72  0.452\n",
      "Full leather, Grey           67  0.421\n",
      "Part leather, Other          65  0.408\n",
      "Other                        56  0.352\n",
      "Part leather, Brown          50  0.314\n",
      "alcantara, Black             47  0.295\n",
      "Velour, Black                36  0.226\n",
      "Full leather, Beige          36  0.226\n",
      "Cloth, Brown                 28  0.176\n",
      "Velour                       16  0.101\n",
      "Other, Grey                  15  0.094\n",
      "Cloth, Beige                 13  0.082\n",
      "Brown                        12  0.075\n",
      "Cloth, Blue                  12  0.075\n",
      "Velour, Grey                  8  0.050\n",
      "Cloth, White                  8  0.050\n",
      "alcantara, Grey               6  0.038\n",
      "Cloth, Red                    5  0.031\n",
      "Other, Yellow                 4  0.025\n",
      "Part leather, Red             3  0.019\n",
      "Beige                         3  0.019\n",
      "Part leather, White           2  0.013\n",
      "Full leather, Blue            2  0.013\n",
      "alcantara, Other              2  0.013\n",
      "alcantara                     2  0.013\n",
      "White                         2  0.013\n",
      "Part leather, Beige           2  0.013\n",
      "Blue                          2  0.013\n",
      "Cloth, Orange                 1  0.006\n",
      "Full leather, Red             1  0.006\n",
      "Other, Brown                  1  0.006\n",
      "Full leather, White           1  0.006\n",
      "########################################\n",
      "Number_of_Nulls   :  3720\n"
     ]
    }
   ],
   "source": [
    "summary(df,\"Upholstery\")"
   ]
  },
  {
   "cell_type": "code",
   "execution_count": 561,
   "id": "4a4a87a9",
   "metadata": {},
   "outputs": [],
   "source": [
    "## deri , kumaş , other , kadife gibi döşeme türleri var ve\n",
    "## bunların renkleri var biz bunları 2 ayrı sütun gibi ele alabiliriz."
   ]
  },
  {
   "cell_type": "code",
   "execution_count": 580,
   "id": "abf4311c",
   "metadata": {},
   "outputs": [
    {
     "data": {
      "text/html": [
       "<div>\n",
       "<style scoped>\n",
       "    .dataframe tbody tr th:only-of-type {\n",
       "        vertical-align: middle;\n",
       "    }\n",
       "\n",
       "    .dataframe tbody tr th {\n",
       "        vertical-align: top;\n",
       "    }\n",
       "\n",
       "    .dataframe thead th {\n",
       "        text-align: right;\n",
       "    }\n",
       "</style>\n",
       "<table border=\"1\" class=\"dataframe\">\n",
       "  <thead>\n",
       "    <tr style=\"text-align: right;\">\n",
       "      <th></th>\n",
       "      <th>0</th>\n",
       "      <th>1</th>\n",
       "    </tr>\n",
       "  </thead>\n",
       "  <tbody>\n",
       "    <tr>\n",
       "      <th>0</th>\n",
       "      <td>Cloth</td>\n",
       "      <td>Black</td>\n",
       "    </tr>\n",
       "    <tr>\n",
       "      <th>1</th>\n",
       "      <td>Cloth</td>\n",
       "      <td>Grey</td>\n",
       "    </tr>\n",
       "    <tr>\n",
       "      <th>2</th>\n",
       "      <td>Cloth</td>\n",
       "      <td>Black</td>\n",
       "    </tr>\n",
       "    <tr>\n",
       "      <th>3</th>\n",
       "      <td>NaN</td>\n",
       "      <td>NaN</td>\n",
       "    </tr>\n",
       "    <tr>\n",
       "      <th>4</th>\n",
       "      <td>Cloth</td>\n",
       "      <td>Black</td>\n",
       "    </tr>\n",
       "    <tr>\n",
       "      <th>...</th>\n",
       "      <td>...</td>\n",
       "      <td>...</td>\n",
       "    </tr>\n",
       "    <tr>\n",
       "      <th>15914</th>\n",
       "      <td>NaN</td>\n",
       "      <td>NaN</td>\n",
       "    </tr>\n",
       "    <tr>\n",
       "      <th>15915</th>\n",
       "      <td>Cloth</td>\n",
       "      <td>None</td>\n",
       "    </tr>\n",
       "    <tr>\n",
       "      <th>15916</th>\n",
       "      <td>Full leather</td>\n",
       "      <td>Black</td>\n",
       "    </tr>\n",
       "    <tr>\n",
       "      <th>15917</th>\n",
       "      <td>Part leather</td>\n",
       "      <td>None</td>\n",
       "    </tr>\n",
       "    <tr>\n",
       "      <th>15918</th>\n",
       "      <td>Full leather</td>\n",
       "      <td>Brown</td>\n",
       "    </tr>\n",
       "  </tbody>\n",
       "</table>\n",
       "<p>15919 rows × 2 columns</p>\n",
       "</div>"
      ],
      "text/plain": [
       "                  0      1\n",
       "0             Cloth  Black\n",
       "1             Cloth   Grey\n",
       "2             Cloth  Black\n",
       "3               NaN    NaN\n",
       "4             Cloth  Black\n",
       "...             ...    ...\n",
       "15914           NaN    NaN\n",
       "15915         Cloth   None\n",
       "15916  Full leather  Black\n",
       "15917  Part leather   None\n",
       "15918  Full leather  Brown\n",
       "\n",
       "[15919 rows x 2 columns]"
      ]
     },
     "execution_count": 580,
     "metadata": {},
     "output_type": "execute_result"
    }
   ],
   "source": [
    "df[\"Upholstery\"].str.split(\", \", expand=True)"
   ]
  },
  {
   "cell_type": "code",
   "execution_count": 581,
   "id": "999d41f9",
   "metadata": {},
   "outputs": [],
   "source": [
    "df[[\"upholstery_type\",\"upholstery_color\"]] = df[\"Upholstery\"].str.split(\", \", expand=True)"
   ]
  },
  {
   "cell_type": "code",
   "execution_count": 582,
   "id": "3ea96853",
   "metadata": {},
   "outputs": [
    {
     "name": "stdout",
     "output_type": "stream",
     "text": [
      "              upholstery_type   oran\n",
      "Cloth                    8423 52.912\n",
      "NaN                      3720 23.368\n",
      "Part leather             1499  9.416\n",
      "Full leather             1009  6.338\n",
      "Black                     491  3.084\n",
      "Other                     368  2.312\n",
      "Grey                      273  1.715\n",
      "Velour                     60  0.377\n",
      "alcantara                  57  0.358\n",
      "Brown                      12  0.075\n",
      "Beige                       3  0.019\n",
      "Blue                        2  0.013\n",
      "White                       2  0.013\n",
      "########################################\n",
      "Number_of_Nulls   :  3720\n"
     ]
    }
   ],
   "source": [
    "summary(df,\"upholstery_type\")"
   ]
  },
  {
   "cell_type": "code",
   "execution_count": 583,
   "id": "f5c994aa",
   "metadata": {},
   "outputs": [
    {
     "name": "stdout",
     "output_type": "stream",
     "text": [
      "        upholstery_color   oran\n",
      "Black               7710 48.433\n",
      "NaN                 5861 36.818\n",
      "Grey                1103  6.929\n",
      "Other                960  6.031\n",
      "Brown                195  1.225\n",
      "Beige                 51  0.320\n",
      "Blue                  14  0.088\n",
      "White                 11  0.069\n",
      "Red                    9  0.057\n",
      "Yellow                 4  0.025\n",
      "Orange                 1  0.006\n",
      "########################################\n",
      "Number_of_Nulls   :  5861\n"
     ]
    }
   ],
   "source": [
    "summary(df,\"upholstery_color\")"
   ]
  },
  {
   "cell_type": "markdown",
   "id": "e419d6b4",
   "metadata": {},
   "source": [
    "### bu sütuna tekrar BAKALIM"
   ]
  },
  {
   "cell_type": "markdown",
   "id": "5cc20796",
   "metadata": {},
   "source": [
    "### 24-) Nr. of Doors"
   ]
  },
  {
   "cell_type": "code",
   "execution_count": 584,
   "id": "50528f8f",
   "metadata": {},
   "outputs": [],
   "source": [
    "df.rename({\"Nr. of Doors\":\"number_of_doors\"},axis=1,inplace=True)"
   ]
  },
  {
   "cell_type": "code",
   "execution_count": 585,
   "id": "79b058f1",
   "metadata": {
    "scrolled": true
   },
   "outputs": [
    {
     "name": "stdout",
     "output_type": "stream",
     "text": [
      "     number_of_doors   oran\n",
      "5              11575 72.712\n",
      "4               3079 19.342\n",
      "3                832  5.226\n",
      "2                219  1.376\n",
      "NaN              212  1.332\n",
      "1                  1  0.006\n",
      "7                  1  0.006\n",
      "########################################\n",
      "Number_of_Nulls   :  212\n"
     ]
    }
   ],
   "source": [
    "summary(df,\"number_of_doors\")"
   ]
  },
  {
   "cell_type": "code",
   "execution_count": 587,
   "id": "c1392fd4",
   "metadata": {},
   "outputs": [
    {
     "data": {
      "text/plain": [
       "0        5\n",
       "1        3\n",
       "2        4\n",
       "3        3\n",
       "4        5\n",
       "        ..\n",
       "15914    5\n",
       "15915    5\n",
       "15916    5\n",
       "15917    5\n",
       "15918    5\n",
       "Name: number_of_doors, Length: 15919, dtype: object"
      ]
     },
     "execution_count": 587,
     "metadata": {},
     "output_type": "execute_result"
    }
   ],
   "source": [
    "df[\"number_of_doors\"]   # dtype'ı değiştirilebilir temizlenecek bir şey yok başka."
   ]
  },
  {
   "cell_type": "code",
   "execution_count": 588,
   "id": "6151bf40",
   "metadata": {},
   "outputs": [],
   "source": [
    "df[\"number_of_doors\"]= df[\"number_of_doors\"].astype(float)"
   ]
  },
  {
   "cell_type": "markdown",
   "id": "8b74b791",
   "metadata": {},
   "source": [
    "### 25 -) Nr. of Seats"
   ]
  },
  {
   "cell_type": "code",
   "execution_count": 589,
   "id": "fe4834e8",
   "metadata": {},
   "outputs": [],
   "source": [
    "df.rename({\"Nr. of Seats\":\"number_of_seats\"},axis=1,inplace=True)"
   ]
  },
  {
   "cell_type": "code",
   "execution_count": 590,
   "id": "a235f6bc",
   "metadata": {},
   "outputs": [
    {
     "name": "stdout",
     "output_type": "stream",
     "text": [
      "     number_of_seats   oran\n",
      "5              13336 83.774\n",
      "4               1125  7.067\n",
      "NaN              977  6.137\n",
      "7                362  2.274\n",
      "2                116  0.729\n",
      "6                  2  0.013\n",
      "3                  1  0.006\n",
      "########################################\n",
      "Number_of_Nulls   :  977\n"
     ]
    }
   ],
   "source": [
    "summary(df,\"number_of_seats\")"
   ]
  },
  {
   "cell_type": "code",
   "execution_count": 592,
   "id": "ff46bab0",
   "metadata": {},
   "outputs": [
    {
     "data": {
      "text/plain": [
       "0        5\n",
       "1        4\n",
       "2        4\n",
       "3        4\n",
       "4        5\n",
       "        ..\n",
       "15914    5\n",
       "15915    5\n",
       "15916    7\n",
       "15917    7\n",
       "15918    5\n",
       "Name: number_of_seats, Length: 15919, dtype: object"
      ]
     },
     "execution_count": 592,
     "metadata": {},
     "output_type": "execute_result"
    }
   ],
   "source": [
    "df[\"number_of_seats\"]    # bunun da sadece dtype'ını değiştirmekle yetinilebiliriz"
   ]
  },
  {
   "cell_type": "code",
   "execution_count": 593,
   "id": "be1446d4",
   "metadata": {},
   "outputs": [],
   "source": [
    "df[\"number_of_seats\"]= df[\"number_of_seats\"].astype(float)"
   ]
  },
  {
   "cell_type": "markdown",
   "id": "83b08073",
   "metadata": {},
   "source": [
    "### 26-) Model Code"
   ]
  },
  {
   "cell_type": "code",
   "execution_count": 594,
   "id": "c93edbe0",
   "metadata": {},
   "outputs": [],
   "source": [
    "df.rename({\"Model Code\":\"model_code\"},axis=1,inplace=True)"
   ]
  },
  {
   "cell_type": "code",
   "execution_count": 595,
   "id": "5c34efa8",
   "metadata": {},
   "outputs": [
    {
     "name": "stdout",
     "output_type": "stream",
     "text": [
      "          model_code   oran\n",
      "NaN            10941 68.729\n",
      "0035/BCB         268  1.684\n",
      "0588/BNO         245  1.539\n",
      "0588/BDB         206  1.294\n",
      "0588/BHX         188  1.181\n",
      "...              ...    ...\n",
      "0035/AVN           1  0.006\n",
      "0035/BEM           1  0.006\n",
      "0035/BAG           1  0.006\n",
      "0035/BAA           1  0.006\n",
      "3333/BKG           1  0.006\n",
      "\n",
      "[233 rows x 2 columns]\n",
      "########################################\n",
      "Number_of_Nulls   :  10941\n"
     ]
    }
   ],
   "source": [
    "summary(df,\"model_code\")"
   ]
  },
  {
   "cell_type": "code",
   "execution_count": 596,
   "id": "efb179b7",
   "metadata": {},
   "outputs": [],
   "source": [
    "## url sütunu gibi bizim için düşebiliriz."
   ]
  },
  {
   "cell_type": "code",
   "execution_count": 597,
   "id": "b66eef23",
   "metadata": {},
   "outputs": [],
   "source": [
    "df.drop(columns=\"model_code\", inplace=True)"
   ]
  },
  {
   "cell_type": "code",
   "execution_count": 598,
   "id": "9f9a043d",
   "metadata": {},
   "outputs": [
    {
     "data": {
      "text/plain": [
       "(15919, 43)"
      ]
     },
     "execution_count": 598,
     "metadata": {},
     "output_type": "execute_result"
    }
   ],
   "source": [
    "df.shape"
   ]
  },
  {
   "cell_type": "markdown",
   "id": "e77d14c9",
   "metadata": {},
   "source": [
    "### 27 -) Gearing Type"
   ]
  },
  {
   "cell_type": "code",
   "execution_count": 605,
   "id": "bb39aa3e",
   "metadata": {},
   "outputs": [],
   "source": [
    "df.rename({\"Gearing Type\":\"gearing_type\"},axis=1,inplace=True)"
   ]
  },
  {
   "cell_type": "code",
   "execution_count": 606,
   "id": "2f723d14",
   "metadata": {},
   "outputs": [
    {
     "data": {
      "text/plain": [
       "0        Automatic\n",
       "1        Automatic\n",
       "2        Automatic\n",
       "3        Automatic\n",
       "4        Automatic\n",
       "           ...    \n",
       "15914    Automatic\n",
       "15915    Automatic\n",
       "15916    Automatic\n",
       "15917    Automatic\n",
       "15918    Automatic\n",
       "Name: gearing_type, Length: 15919, dtype: object"
      ]
     },
     "execution_count": 606,
     "metadata": {},
     "output_type": "execute_result"
    }
   ],
   "source": [
    "summary(df,)"
   ]
  },
  {
   "cell_type": "code",
   "execution_count": null,
   "id": "9d3472cc",
   "metadata": {},
   "outputs": [],
   "source": []
  },
  {
   "cell_type": "code",
   "execution_count": null,
   "id": "847b3c54",
   "metadata": {},
   "outputs": [],
   "source": []
  },
  {
   "cell_type": "code",
   "execution_count": null,
   "id": "6bb5543f",
   "metadata": {},
   "outputs": [],
   "source": []
  },
  {
   "cell_type": "code",
   "execution_count": null,
   "id": "2fc218ab",
   "metadata": {},
   "outputs": [],
   "source": []
  },
  {
   "cell_type": "code",
   "execution_count": null,
   "id": "1e9c7c30",
   "metadata": {},
   "outputs": [],
   "source": []
  },
  {
   "cell_type": "code",
   "execution_count": null,
   "id": "247760d2",
   "metadata": {},
   "outputs": [],
   "source": []
  },
  {
   "cell_type": "code",
   "execution_count": null,
   "id": "4e022899",
   "metadata": {},
   "outputs": [],
   "source": []
  },
  {
   "cell_type": "code",
   "execution_count": null,
   "id": "d1e7a4ac",
   "metadata": {},
   "outputs": [],
   "source": []
  },
  {
   "cell_type": "code",
   "execution_count": 511,
   "id": "42f27493",
   "metadata": {},
   "outputs": [],
   "source": [
    "## df[df.full_service.notna()][[\"full_service\",\"co_2_emission\",\"emission_class\", \"emission_label\"]].sample(50)"
   ]
  },
  {
   "cell_type": "code",
   "execution_count": null,
   "id": "52965d9a",
   "metadata": {},
   "outputs": [],
   "source": []
  },
  {
   "cell_type": "code",
   "execution_count": 257,
   "id": "cbe37bf7",
   "metadata": {},
   "outputs": [
    {
     "name": "stdout",
     "output_type": "stream",
     "text": [
      "<class 'pandas.core.frame.DataFrame'>\n",
      "RangeIndex: 15919 entries, 0 to 15918\n",
      "Data columns (total 44 columns):\n",
      " #   Column                 Non-Null Count  Dtype \n",
      "---  ------                 --------------  ----- \n",
      " 0   short_description      15873 non-null  object\n",
      " 1   body_type              15859 non-null  object\n",
      " 2   price                  15919 non-null  int64 \n",
      " 3   vat                    11406 non-null  object\n",
      " 4   km                     15919 non-null  object\n",
      " 5   registration           15919 non-null  object\n",
      " 6   prev_owner             9091 non-null   object\n",
      " 7   hp                     15919 non-null  object\n",
      " 8   Type                   15917 non-null  object\n",
      " 9   Previous Owners        9279 non-null   object\n",
      " 10  Next Inspection        3535 non-null   object\n",
      " 11  Inspection new         3932 non-null   object\n",
      " 12  Warranty               10499 non-null  object\n",
      " 13  Full Service           8215 non-null   object\n",
      " 14  Non-smoking Vehicle    7177 non-null   object\n",
      " 15  null                   15919 non-null  object\n",
      " 16  Make                   15919 non-null  object\n",
      " 17  Model                  15919 non-null  object\n",
      " 18  Offer Number           12744 non-null  object\n",
      " 19  First Registration     14322 non-null  object\n",
      " 20  Body Color             15322 non-null  object\n",
      " 21  Paint Type             10147 non-null  object\n",
      " 22  Body Color Original    12160 non-null  object\n",
      " 23  Upholstery             12199 non-null  object\n",
      " 24  Nr. of Doors           15707 non-null  object\n",
      " 25  Nr. of Seats           14942 non-null  object\n",
      " 26  Model Code             4978 non-null   object\n",
      " 27  Gearing Type           15919 non-null  object\n",
      " 28  Displacement           15423 non-null  object\n",
      " 29  Cylinders              10239 non-null  object\n",
      " 30  Weight                 8945 non-null   object\n",
      " 31  Drive chain            9061 non-null   object\n",
      " 32  Fuel                   15919 non-null  object\n",
      " 33  Consumption            14013 non-null  object\n",
      " 34  CO2 Emission           14111 non-null  object\n",
      " 35  Emission Class         12898 non-null  object\n",
      " 36  Comfort & Convenience  14999 non-null  object\n",
      " 37  Entertainment & Media  14545 non-null  object\n",
      " 38  Extras                 12957 non-null  object\n",
      " 39  Safety & Security      14937 non-null  object\n",
      " 40  description            15919 non-null  object\n",
      " 41  Emission Label         3985 non-null   object\n",
      " 42  Gears                  11207 non-null  object\n",
      " 43  Country version        7586 non-null   object\n",
      "dtypes: int64(1), object(43)\n",
      "memory usage: 5.3+ MB\n"
     ]
    }
   ],
   "source": [
    "df.info()"
   ]
  },
  {
   "cell_type": "code",
   "execution_count": null,
   "id": "ebacc7ff",
   "metadata": {},
   "outputs": [],
   "source": []
  },
  {
   "cell_type": "markdown",
   "id": "c270822a",
   "metadata": {},
   "source": [
    "### 2-) price ------> target feature"
   ]
  },
  {
   "cell_type": "code",
   "execution_count": null,
   "id": "187a735e",
   "metadata": {},
   "outputs": [],
   "source": []
  }
 ],
 "metadata": {
  "kernelspec": {
   "display_name": "Python 3 (ipykernel)",
   "language": "python",
   "name": "python3"
  },
  "language_info": {
   "codemirror_mode": {
    "name": "ipython",
    "version": 3
   },
   "file_extension": ".py",
   "mimetype": "text/x-python",
   "name": "python",
   "nbconvert_exporter": "python",
   "pygments_lexer": "ipython3",
   "version": "3.9.7"
  }
 },
 "nbformat": 4,
 "nbformat_minor": 5
}
