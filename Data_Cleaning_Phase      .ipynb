{
 "cells": [
  {
   "cell_type": "code",
   "execution_count": 1079,
   "id": "1441acce",
   "metadata": {},
   "outputs": [],
   "source": [
    "import numpy as np\n",
    "import pandas as pd\n",
    "import matplotlib.pyplot as plt\n",
    "import seaborn as sns\n",
    "import re\n",
    "from scipy import stats\n",
    "\n",
    "import warnings\n",
    "warnings.filterwarnings(\"ignore\")\n",
    "warnings.warn(\"this will not show\")\n",
    "\n",
    "plt.rcParams[\"figure.figsize\"] = (10, 6)\n",
    "\n",
    "sns.set_style(\"whitegrid\")\n",
    "pd.set_option('display.float_format', lambda x: '%.3f' % x)\n",
    "\n",
    "# Set it None to display all rows in the dataframe\n",
    "# pd.set_option('display.max_rows', None)\n",
    "\n",
    "# Set it to None to display all columns in the dataframe\n",
    "pd.set_option('display.max_columns', None)"
   ]
  },
  {
   "cell_type": "code",
   "execution_count": 1080,
   "id": "94ef3bdd",
   "metadata": {},
   "outputs": [
    {
     "data": {
      "text/html": [
       "<div>\n",
       "<style scoped>\n",
       "    .dataframe tbody tr th:only-of-type {\n",
       "        vertical-align: middle;\n",
       "    }\n",
       "\n",
       "    .dataframe tbody tr th {\n",
       "        vertical-align: top;\n",
       "    }\n",
       "\n",
       "    .dataframe thead th {\n",
       "        text-align: right;\n",
       "    }\n",
       "</style>\n",
       "<table border=\"1\" class=\"dataframe\">\n",
       "  <thead>\n",
       "    <tr style=\"text-align: right;\">\n",
       "      <th></th>\n",
       "      <th>url</th>\n",
       "      <th>make_model</th>\n",
       "      <th>short_description</th>\n",
       "      <th>body_type</th>\n",
       "      <th>price</th>\n",
       "      <th>vat</th>\n",
       "      <th>km</th>\n",
       "      <th>registration</th>\n",
       "      <th>prev_owner</th>\n",
       "      <th>kW</th>\n",
       "      <th>hp</th>\n",
       "      <th>Type</th>\n",
       "      <th>Previous Owners</th>\n",
       "      <th>Next Inspection</th>\n",
       "      <th>Inspection new</th>\n",
       "      <th>Warranty</th>\n",
       "      <th>Full Service</th>\n",
       "      <th>Non-smoking Vehicle</th>\n",
       "      <th>null</th>\n",
       "      <th>Make</th>\n",
       "      <th>Model</th>\n",
       "      <th>Offer Number</th>\n",
       "      <th>First Registration</th>\n",
       "      <th>Body Color</th>\n",
       "      <th>Paint Type</th>\n",
       "      <th>Body Color Original</th>\n",
       "      <th>Upholstery</th>\n",
       "      <th>Body</th>\n",
       "      <th>Nr. of Doors</th>\n",
       "      <th>Nr. of Seats</th>\n",
       "      <th>Model Code</th>\n",
       "      <th>Gearing Type</th>\n",
       "      <th>Displacement</th>\n",
       "      <th>Cylinders</th>\n",
       "      <th>Weight</th>\n",
       "      <th>Drive chain</th>\n",
       "      <th>Fuel</th>\n",
       "      <th>Consumption</th>\n",
       "      <th>CO2 Emission</th>\n",
       "      <th>Emission Class</th>\n",
       "      <th>\\nComfort &amp; Convenience\\n</th>\n",
       "      <th>\\nEntertainment &amp; Media\\n</th>\n",
       "      <th>\\nExtras\\n</th>\n",
       "      <th>\\nSafety &amp; Security\\n</th>\n",
       "      <th>description</th>\n",
       "      <th>Emission Label</th>\n",
       "      <th>Gears</th>\n",
       "      <th>Country version</th>\n",
       "      <th>Electricity consumption</th>\n",
       "      <th>Last Service Date</th>\n",
       "      <th>Other Fuel Types</th>\n",
       "      <th>Availability</th>\n",
       "      <th>Last Timing Belt Service Date</th>\n",
       "      <th>Available from</th>\n",
       "    </tr>\n",
       "  </thead>\n",
       "  <tbody>\n",
       "    <tr>\n",
       "      <th>0</th>\n",
       "      <td>https://www.autoscout24.com//offers/audi-a1-sp...</td>\n",
       "      <td>Audi A1</td>\n",
       "      <td>Sportback 1.4 TDI S-tronic Xenon Navi Klima</td>\n",
       "      <td>Sedans</td>\n",
       "      <td>15770</td>\n",
       "      <td>VAT deductible</td>\n",
       "      <td>56,013 km</td>\n",
       "      <td>01/2016</td>\n",
       "      <td>2 previous owners</td>\n",
       "      <td>NaN</td>\n",
       "      <td>66 kW</td>\n",
       "      <td>[, Used, , Diesel (Particulate Filter)]</td>\n",
       "      <td>\\n2\\n</td>\n",
       "      <td>[\\n06/2021\\n, \\n99 g CO2/km (comb)\\n]</td>\n",
       "      <td>[\\nYes\\n, \\nEuro 6\\n]</td>\n",
       "      <td>[\\n, \\n, \\n4 (Green)\\n]</td>\n",
       "      <td>[\\n, \\n]</td>\n",
       "      <td>[\\n, \\n]</td>\n",
       "      <td>[]</td>\n",
       "      <td>\\nAudi\\n</td>\n",
       "      <td>[\\n, A1, \\n]</td>\n",
       "      <td>[\\nLR-062483\\n]</td>\n",
       "      <td>[\\n, 2016, \\n]</td>\n",
       "      <td>[\\n, Black, \\n]</td>\n",
       "      <td>[\\nMetallic\\n]</td>\n",
       "      <td>[\\nMythosschwarz\\n]</td>\n",
       "      <td>[\\nCloth, Black\\n]</td>\n",
       "      <td>[\\n, Sedans, \\n]</td>\n",
       "      <td>[\\n5\\n]</td>\n",
       "      <td>[\\n5\\n]</td>\n",
       "      <td>[\\n0588/BDF\\n]</td>\n",
       "      <td>[\\n, Automatic, \\n]</td>\n",
       "      <td>[\\n1,422 cc\\n]</td>\n",
       "      <td>[\\n3\\n]</td>\n",
       "      <td>[\\n1,220 kg\\n]</td>\n",
       "      <td>[\\nfront\\n]</td>\n",
       "      <td>[\\n, Diesel (Particulate Filter), \\n]</td>\n",
       "      <td>[[3.8 l/100 km (comb)], [4.3 l/100 km (city)],...</td>\n",
       "      <td>[\\n99 g CO2/km (comb)\\n]</td>\n",
       "      <td>[\\nEuro 6\\n]</td>\n",
       "      <td>[Air conditioning, Armrest, Automatic climate ...</td>\n",
       "      <td>[Bluetooth, Hands-free equipment, On-board com...</td>\n",
       "      <td>[Alloy wheels, Catalytic Converter, Voice Cont...</td>\n",
       "      <td>[ABS, Central door lock, Daytime running light...</td>\n",
       "      <td>[\\n, Sicherheit:,  , Deaktivierung für Beifahr...</td>\n",
       "      <td>NaN</td>\n",
       "      <td>NaN</td>\n",
       "      <td>NaN</td>\n",
       "      <td>NaN</td>\n",
       "      <td>NaN</td>\n",
       "      <td>NaN</td>\n",
       "      <td>NaN</td>\n",
       "      <td>NaN</td>\n",
       "      <td>NaN</td>\n",
       "    </tr>\n",
       "    <tr>\n",
       "      <th>1</th>\n",
       "      <td>https://www.autoscout24.com//offers/audi-a1-1-...</td>\n",
       "      <td>Audi A1</td>\n",
       "      <td>1.8 TFSI sport</td>\n",
       "      <td>Sedans</td>\n",
       "      <td>14500</td>\n",
       "      <td>Price negotiable</td>\n",
       "      <td>80,000 km</td>\n",
       "      <td>03/2017</td>\n",
       "      <td>None</td>\n",
       "      <td>NaN</td>\n",
       "      <td>141 kW</td>\n",
       "      <td>[, Used, , Gasoline]</td>\n",
       "      <td>NaN</td>\n",
       "      <td>NaN</td>\n",
       "      <td>NaN</td>\n",
       "      <td>NaN</td>\n",
       "      <td>NaN</td>\n",
       "      <td>NaN</td>\n",
       "      <td>[]</td>\n",
       "      <td>\\nAudi\\n</td>\n",
       "      <td>[\\n, A1, \\n]</td>\n",
       "      <td>NaN</td>\n",
       "      <td>[\\n, 2017, \\n]</td>\n",
       "      <td>[\\n, Red, \\n]</td>\n",
       "      <td>NaN</td>\n",
       "      <td>NaN</td>\n",
       "      <td>[\\nCloth, Grey\\n]</td>\n",
       "      <td>[\\n, Sedans, \\n]</td>\n",
       "      <td>[\\n3\\n]</td>\n",
       "      <td>[\\n4\\n]</td>\n",
       "      <td>[\\n0588/BCY\\n]</td>\n",
       "      <td>[\\n, Automatic, \\n]</td>\n",
       "      <td>[\\n1,798 cc\\n]</td>\n",
       "      <td>[\\n4\\n]</td>\n",
       "      <td>[\\n1,255 kg\\n]</td>\n",
       "      <td>[\\nfront\\n]</td>\n",
       "      <td>[\\n, Gasoline, \\n]</td>\n",
       "      <td>[[5.6 l/100 km (comb)], [7.1 l/100 km (city)],...</td>\n",
       "      <td>[\\n129 g CO2/km (comb)\\n]</td>\n",
       "      <td>[\\nEuro 6\\n]</td>\n",
       "      <td>[Air conditioning, Automatic climate control, ...</td>\n",
       "      <td>[Bluetooth, Hands-free equipment, On-board com...</td>\n",
       "      <td>[Alloy wheels, Sport seats, Sport suspension, ...</td>\n",
       "      <td>[ABS, Central door lock, Central door lock wit...</td>\n",
       "      <td>[\\nLangstreckenfahrzeug daher die hohe Kilomet...</td>\n",
       "      <td>[\\n4 (Green)\\n]</td>\n",
       "      <td>[\\n7\\n]</td>\n",
       "      <td>NaN</td>\n",
       "      <td>NaN</td>\n",
       "      <td>NaN</td>\n",
       "      <td>NaN</td>\n",
       "      <td>NaN</td>\n",
       "      <td>NaN</td>\n",
       "      <td>NaN</td>\n",
       "    </tr>\n",
       "    <tr>\n",
       "      <th>2</th>\n",
       "      <td>https://www.autoscout24.com//offers/audi-a1-sp...</td>\n",
       "      <td>Audi A1</td>\n",
       "      <td>Sportback 1.6 TDI S tronic Einparkhilfe plus+m...</td>\n",
       "      <td>Sedans</td>\n",
       "      <td>14640</td>\n",
       "      <td>VAT deductible</td>\n",
       "      <td>83,450 km</td>\n",
       "      <td>02/2016</td>\n",
       "      <td>1 previous owner</td>\n",
       "      <td>NaN</td>\n",
       "      <td>85 kW</td>\n",
       "      <td>[, Used, , Diesel (Particulate Filter)]</td>\n",
       "      <td>\\n1\\n</td>\n",
       "      <td>NaN</td>\n",
       "      <td>NaN</td>\n",
       "      <td>[\\n, \\n, \\n99 g CO2/km (comb)\\n]</td>\n",
       "      <td>NaN</td>\n",
       "      <td>NaN</td>\n",
       "      <td>[]</td>\n",
       "      <td>\\nAudi\\n</td>\n",
       "      <td>[\\n, A1, \\n]</td>\n",
       "      <td>[\\nAM-95365\\n]</td>\n",
       "      <td>[\\n, 2016, \\n]</td>\n",
       "      <td>[\\n, Black, \\n]</td>\n",
       "      <td>[\\nMetallic\\n]</td>\n",
       "      <td>[\\nmythosschwarz metallic\\n]</td>\n",
       "      <td>[\\nCloth, Black\\n]</td>\n",
       "      <td>[\\n, Sedans, \\n]</td>\n",
       "      <td>[\\n4\\n]</td>\n",
       "      <td>[\\n4\\n]</td>\n",
       "      <td>NaN</td>\n",
       "      <td>[\\n, Automatic, \\n]</td>\n",
       "      <td>[\\n1,598 cc\\n]</td>\n",
       "      <td>NaN</td>\n",
       "      <td>NaN</td>\n",
       "      <td>[\\nfront\\n]</td>\n",
       "      <td>[\\n, Diesel (Particulate Filter), \\n]</td>\n",
       "      <td>[[3.8 l/100 km (comb)], [4.4 l/100 km (city)],...</td>\n",
       "      <td>[\\n99 g CO2/km (comb)\\n]</td>\n",
       "      <td>[\\nEuro 6\\n]</td>\n",
       "      <td>[Air conditioning, Cruise control, Electrical ...</td>\n",
       "      <td>[MP3, On-board computer]</td>\n",
       "      <td>[Alloy wheels, Voice Control]</td>\n",
       "      <td>[ABS, Central door lock, Daytime running light...</td>\n",
       "      <td>[\\n, Fahrzeug-Nummer: AM-95365,  , Ehem. UPE 2...</td>\n",
       "      <td>[\\n4 (Green)\\n]</td>\n",
       "      <td>NaN</td>\n",
       "      <td>NaN</td>\n",
       "      <td>NaN</td>\n",
       "      <td>NaN</td>\n",
       "      <td>NaN</td>\n",
       "      <td>NaN</td>\n",
       "      <td>NaN</td>\n",
       "      <td>NaN</td>\n",
       "    </tr>\n",
       "    <tr>\n",
       "      <th>3</th>\n",
       "      <td>https://www.autoscout24.com//offers/audi-a1-1-...</td>\n",
       "      <td>Audi A1</td>\n",
       "      <td>1.4 TDi Design S tronic</td>\n",
       "      <td>Sedans</td>\n",
       "      <td>14500</td>\n",
       "      <td>None</td>\n",
       "      <td>73,000 km</td>\n",
       "      <td>08/2016</td>\n",
       "      <td>1 previous owner</td>\n",
       "      <td>NaN</td>\n",
       "      <td>66 kW</td>\n",
       "      <td>[, Used, , Diesel (Particulate Filter)]</td>\n",
       "      <td>\\n1\\n</td>\n",
       "      <td>NaN</td>\n",
       "      <td>NaN</td>\n",
       "      <td>NaN</td>\n",
       "      <td>[\\n, \\n, \\n99 g CO2/km (comb)\\n]</td>\n",
       "      <td>[\\n, \\n, \\nEuro 6\\n]</td>\n",
       "      <td>[]</td>\n",
       "      <td>\\nAudi\\n</td>\n",
       "      <td>[\\n, A1, \\n]</td>\n",
       "      <td>NaN</td>\n",
       "      <td>[\\n, 2016, \\n]</td>\n",
       "      <td>[\\n, Brown, \\n]</td>\n",
       "      <td>[\\nMetallic\\n]</td>\n",
       "      <td>NaN</td>\n",
       "      <td>NaN</td>\n",
       "      <td>[\\n, Sedans, \\n]</td>\n",
       "      <td>[\\n3\\n]</td>\n",
       "      <td>[\\n4\\n]</td>\n",
       "      <td>NaN</td>\n",
       "      <td>[\\n, Automatic, \\n]</td>\n",
       "      <td>[\\n1,422 cc\\n]</td>\n",
       "      <td>[\\n3\\n]</td>\n",
       "      <td>[\\n1,195 kg\\n]</td>\n",
       "      <td>NaN</td>\n",
       "      <td>[\\n, Diesel (Particulate Filter), \\n]</td>\n",
       "      <td>[[3.8 l/100 km (comb)], [4.3 l/100 km (city)],...</td>\n",
       "      <td>[\\n99 g CO2/km (comb)\\n]</td>\n",
       "      <td>[\\nEuro 6\\n]</td>\n",
       "      <td>[Air suspension, Armrest, Auxiliary heating, E...</td>\n",
       "      <td>[Bluetooth, CD player, Hands-free equipment, M...</td>\n",
       "      <td>[Alloy wheels, Sport seats, Voice Control]</td>\n",
       "      <td>[ABS, Alarm system, Central door lock with rem...</td>\n",
       "      <td>[\\nAudi A1: , - 1e eigenaar , - Perfecte staat...</td>\n",
       "      <td>NaN</td>\n",
       "      <td>[\\n6\\n]</td>\n",
       "      <td>NaN</td>\n",
       "      <td>NaN</td>\n",
       "      <td>NaN</td>\n",
       "      <td>NaN</td>\n",
       "      <td>NaN</td>\n",
       "      <td>NaN</td>\n",
       "      <td>NaN</td>\n",
       "    </tr>\n",
       "    <tr>\n",
       "      <th>4</th>\n",
       "      <td>https://www.autoscout24.com//offers/audi-a1-sp...</td>\n",
       "      <td>Audi A1</td>\n",
       "      <td>Sportback 1.4 TDI S-Tronic S-Line Ext. admired...</td>\n",
       "      <td>Sedans</td>\n",
       "      <td>16790</td>\n",
       "      <td>None</td>\n",
       "      <td>16,200 km</td>\n",
       "      <td>05/2016</td>\n",
       "      <td>1 previous owner</td>\n",
       "      <td>NaN</td>\n",
       "      <td>66 kW</td>\n",
       "      <td>[, Used, , Diesel (Particulate Filter)]</td>\n",
       "      <td>\\n1\\n</td>\n",
       "      <td>NaN</td>\n",
       "      <td>[\\nYes\\n, \\n109 g CO2/km (comb)\\n]</td>\n",
       "      <td>[\\n, \\n, \\nEuro 6\\n]</td>\n",
       "      <td>[\\n, \\n, \\n4 (Green)\\n]</td>\n",
       "      <td>[\\n, \\n]</td>\n",
       "      <td>[]</td>\n",
       "      <td>\\nAudi\\n</td>\n",
       "      <td>[\\n, A1, \\n]</td>\n",
       "      <td>[\\nC1626\\n]</td>\n",
       "      <td>[\\n, 2016, \\n]</td>\n",
       "      <td>[\\n, Black, \\n]</td>\n",
       "      <td>[\\nMetallic\\n]</td>\n",
       "      <td>[\\nMythosschwarz Metallic\\n]</td>\n",
       "      <td>[\\nCloth, Black\\n]</td>\n",
       "      <td>[\\n, Sedans, \\n]</td>\n",
       "      <td>[\\n5\\n]</td>\n",
       "      <td>[\\n5\\n]</td>\n",
       "      <td>[\\n0588/BDF\\n]</td>\n",
       "      <td>[\\n, Automatic, \\n]</td>\n",
       "      <td>[\\n1,422 cc\\n]</td>\n",
       "      <td>[\\n3\\n]</td>\n",
       "      <td>NaN</td>\n",
       "      <td>[\\nfront\\n]</td>\n",
       "      <td>[\\n, Diesel (Particulate Filter), \\n]</td>\n",
       "      <td>[[4.1 l/100 km (comb)], [4.6 l/100 km (city)],...</td>\n",
       "      <td>[\\n109 g CO2/km (comb)\\n]</td>\n",
       "      <td>[\\nEuro 6\\n]</td>\n",
       "      <td>[Air conditioning, Armrest, Automatic climate ...</td>\n",
       "      <td>[Bluetooth, CD player, Hands-free equipment, M...</td>\n",
       "      <td>[Alloy wheels, Sport package, Sport suspension...</td>\n",
       "      <td>[ABS, Central door lock, Driver-side airbag, E...</td>\n",
       "      <td>[\\n, Technik &amp; Sicherheit:, Xenon plus, Klimaa...</td>\n",
       "      <td>NaN</td>\n",
       "      <td>NaN</td>\n",
       "      <td>[\\nGermany\\n]</td>\n",
       "      <td>NaN</td>\n",
       "      <td>NaN</td>\n",
       "      <td>NaN</td>\n",
       "      <td>NaN</td>\n",
       "      <td>NaN</td>\n",
       "      <td>NaN</td>\n",
       "    </tr>\n",
       "    <tr>\n",
       "      <th>...</th>\n",
       "      <td>...</td>\n",
       "      <td>...</td>\n",
       "      <td>...</td>\n",
       "      <td>...</td>\n",
       "      <td>...</td>\n",
       "      <td>...</td>\n",
       "      <td>...</td>\n",
       "      <td>...</td>\n",
       "      <td>...</td>\n",
       "      <td>...</td>\n",
       "      <td>...</td>\n",
       "      <td>...</td>\n",
       "      <td>...</td>\n",
       "      <td>...</td>\n",
       "      <td>...</td>\n",
       "      <td>...</td>\n",
       "      <td>...</td>\n",
       "      <td>...</td>\n",
       "      <td>...</td>\n",
       "      <td>...</td>\n",
       "      <td>...</td>\n",
       "      <td>...</td>\n",
       "      <td>...</td>\n",
       "      <td>...</td>\n",
       "      <td>...</td>\n",
       "      <td>...</td>\n",
       "      <td>...</td>\n",
       "      <td>...</td>\n",
       "      <td>...</td>\n",
       "      <td>...</td>\n",
       "      <td>...</td>\n",
       "      <td>...</td>\n",
       "      <td>...</td>\n",
       "      <td>...</td>\n",
       "      <td>...</td>\n",
       "      <td>...</td>\n",
       "      <td>...</td>\n",
       "      <td>...</td>\n",
       "      <td>...</td>\n",
       "      <td>...</td>\n",
       "      <td>...</td>\n",
       "      <td>...</td>\n",
       "      <td>...</td>\n",
       "      <td>...</td>\n",
       "      <td>...</td>\n",
       "      <td>...</td>\n",
       "      <td>...</td>\n",
       "      <td>...</td>\n",
       "      <td>...</td>\n",
       "      <td>...</td>\n",
       "      <td>...</td>\n",
       "      <td>...</td>\n",
       "      <td>...</td>\n",
       "      <td>...</td>\n",
       "    </tr>\n",
       "    <tr>\n",
       "      <th>15914</th>\n",
       "      <td>https://www.autoscout24.com//offers/renault-es...</td>\n",
       "      <td>Renault Espace</td>\n",
       "      <td>Blue dCi 200CV EDC Executive 4Control</td>\n",
       "      <td>Van</td>\n",
       "      <td>39950</td>\n",
       "      <td>VAT deductible</td>\n",
       "      <td>- km</td>\n",
       "      <td>-/-</td>\n",
       "      <td>None</td>\n",
       "      <td>NaN</td>\n",
       "      <td>147 kW</td>\n",
       "      <td>[, New, , Diesel (Particulate Filter)]</td>\n",
       "      <td>NaN</td>\n",
       "      <td>NaN</td>\n",
       "      <td>NaN</td>\n",
       "      <td>\\n24 months\\n</td>\n",
       "      <td>NaN</td>\n",
       "      <td>NaN</td>\n",
       "      <td>[]</td>\n",
       "      <td>\\nRenault\\n</td>\n",
       "      <td>[\\n, Espace, \\n]</td>\n",
       "      <td>[\\n10988301\\n]</td>\n",
       "      <td>NaN</td>\n",
       "      <td>[\\n, Grey, \\n]</td>\n",
       "      <td>[\\nMetallic\\n]</td>\n",
       "      <td>[\\nGrigio scuro\\n]</td>\n",
       "      <td>NaN</td>\n",
       "      <td>[\\n, Van, \\n]</td>\n",
       "      <td>[\\n5\\n]</td>\n",
       "      <td>[\\n5\\n]</td>\n",
       "      <td>NaN</td>\n",
       "      <td>[\\n, Automatic, \\n]</td>\n",
       "      <td>[\\n1,997 cc\\n]</td>\n",
       "      <td>[\\n4\\n]</td>\n",
       "      <td>[\\n1,758 kg\\n]</td>\n",
       "      <td>[\\nfront\\n]</td>\n",
       "      <td>[\\n, Diesel (Particulate Filter), \\n]</td>\n",
       "      <td>[[5.3 l/100 km (comb)], [6.2 l/100 km (city)],...</td>\n",
       "      <td>[\\n139 g CO2/km (comb)\\n]</td>\n",
       "      <td>NaN</td>\n",
       "      <td>[Air conditioning, Automatic climate control, ...</td>\n",
       "      <td>[Bluetooth, Digital radio, Hands-free equipmen...</td>\n",
       "      <td>[Alloy wheels, Touch screen]</td>\n",
       "      <td>[ABS, Central door lock, Central door lock wit...</td>\n",
       "      <td>[\\nVettura visionabile nella sede in Via Roma ...</td>\n",
       "      <td>NaN</td>\n",
       "      <td>[\\n6\\n]</td>\n",
       "      <td>NaN</td>\n",
       "      <td>NaN</td>\n",
       "      <td>NaN</td>\n",
       "      <td>NaN</td>\n",
       "      <td>NaN</td>\n",
       "      <td>NaN</td>\n",
       "      <td>NaN</td>\n",
       "    </tr>\n",
       "    <tr>\n",
       "      <th>15915</th>\n",
       "      <td>https://www.autoscout24.com//offers/renault-es...</td>\n",
       "      <td>Renault Espace</td>\n",
       "      <td>TCe 225 EDC GPF LIM Deluxe Pano,RFK</td>\n",
       "      <td>Van</td>\n",
       "      <td>39885</td>\n",
       "      <td>VAT deductible</td>\n",
       "      <td>9,900 km</td>\n",
       "      <td>01/2019</td>\n",
       "      <td>1 previous owner</td>\n",
       "      <td>NaN</td>\n",
       "      <td>165 kW</td>\n",
       "      <td>[, Used, , Super 95 / Super Plus 98 (Particula...</td>\n",
       "      <td>[\\n1\\n, \\n, 7.4 l/100 km (comb), \\n, 9.2 l/100...</td>\n",
       "      <td>[\\n01/2022\\n, \\n168 g CO2/km (comb)\\n]</td>\n",
       "      <td>NaN</td>\n",
       "      <td>[\\n, \\n, \\nEuro 6\\n]</td>\n",
       "      <td>NaN</td>\n",
       "      <td>[\\n, \\n, \\n4 (Green)\\n]</td>\n",
       "      <td>[]</td>\n",
       "      <td>\\nRenault\\n</td>\n",
       "      <td>[\\n, Espace, \\n]</td>\n",
       "      <td>[\\n507370_3223\\n]</td>\n",
       "      <td>[\\n, 2019, \\n]</td>\n",
       "      <td>[\\n, Grey, \\n]</td>\n",
       "      <td>[\\nMetallic\\n]</td>\n",
       "      <td>[\\nStahl-Grau Metallic\\n]</td>\n",
       "      <td>[\\nCloth\\n]</td>\n",
       "      <td>[\\n, Van, \\n]</td>\n",
       "      <td>[\\n5\\n]</td>\n",
       "      <td>[\\n5\\n]</td>\n",
       "      <td>[\\n0000/000\\n]</td>\n",
       "      <td>[\\n, Automatic, \\n]</td>\n",
       "      <td>[\\n1,798 cc\\n]</td>\n",
       "      <td>[\\n4\\n]</td>\n",
       "      <td>[\\n1,708 kg\\n]</td>\n",
       "      <td>[\\nfront\\n]</td>\n",
       "      <td>[\\n, Super 95 / Super Plus 98 (Particulate Fil...</td>\n",
       "      <td>[\\n, 7.4 l/100 km (comb), \\n, 9.2 l/100 km (ci...</td>\n",
       "      <td>[\\n168 g CO2/km (comb)\\n]</td>\n",
       "      <td>NaN</td>\n",
       "      <td>[Air conditioning, Automatic climate control, ...</td>\n",
       "      <td>[Bluetooth, Digital radio, Hands-free equipmen...</td>\n",
       "      <td>[Alloy wheels, Touch screen, Voice Control]</td>\n",
       "      <td>[ABS, Adaptive Cruise Control, Blind spot moni...</td>\n",
       "      <td>[\\nDach: Panorama-Glas-Schiebedach, Lackierung...</td>\n",
       "      <td>NaN</td>\n",
       "      <td>[\\n7\\n]</td>\n",
       "      <td>[\\nGermany\\n]</td>\n",
       "      <td>NaN</td>\n",
       "      <td>NaN</td>\n",
       "      <td>[[], [], []]</td>\n",
       "      <td>\\nin 5 days from ordering\\n</td>\n",
       "      <td>NaN</td>\n",
       "      <td>NaN</td>\n",
       "    </tr>\n",
       "    <tr>\n",
       "      <th>15916</th>\n",
       "      <td>https://www.autoscout24.com//offers/renault-es...</td>\n",
       "      <td>Renault Espace</td>\n",
       "      <td>Blue dCi 200 EDC Initiale Paris Leder LED Navi...</td>\n",
       "      <td>Van</td>\n",
       "      <td>39875</td>\n",
       "      <td>VAT deductible</td>\n",
       "      <td>15 km</td>\n",
       "      <td>03/2019</td>\n",
       "      <td>1 previous owner</td>\n",
       "      <td>NaN</td>\n",
       "      <td>146 kW</td>\n",
       "      <td>[, Pre-registered, , Diesel]</td>\n",
       "      <td>[\\n1\\n, \\n139 g CO2/km (comb)\\n]</td>\n",
       "      <td>NaN</td>\n",
       "      <td>[\\nYes\\n, \\nEuro 6d-TEMP\\n]</td>\n",
       "      <td>[\\n, \\n, \\n4 (Green)\\n]</td>\n",
       "      <td>[\\n, \\n]</td>\n",
       "      <td>[\\n, \\n]</td>\n",
       "      <td>[]</td>\n",
       "      <td>\\nRenault\\n</td>\n",
       "      <td>[\\n, Espace, \\n]</td>\n",
       "      <td>[\\nEspace16\\n]</td>\n",
       "      <td>[\\n, 2019, \\n]</td>\n",
       "      <td>[\\n, White, \\n]</td>\n",
       "      <td>NaN</td>\n",
       "      <td>[\\narktis-weiß\\n]</td>\n",
       "      <td>[\\nFull leather, Black\\n]</td>\n",
       "      <td>[\\n, Van, \\n]</td>\n",
       "      <td>[\\n5\\n]</td>\n",
       "      <td>[\\n7\\n]</td>\n",
       "      <td>NaN</td>\n",
       "      <td>[\\n, Automatic, \\n]</td>\n",
       "      <td>[\\n1,997 cc\\n]</td>\n",
       "      <td>[\\n4\\n]</td>\n",
       "      <td>NaN</td>\n",
       "      <td>[\\nfront\\n]</td>\n",
       "      <td>[\\n, Diesel, \\n]</td>\n",
       "      <td>[[5.3 l/100 km (comb)], [6.2 l/100 km (city)],...</td>\n",
       "      <td>[\\n139 g CO2/km (comb)\\n]</td>\n",
       "      <td>[\\nEuro 6d-TEMP\\n]</td>\n",
       "      <td>[Air conditioning, Armrest, Automatic climate ...</td>\n",
       "      <td>[Bluetooth, Hands-free equipment, On-board com...</td>\n",
       "      <td>[Alloy wheels]</td>\n",
       "      <td>[ABS, Adaptive Cruise Control, Blind spot moni...</td>\n",
       "      <td>[\\n, Getriebe:,  Automatik, Technik:,  Bordcom...</td>\n",
       "      <td>NaN</td>\n",
       "      <td>[\\n6\\n]</td>\n",
       "      <td>[\\nAustria\\n]</td>\n",
       "      <td>NaN</td>\n",
       "      <td>NaN</td>\n",
       "      <td>NaN</td>\n",
       "      <td>\\nin 120 days from ordering\\n</td>\n",
       "      <td>NaN</td>\n",
       "      <td>NaN</td>\n",
       "    </tr>\n",
       "    <tr>\n",
       "      <th>15917</th>\n",
       "      <td>https://www.autoscout24.com//offers/renault-es...</td>\n",
       "      <td>Renault Espace</td>\n",
       "      <td>Blue dCi 200CV EDC Business , NUOVA DA IMMATRI...</td>\n",
       "      <td>Van</td>\n",
       "      <td>39700</td>\n",
       "      <td>VAT deductible</td>\n",
       "      <td>10 km</td>\n",
       "      <td>06/2019</td>\n",
       "      <td>None</td>\n",
       "      <td>NaN</td>\n",
       "      <td>147 kW</td>\n",
       "      <td>[, Pre-registered, , Diesel]</td>\n",
       "      <td>NaN</td>\n",
       "      <td>NaN</td>\n",
       "      <td>NaN</td>\n",
       "      <td>\\n</td>\n",
       "      <td>NaN</td>\n",
       "      <td>NaN</td>\n",
       "      <td>[]</td>\n",
       "      <td>\\nRenault\\n</td>\n",
       "      <td>[\\n, Espace, \\n]</td>\n",
       "      <td>[\\n2691331\\n]</td>\n",
       "      <td>[\\n, 2019, \\n]</td>\n",
       "      <td>[\\n, Grey, \\n]</td>\n",
       "      <td>NaN</td>\n",
       "      <td>[\\nGrigio\\n]</td>\n",
       "      <td>[\\nPart leather\\n]</td>\n",
       "      <td>[\\n, Van, \\n]</td>\n",
       "      <td>[\\n5\\n]</td>\n",
       "      <td>[\\n7\\n]</td>\n",
       "      <td>NaN</td>\n",
       "      <td>[\\n, Automatic, \\n]</td>\n",
       "      <td>[\\n1,997 cc\\n]</td>\n",
       "      <td>[\\n4\\n]</td>\n",
       "      <td>[\\n1,758 kg\\n]</td>\n",
       "      <td>[\\nfront\\n]</td>\n",
       "      <td>[\\n, Diesel, \\n]</td>\n",
       "      <td>[[5.3 l/100 km (comb)], [6.2 l/100 km (city)],...</td>\n",
       "      <td>[\\n139 g CO2/km (comb)\\n]</td>\n",
       "      <td>[\\nEuro 6\\n]</td>\n",
       "      <td>[Air conditioning, Automatic climate control, ...</td>\n",
       "      <td>[Bluetooth, Digital radio, Radio, USB]</td>\n",
       "      <td>[Alloy wheels, Touch screen]</td>\n",
       "      <td>[ABS, Blind spot monitor, Driver-side airbag, ...</td>\n",
       "      <td>[\\nDEK:[2691331], Renault Espace Blue dCi 200C...</td>\n",
       "      <td>NaN</td>\n",
       "      <td>[\\n6\\n]</td>\n",
       "      <td>NaN</td>\n",
       "      <td>NaN</td>\n",
       "      <td>NaN</td>\n",
       "      <td>NaN</td>\n",
       "      <td>NaN</td>\n",
       "      <td>NaN</td>\n",
       "      <td>NaN</td>\n",
       "    </tr>\n",
       "    <tr>\n",
       "      <th>15918</th>\n",
       "      <td>https://www.autoscout24.com//offers/renault-es...</td>\n",
       "      <td>Renault Espace</td>\n",
       "      <td>INITIALE PARIS TCe 225 EDC GPF NAVI SHZ AUX</td>\n",
       "      <td>Van</td>\n",
       "      <td>40999</td>\n",
       "      <td>VAT deductible</td>\n",
       "      <td>- km</td>\n",
       "      <td>01/2019</td>\n",
       "      <td>1 previous owner</td>\n",
       "      <td>NaN</td>\n",
       "      <td>165 kW</td>\n",
       "      <td>[, Demonstration, , Super 95]</td>\n",
       "      <td>\\n1\\n</td>\n",
       "      <td>NaN</td>\n",
       "      <td>[\\nYes\\n, \\n153 g CO2/km (comb)\\n]</td>\n",
       "      <td>NaN</td>\n",
       "      <td>NaN</td>\n",
       "      <td>NaN</td>\n",
       "      <td>[]</td>\n",
       "      <td>\\nRenault\\n</td>\n",
       "      <td>[\\n, Espace, \\n]</td>\n",
       "      <td>[\\nRe_30000008029\\n]</td>\n",
       "      <td>[\\n, 2019, \\n]</td>\n",
       "      <td>[\\n, Grey, \\n]</td>\n",
       "      <td>[\\nMetallic\\n]</td>\n",
       "      <td>[\\nTitanium-Grau Metallic\\n]</td>\n",
       "      <td>[\\nFull leather, Brown\\n]</td>\n",
       "      <td>[\\n, Van, \\n]</td>\n",
       "      <td>[\\n5\\n]</td>\n",
       "      <td>[\\n5\\n]</td>\n",
       "      <td>[\\n3333/BHJ\\n]</td>\n",
       "      <td>[\\n, Automatic, \\n]</td>\n",
       "      <td>[\\n1,798 cc\\n]</td>\n",
       "      <td>[\\n4\\n]</td>\n",
       "      <td>[\\n1,685 kg\\n]</td>\n",
       "      <td>[\\n4WD\\n]</td>\n",
       "      <td>[\\n, Super 95, \\n]</td>\n",
       "      <td>[[6.8 l/100 km (comb)], [8.7 l/100 km (city)],...</td>\n",
       "      <td>[\\n153 g CO2/km (comb)\\n]</td>\n",
       "      <td>[\\nEuro 6\\n]</td>\n",
       "      <td>[Air conditioning, Automatic climate control, ...</td>\n",
       "      <td>[USB]</td>\n",
       "      <td>[Alloy wheels, Touch screen]</td>\n",
       "      <td>[ABS, Blind spot monitor, Daytime running ligh...</td>\n",
       "      <td>[\\n, Sicherheit Airbags:,  , Seitenairbag,  , ...</td>\n",
       "      <td>[\\n4 (Green)\\n]</td>\n",
       "      <td>NaN</td>\n",
       "      <td>[\\nGermany\\n]</td>\n",
       "      <td>NaN</td>\n",
       "      <td>NaN</td>\n",
       "      <td>NaN</td>\n",
       "      <td>NaN</td>\n",
       "      <td>NaN</td>\n",
       "      <td>NaN</td>\n",
       "    </tr>\n",
       "  </tbody>\n",
       "</table>\n",
       "<p>15919 rows × 54 columns</p>\n",
       "</div>"
      ],
      "text/plain": [
       "                                                     url      make_model  \\\n",
       "0      https://www.autoscout24.com//offers/audi-a1-sp...         Audi A1   \n",
       "1      https://www.autoscout24.com//offers/audi-a1-1-...         Audi A1   \n",
       "2      https://www.autoscout24.com//offers/audi-a1-sp...         Audi A1   \n",
       "3      https://www.autoscout24.com//offers/audi-a1-1-...         Audi A1   \n",
       "4      https://www.autoscout24.com//offers/audi-a1-sp...         Audi A1   \n",
       "...                                                  ...             ...   \n",
       "15914  https://www.autoscout24.com//offers/renault-es...  Renault Espace   \n",
       "15915  https://www.autoscout24.com//offers/renault-es...  Renault Espace   \n",
       "15916  https://www.autoscout24.com//offers/renault-es...  Renault Espace   \n",
       "15917  https://www.autoscout24.com//offers/renault-es...  Renault Espace   \n",
       "15918  https://www.autoscout24.com//offers/renault-es...  Renault Espace   \n",
       "\n",
       "                                       short_description body_type  price  \\\n",
       "0            Sportback 1.4 TDI S-tronic Xenon Navi Klima    Sedans  15770   \n",
       "1                                         1.8 TFSI sport    Sedans  14500   \n",
       "2      Sportback 1.6 TDI S tronic Einparkhilfe plus+m...    Sedans  14640   \n",
       "3                                1.4 TDi Design S tronic    Sedans  14500   \n",
       "4      Sportback 1.4 TDI S-Tronic S-Line Ext. admired...    Sedans  16790   \n",
       "...                                                  ...       ...    ...   \n",
       "15914              Blue dCi 200CV EDC Executive 4Control       Van  39950   \n",
       "15915                TCe 225 EDC GPF LIM Deluxe Pano,RFK       Van  39885   \n",
       "15916  Blue dCi 200 EDC Initiale Paris Leder LED Navi...       Van  39875   \n",
       "15917  Blue dCi 200CV EDC Business , NUOVA DA IMMATRI...       Van  39700   \n",
       "15918        INITIALE PARIS TCe 225 EDC GPF NAVI SHZ AUX       Van  40999   \n",
       "\n",
       "                    vat         km registration         prev_owner  kW  \\\n",
       "0        VAT deductible  56,013 km      01/2016  2 previous owners NaN   \n",
       "1      Price negotiable  80,000 km      03/2017               None NaN   \n",
       "2        VAT deductible  83,450 km      02/2016   1 previous owner NaN   \n",
       "3                  None  73,000 km      08/2016   1 previous owner NaN   \n",
       "4                  None  16,200 km      05/2016   1 previous owner NaN   \n",
       "...                 ...        ...          ...                ...  ..   \n",
       "15914    VAT deductible       - km          -/-               None NaN   \n",
       "15915    VAT deductible   9,900 km      01/2019   1 previous owner NaN   \n",
       "15916    VAT deductible      15 km      03/2019   1 previous owner NaN   \n",
       "15917    VAT deductible      10 km      06/2019               None NaN   \n",
       "15918    VAT deductible       - km      01/2019   1 previous owner NaN   \n",
       "\n",
       "           hp                                               Type  \\\n",
       "0       66 kW            [, Used, , Diesel (Particulate Filter)]   \n",
       "1      141 kW                               [, Used, , Gasoline]   \n",
       "2       85 kW            [, Used, , Diesel (Particulate Filter)]   \n",
       "3       66 kW            [, Used, , Diesel (Particulate Filter)]   \n",
       "4       66 kW            [, Used, , Diesel (Particulate Filter)]   \n",
       "...       ...                                                ...   \n",
       "15914  147 kW             [, New, , Diesel (Particulate Filter)]   \n",
       "15915  165 kW  [, Used, , Super 95 / Super Plus 98 (Particula...   \n",
       "15916  146 kW                       [, Pre-registered, , Diesel]   \n",
       "15917  147 kW                       [, Pre-registered, , Diesel]   \n",
       "15918  165 kW                      [, Demonstration, , Super 95]   \n",
       "\n",
       "                                         Previous Owners  \\\n",
       "0                                                  \\n2\\n   \n",
       "1                                                    NaN   \n",
       "2                                                  \\n1\\n   \n",
       "3                                                  \\n1\\n   \n",
       "4                                                  \\n1\\n   \n",
       "...                                                  ...   \n",
       "15914                                                NaN   \n",
       "15915  [\\n1\\n, \\n, 7.4 l/100 km (comb), \\n, 9.2 l/100...   \n",
       "15916                   [\\n1\\n, \\n139 g CO2/km (comb)\\n]   \n",
       "15917                                                NaN   \n",
       "15918                                              \\n1\\n   \n",
       "\n",
       "                              Next Inspection  \\\n",
       "0       [\\n06/2021\\n, \\n99 g CO2/km (comb)\\n]   \n",
       "1                                         NaN   \n",
       "2                                         NaN   \n",
       "3                                         NaN   \n",
       "4                                         NaN   \n",
       "...                                       ...   \n",
       "15914                                     NaN   \n",
       "15915  [\\n01/2022\\n, \\n168 g CO2/km (comb)\\n]   \n",
       "15916                                     NaN   \n",
       "15917                                     NaN   \n",
       "15918                                     NaN   \n",
       "\n",
       "                           Inspection new                          Warranty  \\\n",
       "0                   [\\nYes\\n, \\nEuro 6\\n]           [\\n, \\n, \\n4 (Green)\\n]   \n",
       "1                                     NaN                               NaN   \n",
       "2                                     NaN  [\\n, \\n, \\n99 g CO2/km (comb)\\n]   \n",
       "3                                     NaN                               NaN   \n",
       "4      [\\nYes\\n, \\n109 g CO2/km (comb)\\n]              [\\n, \\n, \\nEuro 6\\n]   \n",
       "...                                   ...                               ...   \n",
       "15914                                 NaN                     \\n24 months\\n   \n",
       "15915                                 NaN              [\\n, \\n, \\nEuro 6\\n]   \n",
       "15916         [\\nYes\\n, \\nEuro 6d-TEMP\\n]           [\\n, \\n, \\n4 (Green)\\n]   \n",
       "15917                                 NaN                                \\n   \n",
       "15918  [\\nYes\\n, \\n153 g CO2/km (comb)\\n]                               NaN   \n",
       "\n",
       "                           Full Service      Non-smoking Vehicle null  \\\n",
       "0                              [\\n, \\n]                 [\\n, \\n]   []   \n",
       "1                                   NaN                      NaN   []   \n",
       "2                                   NaN                      NaN   []   \n",
       "3      [\\n, \\n, \\n99 g CO2/km (comb)\\n]     [\\n, \\n, \\nEuro 6\\n]   []   \n",
       "4               [\\n, \\n, \\n4 (Green)\\n]                 [\\n, \\n]   []   \n",
       "...                                 ...                      ...  ...   \n",
       "15914                               NaN                      NaN   []   \n",
       "15915                               NaN  [\\n, \\n, \\n4 (Green)\\n]   []   \n",
       "15916                          [\\n, \\n]                 [\\n, \\n]   []   \n",
       "15917                               NaN                      NaN   []   \n",
       "15918                               NaN                      NaN   []   \n",
       "\n",
       "              Make             Model          Offer Number First Registration  \\\n",
       "0         \\nAudi\\n      [\\n, A1, \\n]       [\\nLR-062483\\n]     [\\n, 2016, \\n]   \n",
       "1         \\nAudi\\n      [\\n, A1, \\n]                   NaN     [\\n, 2017, \\n]   \n",
       "2         \\nAudi\\n      [\\n, A1, \\n]        [\\nAM-95365\\n]     [\\n, 2016, \\n]   \n",
       "3         \\nAudi\\n      [\\n, A1, \\n]                   NaN     [\\n, 2016, \\n]   \n",
       "4         \\nAudi\\n      [\\n, A1, \\n]           [\\nC1626\\n]     [\\n, 2016, \\n]   \n",
       "...            ...               ...                   ...                ...   \n",
       "15914  \\nRenault\\n  [\\n, Espace, \\n]        [\\n10988301\\n]                NaN   \n",
       "15915  \\nRenault\\n  [\\n, Espace, \\n]     [\\n507370_3223\\n]     [\\n, 2019, \\n]   \n",
       "15916  \\nRenault\\n  [\\n, Espace, \\n]        [\\nEspace16\\n]     [\\n, 2019, \\n]   \n",
       "15917  \\nRenault\\n  [\\n, Espace, \\n]         [\\n2691331\\n]     [\\n, 2019, \\n]   \n",
       "15918  \\nRenault\\n  [\\n, Espace, \\n]  [\\nRe_30000008029\\n]     [\\n, 2019, \\n]   \n",
       "\n",
       "            Body Color      Paint Type           Body Color Original  \\\n",
       "0      [\\n, Black, \\n]  [\\nMetallic\\n]           [\\nMythosschwarz\\n]   \n",
       "1        [\\n, Red, \\n]             NaN                           NaN   \n",
       "2      [\\n, Black, \\n]  [\\nMetallic\\n]  [\\nmythosschwarz metallic\\n]   \n",
       "3      [\\n, Brown, \\n]  [\\nMetallic\\n]                           NaN   \n",
       "4      [\\n, Black, \\n]  [\\nMetallic\\n]  [\\nMythosschwarz Metallic\\n]   \n",
       "...                ...             ...                           ...   \n",
       "15914   [\\n, Grey, \\n]  [\\nMetallic\\n]            [\\nGrigio scuro\\n]   \n",
       "15915   [\\n, Grey, \\n]  [\\nMetallic\\n]     [\\nStahl-Grau Metallic\\n]   \n",
       "15916  [\\n, White, \\n]             NaN             [\\narktis-weiß\\n]   \n",
       "15917   [\\n, Grey, \\n]             NaN                  [\\nGrigio\\n]   \n",
       "15918   [\\n, Grey, \\n]  [\\nMetallic\\n]  [\\nTitanium-Grau Metallic\\n]   \n",
       "\n",
       "                      Upholstery              Body Nr. of Doors Nr. of Seats  \\\n",
       "0             [\\nCloth, Black\\n]  [\\n, Sedans, \\n]      [\\n5\\n]      [\\n5\\n]   \n",
       "1              [\\nCloth, Grey\\n]  [\\n, Sedans, \\n]      [\\n3\\n]      [\\n4\\n]   \n",
       "2             [\\nCloth, Black\\n]  [\\n, Sedans, \\n]      [\\n4\\n]      [\\n4\\n]   \n",
       "3                            NaN  [\\n, Sedans, \\n]      [\\n3\\n]      [\\n4\\n]   \n",
       "4             [\\nCloth, Black\\n]  [\\n, Sedans, \\n]      [\\n5\\n]      [\\n5\\n]   \n",
       "...                          ...               ...          ...          ...   \n",
       "15914                        NaN     [\\n, Van, \\n]      [\\n5\\n]      [\\n5\\n]   \n",
       "15915                [\\nCloth\\n]     [\\n, Van, \\n]      [\\n5\\n]      [\\n5\\n]   \n",
       "15916  [\\nFull leather, Black\\n]     [\\n, Van, \\n]      [\\n5\\n]      [\\n7\\n]   \n",
       "15917         [\\nPart leather\\n]     [\\n, Van, \\n]      [\\n5\\n]      [\\n7\\n]   \n",
       "15918  [\\nFull leather, Brown\\n]     [\\n, Van, \\n]      [\\n5\\n]      [\\n5\\n]   \n",
       "\n",
       "           Model Code         Gearing Type    Displacement Cylinders  \\\n",
       "0      [\\n0588/BDF\\n]  [\\n, Automatic, \\n]  [\\n1,422 cc\\n]   [\\n3\\n]   \n",
       "1      [\\n0588/BCY\\n]  [\\n, Automatic, \\n]  [\\n1,798 cc\\n]   [\\n4\\n]   \n",
       "2                 NaN  [\\n, Automatic, \\n]  [\\n1,598 cc\\n]       NaN   \n",
       "3                 NaN  [\\n, Automatic, \\n]  [\\n1,422 cc\\n]   [\\n3\\n]   \n",
       "4      [\\n0588/BDF\\n]  [\\n, Automatic, \\n]  [\\n1,422 cc\\n]   [\\n3\\n]   \n",
       "...               ...                  ...             ...       ...   \n",
       "15914             NaN  [\\n, Automatic, \\n]  [\\n1,997 cc\\n]   [\\n4\\n]   \n",
       "15915  [\\n0000/000\\n]  [\\n, Automatic, \\n]  [\\n1,798 cc\\n]   [\\n4\\n]   \n",
       "15916             NaN  [\\n, Automatic, \\n]  [\\n1,997 cc\\n]   [\\n4\\n]   \n",
       "15917             NaN  [\\n, Automatic, \\n]  [\\n1,997 cc\\n]   [\\n4\\n]   \n",
       "15918  [\\n3333/BHJ\\n]  [\\n, Automatic, \\n]  [\\n1,798 cc\\n]   [\\n4\\n]   \n",
       "\n",
       "               Weight  Drive chain  \\\n",
       "0      [\\n1,220 kg\\n]  [\\nfront\\n]   \n",
       "1      [\\n1,255 kg\\n]  [\\nfront\\n]   \n",
       "2                 NaN  [\\nfront\\n]   \n",
       "3      [\\n1,195 kg\\n]          NaN   \n",
       "4                 NaN  [\\nfront\\n]   \n",
       "...               ...          ...   \n",
       "15914  [\\n1,758 kg\\n]  [\\nfront\\n]   \n",
       "15915  [\\n1,708 kg\\n]  [\\nfront\\n]   \n",
       "15916             NaN  [\\nfront\\n]   \n",
       "15917  [\\n1,758 kg\\n]  [\\nfront\\n]   \n",
       "15918  [\\n1,685 kg\\n]    [\\n4WD\\n]   \n",
       "\n",
       "                                                    Fuel  \\\n",
       "0                  [\\n, Diesel (Particulate Filter), \\n]   \n",
       "1                                     [\\n, Gasoline, \\n]   \n",
       "2                  [\\n, Diesel (Particulate Filter), \\n]   \n",
       "3                  [\\n, Diesel (Particulate Filter), \\n]   \n",
       "4                  [\\n, Diesel (Particulate Filter), \\n]   \n",
       "...                                                  ...   \n",
       "15914              [\\n, Diesel (Particulate Filter), \\n]   \n",
       "15915  [\\n, Super 95 / Super Plus 98 (Particulate Fil...   \n",
       "15916                                   [\\n, Diesel, \\n]   \n",
       "15917                                   [\\n, Diesel, \\n]   \n",
       "15918                                 [\\n, Super 95, \\n]   \n",
       "\n",
       "                                             Consumption  \\\n",
       "0      [[3.8 l/100 km (comb)], [4.3 l/100 km (city)],...   \n",
       "1      [[5.6 l/100 km (comb)], [7.1 l/100 km (city)],...   \n",
       "2      [[3.8 l/100 km (comb)], [4.4 l/100 km (city)],...   \n",
       "3      [[3.8 l/100 km (comb)], [4.3 l/100 km (city)],...   \n",
       "4      [[4.1 l/100 km (comb)], [4.6 l/100 km (city)],...   \n",
       "...                                                  ...   \n",
       "15914  [[5.3 l/100 km (comb)], [6.2 l/100 km (city)],...   \n",
       "15915  [\\n, 7.4 l/100 km (comb), \\n, 9.2 l/100 km (ci...   \n",
       "15916  [[5.3 l/100 km (comb)], [6.2 l/100 km (city)],...   \n",
       "15917  [[5.3 l/100 km (comb)], [6.2 l/100 km (city)],...   \n",
       "15918  [[6.8 l/100 km (comb)], [8.7 l/100 km (city)],...   \n",
       "\n",
       "                    CO2 Emission      Emission Class  \\\n",
       "0       [\\n99 g CO2/km (comb)\\n]        [\\nEuro 6\\n]   \n",
       "1      [\\n129 g CO2/km (comb)\\n]        [\\nEuro 6\\n]   \n",
       "2       [\\n99 g CO2/km (comb)\\n]        [\\nEuro 6\\n]   \n",
       "3       [\\n99 g CO2/km (comb)\\n]        [\\nEuro 6\\n]   \n",
       "4      [\\n109 g CO2/km (comb)\\n]        [\\nEuro 6\\n]   \n",
       "...                          ...                 ...   \n",
       "15914  [\\n139 g CO2/km (comb)\\n]                 NaN   \n",
       "15915  [\\n168 g CO2/km (comb)\\n]                 NaN   \n",
       "15916  [\\n139 g CO2/km (comb)\\n]  [\\nEuro 6d-TEMP\\n]   \n",
       "15917  [\\n139 g CO2/km (comb)\\n]        [\\nEuro 6\\n]   \n",
       "15918  [\\n153 g CO2/km (comb)\\n]        [\\nEuro 6\\n]   \n",
       "\n",
       "                               \\nComfort & Convenience\\n  \\\n",
       "0      [Air conditioning, Armrest, Automatic climate ...   \n",
       "1      [Air conditioning, Automatic climate control, ...   \n",
       "2      [Air conditioning, Cruise control, Electrical ...   \n",
       "3      [Air suspension, Armrest, Auxiliary heating, E...   \n",
       "4      [Air conditioning, Armrest, Automatic climate ...   \n",
       "...                                                  ...   \n",
       "15914  [Air conditioning, Automatic climate control, ...   \n",
       "15915  [Air conditioning, Automatic climate control, ...   \n",
       "15916  [Air conditioning, Armrest, Automatic climate ...   \n",
       "15917  [Air conditioning, Automatic climate control, ...   \n",
       "15918  [Air conditioning, Automatic climate control, ...   \n",
       "\n",
       "                               \\nEntertainment & Media\\n  \\\n",
       "0      [Bluetooth, Hands-free equipment, On-board com...   \n",
       "1      [Bluetooth, Hands-free equipment, On-board com...   \n",
       "2                               [MP3, On-board computer]   \n",
       "3      [Bluetooth, CD player, Hands-free equipment, M...   \n",
       "4      [Bluetooth, CD player, Hands-free equipment, M...   \n",
       "...                                                  ...   \n",
       "15914  [Bluetooth, Digital radio, Hands-free equipmen...   \n",
       "15915  [Bluetooth, Digital radio, Hands-free equipmen...   \n",
       "15916  [Bluetooth, Hands-free equipment, On-board com...   \n",
       "15917             [Bluetooth, Digital radio, Radio, USB]   \n",
       "15918                                              [USB]   \n",
       "\n",
       "                                              \\nExtras\\n  \\\n",
       "0      [Alloy wheels, Catalytic Converter, Voice Cont...   \n",
       "1      [Alloy wheels, Sport seats, Sport suspension, ...   \n",
       "2                          [Alloy wheels, Voice Control]   \n",
       "3             [Alloy wheels, Sport seats, Voice Control]   \n",
       "4      [Alloy wheels, Sport package, Sport suspension...   \n",
       "...                                                  ...   \n",
       "15914                       [Alloy wheels, Touch screen]   \n",
       "15915        [Alloy wheels, Touch screen, Voice Control]   \n",
       "15916                                     [Alloy wheels]   \n",
       "15917                       [Alloy wheels, Touch screen]   \n",
       "15918                       [Alloy wheels, Touch screen]   \n",
       "\n",
       "                                   \\nSafety & Security\\n  \\\n",
       "0      [ABS, Central door lock, Daytime running light...   \n",
       "1      [ABS, Central door lock, Central door lock wit...   \n",
       "2      [ABS, Central door lock, Daytime running light...   \n",
       "3      [ABS, Alarm system, Central door lock with rem...   \n",
       "4      [ABS, Central door lock, Driver-side airbag, E...   \n",
       "...                                                  ...   \n",
       "15914  [ABS, Central door lock, Central door lock wit...   \n",
       "15915  [ABS, Adaptive Cruise Control, Blind spot moni...   \n",
       "15916  [ABS, Adaptive Cruise Control, Blind spot moni...   \n",
       "15917  [ABS, Blind spot monitor, Driver-side airbag, ...   \n",
       "15918  [ABS, Blind spot monitor, Daytime running ligh...   \n",
       "\n",
       "                                             description   Emission Label  \\\n",
       "0      [\\n, Sicherheit:,  , Deaktivierung für Beifahr...              NaN   \n",
       "1      [\\nLangstreckenfahrzeug daher die hohe Kilomet...  [\\n4 (Green)\\n]   \n",
       "2      [\\n, Fahrzeug-Nummer: AM-95365,  , Ehem. UPE 2...  [\\n4 (Green)\\n]   \n",
       "3      [\\nAudi A1: , - 1e eigenaar , - Perfecte staat...              NaN   \n",
       "4      [\\n, Technik & Sicherheit:, Xenon plus, Klimaa...              NaN   \n",
       "...                                                  ...              ...   \n",
       "15914  [\\nVettura visionabile nella sede in Via Roma ...              NaN   \n",
       "15915  [\\nDach: Panorama-Glas-Schiebedach, Lackierung...              NaN   \n",
       "15916  [\\n, Getriebe:,  Automatik, Technik:,  Bordcom...              NaN   \n",
       "15917  [\\nDEK:[2691331], Renault Espace Blue dCi 200C...              NaN   \n",
       "15918  [\\n, Sicherheit Airbags:,  , Seitenairbag,  , ...  [\\n4 (Green)\\n]   \n",
       "\n",
       "         Gears Country version Electricity consumption Last Service Date  \\\n",
       "0          NaN             NaN                     NaN               NaN   \n",
       "1      [\\n7\\n]             NaN                     NaN               NaN   \n",
       "2          NaN             NaN                     NaN               NaN   \n",
       "3      [\\n6\\n]             NaN                     NaN               NaN   \n",
       "4          NaN   [\\nGermany\\n]                     NaN               NaN   \n",
       "...        ...             ...                     ...               ...   \n",
       "15914  [\\n6\\n]             NaN                     NaN               NaN   \n",
       "15915  [\\n7\\n]   [\\nGermany\\n]                     NaN               NaN   \n",
       "15916  [\\n6\\n]   [\\nAustria\\n]                     NaN               NaN   \n",
       "15917  [\\n6\\n]             NaN                     NaN               NaN   \n",
       "15918      NaN   [\\nGermany\\n]                     NaN               NaN   \n",
       "\n",
       "      Other Fuel Types                   Availability  \\\n",
       "0                  NaN                            NaN   \n",
       "1                  NaN                            NaN   \n",
       "2                  NaN                            NaN   \n",
       "3                  NaN                            NaN   \n",
       "4                  NaN                            NaN   \n",
       "...                ...                            ...   \n",
       "15914              NaN                            NaN   \n",
       "15915     [[], [], []]    \\nin 5 days from ordering\\n   \n",
       "15916              NaN  \\nin 120 days from ordering\\n   \n",
       "15917              NaN                            NaN   \n",
       "15918              NaN                            NaN   \n",
       "\n",
       "      Last Timing Belt Service Date Available from  \n",
       "0                               NaN            NaN  \n",
       "1                               NaN            NaN  \n",
       "2                               NaN            NaN  \n",
       "3                               NaN            NaN  \n",
       "4                               NaN            NaN  \n",
       "...                             ...            ...  \n",
       "15914                           NaN            NaN  \n",
       "15915                           NaN            NaN  \n",
       "15916                           NaN            NaN  \n",
       "15917                           NaN            NaN  \n",
       "15918                           NaN            NaN  \n",
       "\n",
       "[15919 rows x 54 columns]"
      ]
     },
     "execution_count": 1080,
     "metadata": {},
     "output_type": "execute_result"
    }
   ],
   "source": [
    "df_origin = pd.read_json(\"scout_car.json\",lines=True)\n",
    "df = df_origin.copy()\n",
    "df"
   ]
  },
  {
   "cell_type": "code",
   "execution_count": 1081,
   "id": "ba4f7a35",
   "metadata": {},
   "outputs": [
    {
     "data": {
      "text/html": [
       "<div>\n",
       "<style scoped>\n",
       "    .dataframe tbody tr th:only-of-type {\n",
       "        vertical-align: middle;\n",
       "    }\n",
       "\n",
       "    .dataframe tbody tr th {\n",
       "        vertical-align: top;\n",
       "    }\n",
       "\n",
       "    .dataframe thead th {\n",
       "        text-align: right;\n",
       "    }\n",
       "</style>\n",
       "<table border=\"1\" class=\"dataframe\">\n",
       "  <thead>\n",
       "    <tr style=\"text-align: right;\">\n",
       "      <th></th>\n",
       "      <th>2027</th>\n",
       "      <th>973</th>\n",
       "      <th>11807</th>\n",
       "      <th>4148</th>\n",
       "      <th>14375</th>\n",
       "    </tr>\n",
       "  </thead>\n",
       "  <tbody>\n",
       "    <tr>\n",
       "      <th>url</th>\n",
       "      <td>https://www.autoscout24.com//offers/audi-a1-sp...</td>\n",
       "      <td>https://www.autoscout24.com//offers/audi-a1-sp...</td>\n",
       "      <td>https://www.autoscout24.com//offers/opel-insig...</td>\n",
       "      <td>https://www.autoscout24.com//offers/audi-a3-1-...</td>\n",
       "      <td>https://www.autoscout24.com//offers/renault-cl...</td>\n",
       "    </tr>\n",
       "    <tr>\n",
       "      <th>make_model</th>\n",
       "      <td>Audi A1</td>\n",
       "      <td>Audi A1</td>\n",
       "      <td>Opel Insignia</td>\n",
       "      <td>Audi A3</td>\n",
       "      <td>Renault Clio</td>\n",
       "    </tr>\n",
       "    <tr>\n",
       "      <th>short_description</th>\n",
       "      <td>Sportback 30 TFSI STRONIC INFOTAINMENT-PAKET</td>\n",
       "      <td>Sportback 1.0 TFSI S tronic Sport S line admired,</td>\n",
       "      <td>2.0 ST INNOVATION AHK+el.HECKKLAPPE+NAV</td>\n",
       "      <td>1.6 TDI Business</td>\n",
       "      <td>Renault R.S. 200 EDC</td>\n",
       "    </tr>\n",
       "    <tr>\n",
       "      <th>body_type</th>\n",
       "      <td>Compact</td>\n",
       "      <td>Sedans</td>\n",
       "      <td>Station wagon</td>\n",
       "      <td>Sedans</td>\n",
       "      <td>Compact</td>\n",
       "    </tr>\n",
       "    <tr>\n",
       "      <th>price</th>\n",
       "      <td>27380</td>\n",
       "      <td>21290</td>\n",
       "      <td>23989</td>\n",
       "      <td>18900</td>\n",
       "      <td>23990</td>\n",
       "    </tr>\n",
       "    <tr>\n",
       "      <th>vat</th>\n",
       "      <td>VAT deductible</td>\n",
       "      <td>VAT deductible</td>\n",
       "      <td>VAT deductible</td>\n",
       "      <td>None</td>\n",
       "      <td>None</td>\n",
       "    </tr>\n",
       "    <tr>\n",
       "      <th>km</th>\n",
       "      <td>- km</td>\n",
       "      <td>1,200 km</td>\n",
       "      <td>28,043 km</td>\n",
       "      <td>36,348 km</td>\n",
       "      <td>10 km</td>\n",
       "    </tr>\n",
       "    <tr>\n",
       "      <th>registration</th>\n",
       "      <td>-/-</td>\n",
       "      <td>03/2019</td>\n",
       "      <td>04/2018</td>\n",
       "      <td>03/2017</td>\n",
       "      <td>10/2018</td>\n",
       "    </tr>\n",
       "    <tr>\n",
       "      <th>prev_owner</th>\n",
       "      <td>None</td>\n",
       "      <td>1 previous owner</td>\n",
       "      <td>1 previous owner</td>\n",
       "      <td>None</td>\n",
       "      <td>None</td>\n",
       "    </tr>\n",
       "    <tr>\n",
       "      <th>kW</th>\n",
       "      <td>NaN</td>\n",
       "      <td>NaN</td>\n",
       "      <td>NaN</td>\n",
       "      <td>NaN</td>\n",
       "      <td>NaN</td>\n",
       "    </tr>\n",
       "    <tr>\n",
       "      <th>hp</th>\n",
       "      <td>85 kW</td>\n",
       "      <td>70 kW</td>\n",
       "      <td>125 kW</td>\n",
       "      <td>81 kW</td>\n",
       "      <td>147 kW</td>\n",
       "    </tr>\n",
       "    <tr>\n",
       "      <th>Type</th>\n",
       "      <td>[, New, , Super 95]</td>\n",
       "      <td>[, Demonstration, , Super 95]</td>\n",
       "      <td>[, Used, , Diesel (Particulate Filter)]</td>\n",
       "      <td>[, Used, , Diesel (Particulate Filter)]</td>\n",
       "      <td>[, Demonstration, , Gasoline]</td>\n",
       "    </tr>\n",
       "    <tr>\n",
       "      <th>Previous Owners</th>\n",
       "      <td>NaN</td>\n",
       "      <td>\\n1\\n</td>\n",
       "      <td>\\n1\\n</td>\n",
       "      <td>NaN</td>\n",
       "      <td>NaN</td>\n",
       "    </tr>\n",
       "    <tr>\n",
       "      <th>Next Inspection</th>\n",
       "      <td>NaN</td>\n",
       "      <td>[\\n03/2022\\n, \\n0 kWh/100 km (comb)\\n]</td>\n",
       "      <td>NaN</td>\n",
       "      <td>NaN</td>\n",
       "      <td>NaN</td>\n",
       "    </tr>\n",
       "    <tr>\n",
       "      <th>Inspection new</th>\n",
       "      <td>NaN</td>\n",
       "      <td>NaN</td>\n",
       "      <td>[\\nYes\\n, \\n150 g CO2/km (comb)\\n]</td>\n",
       "      <td>NaN</td>\n",
       "      <td>NaN</td>\n",
       "    </tr>\n",
       "    <tr>\n",
       "      <th>Warranty</th>\n",
       "      <td>NaN</td>\n",
       "      <td>[\\n60 months\\n, \\n102 g CO2/km (comb)\\n]</td>\n",
       "      <td>[\\n, \\n, \\nEuro 6c\\n]</td>\n",
       "      <td>\\n12 months\\n</td>\n",
       "      <td>\\n48 months\\n</td>\n",
       "    </tr>\n",
       "    <tr>\n",
       "      <th>Full Service</th>\n",
       "      <td>NaN</td>\n",
       "      <td>[\\n, \\n, \\nEuro 6\\n]</td>\n",
       "      <td>[\\n, \\n, \\n4 (Green)\\n]</td>\n",
       "      <td>NaN</td>\n",
       "      <td>NaN</td>\n",
       "    </tr>\n",
       "    <tr>\n",
       "      <th>Non-smoking Vehicle</th>\n",
       "      <td>NaN</td>\n",
       "      <td>[\\n, \\n, \\n4 (Green)\\n]</td>\n",
       "      <td>[\\n, \\n]</td>\n",
       "      <td>NaN</td>\n",
       "      <td>NaN</td>\n",
       "    </tr>\n",
       "    <tr>\n",
       "      <th>null</th>\n",
       "      <td>[]</td>\n",
       "      <td>[]</td>\n",
       "      <td>[]</td>\n",
       "      <td>[]</td>\n",
       "      <td>[]</td>\n",
       "    </tr>\n",
       "    <tr>\n",
       "      <th>Make</th>\n",
       "      <td>\\nAudi\\n</td>\n",
       "      <td>\\nAudi\\n</td>\n",
       "      <td>\\nOpel\\n</td>\n",
       "      <td>\\nAudi\\n</td>\n",
       "      <td>\\nRenault\\n</td>\n",
       "    </tr>\n",
       "    <tr>\n",
       "      <th>Model</th>\n",
       "      <td>[\\n, A1, \\n]</td>\n",
       "      <td>[\\n, A1, \\n]</td>\n",
       "      <td>[\\n, Insignia, \\n]</td>\n",
       "      <td>[\\n, A3, \\n]</td>\n",
       "      <td>[\\n, Clio, \\n]</td>\n",
       "    </tr>\n",
       "    <tr>\n",
       "      <th>Offer Number</th>\n",
       "      <td>[\\n63232X\\n]</td>\n",
       "      <td>[\\n2482\\n]</td>\n",
       "      <td>[\\ndallgow0624-30\\n]</td>\n",
       "      <td>[\\n59609\\n]</td>\n",
       "      <td>[\\n5-800216\\n]</td>\n",
       "    </tr>\n",
       "    <tr>\n",
       "      <th>First Registration</th>\n",
       "      <td>NaN</td>\n",
       "      <td>[\\n, 2019, \\n]</td>\n",
       "      <td>[\\n, 2018, \\n]</td>\n",
       "      <td>[\\n, 2017, \\n]</td>\n",
       "      <td>[\\n, 2018, \\n]</td>\n",
       "    </tr>\n",
       "    <tr>\n",
       "      <th>Body Color</th>\n",
       "      <td>[\\n, Grey, \\n]</td>\n",
       "      <td>[\\n, Red, \\n]</td>\n",
       "      <td>[\\n, Grey, \\n]</td>\n",
       "      <td>[\\n, Black, \\n]</td>\n",
       "      <td>[\\n, White, \\n]</td>\n",
       "    </tr>\n",
       "    <tr>\n",
       "      <th>Paint Type</th>\n",
       "      <td>[\\nMetallic\\n]</td>\n",
       "      <td>NaN</td>\n",
       "      <td>[\\nMetallic\\n]</td>\n",
       "      <td>NaN</td>\n",
       "      <td>NaN</td>\n",
       "    </tr>\n",
       "    <tr>\n",
       "      <th>Body Color Original</th>\n",
       "      <td>[\\nmanhattangrau\\n]</td>\n",
       "      <td>[\\nMisanorot Perleffekt\\n]</td>\n",
       "      <td>[\\nQuarz Grau\\n]</td>\n",
       "      <td>[\\nNERO\\n]</td>\n",
       "      <td>[\\ngletscherweiss\\n]</td>\n",
       "    </tr>\n",
       "    <tr>\n",
       "      <th>Upholstery</th>\n",
       "      <td>[\\nCloth, Black\\n]</td>\n",
       "      <td>[\\nCloth, Black\\n]</td>\n",
       "      <td>[\\nPart leather, Black\\n]</td>\n",
       "      <td>[\\nCloth, Grey\\n]</td>\n",
       "      <td>NaN</td>\n",
       "    </tr>\n",
       "    <tr>\n",
       "      <th>Body</th>\n",
       "      <td>[\\n, Compact, \\n]</td>\n",
       "      <td>[\\n, Sedans, \\n]</td>\n",
       "      <td>[\\n, Station wagon, \\n]</td>\n",
       "      <td>[\\n, Sedans, \\n]</td>\n",
       "      <td>[\\n, Compact, \\n]</td>\n",
       "    </tr>\n",
       "    <tr>\n",
       "      <th>Nr. of Doors</th>\n",
       "      <td>[\\n5\\n]</td>\n",
       "      <td>[\\n5\\n]</td>\n",
       "      <td>[\\n4\\n]</td>\n",
       "      <td>[\\n3\\n]</td>\n",
       "      <td>[\\n4\\n]</td>\n",
       "    </tr>\n",
       "    <tr>\n",
       "      <th>Nr. of Seats</th>\n",
       "      <td>[\\n5\\n]</td>\n",
       "      <td>[\\n5\\n]</td>\n",
       "      <td>[\\n5\\n]</td>\n",
       "      <td>[\\n5\\n]</td>\n",
       "      <td>NaN</td>\n",
       "    </tr>\n",
       "    <tr>\n",
       "      <th>Model Code</th>\n",
       "      <td>[\\n0588/BNO\\n]</td>\n",
       "      <td>[\\n0588/BCV\\n]</td>\n",
       "      <td>NaN</td>\n",
       "      <td>NaN</td>\n",
       "      <td>NaN</td>\n",
       "    </tr>\n",
       "    <tr>\n",
       "      <th>Gearing Type</th>\n",
       "      <td>[\\n, Automatic, \\n]</td>\n",
       "      <td>[\\n, Automatic, \\n]</td>\n",
       "      <td>[\\n, Automatic, \\n]</td>\n",
       "      <td>[\\n, Manual, \\n]</td>\n",
       "      <td>[\\n, Automatic, \\n]</td>\n",
       "    </tr>\n",
       "    <tr>\n",
       "      <th>Displacement</th>\n",
       "      <td>[\\n999 cc\\n]</td>\n",
       "      <td>[\\n999 cc\\n]</td>\n",
       "      <td>[\\n1,956 cc\\n]</td>\n",
       "      <td>[\\n1,598 cc\\n]</td>\n",
       "      <td>[\\n1,618 cc\\n]</td>\n",
       "    </tr>\n",
       "    <tr>\n",
       "      <th>Cylinders</th>\n",
       "      <td>[\\n3\\n]</td>\n",
       "      <td>[\\n3\\n]</td>\n",
       "      <td>NaN</td>\n",
       "      <td>[\\n4\\n]</td>\n",
       "      <td>NaN</td>\n",
       "    </tr>\n",
       "    <tr>\n",
       "      <th>Weight</th>\n",
       "      <td>[\\n1,200 kg\\n]</td>\n",
       "      <td>[\\n1,165 kg\\n]</td>\n",
       "      <td>NaN</td>\n",
       "      <td>NaN</td>\n",
       "      <td>[\\n1,288 kg\\n]</td>\n",
       "    </tr>\n",
       "    <tr>\n",
       "      <th>Drive chain</th>\n",
       "      <td>[\\nfront\\n]</td>\n",
       "      <td>[\\nfront\\n]</td>\n",
       "      <td>NaN</td>\n",
       "      <td>[\\nfront\\n]</td>\n",
       "      <td>NaN</td>\n",
       "    </tr>\n",
       "    <tr>\n",
       "      <th>Fuel</th>\n",
       "      <td>[\\n, Super 95, \\n]</td>\n",
       "      <td>[\\n, Super 95, \\n]</td>\n",
       "      <td>[\\n, Diesel (Particulate Filter), \\n]</td>\n",
       "      <td>[\\n, Diesel (Particulate Filter), \\n]</td>\n",
       "      <td>[\\n, Gasoline, \\n]</td>\n",
       "    </tr>\n",
       "    <tr>\n",
       "      <th>Consumption</th>\n",
       "      <td>[[4.9 l/100 km (comb)], [5.9 l/100 km (city)],...</td>\n",
       "      <td>[[4.4 l/100 km (comb)], [5.4 l/100 km (city)],...</td>\n",
       "      <td>[[5.7 l/100 km (comb)], [7.2 l/100 km (city)],...</td>\n",
       "      <td>[[4 l/100 km (comb)], [4 l/100 km (city)], [3 ...</td>\n",
       "      <td>NaN</td>\n",
       "    </tr>\n",
       "    <tr>\n",
       "      <th>CO2 Emission</th>\n",
       "      <td>[\\n111 g CO2/km (comb)\\n]</td>\n",
       "      <td>[\\n102 g CO2/km (comb)\\n]</td>\n",
       "      <td>[\\n150 g CO2/km (comb)\\n]</td>\n",
       "      <td>[\\n107 g CO2/km (comb)\\n]</td>\n",
       "      <td>[[], [], []]</td>\n",
       "    </tr>\n",
       "    <tr>\n",
       "      <th>Emission Class</th>\n",
       "      <td>[\\nEuro 6\\n]</td>\n",
       "      <td>NaN</td>\n",
       "      <td>[\\nEuro 6c\\n]</td>\n",
       "      <td>[\\nEuro 6\\n]</td>\n",
       "      <td>NaN</td>\n",
       "    </tr>\n",
       "    <tr>\n",
       "      <th>\\nComfort &amp; Convenience\\n</th>\n",
       "      <td>[Air conditioning, Armrest, Automatic climate ...</td>\n",
       "      <td>[Air conditioning, Armrest, Automatic climate ...</td>\n",
       "      <td>[Air conditioning, Armrest, Automatic climate ...</td>\n",
       "      <td>[Air conditioning, Power windows]</td>\n",
       "      <td>[Air conditioning, Automatic climate control, ...</td>\n",
       "    </tr>\n",
       "    <tr>\n",
       "      <th>\\nEntertainment &amp; Media\\n</th>\n",
       "      <td>[Bluetooth, CD player, Hands-free equipment, M...</td>\n",
       "      <td>[Bluetooth, CD player, Hands-free equipment, M...</td>\n",
       "      <td>[Bluetooth, Hands-free equipment, On-board com...</td>\n",
       "      <td>[Radio]</td>\n",
       "      <td>[Bluetooth, Hands-free equipment, On-board com...</td>\n",
       "    </tr>\n",
       "    <tr>\n",
       "      <th>\\nExtras\\n</th>\n",
       "      <td>[Alloy wheels, Catalytic Converter, Sport seat...</td>\n",
       "      <td>[Alloy wheels, Sport seats, Voice Control]</td>\n",
       "      <td>[Alloy wheels, Roof rack, Touch screen, Traile...</td>\n",
       "      <td>[Alloy wheels]</td>\n",
       "      <td>[Alloy wheels, Sport package, Sport seats, Spo...</td>\n",
       "    </tr>\n",
       "    <tr>\n",
       "      <th>\\nSafety &amp; Security\\n</th>\n",
       "      <td>[ABS, Central door lock, Daytime running light...</td>\n",
       "      <td>[ABS, Central door lock, Central door lock wit...</td>\n",
       "      <td>[ABS, Adaptive headlights, Central door lock, ...</td>\n",
       "      <td>[ABS, Central door lock, Driver-side airbag, F...</td>\n",
       "      <td>[ABS, Central door lock, Daytime running light...</td>\n",
       "    </tr>\n",
       "    <tr>\n",
       "      <th>description</th>\n",
       "      <td>[\\nFahrzeug-Nr.: 63232X., Media:, MMI Navigati...</td>\n",
       "      <td>[\\n, Highlights: , Anschlussgarantie 3 Jahre, ...</td>\n",
       "      <td>[\\n, Fahrzeugstandort:,  14624 Dallgow, Mühlen...</td>\n",
       "      <td>[\\nI PIANI FINANZIARI ED ASSICURATIVI INSERITI...</td>\n",
       "      <td>[\\n, NEUWAGEN als Tageszulassung , Bluetooth, ...</td>\n",
       "    </tr>\n",
       "    <tr>\n",
       "      <th>Emission Label</th>\n",
       "      <td>[\\n4 (Green)\\n]</td>\n",
       "      <td>NaN</td>\n",
       "      <td>NaN</td>\n",
       "      <td>NaN</td>\n",
       "      <td>NaN</td>\n",
       "    </tr>\n",
       "    <tr>\n",
       "      <th>Gears</th>\n",
       "      <td>NaN</td>\n",
       "      <td>[\\n7\\n]</td>\n",
       "      <td>NaN</td>\n",
       "      <td>[\\n6\\n]</td>\n",
       "      <td>[\\n1\\n]</td>\n",
       "    </tr>\n",
       "    <tr>\n",
       "      <th>Country version</th>\n",
       "      <td>[\\nGermany\\n]</td>\n",
       "      <td>[\\nGermany\\n]</td>\n",
       "      <td>[\\nGermany\\n]</td>\n",
       "      <td>NaN</td>\n",
       "      <td>[\\nAustria\\n]</td>\n",
       "    </tr>\n",
       "    <tr>\n",
       "      <th>Electricity consumption</th>\n",
       "      <td>NaN</td>\n",
       "      <td>[\\n0 kWh/100 km (comb)\\n]</td>\n",
       "      <td>NaN</td>\n",
       "      <td>NaN</td>\n",
       "      <td>NaN</td>\n",
       "    </tr>\n",
       "    <tr>\n",
       "      <th>Last Service Date</th>\n",
       "      <td>NaN</td>\n",
       "      <td>NaN</td>\n",
       "      <td>NaN</td>\n",
       "      <td>NaN</td>\n",
       "      <td>NaN</td>\n",
       "    </tr>\n",
       "    <tr>\n",
       "      <th>Other Fuel Types</th>\n",
       "      <td>NaN</td>\n",
       "      <td>NaN</td>\n",
       "      <td>NaN</td>\n",
       "      <td>NaN</td>\n",
       "      <td>NaN</td>\n",
       "    </tr>\n",
       "    <tr>\n",
       "      <th>Availability</th>\n",
       "      <td>NaN</td>\n",
       "      <td>NaN</td>\n",
       "      <td>NaN</td>\n",
       "      <td>NaN</td>\n",
       "      <td>NaN</td>\n",
       "    </tr>\n",
       "    <tr>\n",
       "      <th>Last Timing Belt Service Date</th>\n",
       "      <td>NaN</td>\n",
       "      <td>NaN</td>\n",
       "      <td>NaN</td>\n",
       "      <td>NaN</td>\n",
       "      <td>NaN</td>\n",
       "    </tr>\n",
       "    <tr>\n",
       "      <th>Available from</th>\n",
       "      <td>NaN</td>\n",
       "      <td>NaN</td>\n",
       "      <td>NaN</td>\n",
       "      <td>NaN</td>\n",
       "      <td>NaN</td>\n",
       "    </tr>\n",
       "  </tbody>\n",
       "</table>\n",
       "</div>"
      ],
      "text/plain": [
       "                                                                           2027   \\\n",
       "url                            https://www.autoscout24.com//offers/audi-a1-sp...   \n",
       "make_model                                                               Audi A1   \n",
       "short_description                   Sportback 30 TFSI STRONIC INFOTAINMENT-PAKET   \n",
       "body_type                                                                Compact   \n",
       "price                                                                      27380   \n",
       "vat                                                               VAT deductible   \n",
       "km                                                                          - km   \n",
       "registration                                                                 -/-   \n",
       "prev_owner                                                                  None   \n",
       "kW                                                                           NaN   \n",
       "hp                                                                         85 kW   \n",
       "Type                                                         [, New, , Super 95]   \n",
       "Previous Owners                                                              NaN   \n",
       "Next Inspection                                                              NaN   \n",
       "Inspection new                                                               NaN   \n",
       "Warranty                                                                     NaN   \n",
       "Full Service                                                                 NaN   \n",
       "Non-smoking Vehicle                                                          NaN   \n",
       "null                                                                          []   \n",
       "Make                                                                    \\nAudi\\n   \n",
       "Model                                                               [\\n, A1, \\n]   \n",
       "Offer Number                                                        [\\n63232X\\n]   \n",
       "First Registration                                                           NaN   \n",
       "Body Color                                                        [\\n, Grey, \\n]   \n",
       "Paint Type                                                        [\\nMetallic\\n]   \n",
       "Body Color Original                                          [\\nmanhattangrau\\n]   \n",
       "Upholstery                                                    [\\nCloth, Black\\n]   \n",
       "Body                                                           [\\n, Compact, \\n]   \n",
       "Nr. of Doors                                                             [\\n5\\n]   \n",
       "Nr. of Seats                                                             [\\n5\\n]   \n",
       "Model Code                                                        [\\n0588/BNO\\n]   \n",
       "Gearing Type                                                 [\\n, Automatic, \\n]   \n",
       "Displacement                                                        [\\n999 cc\\n]   \n",
       "Cylinders                                                                [\\n3\\n]   \n",
       "Weight                                                            [\\n1,200 kg\\n]   \n",
       "Drive chain                                                          [\\nfront\\n]   \n",
       "Fuel                                                          [\\n, Super 95, \\n]   \n",
       "Consumption                    [[4.9 l/100 km (comb)], [5.9 l/100 km (city)],...   \n",
       "CO2 Emission                                           [\\n111 g CO2/km (comb)\\n]   \n",
       "Emission Class                                                      [\\nEuro 6\\n]   \n",
       "\\nComfort & Convenience\\n      [Air conditioning, Armrest, Automatic climate ...   \n",
       "\\nEntertainment & Media\\n      [Bluetooth, CD player, Hands-free equipment, M...   \n",
       "\\nExtras\\n                     [Alloy wheels, Catalytic Converter, Sport seat...   \n",
       "\\nSafety & Security\\n          [ABS, Central door lock, Daytime running light...   \n",
       "description                    [\\nFahrzeug-Nr.: 63232X., Media:, MMI Navigati...   \n",
       "Emission Label                                                   [\\n4 (Green)\\n]   \n",
       "Gears                                                                        NaN   \n",
       "Country version                                                    [\\nGermany\\n]   \n",
       "Electricity consumption                                                      NaN   \n",
       "Last Service Date                                                            NaN   \n",
       "Other Fuel Types                                                             NaN   \n",
       "Availability                                                                 NaN   \n",
       "Last Timing Belt Service Date                                                NaN   \n",
       "Available from                                                               NaN   \n",
       "\n",
       "                                                                           973    \\\n",
       "url                            https://www.autoscout24.com//offers/audi-a1-sp...   \n",
       "make_model                                                               Audi A1   \n",
       "short_description              Sportback 1.0 TFSI S tronic Sport S line admired,   \n",
       "body_type                                                                 Sedans   \n",
       "price                                                                      21290   \n",
       "vat                                                               VAT deductible   \n",
       "km                                                                      1,200 km   \n",
       "registration                                                             03/2019   \n",
       "prev_owner                                                      1 previous owner   \n",
       "kW                                                                           NaN   \n",
       "hp                                                                         70 kW   \n",
       "Type                                               [, Demonstration, , Super 95]   \n",
       "Previous Owners                                                            \\n1\\n   \n",
       "Next Inspection                           [\\n03/2022\\n, \\n0 kWh/100 km (comb)\\n]   \n",
       "Inspection new                                                               NaN   \n",
       "Warranty                                [\\n60 months\\n, \\n102 g CO2/km (comb)\\n]   \n",
       "Full Service                                                [\\n, \\n, \\nEuro 6\\n]   \n",
       "Non-smoking Vehicle                                      [\\n, \\n, \\n4 (Green)\\n]   \n",
       "null                                                                          []   \n",
       "Make                                                                    \\nAudi\\n   \n",
       "Model                                                               [\\n, A1, \\n]   \n",
       "Offer Number                                                          [\\n2482\\n]   \n",
       "First Registration                                                [\\n, 2019, \\n]   \n",
       "Body Color                                                         [\\n, Red, \\n]   \n",
       "Paint Type                                                                   NaN   \n",
       "Body Color Original                                   [\\nMisanorot Perleffekt\\n]   \n",
       "Upholstery                                                    [\\nCloth, Black\\n]   \n",
       "Body                                                            [\\n, Sedans, \\n]   \n",
       "Nr. of Doors                                                             [\\n5\\n]   \n",
       "Nr. of Seats                                                             [\\n5\\n]   \n",
       "Model Code                                                        [\\n0588/BCV\\n]   \n",
       "Gearing Type                                                 [\\n, Automatic, \\n]   \n",
       "Displacement                                                        [\\n999 cc\\n]   \n",
       "Cylinders                                                                [\\n3\\n]   \n",
       "Weight                                                            [\\n1,165 kg\\n]   \n",
       "Drive chain                                                          [\\nfront\\n]   \n",
       "Fuel                                                          [\\n, Super 95, \\n]   \n",
       "Consumption                    [[4.4 l/100 km (comb)], [5.4 l/100 km (city)],...   \n",
       "CO2 Emission                                           [\\n102 g CO2/km (comb)\\n]   \n",
       "Emission Class                                                               NaN   \n",
       "\\nComfort & Convenience\\n      [Air conditioning, Armrest, Automatic climate ...   \n",
       "\\nEntertainment & Media\\n      [Bluetooth, CD player, Hands-free equipment, M...   \n",
       "\\nExtras\\n                            [Alloy wheels, Sport seats, Voice Control]   \n",
       "\\nSafety & Security\\n          [ABS, Central door lock, Central door lock wit...   \n",
       "description                    [\\n, Highlights: , Anschlussgarantie 3 Jahre, ...   \n",
       "Emission Label                                                               NaN   \n",
       "Gears                                                                    [\\n7\\n]   \n",
       "Country version                                                    [\\nGermany\\n]   \n",
       "Electricity consumption                                [\\n0 kWh/100 km (comb)\\n]   \n",
       "Last Service Date                                                            NaN   \n",
       "Other Fuel Types                                                             NaN   \n",
       "Availability                                                                 NaN   \n",
       "Last Timing Belt Service Date                                                NaN   \n",
       "Available from                                                               NaN   \n",
       "\n",
       "                                                                           11807  \\\n",
       "url                            https://www.autoscout24.com//offers/opel-insig...   \n",
       "make_model                                                         Opel Insignia   \n",
       "short_description                        2.0 ST INNOVATION AHK+el.HECKKLAPPE+NAV   \n",
       "body_type                                                          Station wagon   \n",
       "price                                                                      23989   \n",
       "vat                                                               VAT deductible   \n",
       "km                                                                     28,043 km   \n",
       "registration                                                             04/2018   \n",
       "prev_owner                                                      1 previous owner   \n",
       "kW                                                                           NaN   \n",
       "hp                                                                        125 kW   \n",
       "Type                                     [, Used, , Diesel (Particulate Filter)]   \n",
       "Previous Owners                                                            \\n1\\n   \n",
       "Next Inspection                                                              NaN   \n",
       "Inspection new                                [\\nYes\\n, \\n150 g CO2/km (comb)\\n]   \n",
       "Warranty                                                   [\\n, \\n, \\nEuro 6c\\n]   \n",
       "Full Service                                             [\\n, \\n, \\n4 (Green)\\n]   \n",
       "Non-smoking Vehicle                                                     [\\n, \\n]   \n",
       "null                                                                          []   \n",
       "Make                                                                    \\nOpel\\n   \n",
       "Model                                                         [\\n, Insignia, \\n]   \n",
       "Offer Number                                                [\\ndallgow0624-30\\n]   \n",
       "First Registration                                                [\\n, 2018, \\n]   \n",
       "Body Color                                                        [\\n, Grey, \\n]   \n",
       "Paint Type                                                        [\\nMetallic\\n]   \n",
       "Body Color Original                                             [\\nQuarz Grau\\n]   \n",
       "Upholstery                                             [\\nPart leather, Black\\n]   \n",
       "Body                                                     [\\n, Station wagon, \\n]   \n",
       "Nr. of Doors                                                             [\\n4\\n]   \n",
       "Nr. of Seats                                                             [\\n5\\n]   \n",
       "Model Code                                                                   NaN   \n",
       "Gearing Type                                                 [\\n, Automatic, \\n]   \n",
       "Displacement                                                      [\\n1,956 cc\\n]   \n",
       "Cylinders                                                                    NaN   \n",
       "Weight                                                                       NaN   \n",
       "Drive chain                                                                  NaN   \n",
       "Fuel                                       [\\n, Diesel (Particulate Filter), \\n]   \n",
       "Consumption                    [[5.7 l/100 km (comb)], [7.2 l/100 km (city)],...   \n",
       "CO2 Emission                                           [\\n150 g CO2/km (comb)\\n]   \n",
       "Emission Class                                                     [\\nEuro 6c\\n]   \n",
       "\\nComfort & Convenience\\n      [Air conditioning, Armrest, Automatic climate ...   \n",
       "\\nEntertainment & Media\\n      [Bluetooth, Hands-free equipment, On-board com...   \n",
       "\\nExtras\\n                     [Alloy wheels, Roof rack, Touch screen, Traile...   \n",
       "\\nSafety & Security\\n          [ABS, Adaptive headlights, Central door lock, ...   \n",
       "description                    [\\n, Fahrzeugstandort:,  14624 Dallgow, Mühlen...   \n",
       "Emission Label                                                               NaN   \n",
       "Gears                                                                        NaN   \n",
       "Country version                                                    [\\nGermany\\n]   \n",
       "Electricity consumption                                                      NaN   \n",
       "Last Service Date                                                            NaN   \n",
       "Other Fuel Types                                                             NaN   \n",
       "Availability                                                                 NaN   \n",
       "Last Timing Belt Service Date                                                NaN   \n",
       "Available from                                                               NaN   \n",
       "\n",
       "                                                                           4148   \\\n",
       "url                            https://www.autoscout24.com//offers/audi-a3-1-...   \n",
       "make_model                                                               Audi A3   \n",
       "short_description                                               1.6 TDI Business   \n",
       "body_type                                                                 Sedans   \n",
       "price                                                                      18900   \n",
       "vat                                                                         None   \n",
       "km                                                                     36,348 km   \n",
       "registration                                                             03/2017   \n",
       "prev_owner                                                                  None   \n",
       "kW                                                                           NaN   \n",
       "hp                                                                         81 kW   \n",
       "Type                                     [, Used, , Diesel (Particulate Filter)]   \n",
       "Previous Owners                                                              NaN   \n",
       "Next Inspection                                                              NaN   \n",
       "Inspection new                                                               NaN   \n",
       "Warranty                                                           \\n12 months\\n   \n",
       "Full Service                                                                 NaN   \n",
       "Non-smoking Vehicle                                                          NaN   \n",
       "null                                                                          []   \n",
       "Make                                                                    \\nAudi\\n   \n",
       "Model                                                               [\\n, A3, \\n]   \n",
       "Offer Number                                                         [\\n59609\\n]   \n",
       "First Registration                                                [\\n, 2017, \\n]   \n",
       "Body Color                                                       [\\n, Black, \\n]   \n",
       "Paint Type                                                                   NaN   \n",
       "Body Color Original                                                   [\\nNERO\\n]   \n",
       "Upholstery                                                     [\\nCloth, Grey\\n]   \n",
       "Body                                                            [\\n, Sedans, \\n]   \n",
       "Nr. of Doors                                                             [\\n3\\n]   \n",
       "Nr. of Seats                                                             [\\n5\\n]   \n",
       "Model Code                                                                   NaN   \n",
       "Gearing Type                                                    [\\n, Manual, \\n]   \n",
       "Displacement                                                      [\\n1,598 cc\\n]   \n",
       "Cylinders                                                                [\\n4\\n]   \n",
       "Weight                                                                       NaN   \n",
       "Drive chain                                                          [\\nfront\\n]   \n",
       "Fuel                                       [\\n, Diesel (Particulate Filter), \\n]   \n",
       "Consumption                    [[4 l/100 km (comb)], [4 l/100 km (city)], [3 ...   \n",
       "CO2 Emission                                           [\\n107 g CO2/km (comb)\\n]   \n",
       "Emission Class                                                      [\\nEuro 6\\n]   \n",
       "\\nComfort & Convenience\\n                      [Air conditioning, Power windows]   \n",
       "\\nEntertainment & Media\\n                                                [Radio]   \n",
       "\\nExtras\\n                                                        [Alloy wheels]   \n",
       "\\nSafety & Security\\n          [ABS, Central door lock, Driver-side airbag, F...   \n",
       "description                    [\\nI PIANI FINANZIARI ED ASSICURATIVI INSERITI...   \n",
       "Emission Label                                                               NaN   \n",
       "Gears                                                                    [\\n6\\n]   \n",
       "Country version                                                              NaN   \n",
       "Electricity consumption                                                      NaN   \n",
       "Last Service Date                                                            NaN   \n",
       "Other Fuel Types                                                             NaN   \n",
       "Availability                                                                 NaN   \n",
       "Last Timing Belt Service Date                                                NaN   \n",
       "Available from                                                               NaN   \n",
       "\n",
       "                                                                           14375  \n",
       "url                            https://www.autoscout24.com//offers/renault-cl...  \n",
       "make_model                                                          Renault Clio  \n",
       "short_description                                           Renault R.S. 200 EDC  \n",
       "body_type                                                                Compact  \n",
       "price                                                                      23990  \n",
       "vat                                                                         None  \n",
       "km                                                                         10 km  \n",
       "registration                                                             10/2018  \n",
       "prev_owner                                                                  None  \n",
       "kW                                                                           NaN  \n",
       "hp                                                                        147 kW  \n",
       "Type                                               [, Demonstration, , Gasoline]  \n",
       "Previous Owners                                                              NaN  \n",
       "Next Inspection                                                              NaN  \n",
       "Inspection new                                                               NaN  \n",
       "Warranty                                                           \\n48 months\\n  \n",
       "Full Service                                                                 NaN  \n",
       "Non-smoking Vehicle                                                          NaN  \n",
       "null                                                                          []  \n",
       "Make                                                                 \\nRenault\\n  \n",
       "Model                                                             [\\n, Clio, \\n]  \n",
       "Offer Number                                                      [\\n5-800216\\n]  \n",
       "First Registration                                                [\\n, 2018, \\n]  \n",
       "Body Color                                                       [\\n, White, \\n]  \n",
       "Paint Type                                                                   NaN  \n",
       "Body Color Original                                         [\\ngletscherweiss\\n]  \n",
       "Upholstery                                                                   NaN  \n",
       "Body                                                           [\\n, Compact, \\n]  \n",
       "Nr. of Doors                                                             [\\n4\\n]  \n",
       "Nr. of Seats                                                                 NaN  \n",
       "Model Code                                                                   NaN  \n",
       "Gearing Type                                                 [\\n, Automatic, \\n]  \n",
       "Displacement                                                      [\\n1,618 cc\\n]  \n",
       "Cylinders                                                                    NaN  \n",
       "Weight                                                            [\\n1,288 kg\\n]  \n",
       "Drive chain                                                                  NaN  \n",
       "Fuel                                                          [\\n, Gasoline, \\n]  \n",
       "Consumption                                                                  NaN  \n",
       "CO2 Emission                                                        [[], [], []]  \n",
       "Emission Class                                                               NaN  \n",
       "\\nComfort & Convenience\\n      [Air conditioning, Automatic climate control, ...  \n",
       "\\nEntertainment & Media\\n      [Bluetooth, Hands-free equipment, On-board com...  \n",
       "\\nExtras\\n                     [Alloy wheels, Sport package, Sport seats, Spo...  \n",
       "\\nSafety & Security\\n          [ABS, Central door lock, Daytime running light...  \n",
       "description                    [\\n, NEUWAGEN als Tageszulassung , Bluetooth, ...  \n",
       "Emission Label                                                               NaN  \n",
       "Gears                                                                    [\\n1\\n]  \n",
       "Country version                                                    [\\nAustria\\n]  \n",
       "Electricity consumption                                                      NaN  \n",
       "Last Service Date                                                            NaN  \n",
       "Other Fuel Types                                                             NaN  \n",
       "Availability                                                                 NaN  \n",
       "Last Timing Belt Service Date                                                NaN  \n",
       "Available from                                                               NaN  "
      ]
     },
     "execution_count": 1081,
     "metadata": {},
     "output_type": "execute_result"
    }
   ],
   "source": [
    "df.sample(5).T"
   ]
  },
  {
   "cell_type": "code",
   "execution_count": 1082,
   "id": "1edb2d73",
   "metadata": {},
   "outputs": [
    {
     "name": "stdout",
     "output_type": "stream",
     "text": [
      "<class 'pandas.core.frame.DataFrame'>\n",
      "RangeIndex: 15919 entries, 0 to 15918\n",
      "Data columns (total 54 columns):\n",
      " #   Column                         Non-Null Count  Dtype  \n",
      "---  ------                         --------------  -----  \n",
      " 0   url                            15919 non-null  object \n",
      " 1   make_model                     15919 non-null  object \n",
      " 2   short_description              15873 non-null  object \n",
      " 3   body_type                      15859 non-null  object \n",
      " 4   price                          15919 non-null  int64  \n",
      " 5   vat                            11406 non-null  object \n",
      " 6   km                             15919 non-null  object \n",
      " 7   registration                   15919 non-null  object \n",
      " 8   prev_owner                     9091 non-null   object \n",
      " 9   kW                             0 non-null      float64\n",
      " 10  hp                             15919 non-null  object \n",
      " 11  Type                           15917 non-null  object \n",
      " 12  Previous Owners                9279 non-null   object \n",
      " 13  Next Inspection                3535 non-null   object \n",
      " 14  Inspection new                 3932 non-null   object \n",
      " 15  Warranty                       10499 non-null  object \n",
      " 16  Full Service                   8215 non-null   object \n",
      " 17  Non-smoking Vehicle            7177 non-null   object \n",
      " 18  null                           15919 non-null  object \n",
      " 19  Make                           15919 non-null  object \n",
      " 20  Model                          15919 non-null  object \n",
      " 21  Offer Number                   12744 non-null  object \n",
      " 22  First Registration             14322 non-null  object \n",
      " 23  Body Color                     15322 non-null  object \n",
      " 24  Paint Type                     10147 non-null  object \n",
      " 25  Body Color Original            12160 non-null  object \n",
      " 26  Upholstery                     12199 non-null  object \n",
      " 27  Body                           15859 non-null  object \n",
      " 28  Nr. of Doors                   15707 non-null  object \n",
      " 29  Nr. of Seats                   14942 non-null  object \n",
      " 30  Model Code                     4978 non-null   object \n",
      " 31  Gearing Type                   15919 non-null  object \n",
      " 32  Displacement                   15423 non-null  object \n",
      " 33  Cylinders                      10239 non-null  object \n",
      " 34  Weight                         8945 non-null   object \n",
      " 35  Drive chain                    9061 non-null   object \n",
      " 36  Fuel                           15919 non-null  object \n",
      " 37  Consumption                    14013 non-null  object \n",
      " 38  CO2 Emission                   14111 non-null  object \n",
      " 39  Emission Class                 12898 non-null  object \n",
      " 40  \n",
      "Comfort & Convenience\n",
      "        14999 non-null  object \n",
      " 41  \n",
      "Entertainment & Media\n",
      "        14545 non-null  object \n",
      " 42  \n",
      "Extras\n",
      "                       12957 non-null  object \n",
      " 43  \n",
      "Safety & Security\n",
      "            14937 non-null  object \n",
      " 44  description                    15919 non-null  object \n",
      " 45  Emission Label                 3985 non-null   object \n",
      " 46  Gears                          11207 non-null  object \n",
      " 47  Country version                7586 non-null   object \n",
      " 48  Electricity consumption        137 non-null    object \n",
      " 49  Last Service Date              566 non-null    object \n",
      " 50  Other Fuel Types               880 non-null    object \n",
      " 51  Availability                   635 non-null    object \n",
      " 52  Last Timing Belt Service Date  16 non-null     object \n",
      " 53  Available from                 272 non-null    object \n",
      "dtypes: float64(1), int64(1), object(52)\n",
      "memory usage: 6.6+ MB\n"
     ]
    }
   ],
   "source": [
    "df.info()"
   ]
  },
  {
   "cell_type": "code",
   "execution_count": 1083,
   "id": "d8f17acc",
   "metadata": {},
   "outputs": [],
   "source": [
    "## bazı sütunlar isimlerinde newline karakterler olduğundan dolayı sıkıntılar var"
   ]
  },
  {
   "cell_type": "code",
   "execution_count": 1084,
   "id": "cf2e3c97",
   "metadata": {},
   "outputs": [
    {
     "data": {
      "text/plain": [
       "Index(['url', 'make_model', 'short_description', 'body_type', 'price', 'vat',\n",
       "       'km', 'registration', 'prev_owner', 'kW', 'hp', 'Type',\n",
       "       'Previous Owners', 'Next Inspection', 'Inspection new', 'Warranty',\n",
       "       'Full Service', 'Non-smoking Vehicle', 'null', 'Make', 'Model',\n",
       "       'Offer Number', 'First Registration', 'Body Color', 'Paint Type',\n",
       "       'Body Color Original', 'Upholstery', 'Body', 'Nr. of Doors',\n",
       "       'Nr. of Seats', 'Model Code', 'Gearing Type', 'Displacement',\n",
       "       'Cylinders', 'Weight', 'Drive chain', 'Fuel', 'Consumption',\n",
       "       'CO2 Emission', 'Emission Class', '\\nComfort & Convenience\\n',\n",
       "       '\\nEntertainment & Media\\n', '\\nExtras\\n', '\\nSafety & Security\\n',\n",
       "       'description', 'Emission Label', 'Gears', 'Country version',\n",
       "       'Electricity consumption', 'Last Service Date', 'Other Fuel Types',\n",
       "       'Availability', 'Last Timing Belt Service Date', 'Available from'],\n",
       "      dtype='object')"
      ]
     },
     "execution_count": 1084,
     "metadata": {},
     "output_type": "execute_result"
    }
   ],
   "source": [
    "df.columns"
   ]
  },
  {
   "cell_type": "code",
   "execution_count": 1085,
   "id": "ed02dc0f",
   "metadata": {},
   "outputs": [
    {
     "name": "stdout",
     "output_type": "stream",
     "text": [
      "<class 'pandas.core.frame.DataFrame'>\n",
      "RangeIndex: 15919 entries, 0 to 15918\n",
      "Data columns (total 54 columns):\n",
      " #   Column                         Non-Null Count  Dtype  \n",
      "---  ------                         --------------  -----  \n",
      " 0   url                            15919 non-null  object \n",
      " 1   make_model                     15919 non-null  object \n",
      " 2   short_description              15873 non-null  object \n",
      " 3   body_type                      15859 non-null  object \n",
      " 4   price                          15919 non-null  int64  \n",
      " 5   vat                            11406 non-null  object \n",
      " 6   km                             15919 non-null  object \n",
      " 7   registration                   15919 non-null  object \n",
      " 8   prev_owner                     9091 non-null   object \n",
      " 9   kW                             0 non-null      float64\n",
      " 10  hp                             15919 non-null  object \n",
      " 11  Type                           15917 non-null  object \n",
      " 12  Previous Owners                9279 non-null   object \n",
      " 13  Next Inspection                3535 non-null   object \n",
      " 14  Inspection new                 3932 non-null   object \n",
      " 15  Warranty                       10499 non-null  object \n",
      " 16  Full Service                   8215 non-null   object \n",
      " 17  Non-smoking Vehicle            7177 non-null   object \n",
      " 18  null                           15919 non-null  object \n",
      " 19  Make                           15919 non-null  object \n",
      " 20  Model                          15919 non-null  object \n",
      " 21  Offer Number                   12744 non-null  object \n",
      " 22  First Registration             14322 non-null  object \n",
      " 23  Body Color                     15322 non-null  object \n",
      " 24  Paint Type                     10147 non-null  object \n",
      " 25  Body Color Original            12160 non-null  object \n",
      " 26  Upholstery                     12199 non-null  object \n",
      " 27  Body                           15859 non-null  object \n",
      " 28  Nr. of Doors                   15707 non-null  object \n",
      " 29  Nr. of Seats                   14942 non-null  object \n",
      " 30  Model Code                     4978 non-null   object \n",
      " 31  Gearing Type                   15919 non-null  object \n",
      " 32  Displacement                   15423 non-null  object \n",
      " 33  Cylinders                      10239 non-null  object \n",
      " 34  Weight                         8945 non-null   object \n",
      " 35  Drive chain                    9061 non-null   object \n",
      " 36  Fuel                           15919 non-null  object \n",
      " 37  Consumption                    14013 non-null  object \n",
      " 38  CO2 Emission                   14111 non-null  object \n",
      " 39  Emission Class                 12898 non-null  object \n",
      " 40  Comfort & Convenience          14999 non-null  object \n",
      " 41  Entertainment & Media          14545 non-null  object \n",
      " 42  Extras                         12957 non-null  object \n",
      " 43  Safety & Security              14937 non-null  object \n",
      " 44  description                    15919 non-null  object \n",
      " 45  Emission Label                 3985 non-null   object \n",
      " 46  Gears                          11207 non-null  object \n",
      " 47  Country version                7586 non-null   object \n",
      " 48  Electricity consumption        137 non-null    object \n",
      " 49  Last Service Date              566 non-null    object \n",
      " 50  Other Fuel Types               880 non-null    object \n",
      " 51  Availability                   635 non-null    object \n",
      " 52  Last Timing Belt Service Date  16 non-null     object \n",
      " 53  Available from                 272 non-null    object \n",
      "dtypes: float64(1), int64(1), object(52)\n",
      "memory usage: 6.6+ MB\n"
     ]
    }
   ],
   "source": [
    " df.rename(columns={\"\\nEntertainment & Media\\n\":\"Entertainment & Media\",\n",
    "                    '\\nComfort & Convenience\\n':\"Comfort & Convenience\",\n",
    "                    \"\\nExtras\\n\" : \"Extras\",\n",
    "                    '\\nSafety & Security\\n':\"Safety & Security\"\n",
    "                   \n",
    "                   \n",
    "                   }).info()"
   ]
  },
  {
   "cell_type": "code",
   "execution_count": 1086,
   "id": "16aa63fa",
   "metadata": {},
   "outputs": [],
   "source": [
    " df.rename(columns={\"\\nEntertainment & Media\\n\":\"Entertainment & Media\",\n",
    "                    '\\nComfort & Convenience\\n':\"Comfort & Convenience\",\n",
    "                    \"\\nExtras\\n\" : \"Extras\",\n",
    "                    '\\nSafety & Security\\n':\"Safety & Security\"\n",
    "                   \n",
    "                   \n",
    "                   },inplace=True)"
   ]
  },
  {
   "cell_type": "code",
   "execution_count": 1087,
   "id": "0f59de87",
   "metadata": {},
   "outputs": [
    {
     "data": {
      "text/plain": [
       "(15919, 54)"
      ]
     },
     "execution_count": 1087,
     "metadata": {},
     "output_type": "execute_result"
    }
   ],
   "source": [
    "df.shape"
   ]
  },
  {
   "cell_type": "code",
   "execution_count": 1088,
   "id": "c81052bf",
   "metadata": {},
   "outputs": [
    {
     "data": {
      "text/plain": [
       "url                                  0\n",
       "make_model                           0\n",
       "short_description                   46\n",
       "body_type                           60\n",
       "price                                0\n",
       "vat                               4513\n",
       "km                                   0\n",
       "registration                         0\n",
       "prev_owner                        6828\n",
       "kW                               15919\n",
       "hp                                   0\n",
       "Type                                 2\n",
       "Previous Owners                   6640\n",
       "Next Inspection                  12384\n",
       "Inspection new                   11987\n",
       "Warranty                          5420\n",
       "Full Service                      7704\n",
       "Non-smoking Vehicle               8742\n",
       "null                                 0\n",
       "Make                                 0\n",
       "Model                                0\n",
       "Offer Number                      3175\n",
       "First Registration                1597\n",
       "Body Color                         597\n",
       "Paint Type                        5772\n",
       "Body Color Original               3759\n",
       "Upholstery                        3720\n",
       "Body                                60\n",
       "Nr. of Doors                       212\n",
       "Nr. of Seats                       977\n",
       "Model Code                       10941\n",
       "Gearing Type                         0\n",
       "Displacement                       496\n",
       "Cylinders                         5680\n",
       "Weight                            6974\n",
       "Drive chain                       6858\n",
       "Fuel                                 0\n",
       "Consumption                       1906\n",
       "CO2 Emission                      1808\n",
       "Emission Class                    3021\n",
       "Comfort & Convenience              920\n",
       "Entertainment & Media             1374\n",
       "Extras                            2962\n",
       "Safety & Security                  982\n",
       "description                          0\n",
       "Emission Label                   11934\n",
       "Gears                             4712\n",
       "Country version                   8333\n",
       "Electricity consumption          15782\n",
       "Last Service Date                15353\n",
       "Other Fuel Types                 15039\n",
       "Availability                     15284\n",
       "Last Timing Belt Service Date    15903\n",
       "Available from                   15647\n",
       "dtype: int64"
      ]
     },
     "execution_count": 1088,
     "metadata": {},
     "output_type": "execute_result"
    }
   ],
   "source": [
    "df.isna().sum()        # gerçek NaN'ları ve None'ları verecek garip değerleri değil."
   ]
  },
  {
   "cell_type": "markdown",
   "id": "38de10ae",
   "metadata": {},
   "source": [
    "Electricity consumption          15782\n",
    "Last Service Date                15353\n",
    "Other Fuel Types                 15039\n",
    "Availability                     15284\n",
    "Last Timing Belt Service Date    15903\n",
    "Available from                   15647\n",
    "kW                               15919                   ## bunlar düşülebilir hemen."
   ]
  },
  {
   "cell_type": "code",
   "execution_count": 1089,
   "id": "b8295b29",
   "metadata": {},
   "outputs": [
    {
     "data": {
      "text/plain": [
       "url                               0.000\n",
       "make_model                        0.000\n",
       "short_description                 0.289\n",
       "body_type                         0.377\n",
       "price                             0.000\n",
       "vat                              28.350\n",
       "km                                0.000\n",
       "registration                      0.000\n",
       "prev_owner                       42.892\n",
       "kW                              100.000\n",
       "hp                                0.000\n",
       "Type                              0.013\n",
       "Previous Owners                  41.711\n",
       "Next Inspection                  77.794\n",
       "Inspection new                   75.300\n",
       "Warranty                         34.047\n",
       "Full Service                     48.395\n",
       "Non-smoking Vehicle              54.916\n",
       "null                              0.000\n",
       "Make                              0.000\n",
       "Model                             0.000\n",
       "Offer Number                     19.945\n",
       "First Registration               10.032\n",
       "Body Color                        3.750\n",
       "Paint Type                       36.259\n",
       "Body Color Original              23.613\n",
       "Upholstery                       23.368\n",
       "Body                              0.377\n",
       "Nr. of Doors                      1.332\n",
       "Nr. of Seats                      6.137\n",
       "Model Code                       68.729\n",
       "Gearing Type                      0.000\n",
       "Displacement                      3.116\n",
       "Cylinders                        35.681\n",
       "Weight                           43.809\n",
       "Drive chain                      43.081\n",
       "Fuel                              0.000\n",
       "Consumption                      11.973\n",
       "CO2 Emission                     11.357\n",
       "Emission Class                   18.977\n",
       "Comfort & Convenience             5.779\n",
       "Entertainment & Media             8.631\n",
       "Extras                           18.607\n",
       "Safety & Security                 6.169\n",
       "description                       0.000\n",
       "Emission Label                   74.967\n",
       "Gears                            29.600\n",
       "Country version                  52.346\n",
       "Electricity consumption          99.139\n",
       "Last Service Date                96.445\n",
       "Other Fuel Types                 94.472\n",
       "Availability                     96.011\n",
       "Last Timing Belt Service Date    99.899\n",
       "Available from                   98.291\n",
       "dtype: float64"
      ]
     },
     "execution_count": 1089,
     "metadata": {},
     "output_type": "execute_result"
    }
   ],
   "source": [
    "df.isna().sum() / len(df) * 100  "
   ]
  },
  {
   "cell_type": "code",
   "execution_count": 1090,
   "id": "9db44b73",
   "metadata": {},
   "outputs": [],
   "source": [
    "## % 85'den fazla missing value olan sütunlar düşülebilir."
   ]
  },
  {
   "cell_type": "code",
   "execution_count": 1091,
   "id": "f4d0d156",
   "metadata": {},
   "outputs": [
    {
     "data": {
      "text/plain": [
       "(15919, 47)"
      ]
     },
     "execution_count": 1091,
     "metadata": {},
     "output_type": "execute_result"
    }
   ],
   "source": [
    "df.drop(labels=[\"Available from\",\"Last Timing Belt Service Date\",\"Availability\",\"Other Fuel Types\",\"Last Service Date\",\n",
    "               \"Electricity consumption\",\"kW\"],axis=1).shape"
   ]
  },
  {
   "cell_type": "code",
   "execution_count": 1092,
   "id": "e99ee44d",
   "metadata": {},
   "outputs": [],
   "source": [
    "df.drop(labels=[\"Available from\",\"Last Timing Belt Service Date\",\"Availability\",\"Other Fuel Types\",\"Last Service Date\",\n",
    "               \"Electricity consumption\",\"kW\"],axis=1,inplace=True)"
   ]
  },
  {
   "cell_type": "code",
   "execution_count": 1093,
   "id": "b0d7b595",
   "metadata": {},
   "outputs": [
    {
     "name": "stdout",
     "output_type": "stream",
     "text": [
      "<class 'pandas.core.frame.DataFrame'>\n",
      "RangeIndex: 15919 entries, 0 to 15918\n",
      "Data columns (total 47 columns):\n",
      " #   Column                 Non-Null Count  Dtype \n",
      "---  ------                 --------------  ----- \n",
      " 0   url                    15919 non-null  object\n",
      " 1   make_model             15919 non-null  object\n",
      " 2   short_description      15873 non-null  object\n",
      " 3   body_type              15859 non-null  object\n",
      " 4   price                  15919 non-null  int64 \n",
      " 5   vat                    11406 non-null  object\n",
      " 6   km                     15919 non-null  object\n",
      " 7   registration           15919 non-null  object\n",
      " 8   prev_owner             9091 non-null   object\n",
      " 9   hp                     15919 non-null  object\n",
      " 10  Type                   15917 non-null  object\n",
      " 11  Previous Owners        9279 non-null   object\n",
      " 12  Next Inspection        3535 non-null   object\n",
      " 13  Inspection new         3932 non-null   object\n",
      " 14  Warranty               10499 non-null  object\n",
      " 15  Full Service           8215 non-null   object\n",
      " 16  Non-smoking Vehicle    7177 non-null   object\n",
      " 17  null                   15919 non-null  object\n",
      " 18  Make                   15919 non-null  object\n",
      " 19  Model                  15919 non-null  object\n",
      " 20  Offer Number           12744 non-null  object\n",
      " 21  First Registration     14322 non-null  object\n",
      " 22  Body Color             15322 non-null  object\n",
      " 23  Paint Type             10147 non-null  object\n",
      " 24  Body Color Original    12160 non-null  object\n",
      " 25  Upholstery             12199 non-null  object\n",
      " 26  Body                   15859 non-null  object\n",
      " 27  Nr. of Doors           15707 non-null  object\n",
      " 28  Nr. of Seats           14942 non-null  object\n",
      " 29  Model Code             4978 non-null   object\n",
      " 30  Gearing Type           15919 non-null  object\n",
      " 31  Displacement           15423 non-null  object\n",
      " 32  Cylinders              10239 non-null  object\n",
      " 33  Weight                 8945 non-null   object\n",
      " 34  Drive chain            9061 non-null   object\n",
      " 35  Fuel                   15919 non-null  object\n",
      " 36  Consumption            14013 non-null  object\n",
      " 37  CO2 Emission           14111 non-null  object\n",
      " 38  Emission Class         12898 non-null  object\n",
      " 39  Comfort & Convenience  14999 non-null  object\n",
      " 40  Entertainment & Media  14545 non-null  object\n",
      " 41  Extras                 12957 non-null  object\n",
      " 42  Safety & Security      14937 non-null  object\n",
      " 43  description            15919 non-null  object\n",
      " 44  Emission Label         3985 non-null   object\n",
      " 45  Gears                  11207 non-null  object\n",
      " 46  Country version        7586 non-null   object\n",
      "dtypes: int64(1), object(46)\n",
      "memory usage: 5.7+ MB\n"
     ]
    }
   ],
   "source": [
    "df.info()"
   ]
  },
  {
   "cell_type": "code",
   "execution_count": 1094,
   "id": "a2a3e559",
   "metadata": {},
   "outputs": [],
   "source": [
    "# df.nunique()   # TypeError: unhashable type: 'list  bundan dolayı  str methodlarını daha iyi uygulayabilmem için\n",
    "                 # listedeki verileri stringe dönüştürmeliyim."
   ]
  },
  {
   "cell_type": "code",
   "execution_count": 1095,
   "id": "6391f9f1",
   "metadata": {},
   "outputs": [
    {
     "data": {
      "text/html": [
       "<div>\n",
       "<style scoped>\n",
       "    .dataframe tbody tr th:only-of-type {\n",
       "        vertical-align: middle;\n",
       "    }\n",
       "\n",
       "    .dataframe tbody tr th {\n",
       "        vertical-align: top;\n",
       "    }\n",
       "\n",
       "    .dataframe thead th {\n",
       "        text-align: right;\n",
       "    }\n",
       "</style>\n",
       "<table border=\"1\" class=\"dataframe\">\n",
       "  <thead>\n",
       "    <tr style=\"text-align: right;\">\n",
       "      <th></th>\n",
       "      <th>url</th>\n",
       "      <th>make_model</th>\n",
       "      <th>short_description</th>\n",
       "      <th>body_type</th>\n",
       "      <th>price</th>\n",
       "      <th>vat</th>\n",
       "      <th>km</th>\n",
       "      <th>registration</th>\n",
       "      <th>prev_owner</th>\n",
       "      <th>hp</th>\n",
       "      <th>Type</th>\n",
       "      <th>Previous Owners</th>\n",
       "      <th>Next Inspection</th>\n",
       "      <th>Inspection new</th>\n",
       "      <th>Warranty</th>\n",
       "      <th>Full Service</th>\n",
       "      <th>Non-smoking Vehicle</th>\n",
       "      <th>null</th>\n",
       "      <th>Make</th>\n",
       "      <th>Model</th>\n",
       "      <th>Offer Number</th>\n",
       "      <th>First Registration</th>\n",
       "      <th>Body Color</th>\n",
       "      <th>Paint Type</th>\n",
       "      <th>Body Color Original</th>\n",
       "      <th>Upholstery</th>\n",
       "      <th>Body</th>\n",
       "      <th>Nr. of Doors</th>\n",
       "      <th>Nr. of Seats</th>\n",
       "      <th>Model Code</th>\n",
       "      <th>Gearing Type</th>\n",
       "      <th>Displacement</th>\n",
       "      <th>Cylinders</th>\n",
       "      <th>Weight</th>\n",
       "      <th>Drive chain</th>\n",
       "      <th>Fuel</th>\n",
       "      <th>Consumption</th>\n",
       "      <th>CO2 Emission</th>\n",
       "      <th>Emission Class</th>\n",
       "      <th>Comfort &amp; Convenience</th>\n",
       "      <th>Entertainment &amp; Media</th>\n",
       "      <th>Extras</th>\n",
       "      <th>Safety &amp; Security</th>\n",
       "      <th>description</th>\n",
       "      <th>Emission Label</th>\n",
       "      <th>Gears</th>\n",
       "      <th>Country version</th>\n",
       "    </tr>\n",
       "  </thead>\n",
       "  <tbody>\n",
       "    <tr>\n",
       "      <th>14777</th>\n",
       "      <td>https://www.autoscout24.com//offers/renault-cl...</td>\n",
       "      <td>Renault Clio</td>\n",
       "      <td>4 Life NEUVE 0.9 Tce 75 Tél/Clim/Régul</td>\n",
       "      <td>Compact</td>\n",
       "      <td>10990</td>\n",
       "      <td>VAT deductible</td>\n",
       "      <td>10 km</td>\n",
       "      <td>-/-</td>\n",
       "      <td>None</td>\n",
       "      <td>55 kW</td>\n",
       "      <td>,New,,Gasoline</td>\n",
       "      <td>\\n0\\n</td>\n",
       "      <td>NaN</td>\n",
       "      <td>NaN</td>\n",
       "      <td>\\n23 months\\n</td>\n",
       "      <td>NaN</td>\n",
       "      <td>NaN</td>\n",
       "      <td></td>\n",
       "      <td>\\nRenault\\n</td>\n",
       "      <td>\\n,Clio,\\n</td>\n",
       "      <td>\\nBL5\\n</td>\n",
       "      <td>NaN</td>\n",
       "      <td>\\n,White,\\n</td>\n",
       "      <td>NaN</td>\n",
       "      <td>NaN</td>\n",
       "      <td>NaN</td>\n",
       "      <td>\\n,Compact,\\n</td>\n",
       "      <td>NaN</td>\n",
       "      <td>NaN</td>\n",
       "      <td>NaN</td>\n",
       "      <td>\\n,Manual,\\n</td>\n",
       "      <td>NaN</td>\n",
       "      <td>NaN</td>\n",
       "      <td>NaN</td>\n",
       "      <td>NaN</td>\n",
       "      <td>\\n,Gasoline,\\n</td>\n",
       "      <td>NaN</td>\n",
       "      <td>NaN</td>\n",
       "      <td>NaN</td>\n",
       "      <td>Air conditioning,Cruise control,Multi-function...</td>\n",
       "      <td>Bluetooth,MP3,On-board computer,Radio,USB</td>\n",
       "      <td>NaN</td>\n",
       "      <td>ABS,Central door lock with remote control,Elec...</td>\n",
       "      <td>\\nVEHICULE NEUF EN STOCK ET VISIBLE DANS NOS L...</td>\n",
       "      <td>NaN</td>\n",
       "      <td>NaN</td>\n",
       "      <td>NaN</td>\n",
       "    </tr>\n",
       "    <tr>\n",
       "      <th>2816</th>\n",
       "      <td>https://www.autoscout24.com//offers/audi-a3-sp...</td>\n",
       "      <td>Audi A3</td>\n",
       "      <td>Sportback 1.6TDI CD Attraction S-T</td>\n",
       "      <td>Sedans</td>\n",
       "      <td>16999</td>\n",
       "      <td>None</td>\n",
       "      <td>60,000 km</td>\n",
       "      <td>01/2016</td>\n",
       "      <td>None</td>\n",
       "      <td>81 kW</td>\n",
       "      <td>,Used,,Diesel</td>\n",
       "      <td>NaN</td>\n",
       "      <td>NaN</td>\n",
       "      <td>NaN</td>\n",
       "      <td>NaN</td>\n",
       "      <td>\\n</td>\n",
       "      <td>\\n,\\n,\\n99 g CO2/km (comb)\\n</td>\n",
       "      <td></td>\n",
       "      <td>\\nAudi\\n</td>\n",
       "      <td>\\n,A3,\\n</td>\n",
       "      <td>NaN</td>\n",
       "      <td>\\n,2016,\\n</td>\n",
       "      <td>\\n,White,\\n</td>\n",
       "      <td>NaN</td>\n",
       "      <td>NaN</td>\n",
       "      <td>NaN</td>\n",
       "      <td>\\n,Sedans,\\n</td>\n",
       "      <td>\\n5\\n</td>\n",
       "      <td>\\n5\\n</td>\n",
       "      <td>NaN</td>\n",
       "      <td>\\n,Automatic,\\n</td>\n",
       "      <td>\\n1,598 cc\\n</td>\n",
       "      <td>\\n4\\n</td>\n",
       "      <td>\\n1,355 kg\\n</td>\n",
       "      <td>NaN</td>\n",
       "      <td>\\n,Diesel,\\n</td>\n",
       "      <td>['4 l/100 km (comb)'],['4.5 l/100 km (city)'],...</td>\n",
       "      <td>\\n99 g CO2/km (comb)\\n</td>\n",
       "      <td>\\nEuro 6\\n</td>\n",
       "      <td>Air conditioning,Armrest,Electrical side mirro...</td>\n",
       "      <td>Radio</td>\n",
       "      <td>Alloy wheels</td>\n",
       "      <td>ABS,Central door lock,Central door lock with r...</td>\n",
       "      <td></td>\n",
       "      <td>NaN</td>\n",
       "      <td>\\n7\\n</td>\n",
       "      <td>NaN</td>\n",
       "    </tr>\n",
       "  </tbody>\n",
       "</table>\n",
       "</div>"
      ],
      "text/plain": [
       "                                                     url    make_model  \\\n",
       "14777  https://www.autoscout24.com//offers/renault-cl...  Renault Clio   \n",
       "2816   https://www.autoscout24.com//offers/audi-a3-sp...       Audi A3   \n",
       "\n",
       "                             short_description body_type  price  \\\n",
       "14777  4 Life NEUVE 0.9 Tce 75 Tél/Clim/Régul    Compact  10990   \n",
       "2816        Sportback 1.6TDI CD Attraction S-T    Sedans  16999   \n",
       "\n",
       "                  vat         km registration prev_owner     hp  \\\n",
       "14777  VAT deductible      10 km          -/-       None  55 kW   \n",
       "2816             None  60,000 km      01/2016       None  81 kW   \n",
       "\n",
       "                 Type Previous Owners Next Inspection Inspection new  \\\n",
       "14777  ,New,,Gasoline           \\n0\\n             NaN            NaN   \n",
       "2816    ,Used,,Diesel             NaN             NaN            NaN   \n",
       "\n",
       "            Warranty Full Service           Non-smoking Vehicle null  \\\n",
       "14777  \\n23 months\\n          NaN                           NaN        \n",
       "2816             NaN           \\n  \\n,\\n,\\n99 g CO2/km (comb)\\n        \n",
       "\n",
       "              Make       Model Offer Number First Registration   Body Color  \\\n",
       "14777  \\nRenault\\n  \\n,Clio,\\n      \\nBL5\\n                NaN  \\n,White,\\n   \n",
       "2816      \\nAudi\\n    \\n,A3,\\n          NaN         \\n,2016,\\n  \\n,White,\\n   \n",
       "\n",
       "      Paint Type Body Color Original Upholstery           Body Nr. of Doors  \\\n",
       "14777        NaN                 NaN        NaN  \\n,Compact,\\n          NaN   \n",
       "2816         NaN                 NaN        NaN   \\n,Sedans,\\n        \\n5\\n   \n",
       "\n",
       "      Nr. of Seats Model Code     Gearing Type  Displacement Cylinders  \\\n",
       "14777          NaN        NaN     \\n,Manual,\\n           NaN       NaN   \n",
       "2816         \\n5\\n        NaN  \\n,Automatic,\\n  \\n1,598 cc\\n     \\n4\\n   \n",
       "\n",
       "             Weight Drive chain            Fuel  \\\n",
       "14777           NaN         NaN  \\n,Gasoline,\\n   \n",
       "2816   \\n1,355 kg\\n         NaN    \\n,Diesel,\\n   \n",
       "\n",
       "                                             Consumption  \\\n",
       "14777                                                NaN   \n",
       "2816   ['4 l/100 km (comb)'],['4.5 l/100 km (city)'],...   \n",
       "\n",
       "                 CO2 Emission Emission Class  \\\n",
       "14777                     NaN            NaN   \n",
       "2816   \\n99 g CO2/km (comb)\\n     \\nEuro 6\\n   \n",
       "\n",
       "                                   Comfort & Convenience  \\\n",
       "14777  Air conditioning,Cruise control,Multi-function...   \n",
       "2816   Air conditioning,Armrest,Electrical side mirro...   \n",
       "\n",
       "                           Entertainment & Media        Extras  \\\n",
       "14777  Bluetooth,MP3,On-board computer,Radio,USB           NaN   \n",
       "2816                                       Radio  Alloy wheels   \n",
       "\n",
       "                                       Safety & Security  \\\n",
       "14777  ABS,Central door lock with remote control,Elec...   \n",
       "2816   ABS,Central door lock,Central door lock with r...   \n",
       "\n",
       "                                             description Emission Label  \\\n",
       "14777  \\nVEHICULE NEUF EN STOCK ET VISIBLE DANS NOS L...            NaN   \n",
       "2816                                                                NaN   \n",
       "\n",
       "       Gears Country version  \n",
       "14777    NaN             NaN  \n",
       "2816   \\n7\\n             NaN  "
      ]
     },
     "execution_count": 1095,
     "metadata": {},
     "output_type": "execute_result"
    }
   ],
   "source": [
    "df = df.applymap(lambda x: ','.join(map(str, x)) if isinstance(x, list) else x)\n",
    "df.sample(2)"
   ]
  },
  {
   "cell_type": "code",
   "execution_count": 1096,
   "id": "7620ce40",
   "metadata": {},
   "outputs": [],
   "source": [
    "## bazı \\n'leri df'den temizleyebiliriz kolayca : "
   ]
  },
  {
   "cell_type": "code",
   "execution_count": 1097,
   "id": "f53843a2",
   "metadata": {},
   "outputs": [
    {
     "data": {
      "text/html": [
       "<div>\n",
       "<style scoped>\n",
       "    .dataframe tbody tr th:only-of-type {\n",
       "        vertical-align: middle;\n",
       "    }\n",
       "\n",
       "    .dataframe tbody tr th {\n",
       "        vertical-align: top;\n",
       "    }\n",
       "\n",
       "    .dataframe thead th {\n",
       "        text-align: right;\n",
       "    }\n",
       "</style>\n",
       "<table border=\"1\" class=\"dataframe\">\n",
       "  <thead>\n",
       "    <tr style=\"text-align: right;\">\n",
       "      <th></th>\n",
       "      <th>url</th>\n",
       "      <th>make_model</th>\n",
       "      <th>short_description</th>\n",
       "      <th>body_type</th>\n",
       "      <th>price</th>\n",
       "      <th>vat</th>\n",
       "      <th>km</th>\n",
       "      <th>registration</th>\n",
       "      <th>prev_owner</th>\n",
       "      <th>hp</th>\n",
       "      <th>Type</th>\n",
       "      <th>Previous Owners</th>\n",
       "      <th>Next Inspection</th>\n",
       "      <th>Inspection new</th>\n",
       "      <th>Warranty</th>\n",
       "      <th>Full Service</th>\n",
       "      <th>Non-smoking Vehicle</th>\n",
       "      <th>null</th>\n",
       "      <th>Make</th>\n",
       "      <th>Model</th>\n",
       "      <th>Offer Number</th>\n",
       "      <th>First Registration</th>\n",
       "      <th>Body Color</th>\n",
       "      <th>Paint Type</th>\n",
       "      <th>Body Color Original</th>\n",
       "      <th>Upholstery</th>\n",
       "      <th>Body</th>\n",
       "      <th>Nr. of Doors</th>\n",
       "      <th>Nr. of Seats</th>\n",
       "      <th>Model Code</th>\n",
       "      <th>Gearing Type</th>\n",
       "      <th>Displacement</th>\n",
       "      <th>Cylinders</th>\n",
       "      <th>Weight</th>\n",
       "      <th>Drive chain</th>\n",
       "      <th>Fuel</th>\n",
       "      <th>Consumption</th>\n",
       "      <th>CO2 Emission</th>\n",
       "      <th>Emission Class</th>\n",
       "      <th>Comfort &amp; Convenience</th>\n",
       "      <th>Entertainment &amp; Media</th>\n",
       "      <th>Extras</th>\n",
       "      <th>Safety &amp; Security</th>\n",
       "      <th>description</th>\n",
       "      <th>Emission Label</th>\n",
       "      <th>Gears</th>\n",
       "      <th>Country version</th>\n",
       "    </tr>\n",
       "  </thead>\n",
       "  <tbody>\n",
       "    <tr>\n",
       "      <th>6153</th>\n",
       "      <td>https://www.autoscout24.com//offers/opel-astra...</td>\n",
       "      <td>Opel Astra</td>\n",
       "      <td>SPORT TOUR 1.6 CDTI -E6-ANCHE PERMUTE-UNIPROPR...</td>\n",
       "      <td>Station wagon</td>\n",
       "      <td>10300</td>\n",
       "      <td>VAT deductible</td>\n",
       "      <td>91,000 km</td>\n",
       "      <td>06/2017</td>\n",
       "      <td>1 previous owner</td>\n",
       "      <td>81 kW</td>\n",
       "      <td>Used,,Diesel (Particulate Filter)</td>\n",
       "      <td>1</td>\n",
       "      <td>NaN</td>\n",
       "      <td>NaN</td>\n",
       "      <td>12 months,Euro 6</td>\n",
       "      <td></td>\n",
       "      <td></td>\n",
       "      <td></td>\n",
       "      <td>Opel</td>\n",
       "      <td>Astra</td>\n",
       "      <td>NaN</td>\n",
       "      <td>2017</td>\n",
       "      <td>Blue</td>\n",
       "      <td>Metallic</td>\n",
       "      <td>CELESTE/CARTA DA ZUCCHERO</td>\n",
       "      <td>Cloth</td>\n",
       "      <td>Station wagon</td>\n",
       "      <td>5</td>\n",
       "      <td>5</td>\n",
       "      <td>NaN</td>\n",
       "      <td>Manual</td>\n",
       "      <td>1,600 cc</td>\n",
       "      <td>4</td>\n",
       "      <td>NaN</td>\n",
       "      <td>NaN</td>\n",
       "      <td>Diesel (Particulate Filter)</td>\n",
       "      <td>['3.3 l/100 km (comb)'],['4 l/100 km (city)'],...</td>\n",
       "      <td>NaN</td>\n",
       "      <td>Euro 6</td>\n",
       "      <td>Air conditioning,Armrest,Automatic climate con...</td>\n",
       "      <td>Bluetooth,CD player,Digital radio,Hands-free e...</td>\n",
       "      <td>Catalytic Converter,Touch screen,Voice Control</td>\n",
       "      <td>ABS,Adaptive headlights,Alarm system,Central d...</td>\n",
       "      <td>NUOVA OPEL ASTRA MOD NEW 1.6 CDTI SPORT TOURER...</td>\n",
       "      <td>NaN</td>\n",
       "      <td>6</td>\n",
       "      <td>Italy</td>\n",
       "    </tr>\n",
       "    <tr>\n",
       "      <th>2021</th>\n",
       "      <td>https://www.autoscout24.com//offers/audi-a1-30...</td>\n",
       "      <td>Audi A1</td>\n",
       "      <td>30 TFSI S line exterieur</td>\n",
       "      <td>Sedans</td>\n",
       "      <td>26990</td>\n",
       "      <td>None</td>\n",
       "      <td>2,000 km</td>\n",
       "      <td>02/2019</td>\n",
       "      <td>None</td>\n",
       "      <td>85 kW</td>\n",
       "      <td>Used,,Gasoline</td>\n",
       "      <td>NaN</td>\n",
       "      <td>NaN</td>\n",
       "      <td>NaN</td>\n",
       "      <td>NaN</td>\n",
       "      <td></td>\n",
       "      <td>NaN</td>\n",
       "      <td></td>\n",
       "      <td>Audi</td>\n",
       "      <td>A1</td>\n",
       "      <td>349-33110</td>\n",
       "      <td>2019</td>\n",
       "      <td>Grey</td>\n",
       "      <td>Metallic</td>\n",
       "      <td>Chronosgrau Met.</td>\n",
       "      <td>NaN</td>\n",
       "      <td>Sedans</td>\n",
       "      <td>4</td>\n",
       "      <td>5</td>\n",
       "      <td>NaN</td>\n",
       "      <td>Automatic</td>\n",
       "      <td>999 cc</td>\n",
       "      <td>NaN</td>\n",
       "      <td>1,179 kg</td>\n",
       "      <td>front</td>\n",
       "      <td>Gasoline</td>\n",
       "      <td>['4.8 l/100 km (comb)'],[],[]</td>\n",
       "      <td>NaN</td>\n",
       "      <td>NaN</td>\n",
       "      <td>Air conditioning,Automatic climate control,Cru...</td>\n",
       "      <td>CD player,Hands-free equipment,Radio,Sound system</td>\n",
       "      <td>Alloy wheels</td>\n",
       "      <td>Electronic stability control,Emergency brake a...</td>\n",
       "      <td>Info Herr Kölblinger 0664/9664167 FZG wird akt...</td>\n",
       "      <td>NaN</td>\n",
       "      <td>NaN</td>\n",
       "      <td>NaN</td>\n",
       "    </tr>\n",
       "    <tr>\n",
       "      <th>6538</th>\n",
       "      <td>https://www.autoscout24.com//offers/opel-astra...</td>\n",
       "      <td>Opel Astra</td>\n",
       "      <td>SPORTS TOURER 1.6 D 136ch Innovation Automatique</td>\n",
       "      <td>Station wagon</td>\n",
       "      <td>17890</td>\n",
       "      <td>None</td>\n",
       "      <td>25,203 km</td>\n",
       "      <td>12/2017</td>\n",
       "      <td>None</td>\n",
       "      <td>101 kW</td>\n",
       "      <td>Used,,Diesel</td>\n",
       "      <td>NaN</td>\n",
       "      <td>NaN</td>\n",
       "      <td>NaN</td>\n",
       "      <td>12 months</td>\n",
       "      <td>NaN</td>\n",
       "      <td>NaN</td>\n",
       "      <td></td>\n",
       "      <td>Opel</td>\n",
       "      <td>Astra</td>\n",
       "      <td>ored-ET-925-BH</td>\n",
       "      <td>2017</td>\n",
       "      <td>NaN</td>\n",
       "      <td>NaN</td>\n",
       "      <td>Blanc Glacier, Brillant</td>\n",
       "      <td>NaN</td>\n",
       "      <td>Station wagon</td>\n",
       "      <td>5</td>\n",
       "      <td>5</td>\n",
       "      <td>NaN</td>\n",
       "      <td>Automatic</td>\n",
       "      <td>1,598 cc</td>\n",
       "      <td>NaN</td>\n",
       "      <td>NaN</td>\n",
       "      <td>NaN</td>\n",
       "      <td>Diesel</td>\n",
       "      <td>NaN</td>\n",
       "      <td>NaN</td>\n",
       "      <td>NaN</td>\n",
       "      <td>Air conditioning,Automatic climate control,Cru...</td>\n",
       "      <td>Bluetooth,Hands-free equipment,On-board comput...</td>\n",
       "      <td>Alloy wheels</td>\n",
       "      <td>ABS,Central door lock,Daytime running lights,D...</td>\n",
       "      <td>Marque: OPELModèle: ASTRA SPORTS TOURERVersion...</td>\n",
       "      <td>NaN</td>\n",
       "      <td>NaN</td>\n",
       "      <td>NaN</td>\n",
       "    </tr>\n",
       "    <tr>\n",
       "      <th>3209</th>\n",
       "      <td>https://www.autoscout24.com//offers/audi-a3-1-...</td>\n",
       "      <td>Audi A3</td>\n",
       "      <td>1.4 TFSI Attraction (125 CV)</td>\n",
       "      <td>Compact</td>\n",
       "      <td>13500</td>\n",
       "      <td>VAT deductible</td>\n",
       "      <td>100,832 km</td>\n",
       "      <td>05/2016</td>\n",
       "      <td>None</td>\n",
       "      <td>92 kW</td>\n",
       "      <td>Used,,Super 95</td>\n",
       "      <td>NaN</td>\n",
       "      <td>NaN</td>\n",
       "      <td>NaN</td>\n",
       "      <td>12 months</td>\n",
       "      <td>119 g CO2/km (comb)</td>\n",
       "      <td>Euro 6</td>\n",
       "      <td></td>\n",
       "      <td>Audi</td>\n",
       "      <td>A3</td>\n",
       "      <td>3456JPF</td>\n",
       "      <td>2016</td>\n",
       "      <td>Blue</td>\n",
       "      <td>Metallic</td>\n",
       "      <td>NaN</td>\n",
       "      <td>Black</td>\n",
       "      <td>Compact</td>\n",
       "      <td>5</td>\n",
       "      <td>5</td>\n",
       "      <td>NaN</td>\n",
       "      <td>Manual</td>\n",
       "      <td>1,395 cc</td>\n",
       "      <td>4</td>\n",
       "      <td>1,280 kg</td>\n",
       "      <td>front</td>\n",
       "      <td>Super 95</td>\n",
       "      <td>['5.1 l/100 km (comb)'],['6.7 l/100 km (city)'...</td>\n",
       "      <td>119 g CO2/km (comb)</td>\n",
       "      <td>Euro 6</td>\n",
       "      <td>Air conditioning,Armrest,Start-stop system</td>\n",
       "      <td>On-board computer</td>\n",
       "      <td>Alloy wheels</td>\n",
       "      <td>Daytime running lights,Driver drowsiness detec...</td>\n",
       "      <td>3456JPF,Oferta de financiación, consultar cond...</td>\n",
       "      <td>NaN</td>\n",
       "      <td>6</td>\n",
       "      <td>NaN</td>\n",
       "    </tr>\n",
       "  </tbody>\n",
       "</table>\n",
       "</div>"
      ],
      "text/plain": [
       "                                                    url  make_model  \\\n",
       "6153  https://www.autoscout24.com//offers/opel-astra...  Opel Astra   \n",
       "2021  https://www.autoscout24.com//offers/audi-a1-30...     Audi A1   \n",
       "6538  https://www.autoscout24.com//offers/opel-astra...  Opel Astra   \n",
       "3209  https://www.autoscout24.com//offers/audi-a3-1-...     Audi A3   \n",
       "\n",
       "                                      short_description      body_type  price  \\\n",
       "6153  SPORT TOUR 1.6 CDTI -E6-ANCHE PERMUTE-UNIPROPR...  Station wagon  10300   \n",
       "2021                           30 TFSI S line exterieur         Sedans  26990   \n",
       "6538   SPORTS TOURER 1.6 D 136ch Innovation Automatique  Station wagon  17890   \n",
       "3209                       1.4 TFSI Attraction (125 CV)        Compact  13500   \n",
       "\n",
       "                 vat          km registration        prev_owner      hp  \\\n",
       "6153  VAT deductible   91,000 km      06/2017  1 previous owner   81 kW   \n",
       "2021            None    2,000 km      02/2019              None   85 kW   \n",
       "6538            None   25,203 km      12/2017              None  101 kW   \n",
       "3209  VAT deductible  100,832 km      05/2016              None   92 kW   \n",
       "\n",
       "                                   Type Previous Owners Next Inspection  \\\n",
       "6153  Used,,Diesel (Particulate Filter)               1             NaN   \n",
       "2021                     Used,,Gasoline             NaN             NaN   \n",
       "6538                       Used,,Diesel             NaN             NaN   \n",
       "3209                     Used,,Super 95             NaN             NaN   \n",
       "\n",
       "     Inspection new          Warranty         Full Service  \\\n",
       "6153            NaN  12 months,Euro 6                        \n",
       "2021            NaN               NaN                        \n",
       "6538            NaN         12 months                  NaN   \n",
       "3209            NaN         12 months  119 g CO2/km (comb)   \n",
       "\n",
       "     Non-smoking Vehicle null  Make  Model    Offer Number First Registration  \\\n",
       "6153                           Opel  Astra             NaN               2017   \n",
       "2021                 NaN       Audi     A1       349-33110               2019   \n",
       "6538                 NaN       Opel  Astra  ored-ET-925-BH               2017   \n",
       "3209              Euro 6       Audi     A3         3456JPF               2016   \n",
       "\n",
       "     Body Color Paint Type        Body Color Original Upholstery  \\\n",
       "6153       Blue   Metallic  CELESTE/CARTA DA ZUCCHERO      Cloth   \n",
       "2021       Grey   Metallic           Chronosgrau Met.        NaN   \n",
       "6538        NaN        NaN    Blanc Glacier, Brillant        NaN   \n",
       "3209       Blue   Metallic                        NaN      Black   \n",
       "\n",
       "               Body Nr. of Doors Nr. of Seats Model Code Gearing Type  \\\n",
       "6153  Station wagon            5            5        NaN       Manual   \n",
       "2021         Sedans            4            5        NaN    Automatic   \n",
       "6538  Station wagon            5            5        NaN    Automatic   \n",
       "3209        Compact            5            5        NaN       Manual   \n",
       "\n",
       "     Displacement Cylinders    Weight Drive chain  \\\n",
       "6153     1,600 cc         4       NaN         NaN   \n",
       "2021       999 cc       NaN  1,179 kg       front   \n",
       "6538     1,598 cc       NaN       NaN         NaN   \n",
       "3209     1,395 cc         4  1,280 kg       front   \n",
       "\n",
       "                             Fuel  \\\n",
       "6153  Diesel (Particulate Filter)   \n",
       "2021                     Gasoline   \n",
       "6538                       Diesel   \n",
       "3209                     Super 95   \n",
       "\n",
       "                                            Consumption         CO2 Emission  \\\n",
       "6153  ['3.3 l/100 km (comb)'],['4 l/100 km (city)'],...                  NaN   \n",
       "2021                      ['4.8 l/100 km (comb)'],[],[]                  NaN   \n",
       "6538                                                NaN                  NaN   \n",
       "3209  ['5.1 l/100 km (comb)'],['6.7 l/100 km (city)'...  119 g CO2/km (comb)   \n",
       "\n",
       "     Emission Class                              Comfort & Convenience  \\\n",
       "6153         Euro 6  Air conditioning,Armrest,Automatic climate con...   \n",
       "2021            NaN  Air conditioning,Automatic climate control,Cru...   \n",
       "6538            NaN  Air conditioning,Automatic climate control,Cru...   \n",
       "3209         Euro 6         Air conditioning,Armrest,Start-stop system   \n",
       "\n",
       "                                  Entertainment & Media  \\\n",
       "6153  Bluetooth,CD player,Digital radio,Hands-free e...   \n",
       "2021  CD player,Hands-free equipment,Radio,Sound system   \n",
       "6538  Bluetooth,Hands-free equipment,On-board comput...   \n",
       "3209                                  On-board computer   \n",
       "\n",
       "                                              Extras  \\\n",
       "6153  Catalytic Converter,Touch screen,Voice Control   \n",
       "2021                                    Alloy wheels   \n",
       "6538                                    Alloy wheels   \n",
       "3209                                    Alloy wheels   \n",
       "\n",
       "                                      Safety & Security  \\\n",
       "6153  ABS,Adaptive headlights,Alarm system,Central d...   \n",
       "2021  Electronic stability control,Emergency brake a...   \n",
       "6538  ABS,Central door lock,Daytime running lights,D...   \n",
       "3209  Daytime running lights,Driver drowsiness detec...   \n",
       "\n",
       "                                            description Emission Label Gears  \\\n",
       "6153  NUOVA OPEL ASTRA MOD NEW 1.6 CDTI SPORT TOURER...            NaN     6   \n",
       "2021  Info Herr Kölblinger 0664/9664167 FZG wird akt...            NaN   NaN   \n",
       "6538  Marque: OPELModèle: ASTRA SPORTS TOURERVersion...            NaN   NaN   \n",
       "3209  3456JPF,Oferta de financiación, consultar cond...            NaN     6   \n",
       "\n",
       "     Country version  \n",
       "6153           Italy  \n",
       "2021             NaN  \n",
       "6538             NaN  \n",
       "3209             NaN  "
      ]
     },
     "execution_count": 1097,
     "metadata": {},
     "output_type": "execute_result"
    }
   ],
   "source": [
    "df= df.apply(lambda x: x.str.replace(\"\\n\",\"\").str.strip(\",\") if x.dtype == \"O\" else x)\n",
    "df.sample(4)"
   ]
  },
  {
   "cell_type": "code",
   "execution_count": 1098,
   "id": "034d9b47",
   "metadata": {},
   "outputs": [
    {
     "data": {
      "text/plain": [
       "url                      15919\n",
       "make_model                   9\n",
       "short_description        10001\n",
       "body_type                    9\n",
       "price                     2956\n",
       "vat                          2\n",
       "km                        6690\n",
       "registration                48\n",
       "prev_owner                   4\n",
       "hp                          81\n",
       "Type                       169\n",
       "Previous Owners            101\n",
       "Next Inspection           1384\n",
       "Inspection new             201\n",
       "Warranty                   506\n",
       "Full Service               121\n",
       "Non-smoking Vehicle         93\n",
       "null                         1\n",
       "Make                         3\n",
       "Model                        9\n",
       "Offer Number             11440\n",
       "First Registration           4\n",
       "Body Color                  14\n",
       "Paint Type                   3\n",
       "Body Color Original       1927\n",
       "Upholstery                  46\n",
       "Body                         9\n",
       "Nr. of Doors                 6\n",
       "Nr. of Seats                 6\n",
       "Model Code                 232\n",
       "Gearing Type                 3\n",
       "Displacement                77\n",
       "Cylinders                    7\n",
       "Weight                     434\n",
       "Drive chain                  3\n",
       "Fuel                        77\n",
       "Consumption                881\n",
       "CO2 Emission               123\n",
       "Emission Class               7\n",
       "Comfort & Convenience     6198\n",
       "Entertainment & Media      346\n",
       "Extras                     659\n",
       "Safety & Security         4443\n",
       "description              12864\n",
       "Emission Label               6\n",
       "Gears                       10\n",
       "Country version             23\n",
       "dtype: int64"
      ]
     },
     "execution_count": 1098,
     "metadata": {},
     "output_type": "execute_result"
    }
   ],
   "source": [
    "df.nunique()"
   ]
  },
  {
   "cell_type": "code",
   "execution_count": 1099,
   "id": "857d5a70",
   "metadata": {},
   "outputs": [],
   "source": [
    "# df.isin(\"\").sum()"
   ]
  },
  {
   "cell_type": "code",
   "execution_count": 1100,
   "id": "933e6223",
   "metadata": {},
   "outputs": [
    {
     "data": {
      "text/plain": [
       "url                          0\n",
       "make_model                   0\n",
       "short_description            0\n",
       "body_type                    0\n",
       "price                        0\n",
       "vat                          0\n",
       "km                           0\n",
       "registration                 0\n",
       "prev_owner                   0\n",
       "hp                           0\n",
       "Type                         0\n",
       "Previous Owners              0\n",
       "Next Inspection              0\n",
       "Inspection new               0\n",
       "Warranty                  1343\n",
       "Full Service              1985\n",
       "Non-smoking Vehicle       3717\n",
       "null                     15919\n",
       "Make                         0\n",
       "Model                        0\n",
       "Offer Number                 0\n",
       "First Registration           0\n",
       "Body Color                   0\n",
       "Paint Type                   0\n",
       "Body Color Original          0\n",
       "Upholstery                   0\n",
       "Body                         0\n",
       "Nr. of Doors                 0\n",
       "Nr. of Seats                 0\n",
       "Model Code                   0\n",
       "Gearing Type                 0\n",
       "Displacement                 0\n",
       "Cylinders                    0\n",
       "Weight                       0\n",
       "Drive chain                  0\n",
       "Fuel                         0\n",
       "Consumption                  0\n",
       "CO2 Emission                 0\n",
       "Emission Class               0\n",
       "Comfort & Convenience        0\n",
       "Entertainment & Media        0\n",
       "Extras                       0\n",
       "Safety & Security            0\n",
       "description                667\n",
       "Emission Label               0\n",
       "Gears                        0\n",
       "Country version              0\n",
       "dtype: int64"
      ]
     },
     "execution_count": 1100,
     "metadata": {},
     "output_type": "execute_result"
    }
   ],
   "source": [
    "df.isin([\"\"]).sum()   # hangi sütunlarda kaçar tane boş satır var yani bu satırlar da hiçbir şey yok : "
   ]
  },
  {
   "cell_type": "code",
   "execution_count": 1101,
   "id": "a6ee580e",
   "metadata": {},
   "outputs": [],
   "source": [
    "## aslında bu bizim için NaN demek. O yüzden ; "
   ]
  },
  {
   "cell_type": "code",
   "execution_count": 1102,
   "id": "ed8d3568",
   "metadata": {},
   "outputs": [],
   "source": [
    "df[df.isin([\"\"])] = np.nan"
   ]
  },
  {
   "cell_type": "markdown",
   "id": "3d0ef62f",
   "metadata": {},
   "source": [
    "### url"
   ]
  },
  {
   "cell_type": "code",
   "execution_count": 1103,
   "id": "efbe9d0c",
   "metadata": {},
   "outputs": [
    {
     "data": {
      "text/plain": [
       "https://www.autoscout24.com//offers/audi-a1-sportback-1-4-tdi-s-tronic-xenon-navi-klima-diesel-black-bdab349a-caa5-41b0-98eb-c1345b84445e                  1\n",
       "https://www.autoscout24.com//offers/opel-insignia-bus-inno-2-0-cdti-aut-navi-bi-xe-led-e6-diesel-black-8710b253-dd98-4ed0-9d46-cbad2d79532b                1\n",
       "https://www.autoscout24.com//offers/opel-insignia-sport-tourer-opel-sport-tourer-1-6-cdti-136-ch-a-c-diesel-silver-10b7463b-9f56-4348-af35-df3432b2b585    1\n",
       "https://www.autoscout24.com//offers/opel-insignia-2-0cdti-st-business-innovation-navi-bt-diesel-black-ba5a3368-dedc-4e51-9127-3976b26e93c2                 1\n",
       "https://www.autoscout24.com//offers/opel-insignia-sport-tourer-opel-sport-tourer-1-6-cdti-136-ch-a-c-diesel-silver-7b52f054-78d3-4d5e-9370-8a7d081d7edd    1\n",
       "                                                                                                                                                          ..\n",
       "https://www.autoscout24.com//offers/audi-a3-sb-30-1-6-tdi-business-116cv-s-tronic-diesel-black-cf50f7b1-4d7b-466f-93a2-4e11ec0b4107                        1\n",
       "https://www.autoscout24.com//offers/audi-a3-sb-30-1-6-tdi-business-116cv-s-tronic-diesel-grey-3f47eb34-15c4-4763-860d-78fcbbd2c9ff                         1\n",
       "https://www.autoscout24.com//offers/audi-a3-sb-30-1-6-tdi-business-116cv-s-tronic-diesel-silver-f7a4bc95-b2ef-4bac-9497-6bcbcd05db0b                       1\n",
       "https://www.autoscout24.com//offers/audi-a3-sb-30-1-6-tdi-business-116cv-s-tronic-diesel-silver-1c94c7a2-67b5-49ca-ae42-42a6800fb3f5                       1\n",
       "https://www.autoscout24.com//offers/renault-espace-initiale-paris-tce-225-edc-gpf-navi-shz-aux-gasoline-grey-0bd690d9-7e93-4cab-bc5a-9d5b63402481          1\n",
       "Name: url, Length: 15919, dtype: int64"
      ]
     },
     "execution_count": 1103,
     "metadata": {},
     "output_type": "execute_result"
    }
   ],
   "source": [
    "df[\"url\"].value_counts()"
   ]
  },
  {
   "cell_type": "code",
   "execution_count": 1104,
   "id": "09e205ae",
   "metadata": {},
   "outputs": [],
   "source": [
    "## bunun bize yararlı olmayacağını düşünüyorum."
   ]
  },
  {
   "cell_type": "code",
   "execution_count": 1105,
   "id": "58707a14",
   "metadata": {},
   "outputs": [],
   "source": [
    "df.drop(\"url\",axis=1,inplace=True)"
   ]
  },
  {
   "cell_type": "markdown",
   "id": "e5b6652e",
   "metadata": {},
   "source": [
    "### make_model"
   ]
  },
  {
   "cell_type": "code",
   "execution_count": 1106,
   "id": "92bae302",
   "metadata": {},
   "outputs": [
    {
     "data": {
      "text/plain": [
       "Audi A3           3097\n",
       "Audi A1           2614\n",
       "Opel Insignia     2598\n",
       "Opel Astra        2526\n",
       "Opel Corsa        2219\n",
       "Renault Clio      1839\n",
       "Renault Espace     991\n",
       "Renault Duster      34\n",
       "Audi A2              1\n",
       "Name: make_model, dtype: int64"
      ]
     },
     "execution_count": 1106,
     "metadata": {},
     "output_type": "execute_result"
    }
   ],
   "source": [
    "df[\"make_model\"].value_counts(dropna=False)  \n",
    "## tam ve düzgün bir feature  gibi belki marka / model diye 2 farklı sütun yapılabilir."
   ]
  },
  {
   "cell_type": "markdown",
   "id": "22f1002f",
   "metadata": {},
   "source": [
    "###  Make"
   ]
  },
  {
   "cell_type": "code",
   "execution_count": 1107,
   "id": "a2f66bfd",
   "metadata": {},
   "outputs": [
    {
     "data": {
      "text/plain": [
       "Opel       7343\n",
       "Audi       5712\n",
       "Renault    2864\n",
       "Name: Make, dtype: int64"
      ]
     },
     "execution_count": 1107,
     "metadata": {},
     "output_type": "execute_result"
    }
   ],
   "source": [
    "df[\"Make\"].value_counts(dropna=False)"
   ]
  },
  {
   "cell_type": "code",
   "execution_count": 1108,
   "id": "106f1ae0",
   "metadata": {},
   "outputs": [
    {
     "data": {
      "text/plain": [
       "Opel      0.461\n",
       "Audi      0.359\n",
       "Renault   0.180\n",
       "Name: Make, dtype: float64"
      ]
     },
     "execution_count": 1108,
     "metadata": {},
     "output_type": "execute_result"
    }
   ],
   "source": [
    "df[\"Make\"].value_counts(normalize=True)"
   ]
  },
  {
   "cell_type": "markdown",
   "id": "38f76419",
   "metadata": {},
   "source": [
    "###  Model "
   ]
  },
  {
   "cell_type": "code",
   "execution_count": 1109,
   "id": "1e1cbb5f",
   "metadata": {},
   "outputs": [
    {
     "data": {
      "text/plain": [
       "0            A1\n",
       "1            A1\n",
       "2            A1\n",
       "3            A1\n",
       "4            A1\n",
       "          ...  \n",
       "15914    Espace\n",
       "15915    Espace\n",
       "15916    Espace\n",
       "15917    Espace\n",
       "15918    Espace\n",
       "Name: Model, Length: 15919, dtype: object"
      ]
     },
     "execution_count": 1109,
     "metadata": {},
     "output_type": "execute_result"
    }
   ],
   "source": [
    "df[\"Model\"]"
   ]
  },
  {
   "cell_type": "code",
   "execution_count": 1110,
   "id": "d84b753d",
   "metadata": {},
   "outputs": [
    {
     "data": {
      "text/plain": [
       "A3          3097\n",
       "A1          2614\n",
       "Insignia    2598\n",
       "Astra       2526\n",
       "Corsa       2219\n",
       "Clio        1839\n",
       "Espace       991\n",
       "Duster        34\n",
       "A2             1\n",
       "Name: Model, dtype: int64"
      ]
     },
     "execution_count": 1110,
     "metadata": {},
     "output_type": "execute_result"
    }
   ],
   "source": [
    "df[\"Model\"].value_counts()"
   ]
  },
  {
   "cell_type": "code",
   "execution_count": 1111,
   "id": "46daa256",
   "metadata": {},
   "outputs": [],
   "source": [
    "df.drop([\"Model\",\"Make\"],axis=1,inplace=True)  "
   ]
  },
  {
   "cell_type": "code",
   "execution_count": 1112,
   "id": "9e2795f7",
   "metadata": {},
   "outputs": [
    {
     "data": {
      "text/plain": [
       "(15919, 44)"
      ]
     },
     "execution_count": 1112,
     "metadata": {},
     "output_type": "execute_result"
    }
   ],
   "source": [
    "df.shape"
   ]
  },
  {
   "cell_type": "markdown",
   "id": "6fae7536",
   "metadata": {},
   "source": [
    "###  short_description"
   ]
  },
  {
   "cell_type": "code",
   "execution_count": 1113,
   "id": "3435efb5",
   "metadata": {},
   "outputs": [
    {
     "data": {
      "text/plain": [
       "SPB 1.6 TDI 116 CV S tronic Sport                 64\n",
       "NaN                                               46\n",
       "1.4 66kW (90CV) Selective                         40\n",
       "MOVE KLIMA CD USB ALLWETTER BLUETOOTH             38\n",
       "SPB 30 TDI S tronic Business                      35\n",
       "                                                  ..\n",
       "K Sports Tourer Business **Navi*Voll**             1\n",
       "1.0 Turbo ecoFLEX Automatic Elective Park Navi     1\n",
       "1.6 CDTI Business *Navi*Automatik*Spurh.*          1\n",
       "1.6 136 CV Automatica Navi E 6 Garanzia Full       1\n",
       "TCe 225 EDC GPF LIM Deluxe Pano,RFK                1\n",
       "Name: short_description, Length: 10002, dtype: int64"
      ]
     },
     "execution_count": 1113,
     "metadata": {},
     "output_type": "execute_result"
    }
   ],
   "source": [
    "df.short_description.value_counts(dropna=False) "
   ]
  },
  {
   "cell_type": "code",
   "execution_count": 1114,
   "id": "e46bd471",
   "metadata": {},
   "outputs": [],
   "source": [
    "## arabalarla ilgili kısa bilgiler içeriyor belki ileride yardımcı olabilir missing_value konusunda o yüzden şimdilik düşmüyorum"
   ]
  },
  {
   "cell_type": "markdown",
   "id": "105b2781",
   "metadata": {},
   "source": [
    "### description    "
   ]
  },
  {
   "cell_type": "code",
   "execution_count": 1115,
   "id": "f6c6baf2",
   "metadata": {},
   "outputs": [
    {
     "data": {
      "text/plain": [
       "nan                                                                                                                                                                                                                                                                                                                                                                                                                                                                                                                                                                                                                                                                                                                                                                                                                                                                                                                                                                                                                                                                                                                                                                                                                                                                                                                                                                                                                                                                                                                                                                                                                                                                                                                                                                                                                                                                                                                                                                                                                                                                                                                                                                                                                                                                                                                                                                                                                                                                                                                                                                                                                                                                                                                                                                                                                                                                                                                                       667\n",
       "Fahrzeugbeschreibung, Sichern Sie sich diesen Audi A1 1.4 TFSI Design zum Top-Preis inklusive dem,AUTOHERO-RUNDUM-SORGLOS-PAKET, ,Infos:, 2. Hand, deutsche Auslieferung, Unfallfrei, scheckheftgepflegt , ,Highlights, ,Einparkhilfe hinten , ,Sportsitze vorn , ,Leichtmetallfelgen, ,Sitzheizung vorn , ,Dynamik-Fahrwerk,Komfort, ,Klimaautomatik, ,Einstieghilfe Easy-Entry, ,Mittelarmlehne vorn mit Fach, ,Fensterheber elektrisch vorn, ,Zentralverriegelung mit Fernbedienung, ,Multifunktionslenkrad Sport (Leder), ,Rücksitzlehne geteilt/klappbar, ,Lendenwirbelstützen verstellbar , ,Multimedia, ,Audiosystem chorus (Radio/CD-Player), ,Multi-Media-Interface MMI Basic / MMI Radio, ,Audi music interface, ,Fahrer-Informations-System (FIS), ,Universal-Schnittstelle Bluetooth, ,Licht und Sicht, ,Außenspiegel elektr. verstell- und heizbar, beide, ,Tagfahrlicht, ,Scheibenwaschdüsen heizbar, ,Licht- und Regensensor, ,Nebelscheinwerfer integriert, ,Wärmeschutzverglasung grün getönt, ,Heckleuchten LED, ,Sicherheit, ,Isofix-Aufnahmen für Kindersitz, ,Bremsassistent, ,Seitenairbag vorn, ,Reifenkontroll-Anzeige, ,Anti-Blockier-System (ABS), ,Wegfahrsperre (elektronisch), ,Airbag Fahrer-/Beifahrerseite, ,Antriebs-Schlupfregelung (ASR), ,Kopf-Airbag-System (Sideguard), ,Airbag Beifahrerseite abschaltbar, ,Elektron. Differentialsperre (EDS), ,Elektron. Stabilitäts-Programm (ESP), ,Weiteres, ,Start/Stop-Anlage, ,LM-Felgen, ,Wagenheber, ,Servolenkung, ,Reifen-Reparaturkit, ,Ausströmer Schwarz Hochglanz , ,Aluminium-Optik , ,Einstiegleisten mit Schriftzug , ,Bremssättel dunkelgrau lackiert , Ihr ,AUTOHERO-RUNDUM-SORGLOS-PAKET, beinhaltet:,Kostenlose Lieferung in Ihre Nähe,Optische & technische Aufbereitung,Mindestens 12 Monate gültige HU und AU,1-Jahr-Premium-Garantie,Zulassung inklusive ,14-Tage-Rückgaberecht,Markenunabhängige Inzahlungnahme ,Individuelle Finanzierungen zu fairen Konditionen , ,HIER GEHT ES ZUR 360° - ANSICHT DES FAHRZEUGES:,:,https://www.autohero.com/de/audi-a1-1-4-tfsi-design/id/a7dca4b1-6ed3-4104-a04f-40391237d638/, ,Haftungsausschluss,:,Für Angaben vom Verkäufer, des Herstellers oder von Datenbankabfragen übernimmt Autohero keine Haftung. Änderungen, Zwischenverkauf und Irrtümer sind vorbehalten.                                                                                                                                                                                                                                                                                                                                                                                                                                                                                                                                                                                                                          27\n",
       "Fahrzeugbeschreibung, Sichern Sie sich diesen Renault Clio 1.6 TCE Energy Sport Trophy zum Top-Preis inklusive dem ,AUTOHERO-RUNDUM-SORGLOS-PAKET, ,Infos:, 1.Hand, deutsche Auslieferung, Unfallfrei, scheckheftgepflegt, ,Highlights, ,Audio-Navigationssystem R-Link Evolution mit Touchscreen und Carminat TomTom, ,Sportsitze , ,Sportfahrwerk, ,Scheinwerfer Full-LED ,Komfort, ,Geschwindigkeits-Regelanlage (Tempomat) , ,Klimaanlage, ,Einparkhilfe hinten, ,Multifunktionslenkrad (Sport/Leder) mit Schaltwippen/-tasten , ,Fensterheber elektr. mit Impulsgeber links/rechts vorn, ,Zentralverriegelung / Startanlage Handsfree Entry & Drive , ,Berganfahr-Assistent (HSA) ,Multimedia, ,Audiosystem: Radio R & GO (Bluetooth, DAB-Tuner), ,Bordcomputer, ,Freisprecheinrichtung Bluetooth , ,USB-Anschluss inkl. AUX-IN-Anschluss (Plug & Music) ,Licht und Sicht, ,Außenspiegel elektr. verstell- und heizbar , ,Licht- und Regensensor , ,Tagfahrlicht LED , ,Nebelscheinwerfer LED , ,Coming-Home-Lichtfunktion , ,Heckleuchten LED ,Sicherheit, ,Isofix-Aufnahmen für Kindersitz , ,Seitenairbag vorn, ,Wegfahrsperre, ,Differentialsperre, ,Bremsassistent , ,Elektron. Stabilitäts-Programm (ESP), ,Anti-Blockier-System (ABS), ,Anti-Submarining-Airbag im Fond, ,Airbag Fahrer-/Beifahrerseite , ,Differentialsperre , ,Reifendruck-Kontrollsystem , ,Untersteuerungskontrolle (USC) , ,Antischlupfregelung (ASR) ,Weiteres, ,Start/Stop-Anlage , ,Servolenkung geschwindigkeitsabhängig, ,R.S. Drive (Fahrmodusschalter) , ,Gepäckraumabdeckung / Rollo , ,Heckdiffusor , ,LM-Felgen , ,Heckspoiler (Renault Sport) , ,Pedale Aluminium , ,Energierückgewinnung (Energy Smart Management) , ,Elektr. Bremskraftverteilung , ,Reifen-Reparaturkit , ,Sitzbezug / Polsterung: Stoff , Ihr ,AUTOHERO-RUNDUM-SORGLOS-PAKET, beinhaltet:,Kostenlose Lieferung in Ihre Nähe,Optische & technische Aufbereitung,Mindestens 12 Monate gültige HU und AU,1-Jahr-Premium-Garantie,Zulassung inklusive ,14-Tage-Rückgaberecht,Markenunabhängige Inzahlungnahme ,Individuelle Finanzierungen zu fairen Konditionen, ,HIER GEHT ES ZUR 360° - ANSICHT DES FAHRZEUGES:,:,https://www.autohero.com/de/renault-clio-1-6-tce-energy-renault-sport-trophy/id/f7ca29bf-e005-453f-bbc9-8c6fe892dec6/, ,Haftungsausschluss,:,Für Angaben vom Verkäufer, des Herstellers oder von Datenbankabfragen übernimmt Autohero keine Haftung. Änderungen, Zwischenverkauf und Irrtümer sind vorbehalten.                                                                                                                                                                                                                                                                                                                                                                                                                                           27\n",
       "Sichern Sie sich diesen Opel Astra K 1.4 SIDI Turbo Innovation Start/Stop zum Top-Preis inklusive dem,AUTOHERO-RUNDUM-SORGLOS-PAKET, ,Infos:, 2.Hand, deutsche Auslieferung, Unfallfrei, scheckheftgepflegt, mindestens 12 Monate gültige HU und AU, ,Highlights, ,Rückfahrkamera, ,Voll-LED-Matrix-Scheinwerfer (IntelliLux), ,Audio-Navigationssystem Navi 900 Europa Touch, ,Spurassistent, ,Leichtmetallfelgen ,Komfort, ,Sitzheizung vorn, ,Klimaautomatik 2-Zonen, ,Parkpilotsystem vorn und hinten, ,6-Stufen Automatikgetriebe, ,Tempomat (Geschwindigkeits-Regelanlage) mit Begrenzer , ,Berganfahrassistent , ,Servolenkung, ,Lendenwirbelstütze elektropneumatisch für Fahrer , ,Kopfstützen vorn und hinten , ,Multifunktionslenkrad in Leder, beheizbar , ,Mittelarmlehne vorn verschiebbar, ,Zentralverriegelung mit Fernbedienung, ,Fensterheber elektrisch vorn + hinten, ,Berganfahr-Assistent (HSA, Hill Start Assist),Multimedia, ,8 Zoll Touchscreen-Farbdisplay, ,Verkehrszeichenerkennung, ,Audiostreaming , ,Apple CarPlay und Android Auto, ,6 Lautsprecher , ,Bluetooth-Freisprecheinrichtung , ,Sprachsteuerung, ,Bordcomputer, ,Multimedia-Schnittstelle (USB / AUX-IN),Licht und Sicht, ,Außenspiegel elektrisch verstell-, heiz- und anklappbar, ,Abbiegelicht, ,LED Tagfahrlicht, ,Nebelscheinwerfer, ,Ambientebeleuchtung, ,Innenrückspiegel automatisch abblendend, ,Fernlichtassistent und Leuchtweitenregulierung , ,Licht und Regensensor , ,Wärmeschutzverglasung hinten abgedunkelt (Solar-Protect), ,LED Heckleuchten ,Sicherheit, ,Abstandswarner, ,Auffahrwarnsystem, ,Isofix-Aufnahmen für Kindersitz an Rücksitz, ,Frontkamera, ,Airbag für Fahrer- und Beifahrerseite, ,Wegfahrsperre, ,Seitenairbag vorn, ,Kopf-Airbag-System, ,Bremsassistent (HBA), ,Elektronisches Stabilitätsprogramm Plus (ESP Plus), ,Reifendruck-Kontrollsystem, ,Anti-Blockier-System (ABS), ,Reifen-Reparaturkit, ,Parkbremse elektrisch, ,Elektronische Traktionskontrolle,Weiteres, ,Start/Stop-Anlage, ,Metallic-/Mineraleffekt-Lackierung, ,Ecoflex, ,Licht-Paket, ,Sicht-Paket, ,ecoFLEX-Paket, ,Winter-Paket, ,Fußmatten Velours, ,Laderaumabdeckung, ,Innovations-Paket, ,OnStar SOS Service, ,Check-Control-System, Ihr ,AUTOHERO-RUNDUM-SORGLOS-PAKET, beinhaltet:,Kostenlose Lieferung in Ihre Nähe,Optische & technische Aufbereitung,Mindestens 12 Monate gültige HU und AU,1-Jahr-Premium-Garantie,Zulassung inklusive,14-Tage-Rückgaberecht,Markenunabhängige Inzahlungnahme,Individuelle Finanzierungen zu fairen Konditionen, ,HIER GEHT ES ZUR 360° - ANSICHT DES FAHRZEUGES:,:,https://www.autohero.com/de/opel-astra-k-1-4-sidi-turbo-innovation-start-stop/id/99fb856b-41be-40f0-9b36-0d70989440c6/, ,Haftungsausschluss,:,Für Angaben vom Verkäufer, des Herstellers oder von Datenbankabfragen übernimmt Autohero keine Haftung. Änderungen, Zwischenverkauf und Irrtümer sind vorbehalten.     27\n",
       "Posibilidad de prueba del vehículo hasta 5 días. Consultar condiciones. PVP para particulares. Varias unidades y colores disponibles. Precios publicados para vehículos industriales (furgonetas) válidos para compradores autónomos o empresas, consultar condiciones para particulares. Las imágenes y kilómetros pueden no corresponder con el modelo anunciado. Para confirmar póngase en contacto con nuestro departamento comercial. Consulta las excepcionales condiciones de financiación que tenemos disponibles. Precio de venta final IVA y gastos de transferencia incluidos. Horario de atención al cliente: Lunes a Viernes de 09:00 a 18:00.                                                                                                                                                                                                                                                                                                                                                                                                                                                                                                                                                                                                                                                                                                                                                                                                                                                                                                                                                                                                                                                                                                                                                                                                                                                                                                                                                                                                                                                                                                                                                                                                                                                                                                                                                                                                                                                                                                                                                                                                                                                                                                                                                                                                                                                                                27\n",
       "                                                                                                                                                                                                                                                                                                                                                                                                                                                                                                                                                                                                                                                                                                                                                                                                                                                                                                                                                                                                                                                                                                                                                                                                                                                                                                                                                                                                                                                                                                                                                                                                                                                                                                                                                                                                                                                                                                                                                                                                                                                                                                                                                                                                                                                                                                                                                                                                                                                                                                                                                                                                                                                                                                                                                                                                                                                                                                                                         ... \n",
       "Pratica 67374,Airbag fullsize per conducente e passeggero, Alzacristalli elettrici ant. e post. con funzione attivaz. a pressione, Assetto dinamico, Audi drive select, Inserti in micrometallic argento, Kit riparazione pneumatici, Pacchetto di navigazione, Piano di copertura del vano bagagli estraibile, Presa AUX-IN, Proiettori allo Xenon Plus con reg. aut. prof. fari, Lavafari, Rivestimenti dei sedili in tessuto, Serbatoio AdBlue, Sistema controllo pressione pneumatici, Sistema di ancoraggio ISOFIX e 3° punto di ancoraggio Top Tether sui sedili post. laterali, Sistema di informazioni per il conducente con display monocromatico, Tappetini anteriori e posteriori, Versione Business, Volante sportivo multifunzionale in pelle 3 razze, ABS, EBV (Ripartitore elettronico della forza frenante), Airbag laterali anteriori integrati negli schienali dei sedili, Airbag per la testa, Airbag per le ginocchia (lato conducente), Appoggiatesta anteriori (2) e posteriori (3) regolabili, Radio MMI plus, Interfaccia Bluetooth, Appoggiabraccia centrale anteriore, Cambio manuale, Cerchi in lega 7 J x 16\" a 5 razze a stella, Chiusura centralizzata con telecomando, Regolatore di velocità, ESC - Sistema elettronico di controllo della stabilizzazione con bloccaggio trasversale elettronico, ASR - Dispositivo di controllo della trazione, EDS (Dispositivo antislittamento in partenza), Filtro anti particolato, Cinture di sicurezza con pretensionatore, Specchietti retrovisivi esterni riscaldabili e ripiegabili elettricamente, Schienale del sedile posteriore ribaltabile (divisibile in rapporto 40:60 o ribaltabile completam.), Sistema di ausilio al parcheggio posteriore, Servosterzo elettromeccanico, Tergilunotto                                                                                                                                                                                                                                                                                                                                                                                                                                                                                                                                                                                                                                                                                                                                                                                                                                                                                                                                                                                                                                                                                                                                                                 1\n",
       "Getriebe:, Schaltgetriebe,Technik:, Bordcomputer, Start-Stop-Automatik,Assistenten:, Regensensor, Lichtsensor, Berganfahrassistent,Komfort:, Servolenkung, Zentralverriegelung, Elektrischer Fensterheber, Sitzheizung, Elektrische Aussenspiegel, Teilbare Ruecksitzlehne, Tempomat, Park Distance Control, Multifunktionslenkrad, Innenspiegel autom. abblendbar, Mittelarmlehne, Innenraumfilter, Lenksaeule einstellbar, Sportsitze, Klimaautomatik-2-Zonen,Sicht:, Xenon Scheinwerfer, Colorverglasung, Scheinwerferreinigung, Aussenspiegel beheizbar, Privacyverglasung,Sicherheit:, ABS, Airbag, Beifahrer-Airbag, Wegfahrsperre, Seitenairbags, ESP, Antriebsschlupfregelung, Reifendruckkontrolle, Traktionskontrolle, Kopfairbag, Knieairbag, Kindersitzbefestigung, Pannenkit,Entertainment:, CD, Radio, AUX-In, USB-Anschluss, MP3, Bluetooth, Freisprecheinrichtung,Umwelt:, Grüne Umweltplakette, ,Energieeffizienzklasse B,Qualität:, Garantie, Scheckheftgepflegt, HUAU neu, Nichtraucherfahrzeug,Sonstiges:, Metallic, Alufelgen, Dachreling, Gepaeckraumabdeckung, Stossfaenger in Wagenfarbe, Sportfahrwerk,Weiteres:, Connectivity-Paket inkl. Bluetooth-Schnittstelle, Klimaautomatik 2-Zonen, Optik-Paket schwarz Audi exclusive, Einparkhilfe (APS), Verglasung hinten abgedunkelt, Sitzheizung vorn, Dachreling (Aluminium), Soundsystem DSP / Audi Sound-System, Ablage- und Gepäckraum-Paket, Audi music interface, Scheibenwaschdüsen heizbar, Vorbereitung Navigationssystem, Adaptives Bremslicht, Anfahr-Assistent (hold assist), Antriebsart: Frontantrieb, Audi Drive Select, Außenspiegel Wagenfarbe, Blinkleuchten LED in Außenspiegel integriert, Bremsanlage mit Rekuperation - Bremsenergierückgewinnung, Bremsassistent, Dachspoiler, Dekoreinlagen Aluminium Mistral, Einstiegsleisten Aluminium, Elektron. Differentialsperre (EDS), Elektron. Stabilitätskontrolle (ESC), Elektron. Stabilitäts-Programm, Euro 6, Fahrer-Informations-System (FIS), Fensterheber elektrisch vorn und hinten, Frontscheibe Akustikglas, Fußmatten Velours, Getriebe 6-Gang, Heckscheibe heizbar, Interieur Aluminium-Optik, Isofix-Aufnahmen für Kindersitz, Kopfstützen hinten, Multi-Media-Interface MMI, Parkbremse elektro-mechanisch, Polster: Stoff Rallye, Servolenkung elektro-mechanisch, Sitze vorn mit ausziehbarer Oberschenkelauflage, Sitzhöhenverstellung, Sport/Lederlenkrad, Sport-Fahrwerk, Start/Stop-Anlage, Telefon-Vorbereitung mit Bluetooth-Schnittstelle, Wagenheber, Wärmeschutzverglasung, Xenon Plus, ZV mit Fernbedienung,... Änderungen, Zwischenverkauf und Irrtümer vorbehalten., by CG360.de                                                                                                                                                                                                                                                                                      1\n",
       "Getriebe,6-Gang,Licht und Sicht,Xenon-Scheinwerfer Plus (Abblend- und Fernlicht),Technik und Sicherheit,Fahrerairbag,Airbag Fahrer-/Beifahrerseite,Seitenairbag vorn,Kopfairbags,Anti-Blockier-System (ABS),Elektron. Stabilitätskontrolle (ESC),Elektron. Differentialsperre (EDS),Zentralverriegelung mit Fernbedienung,Schließ-/Startsystem Advanced Key (Komfortschlüssel),Servolenkung elektro-mechanisch,Geschwindigkeits-Regelanlage (Tempomat),Elektronische Wegfahrsperre,Bordcomputer,Reifendruck-Kontrollsystem,Assistenzsysteme,Fahrassistenz-System: Anfahr-Assistent (hold assist),Multimedia,Multi-Media-Interface MMI Basic Plus / MMI Radio Plus,Audi Smartphone Interface,Komfort,Komfort-Klimaautomatik 2-Zonen,Einparkhilfe hinten (APS),Fensterheber elektrisch,Licht- und Regensensor,Außenspiegel elektr. verstellbar beide,Scheibenwaschdüsen und Außenspiegel beheizt,Wärmeschutzverglasung grün getönt,Innenausstattung,Sitzheizung vorn,Lenkrad (Sport/Leder - 3-Speichen) mit Multifunktion,Mittelarmlehne vorn,Rücksitzlehne geteilt/klappbar,Aussenausstattung,LM-Felgen,Pakete,Komfort-Paket,Sonstiges,Rußpartikelfilter,Scheckheftgepflegt,Nichtraucherfahrzeug,Weitere Informationen,Schadstoffklasse: EURO 6D-TEMP,Connectivity-Paket,Glanz-Paket,LM-Felgen 7.5x17 (5-Speichen Y-Design),Progressivlenkung,Antriebs-Schlupfregelung (ASR),Elektron. Stabilitäts-Programm (ESP),Getriebe 6-Gang,Lenkrad (Sport - 3-Speichen),Parkbremse elektro-mechanisch,Sitze vorn höhenverstellbar,Vorrüstung Mobiltelefon/Handy mit Bluetooth-Schnittstelle,Audi music interface,Außenspiegel elektr. verstell- und heizbar beide,Vorbereitung Navigationssystem,Irrtümer und Änderungen vorbehalten.,Die im Internet angebotene Ausstattung ist kein Vertragsbestandteil.,Die Ausstattung muss vor Ort geprüft werden.,Das angebotene Fahrzeug kann von einer Rückrufaktion betroffen sein. Co2 Angaben können abweichen.                                                                                                                                                                                                                                                                                                                                                                                                                                                                                                                                                                                                                                                                                                                                                                                                                                                                                                                                                                                            1\n",
       "Aluminium-Gussräder im 5-Speichen-Stern-Design Größe 7 J x 16 mit Reifen 205/55 R 16,Dachreling eloxiert,Einparkhilfe hinten,Fahrerinformationssystem mit Farbdisplay,Lederlenkrad im 3-Speichen-Design mit Multifunktion plus,Ablage-/Gepäckraumpaket mit erweitertem USB-Buchsen-Angebot,Lichtpaket,Reifen 16',Anlaufvariante RdW,Vorbereitung für Anhängevorrichtung,Audi sound system,Reifen 205/55 R16 91W,Xenon plus,Allwetterlicht,Kopfstützen hinten (3 Stück),MMI Radio plus,Zentralverriegelung mit Funkschlüssel,Bluetooth-Schnittstelle,Innenspiegel abblendbar,elektronische Stabilisierungskontrolle (ESC),Airbags,6-Gang-Schaltgetriebe,Seitenairbags vorn und Kopfairbagsystem,elektromechanische Servolenkung,Leuchtweitenregulierung automatisch-statisch,Scheibenwaschdüsen beheizbar vorn,Reifendruck-Kontrollanzeige,Tagfahrlicht,Start-Stop-System,AUX-IN-Anschluss,Kindersitzverankerung ISOFIX und Top Tether für die äußeren Fondsitze,Sitzbezüge in Stoff Index,Wärmeschutzverglasung,Akustikfrontscheibe,Außenspiegel links asphärisch,Außen-Sound Standard,Außenspiegel rechts (großes Sichtfeld) konvex,elektromechanische Parkbremse,Dachhimmel in Stoff felsgrau,Kraftstoffsystem Otto-Einspritzer,Linkslenker,Reifenreparaturset,Heckleuchten,Scheibenwaschanlage,Entriegelung Hintersitz Standard,Waschwasserstandsanzeige,Abgaskonzept EU6 AG/H/I,Frontantrieb,A3,Außenspiegelgehäuse in Wagenfarbe,Ohne erweitertem Sicherheitssystem,Geschwindigkeitsbegrenzungsanlage,Dachkantenspoiler,Heckscheibenwischer,Sportback,Kindersicherung manuell,Ohne Kamerasysteme/Umfeldsensorik,4-Zyl. Ottomotor 1 5 L/110KW TSI Grundmotor ist: TJ7/N09/T9F,Nebelschlussleuchten,Nichtraucherausführung,Radstand,Doppeltonfanfare,Serienfahrwerk,4 Türen,Modellbezeichnung gemäß neuer Leistungskennzeichnung,Warnleuchten,Zierleisten schwarz,Nichtraucherfahrzeug,Irrtümer Änderungen und Zwischenverkauf vorbehalten,sehr guter Zustand,Komfortklima,Aussenspiegel heizbar,elektrische Aussenspiegel,geteilte Rückbank,Scheckheft gepflegt,Fahrersitz höhenverstellbar,Beifahrersitz höhenverstellbar                                                                                                                                                                                                                                                                                                                                                                                                                                                                                                                                                                                                                                                                                                                                                                                                              1\n",
       "DEK:[2691331],Renault Espace Blue dCi 200CV EDC Business,Nuova da Immatricolare,COLORE: Grigio Titanio,INTERNO: Pelle+Tessuto,TRASMISSIONE: Cambio Automatico EDC,---,ACCESSORI: ,7 Posti,, ,Cerchi in Lega 17, Navigatore con Display 8.7, Clima Automatico, Sensori di Parcheggio Anteriori e Posteriori con Retrocamera, Fari Full LED Pure Vision, Cruise Control, Renault Multisense,---,Listino Nuovo 44.300 Euro,Prezzo Gruppo Carmeli: 39.700 Euro (Esclusa IPT e Messa in Strada),IVA Esposta,In caso di Adesione alla PROMO GRUPPO CARMELI puoi Averla a 36.000 Euro,Contattaci per scoprire tutti i vantaggi della PROMO GRUPPO CARMELI,____________________________________,Gruppo Carmeli S.p.A. è Concessionaria e Service ufficiale dei Marchi Renault, Dacia, Nissan, Mercedes e Smart per la provincia di Brescia e Bergamo ed opera nel mercato dell’auto da più di 40 anni.,Nelle sedi di Brescia (Nissan e Renault-Dacia Autospazio), di Coccaglio (Renault-Dacia e Nissan) e di Bergamo (Nissan) oltre a tutta la gamma di veicoli dei Marchi rappresentati, propone anche 2.000 auto a Km Zero e Aziendali di tutte le marche.,Offriamo Servizi:,-VALUTAZIONE e PERMUTA del tuo USATO,-ACQUISTO con pagamento immediato del tuo USATO,-FINANZIAMENTI e LEASING agevolati,-NOLEGGIO A LUNGO TERMINE di veicoli di tutte le marche,-PACCHETTI ASSICURATIVI su misura con possibilità di garanzia del valore a Nuovo,____________________________________,Sebbene sia stato fatto ogni ragionevole sforzo per assicurare l'esattezza delle informazioni riportate, vi potrebbero essere involontarie incongruenze riguardanti le immagini e la descrizione degli accessori, che pertanto non rappresentano vincolo contrattuale. Per ulteriori informazioni sulle condizioni economiche ti invitiamo a contattarci.                                                                                                                                                                                                                                                                                                                                                                                                                                                                                                                                                                                                                                                                                                                                                                                                                                                                                                                                                                                                                                                                                                      1\n",
       "Name: description, Length: 12864, dtype: int64"
      ]
     },
     "execution_count": 1115,
     "metadata": {},
     "output_type": "execute_result"
    }
   ],
   "source": [
    "df[\"description\"].astype(\"str\").value_counts(dropna=False)"
   ]
  },
  {
   "cell_type": "code",
   "execution_count": 1116,
   "id": "3d950e7d",
   "metadata": {},
   "outputs": [],
   "source": [
    "## short description gibi bu da belki lazım olabilir.şimdilik tutuyorum."
   ]
  },
  {
   "cell_type": "markdown",
   "id": "4d03d3da",
   "metadata": {},
   "source": [
    "###  body_type "
   ]
  },
  {
   "cell_type": "code",
   "execution_count": 1117,
   "id": "fbb547e0",
   "metadata": {},
   "outputs": [
    {
     "data": {
      "text/plain": [
       "Sedans           7903\n",
       "Station wagon    3553\n",
       "Compact          3153\n",
       "Van               783\n",
       "Other             290\n",
       "Transporter        88\n",
       "NaN                60\n",
       "Off-Road           56\n",
       "Coupe              25\n",
       "Convertible         8\n",
       "Name: body_type, dtype: int64"
      ]
     },
     "execution_count": 1117,
     "metadata": {},
     "output_type": "execute_result"
    }
   ],
   "source": [
    "df[\"body_type\"].value_counts(dropna=False)    # 60 tane orijinal NaN değerimiz var,sağında solunda temizlenecek bir şey yok\n",
    "                                              # 290 tane other var."
   ]
  },
  {
   "cell_type": "markdown",
   "id": "b4687926",
   "metadata": {},
   "source": [
    "### Body"
   ]
  },
  {
   "cell_type": "code",
   "execution_count": 1118,
   "id": "a91ee743",
   "metadata": {},
   "outputs": [
    {
     "data": {
      "text/plain": [
       "Sedans           7903\n",
       "Station wagon    3553\n",
       "Compact          3153\n",
       "Van               783\n",
       "Other             290\n",
       "Transporter        88\n",
       "NaN                60\n",
       "Off-Road           56\n",
       "Coupe              25\n",
       "Convertible         8\n",
       "Name: Body, dtype: int64"
      ]
     },
     "execution_count": 1118,
     "metadata": {},
     "output_type": "execute_result"
    }
   ],
   "source": [
    "df[\"Body\"].value_counts(dropna=False)"
   ]
  },
  {
   "cell_type": "code",
   "execution_count": 1119,
   "id": "139f44f6",
   "metadata": {},
   "outputs": [],
   "source": [
    "## body_type ile aynı sütunlara ve değerlere sahip olduğundan dolayı bunu bırakacağız."
   ]
  },
  {
   "cell_type": "code",
   "execution_count": 1120,
   "id": "d8ce9ab7",
   "metadata": {},
   "outputs": [],
   "source": [
    "df.drop([\"Body\"],axis=1,inplace=True)"
   ]
  },
  {
   "cell_type": "code",
   "execution_count": 1121,
   "id": "2024714f",
   "metadata": {},
   "outputs": [
    {
     "data": {
      "text/plain": [
       "(15919, 43)"
      ]
     },
     "execution_count": 1121,
     "metadata": {},
     "output_type": "execute_result"
    }
   ],
   "source": [
    "df.shape"
   ]
  },
  {
   "cell_type": "markdown",
   "id": "b6506c35",
   "metadata": {},
   "source": [
    "### vat"
   ]
  },
  {
   "cell_type": "markdown",
   "id": "ae1b9faf",
   "metadata": {},
   "source": [
    "VAT deductible : geri talep edilebilir KDV\n",
    "Price negotiable : Pazarlık edilebilir fiyat"
   ]
  },
  {
   "cell_type": "code",
   "execution_count": 1122,
   "id": "b0b74e0e",
   "metadata": {},
   "outputs": [
    {
     "data": {
      "text/plain": [
       "VAT deductible      10980\n",
       "NaN                  4513\n",
       "Price negotiable      426\n",
       "Name: vat, dtype: int64"
      ]
     },
     "execution_count": 1122,
     "metadata": {},
     "output_type": "execute_result"
    }
   ],
   "source": [
    "df[\"vat\"].value_counts(dropna=False)"
   ]
  },
  {
   "cell_type": "code",
   "execution_count": 1123,
   "id": "a1d43012",
   "metadata": {},
   "outputs": [
    {
     "data": {
      "text/plain": [
       "VAT deductible     0.690\n",
       "NaN                0.283\n",
       "Price negotiable   0.027\n",
       "Name: vat, dtype: float64"
      ]
     },
     "execution_count": 1123,
     "metadata": {},
     "output_type": "execute_result"
    }
   ],
   "source": [
    "df[\"vat\"].value_counts(normalize=True,dropna=False)"
   ]
  },
  {
   "cell_type": "code",
   "execution_count": 1124,
   "id": "ff4b4b1e",
   "metadata": {},
   "outputs": [],
   "source": [
    "## bu sütunda extra temizlenecek bir şey yok ve 4513 tane NaN var."
   ]
  },
  {
   "cell_type": "markdown",
   "id": "fc023b2e",
   "metadata": {},
   "source": [
    "### km    "
   ]
  },
  {
   "cell_type": "code",
   "execution_count": 1125,
   "id": "8b8b7cd1",
   "metadata": {},
   "outputs": [
    {
     "data": {
      "text/plain": [
       "10 km        1045\n",
       "- km         1024\n",
       "1 km          367\n",
       "5 km          170\n",
       "50 km         148\n",
       "             ... \n",
       "67,469 km       1\n",
       "43,197 km       1\n",
       "10,027 km       1\n",
       "35,882 km       1\n",
       "57 km           1\n",
       "Name: km, Length: 6690, dtype: int64"
      ]
     },
     "execution_count": 1125,
     "metadata": {},
     "output_type": "execute_result"
    }
   ],
   "source": [
    "df[\"km\"].value_counts(dropna=False)"
   ]
  },
  {
   "cell_type": "code",
   "execution_count": 1126,
   "id": "d31cc296",
   "metadata": {},
   "outputs": [
    {
     "data": {
      "text/plain": [
       "14753       150 km\n",
       "13104    19,000 km\n",
       "5395      3,000 km\n",
       "729      49,298 km\n",
       "526      17,631 km\n",
       "Name: km, dtype: object"
      ]
     },
     "execution_count": 1126,
     "metadata": {},
     "output_type": "execute_result"
    }
   ],
   "source": [
    "df[\"km\"].sample(5)"
   ]
  },
  {
   "cell_type": "code",
   "execution_count": 1127,
   "id": "9f725597",
   "metadata": {},
   "outputs": [],
   "source": [
    "# df[\"km\"].str.replace(\"km\",\"\").str.replace(\",\",\"\").astype(\"float\")"
   ]
  },
  {
   "cell_type": "code",
   "execution_count": 1128,
   "id": "eb6937af",
   "metadata": {},
   "outputs": [
    {
     "data": {
      "text/plain": [
       "0       56013.000\n",
       "1       80000.000\n",
       "2       83450.000\n",
       "3       73000.000\n",
       "4       16200.000\n",
       "           ...   \n",
       "15914         NaN\n",
       "15915    9900.000\n",
       "15916      15.000\n",
       "15917      10.000\n",
       "15918         NaN\n",
       "Name: km, Length: 15919, dtype: float64"
      ]
     },
     "execution_count": 1128,
     "metadata": {},
     "output_type": "execute_result"
    }
   ],
   "source": [
    "df[\"km\"].str.replace(\"km\",\"\").str.replace(\",\",\"\").replace(\"- \",np.nan).astype(\"float\")"
   ]
  },
  {
   "cell_type": "code",
   "execution_count": 1129,
   "id": "f0a1e418",
   "metadata": {},
   "outputs": [],
   "source": [
    "df[\"km\"] = df[\"km\"].str.replace(\"km\",\"\").str.replace(\",\",\"\").replace(\"- \",np.nan).astype(\"float\")"
   ]
  },
  {
   "cell_type": "code",
   "execution_count": 1130,
   "id": "19206738",
   "metadata": {},
   "outputs": [
    {
     "data": {
      "text/plain": [
       "10.000       1045\n",
       "NaN          1024\n",
       "1.000         367\n",
       "5.000         170\n",
       "50.000        148\n",
       "             ... \n",
       "36980.000       1\n",
       "36818.000       1\n",
       "46398.000       1\n",
       "59535.000       1\n",
       "57.000          1\n",
       "Name: km, Length: 6690, dtype: int64"
      ]
     },
     "execution_count": 1130,
     "metadata": {},
     "output_type": "execute_result"
    }
   ],
   "source": [
    "df.km.value_counts(dropna=False).sort_values(ascending=False)"
   ]
  },
  {
   "cell_type": "code",
   "execution_count": 1131,
   "id": "8315e8bb",
   "metadata": {},
   "outputs": [
    {
     "data": {
      "text/plain": [
       "0       56013.000\n",
       "1       80000.000\n",
       "2       83450.000\n",
       "3       73000.000\n",
       "4       16200.000\n",
       "           ...   \n",
       "15914         NaN\n",
       "15915    9900.000\n",
       "15916      15.000\n",
       "15917      10.000\n",
       "15918         NaN\n",
       "Name: km, Length: 15919, dtype: float64"
      ]
     },
     "execution_count": 1131,
     "metadata": {},
     "output_type": "execute_result"
    }
   ],
   "source": [
    "df[\"km\"]"
   ]
  },
  {
   "cell_type": "code",
   "execution_count": 1132,
   "id": "f1d57777",
   "metadata": {},
   "outputs": [],
   "source": [
    "## NaN  sayısı 1024  "
   ]
  },
  {
   "cell_type": "markdown",
   "id": "afbb1db3",
   "metadata": {},
   "source": [
    "###  registration : ruhsatın verildiği tarih "
   ]
  },
  {
   "cell_type": "code",
   "execution_count": 1133,
   "id": "9cc85500",
   "metadata": {},
   "outputs": [
    {
     "data": {
      "text/plain": [
       "-/-        1597\n",
       "03/2018     695\n",
       "02/2019     585\n",
       "05/2018     572\n",
       "03/2019     543\n",
       "01/2019     541\n",
       "04/2018     541\n",
       "02/2018     539\n",
       "03/2016     536\n",
       "04/2016     532\n",
       "06/2018     532\n",
       "01/2018     511\n",
       "04/2019     506\n",
       "02/2016     472\n",
       "03/2017     471\n",
       "05/2016     459\n",
       "06/2016     452\n",
       "05/2019     440\n",
       "06/2017     409\n",
       "05/2017     404\n",
       "07/2018     396\n",
       "04/2017     380\n",
       "01/2016     376\n",
       "02/2017     368\n",
       "01/2017     306\n",
       "08/2018     285\n",
       "06/2019     224\n",
       "07/2017     215\n",
       "11/2017     180\n",
       "07/2016     176\n",
       "10/2016     160\n",
       "10/2017     154\n",
       "09/2017     149\n",
       "11/2016     142\n",
       "09/2018     141\n",
       "09/2016     141\n",
       "12/2016     134\n",
       "12/2017     123\n",
       "08/2017     114\n",
       "11/2018     110\n",
       "12/2018     103\n",
       "10/2018      97\n",
       "08/2016      94\n",
       "07/2019       6\n",
       "09/2019       5\n",
       "08/2019       1\n",
       "11/2019       1\n",
       "12/2019       1\n",
       "Name: registration, dtype: int64"
      ]
     },
     "execution_count": 1133,
     "metadata": {},
     "output_type": "execute_result"
    }
   ],
   "source": [
    "df[\"registration\"].value_counts(dropna=False)"
   ]
  },
  {
   "cell_type": "markdown",
   "id": "b7a9d08d",
   "metadata": {},
   "source": [
    "### First Registration"
   ]
  },
  {
   "cell_type": "code",
   "execution_count": 1134,
   "id": "4fee68a5",
   "metadata": {},
   "outputs": [
    {
     "data": {
      "text/plain": [
       "2018    4522\n",
       "2016    3674\n",
       "2017    3273\n",
       "2019    2853\n",
       "NaN     1597\n",
       "Name: First Registration, dtype: int64"
      ]
     },
     "execution_count": 1134,
     "metadata": {},
     "output_type": "execute_result"
    }
   ],
   "source": [
    "df[\"First Registration\"].value_counts(dropna=False)"
   ]
  },
  {
   "cell_type": "code",
   "execution_count": 1135,
   "id": "0a9110aa",
   "metadata": {},
   "outputs": [],
   "source": [
    "# bu iki sütun ruhsat ile ilgili olduğundan arabanın yaşına gidebiliriz buradan ve ayın fazla bir önemi olmadığından ve \n",
    "#  registration sütununda da 1597 tane NaN değer olduğundan bu sütunu drop edeceğim."
   ]
  },
  {
   "cell_type": "code",
   "execution_count": 1136,
   "id": "e6d34fca",
   "metadata": {},
   "outputs": [],
   "source": [
    "df.drop(\"registration\",axis=1,inplace=True) "
   ]
  },
  {
   "cell_type": "code",
   "execution_count": 1137,
   "id": "ec4ed29d",
   "metadata": {},
   "outputs": [
    {
     "data": {
      "text/plain": [
       "(15919, 42)"
      ]
     },
     "execution_count": 1137,
     "metadata": {},
     "output_type": "execute_result"
    }
   ],
   "source": [
    "df.shape"
   ]
  },
  {
   "cell_type": "markdown",
   "id": "40d6a1b8",
   "metadata": {},
   "source": [
    "### new_feature (age)"
   ]
  },
  {
   "cell_type": "code",
   "execution_count": 1138,
   "id": "ce921c0f",
   "metadata": {},
   "outputs": [],
   "source": [
    "# 2019-df[\"First Registration\"]   # assumption . böyle yaparsak hata alırız önce sütunumuzun data type'nı değiştirmeliyiz\n",
    "                                  # demek ki first registration sütunumuz listelerden oluşuyormuş."
   ]
  },
  {
   "cell_type": "code",
   "execution_count": 1139,
   "id": "97c2cf13",
   "metadata": {},
   "outputs": [],
   "source": [
    "df[\"First Registration\"] =df[\"First Registration\"].astype(float)"
   ]
  },
  {
   "cell_type": "code",
   "execution_count": 1140,
   "id": "3ddd0d46",
   "metadata": {},
   "outputs": [],
   "source": [
    "df[\"age\"] = 2019-df[\"First Registration\"]"
   ]
  },
  {
   "cell_type": "code",
   "execution_count": 1141,
   "id": "9c61c5bd",
   "metadata": {},
   "outputs": [
    {
     "data": {
      "text/plain": [
       "1.000    4522\n",
       "3.000    3674\n",
       "2.000    3273\n",
       "0.000    2853\n",
       "NaN      1597\n",
       "Name: age, dtype: int64"
      ]
     },
     "execution_count": 1141,
     "metadata": {},
     "output_type": "execute_result"
    }
   ],
   "source": [
    "df[\"age\"].value_counts(dropna=False)"
   ]
  },
  {
   "cell_type": "code",
   "execution_count": 1142,
   "id": "c167c8e8",
   "metadata": {},
   "outputs": [],
   "source": [
    "df.drop(\"First Registration\", axis=1, inplace=True)  # buna da  artık ihtiyacımız kalmadı."
   ]
  },
  {
   "cell_type": "code",
   "execution_count": 1143,
   "id": "ab2590fd",
   "metadata": {},
   "outputs": [
    {
     "data": {
      "text/plain": [
       "(15919, 42)"
      ]
     },
     "execution_count": 1143,
     "metadata": {},
     "output_type": "execute_result"
    }
   ],
   "source": [
    "df.shape"
   ]
  },
  {
   "cell_type": "code",
   "execution_count": 1144,
   "id": "03aa910e",
   "metadata": {},
   "outputs": [
    {
     "name": "stdout",
     "output_type": "stream",
     "text": [
      "<class 'pandas.core.frame.DataFrame'>\n",
      "RangeIndex: 15919 entries, 0 to 15918\n",
      "Data columns (total 42 columns):\n",
      " #   Column                 Non-Null Count  Dtype  \n",
      "---  ------                 --------------  -----  \n",
      " 0   make_model             15919 non-null  object \n",
      " 1   short_description      15873 non-null  object \n",
      " 2   body_type              15859 non-null  object \n",
      " 3   price                  15919 non-null  int64  \n",
      " 4   vat                    11406 non-null  object \n",
      " 5   km                     14895 non-null  float64\n",
      " 6   prev_owner             9091 non-null   object \n",
      " 7   hp                     15919 non-null  object \n",
      " 8   Type                   15917 non-null  object \n",
      " 9   Previous Owners        9279 non-null   object \n",
      " 10  Next Inspection        3535 non-null   object \n",
      " 11  Inspection new         3932 non-null   object \n",
      " 12  Warranty               9156 non-null   object \n",
      " 13  Full Service           6230 non-null   object \n",
      " 14  Non-smoking Vehicle    3460 non-null   object \n",
      " 15  null                   0 non-null      object \n",
      " 16  Offer Number           12744 non-null  object \n",
      " 17  Body Color             15322 non-null  object \n",
      " 18  Paint Type             10147 non-null  object \n",
      " 19  Body Color Original    12160 non-null  object \n",
      " 20  Upholstery             12199 non-null  object \n",
      " 21  Nr. of Doors           15707 non-null  object \n",
      " 22  Nr. of Seats           14942 non-null  object \n",
      " 23  Model Code             4978 non-null   object \n",
      " 24  Gearing Type           15919 non-null  object \n",
      " 25  Displacement           15423 non-null  object \n",
      " 26  Cylinders              10239 non-null  object \n",
      " 27  Weight                 8945 non-null   object \n",
      " 28  Drive chain            9061 non-null   object \n",
      " 29  Fuel                   15919 non-null  object \n",
      " 30  Consumption            14013 non-null  object \n",
      " 31  CO2 Emission           14111 non-null  object \n",
      " 32  Emission Class         12898 non-null  object \n",
      " 33  Comfort & Convenience  14999 non-null  object \n",
      " 34  Entertainment & Media  14545 non-null  object \n",
      " 35  Extras                 12957 non-null  object \n",
      " 36  Safety & Security      14937 non-null  object \n",
      " 37  description            15252 non-null  object \n",
      " 38  Emission Label         3985 non-null   object \n",
      " 39  Gears                  11207 non-null  object \n",
      " 40  Country version        7586 non-null   object \n",
      " 41  age                    14322 non-null  float64\n",
      "dtypes: float64(2), int64(1), object(39)\n",
      "memory usage: 5.1+ MB\n"
     ]
    }
   ],
   "source": [
    "df.info()"
   ]
  },
  {
   "cell_type": "markdown",
   "id": "62e45ce4",
   "metadata": {},
   "source": [
    "###  prev_owner"
   ]
  },
  {
   "cell_type": "code",
   "execution_count": 1145,
   "id": "b8cbc4be",
   "metadata": {},
   "outputs": [
    {
     "data": {
      "text/plain": [
       "1 previous owner     8294\n",
       "NaN                  6828\n",
       "2 previous owners     778\n",
       "3 previous owners      17\n",
       "4 previous owners       2\n",
       "Name: prev_owner, dtype: int64"
      ]
     },
     "execution_count": 1145,
     "metadata": {},
     "output_type": "execute_result"
    }
   ],
   "source": [
    "df[\"prev_owner\"].value_counts(dropna=False)"
   ]
  },
  {
   "cell_type": "code",
   "execution_count": 1146,
   "id": "9821639b",
   "metadata": {},
   "outputs": [
    {
     "data": {
      "text/plain": [
       "1 previous owner    0.521\n",
       "NaN                 0.429\n",
       "2 previous owners   0.049\n",
       "3 previous owners   0.001\n",
       "4 previous owners   0.000\n",
       "Name: prev_owner, dtype: float64"
      ]
     },
     "execution_count": 1146,
     "metadata": {},
     "output_type": "execute_result"
    }
   ],
   "source": [
    "df[\"prev_owner\"].value_counts(dropna=False,normalize=True)"
   ]
  },
  {
   "cell_type": "code",
   "execution_count": 1147,
   "id": "a2a99602",
   "metadata": {},
   "outputs": [
    {
     "data": {
      "text/html": [
       "<div>\n",
       "<style scoped>\n",
       "    .dataframe tbody tr th:only-of-type {\n",
       "        vertical-align: middle;\n",
       "    }\n",
       "\n",
       "    .dataframe tbody tr th {\n",
       "        vertical-align: top;\n",
       "    }\n",
       "\n",
       "    .dataframe thead th {\n",
       "        text-align: right;\n",
       "    }\n",
       "</style>\n",
       "<table border=\"1\" class=\"dataframe\">\n",
       "  <thead>\n",
       "    <tr style=\"text-align: right;\">\n",
       "      <th></th>\n",
       "      <th>0</th>\n",
       "    </tr>\n",
       "  </thead>\n",
       "  <tbody>\n",
       "    <tr>\n",
       "      <th>0</th>\n",
       "      <td>2.000</td>\n",
       "    </tr>\n",
       "    <tr>\n",
       "      <th>1</th>\n",
       "      <td>NaN</td>\n",
       "    </tr>\n",
       "    <tr>\n",
       "      <th>2</th>\n",
       "      <td>1.000</td>\n",
       "    </tr>\n",
       "    <tr>\n",
       "      <th>3</th>\n",
       "      <td>1.000</td>\n",
       "    </tr>\n",
       "    <tr>\n",
       "      <th>4</th>\n",
       "      <td>1.000</td>\n",
       "    </tr>\n",
       "    <tr>\n",
       "      <th>...</th>\n",
       "      <td>...</td>\n",
       "    </tr>\n",
       "    <tr>\n",
       "      <th>15914</th>\n",
       "      <td>NaN</td>\n",
       "    </tr>\n",
       "    <tr>\n",
       "      <th>15915</th>\n",
       "      <td>1.000</td>\n",
       "    </tr>\n",
       "    <tr>\n",
       "      <th>15916</th>\n",
       "      <td>1.000</td>\n",
       "    </tr>\n",
       "    <tr>\n",
       "      <th>15917</th>\n",
       "      <td>NaN</td>\n",
       "    </tr>\n",
       "    <tr>\n",
       "      <th>15918</th>\n",
       "      <td>1.000</td>\n",
       "    </tr>\n",
       "  </tbody>\n",
       "</table>\n",
       "<p>15919 rows × 1 columns</p>\n",
       "</div>"
      ],
      "text/plain": [
       "          0\n",
       "0     2.000\n",
       "1       NaN\n",
       "2     1.000\n",
       "3     1.000\n",
       "4     1.000\n",
       "...     ...\n",
       "15914   NaN\n",
       "15915 1.000\n",
       "15916 1.000\n",
       "15917   NaN\n",
       "15918 1.000\n",
       "\n",
       "[15919 rows x 1 columns]"
      ]
     },
     "execution_count": 1147,
     "metadata": {},
     "output_type": "execute_result"
    }
   ],
   "source": [
    "df[\"prev_owner\"].str.extract(\"(\\d)\").astype(float)"
   ]
  },
  {
   "cell_type": "code",
   "execution_count": 1148,
   "id": "bea654a0",
   "metadata": {},
   "outputs": [],
   "source": [
    "df[\"prev_owner\"] = df[\"prev_owner\"].str.extract(\"(\\d)\").astype(float)"
   ]
  },
  {
   "cell_type": "markdown",
   "id": "60515816",
   "metadata": {},
   "source": [
    "###   Previous Owners"
   ]
  },
  {
   "cell_type": "code",
   "execution_count": 1149,
   "id": "f8626f3e",
   "metadata": {},
   "outputs": [
    {
     "data": {
      "text/plain": [
       "1                                                                      8103\n",
       "NaN                                                                    6640\n",
       "2                                                                       766\n",
       "0                                                                       163\n",
       "3                                                                        17\n",
       "                                                                       ... \n",
       "1,111 g CO2/km (comb)                                                     1\n",
       "1,Euro 6                                                                  1\n",
       "2,119 g CO2/km (comb)                                                     1\n",
       "1,,6.6 l/100 km (comb),,8.1 l/100 km (city),,5.7 l/100 km (country)       1\n",
       "1,142 g CO2/km (comb)                                                     1\n",
       "Name: Previous Owners, Length: 102, dtype: int64"
      ]
     },
     "execution_count": 1149,
     "metadata": {},
     "output_type": "execute_result"
    }
   ],
   "source": [
    "df[\"Previous Owners\"].value_counts(dropna=False)"
   ]
  },
  {
   "cell_type": "code",
   "execution_count": 1150,
   "id": "d2256b83",
   "metadata": {},
   "outputs": [
    {
     "data": {
      "text/plain": [
       "1                                                                     0.509\n",
       "NaN                                                                   0.417\n",
       "2                                                                     0.048\n",
       "0                                                                     0.010\n",
       "3                                                                     0.001\n",
       "                                                                       ... \n",
       "1,111 g CO2/km (comb)                                                 0.000\n",
       "1,Euro 6                                                              0.000\n",
       "2,119 g CO2/km (comb)                                                 0.000\n",
       "1,,6.6 l/100 km (comb),,8.1 l/100 km (city),,5.7 l/100 km (country)   0.000\n",
       "1,142 g CO2/km (comb)                                                 0.000\n",
       "Name: Previous Owners, Length: 102, dtype: float64"
      ]
     },
     "execution_count": 1150,
     "metadata": {},
     "output_type": "execute_result"
    }
   ],
   "source": [
    "df[\"Previous Owners\"].value_counts(dropna=False,normalize=True)"
   ]
  },
  {
   "cell_type": "markdown",
   "id": "5ac514a3",
   "metadata": {},
   "source": [
    "burada consumption (tüketim) ile ilgili bilgiler var doldurma işlemleri sırasında kullanılabilir o yüzden şimdilik drop etmeyelim"
   ]
  },
  {
   "cell_type": "markdown",
   "id": "c60180d6",
   "metadata": {},
   "source": [
    "###   hp"
   ]
  },
  {
   "cell_type": "code",
   "execution_count": 1151,
   "id": "e16afd08",
   "metadata": {},
   "outputs": [],
   "source": [
    "pd.options.display.max_rows = 100\n",
    "pd.options.display.max_columns = 100"
   ]
  },
  {
   "cell_type": "code",
   "execution_count": 1152,
   "id": "351dd5f2",
   "metadata": {},
   "outputs": [
    {
     "data": {
      "text/plain": [
       "85 kW     2542\n",
       "66 kW     2122\n",
       "81 kW     1402\n",
       "100 kW    1308\n",
       "110 kW    1112\n",
       "70 kW      888\n",
       "125 kW     707\n",
       "51 kW      695\n",
       "55 kW      569\n",
       "118 kW     516\n",
       "92 kW      466\n",
       "121 kW     392\n",
       "147 kW     380\n",
       "77 kW      345\n",
       "56 kW      286\n",
       "54 kW      276\n",
       "103 kW     253\n",
       "87 kW      232\n",
       "165 kW     194\n",
       "88 kW      177\n",
       "60 kW      160\n",
       "162 kW      98\n",
       "- kW        88\n",
       "74 kW       81\n",
       "96 kW       72\n",
       "71 kW       59\n",
       "101 kW      47\n",
       "67 kW       40\n",
       "154 kW      39\n",
       "122 kW      35\n",
       "119 kW      30\n",
       "164 kW      27\n",
       "135 kW      24\n",
       "82 kW       22\n",
       "52 kW       22\n",
       "78 kW       20\n",
       "1 kW        20\n",
       "294 kW      18\n",
       "146 kW      18\n",
       "141 kW      16\n",
       "57 kW       10\n",
       "104 kW       8\n",
       "120 kW       8\n",
       "191 kW       7\n",
       "112 kW       7\n",
       "155 kW       6\n",
       "117 kW       6\n",
       "184 kW       5\n",
       "90 kW        4\n",
       "76 kW        4\n",
       "65 kW        4\n",
       "149 kW       3\n",
       "80 kW        3\n",
       "168 kW       3\n",
       "98 kW        3\n",
       "93 kW        3\n",
       "228 kW       2\n",
       "270 kW       2\n",
       "53 kW        2\n",
       "140 kW       2\n",
       "86 kW        2\n",
       "167 kW       2\n",
       "127 kW       2\n",
       "89 kW        2\n",
       "143 kW       2\n",
       "63 kW        2\n",
       "40 kW        2\n",
       "150 kW       2\n",
       "163 kW       1\n",
       "115 kW       1\n",
       "132 kW       1\n",
       "75 kW        1\n",
       "4 kW         1\n",
       "137 kW       1\n",
       "123 kW       1\n",
       "133 kW       1\n",
       "84 kW        1\n",
       "195 kW       1\n",
       "44 kW        1\n",
       "239 kW       1\n",
       "9 kW         1\n",
       "Name: hp, dtype: int64"
      ]
     },
     "execution_count": 1152,
     "metadata": {},
     "output_type": "execute_result"
    }
   ],
   "source": [
    "df[\"hp\"].value_counts(dropna=False)"
   ]
  },
  {
   "cell_type": "code",
   "execution_count": 1153,
   "id": "87be3f57",
   "metadata": {},
   "outputs": [
    {
     "data": {
      "text/plain": [
       "85 kW    0.160\n",
       "66 kW    0.133\n",
       "81 kW    0.088\n",
       "100 kW   0.082\n",
       "110 kW   0.070\n",
       "70 kW    0.056\n",
       "125 kW   0.044\n",
       "51 kW    0.044\n",
       "55 kW    0.036\n",
       "118 kW   0.032\n",
       "92 kW    0.029\n",
       "121 kW   0.025\n",
       "147 kW   0.024\n",
       "77 kW    0.022\n",
       "56 kW    0.018\n",
       "54 kW    0.017\n",
       "103 kW   0.016\n",
       "87 kW    0.015\n",
       "165 kW   0.012\n",
       "88 kW    0.011\n",
       "60 kW    0.010\n",
       "162 kW   0.006\n",
       "- kW     0.006\n",
       "74 kW    0.005\n",
       "96 kW    0.005\n",
       "71 kW    0.004\n",
       "101 kW   0.003\n",
       "67 kW    0.003\n",
       "154 kW   0.002\n",
       "122 kW   0.002\n",
       "119 kW   0.002\n",
       "164 kW   0.002\n",
       "135 kW   0.002\n",
       "82 kW    0.001\n",
       "52 kW    0.001\n",
       "78 kW    0.001\n",
       "1 kW     0.001\n",
       "294 kW   0.001\n",
       "146 kW   0.001\n",
       "141 kW   0.001\n",
       "57 kW    0.001\n",
       "104 kW   0.001\n",
       "120 kW   0.001\n",
       "191 kW   0.000\n",
       "112 kW   0.000\n",
       "155 kW   0.000\n",
       "117 kW   0.000\n",
       "184 kW   0.000\n",
       "90 kW    0.000\n",
       "76 kW    0.000\n",
       "65 kW    0.000\n",
       "149 kW   0.000\n",
       "80 kW    0.000\n",
       "168 kW   0.000\n",
       "98 kW    0.000\n",
       "93 kW    0.000\n",
       "228 kW   0.000\n",
       "270 kW   0.000\n",
       "53 kW    0.000\n",
       "140 kW   0.000\n",
       "86 kW    0.000\n",
       "167 kW   0.000\n",
       "127 kW   0.000\n",
       "89 kW    0.000\n",
       "143 kW   0.000\n",
       "63 kW    0.000\n",
       "40 kW    0.000\n",
       "150 kW   0.000\n",
       "163 kW   0.000\n",
       "115 kW   0.000\n",
       "132 kW   0.000\n",
       "75 kW    0.000\n",
       "4 kW     0.000\n",
       "137 kW   0.000\n",
       "123 kW   0.000\n",
       "133 kW   0.000\n",
       "84 kW    0.000\n",
       "195 kW   0.000\n",
       "44 kW    0.000\n",
       "239 kW   0.000\n",
       "9 kW     0.000\n",
       "Name: hp, dtype: float64"
      ]
     },
     "execution_count": 1153,
     "metadata": {},
     "output_type": "execute_result"
    }
   ],
   "source": [
    "df[\"hp\"].value_counts(dropna=False,normalize=True)"
   ]
  },
  {
   "cell_type": "code",
   "execution_count": 1154,
   "id": "b3717988",
   "metadata": {},
   "outputs": [
    {
     "data": {
      "text/plain": [
       "0        66.000\n",
       "1       141.000\n",
       "2        85.000\n",
       "3        66.000\n",
       "4        66.000\n",
       "          ...  \n",
       "15914   147.000\n",
       "15915   165.000\n",
       "15916   146.000\n",
       "15917   147.000\n",
       "15918   165.000\n",
       "Name: hp, Length: 15919, dtype: float64"
      ]
     },
     "execution_count": 1154,
     "metadata": {},
     "output_type": "execute_result"
    }
   ],
   "source": [
    "df[\"hp\"].str.strip(\"kW\").replace(\"- \",np.nan).astype(float)"
   ]
  },
  {
   "cell_type": "code",
   "execution_count": 1155,
   "id": "1b057bb3",
   "metadata": {},
   "outputs": [],
   "source": [
    "df[\"hp_kw\"] =  df[\"hp\"].str.strip(\"kW\").replace(\"- \",np.nan).astype(float)  # birimini belirtmeliyiz."
   ]
  },
  {
   "cell_type": "code",
   "execution_count": 1156,
   "id": "4396176b",
   "metadata": {},
   "outputs": [],
   "source": [
    "df.drop(columns=\"hp\",inplace=True)"
   ]
  },
  {
   "cell_type": "code",
   "execution_count": 1157,
   "id": "bf70031d",
   "metadata": {},
   "outputs": [
    {
     "data": {
      "text/plain": [
       "(15919, 42)"
      ]
     },
     "execution_count": 1157,
     "metadata": {},
     "output_type": "execute_result"
    }
   ],
   "source": [
    "df.shape"
   ]
  },
  {
   "cell_type": "code",
   "execution_count": 1158,
   "id": "816e7ce2",
   "metadata": {},
   "outputs": [],
   "source": [
    "## biz ilk başta baktığımızda NaN değer yoktu ama garip değerleri NaN'a çevirdik peki kaç tane ? "
   ]
  },
  {
   "cell_type": "code",
   "execution_count": 1159,
   "id": "884dcab5",
   "metadata": {},
   "outputs": [
    {
     "data": {
      "text/plain": [
       "85.000     2542\n",
       "66.000     2122\n",
       "81.000     1402\n",
       "100.000    1308\n",
       "110.000    1112\n",
       "70.000      888\n",
       "125.000     707\n",
       "51.000      695\n",
       "55.000      569\n",
       "118.000     516\n",
       "92.000      466\n",
       "121.000     392\n",
       "147.000     380\n",
       "77.000      345\n",
       "56.000      286\n",
       "54.000      276\n",
       "103.000     253\n",
       "87.000      232\n",
       "165.000     194\n",
       "88.000      177\n",
       "60.000      160\n",
       "162.000      98\n",
       "NaN          88\n",
       "74.000       81\n",
       "96.000       72\n",
       "71.000       59\n",
       "101.000      47\n",
       "67.000       40\n",
       "154.000      39\n",
       "122.000      35\n",
       "119.000      30\n",
       "164.000      27\n",
       "135.000      24\n",
       "82.000       22\n",
       "52.000       22\n",
       "78.000       20\n",
       "1.000        20\n",
       "294.000      18\n",
       "146.000      18\n",
       "141.000      16\n",
       "57.000       10\n",
       "104.000       8\n",
       "120.000       8\n",
       "191.000       7\n",
       "112.000       7\n",
       "155.000       6\n",
       "117.000       6\n",
       "184.000       5\n",
       "90.000        4\n",
       "76.000        4\n",
       "65.000        4\n",
       "149.000       3\n",
       "80.000        3\n",
       "168.000       3\n",
       "98.000        3\n",
       "93.000        3\n",
       "228.000       2\n",
       "270.000       2\n",
       "53.000        2\n",
       "140.000       2\n",
       "86.000        2\n",
       "167.000       2\n",
       "127.000       2\n",
       "89.000        2\n",
       "143.000       2\n",
       "63.000        2\n",
       "40.000        2\n",
       "150.000       2\n",
       "163.000       1\n",
       "115.000       1\n",
       "132.000       1\n",
       "75.000        1\n",
       "4.000         1\n",
       "137.000       1\n",
       "123.000       1\n",
       "133.000       1\n",
       "84.000        1\n",
       "195.000       1\n",
       "44.000        1\n",
       "239.000       1\n",
       "9.000         1\n",
       "Name: hp_kw, dtype: int64"
      ]
     },
     "execution_count": 1159,
     "metadata": {},
     "output_type": "execute_result"
    }
   ],
   "source": [
    "df[\"hp_kw\"].value_counts(dropna=False)"
   ]
  },
  {
   "cell_type": "markdown",
   "id": "fec22222",
   "metadata": {},
   "source": [
    "NaN ----> 88"
   ]
  },
  {
   "cell_type": "markdown",
   "id": "a290f829",
   "metadata": {},
   "source": [
    "###  Type "
   ]
  },
  {
   "cell_type": "code",
   "execution_count": 1160,
   "id": "ba6f5b01",
   "metadata": {},
   "outputs": [
    {
     "data": {
      "text/plain": [
       "Used,,Diesel (Particulate Filter)                                                                                 3475\n",
       "Used,,Diesel                                                                                                      2516\n",
       "Used,,Gasoline                                                                                                    2367\n",
       "Used,,Super 95                                                                                                    1818\n",
       "Pre-registered,,Super 95                                                                                           500\n",
       "                                                                                                                  ... \n",
       "New,,Regular/Benzine 91 / Super 95 / Super Plus 98 / Regular/Benzine E10 91 / Super Plus E10 98 / Super E10 95       1\n",
       "Used,,Super 95 / Super Plus 98 / Super E10 95 / Super Plus E10 98 (Particulate Filter)                               1\n",
       "Demonstration,,Super Plus 98                                                                                         1\n",
       "New,,Super Plus E10 98                                                                                               1\n",
       "Demonstration,,Regular/Benzine E10 91                                                                                1\n",
       "Name: Type, Length: 170, dtype: int64"
      ]
     },
     "execution_count": 1160,
     "metadata": {},
     "output_type": "execute_result"
    }
   ],
   "source": [
    "df[\"Type\"].value_counts(dropna=False)"
   ]
  },
  {
   "cell_type": "code",
   "execution_count": 1161,
   "id": "cebb1e69",
   "metadata": {},
   "outputs": [
    {
     "data": {
      "text/plain": [
       "Used,,Diesel (Particulate Filter)                                                                                0.218\n",
       "Used,,Diesel                                                                                                     0.158\n",
       "Used,,Gasoline                                                                                                   0.149\n",
       "Used,,Super 95                                                                                                   0.114\n",
       "Pre-registered,,Super 95                                                                                         0.031\n",
       "                                                                                                                  ... \n",
       "New,,Regular/Benzine 91 / Super 95 / Super Plus 98 / Regular/Benzine E10 91 / Super Plus E10 98 / Super E10 95   0.000\n",
       "Used,,Super 95 / Super Plus 98 / Super E10 95 / Super Plus E10 98 (Particulate Filter)                           0.000\n",
       "Demonstration,,Super Plus 98                                                                                     0.000\n",
       "New,,Super Plus E10 98                                                                                           0.000\n",
       "Demonstration,,Regular/Benzine E10 91                                                                            0.000\n",
       "Name: Type, Length: 170, dtype: float64"
      ]
     },
     "execution_count": 1161,
     "metadata": {},
     "output_type": "execute_result"
    }
   ],
   "source": [
    "df[\"Type\"].value_counts(dropna=False,normalize=True)"
   ]
  },
  {
   "cell_type": "code",
   "execution_count": 1162,
   "id": "2468ffc6",
   "metadata": {},
   "outputs": [
    {
     "data": {
      "text/plain": [
       "2"
      ]
     },
     "execution_count": 1162,
     "metadata": {},
     "output_type": "execute_result"
    }
   ],
   "source": [
    "df[\"Type\"].isna().sum()"
   ]
  },
  {
   "cell_type": "markdown",
   "id": "aaa2320d",
   "metadata": {},
   "source": [
    " bir de bizim fuel sütunumuz var ileride bu ikisini karşılaştırıp hangisini kullanacaksak oradaki NaN'ları doldurmak için diğerini kullanabiliriz."
   ]
  },
  {
   "cell_type": "code",
   "execution_count": 1163,
   "id": "1754a172",
   "metadata": {},
   "outputs": [
    {
     "data": {
      "text/html": [
       "<div>\n",
       "<style scoped>\n",
       "    .dataframe tbody tr th:only-of-type {\n",
       "        vertical-align: middle;\n",
       "    }\n",
       "\n",
       "    .dataframe tbody tr th {\n",
       "        vertical-align: top;\n",
       "    }\n",
       "\n",
       "    .dataframe thead th {\n",
       "        text-align: right;\n",
       "    }\n",
       "</style>\n",
       "<table border=\"1\" class=\"dataframe\">\n",
       "  <thead>\n",
       "    <tr style=\"text-align: right;\">\n",
       "      <th></th>\n",
       "      <th>Type</th>\n",
       "      <th>Fuel</th>\n",
       "    </tr>\n",
       "  </thead>\n",
       "  <tbody>\n",
       "    <tr>\n",
       "      <th>9307</th>\n",
       "      <td>New,,Regular/Benzine 91</td>\n",
       "      <td>Regular/Benzine 91</td>\n",
       "    </tr>\n",
       "    <tr>\n",
       "      <th>6623</th>\n",
       "      <td>Used,,Gasoline</td>\n",
       "      <td>Gasoline</td>\n",
       "    </tr>\n",
       "    <tr>\n",
       "      <th>9878</th>\n",
       "      <td>Pre-registered,,Super E10 95</td>\n",
       "      <td>Super E10 95</td>\n",
       "    </tr>\n",
       "    <tr>\n",
       "      <th>14999</th>\n",
       "      <td>Used,,Super 95</td>\n",
       "      <td>Super 95</td>\n",
       "    </tr>\n",
       "    <tr>\n",
       "      <th>4947</th>\n",
       "      <td>Employee's car,,Diesel (Particulate Filter)</td>\n",
       "      <td>Diesel (Particulate Filter)</td>\n",
       "    </tr>\n",
       "    <tr>\n",
       "      <th>10913</th>\n",
       "      <td>Used,,Super 95</td>\n",
       "      <td>Super 95</td>\n",
       "    </tr>\n",
       "    <tr>\n",
       "      <th>14651</th>\n",
       "      <td>Pre-registered,,Gasoline</td>\n",
       "      <td>Gasoline</td>\n",
       "    </tr>\n",
       "    <tr>\n",
       "      <th>15313</th>\n",
       "      <td>Used,,Diesel (Particulate Filter)</td>\n",
       "      <td>Diesel (Particulate Filter)</td>\n",
       "    </tr>\n",
       "    <tr>\n",
       "      <th>10056</th>\n",
       "      <td>Pre-registered,,Super 95</td>\n",
       "      <td>Super 95</td>\n",
       "    </tr>\n",
       "    <tr>\n",
       "      <th>5216</th>\n",
       "      <td>New,,Diesel (Particulate Filter)</td>\n",
       "      <td>Diesel (Particulate Filter)</td>\n",
       "    </tr>\n",
       "  </tbody>\n",
       "</table>\n",
       "</div>"
      ],
      "text/plain": [
       "                                              Type  \\\n",
       "9307                       New,,Regular/Benzine 91   \n",
       "6623                                Used,,Gasoline   \n",
       "9878                  Pre-registered,,Super E10 95   \n",
       "14999                               Used,,Super 95   \n",
       "4947   Employee's car,,Diesel (Particulate Filter)   \n",
       "10913                               Used,,Super 95   \n",
       "14651                     Pre-registered,,Gasoline   \n",
       "15313            Used,,Diesel (Particulate Filter)   \n",
       "10056                     Pre-registered,,Super 95   \n",
       "5216              New,,Diesel (Particulate Filter)   \n",
       "\n",
       "                              Fuel  \n",
       "9307            Regular/Benzine 91  \n",
       "6623                      Gasoline  \n",
       "9878                  Super E10 95  \n",
       "14999                     Super 95  \n",
       "4947   Diesel (Particulate Filter)  \n",
       "10913                     Super 95  \n",
       "14651                     Gasoline  \n",
       "15313  Diesel (Particulate Filter)  \n",
       "10056                     Super 95  \n",
       "5216   Diesel (Particulate Filter)  "
      ]
     },
     "execution_count": 1163,
     "metadata": {},
     "output_type": "execute_result"
    }
   ],
   "source": [
    "#   ex :\n",
    "df[[\"Type\",\"Fuel\"]].sample(10)"
   ]
  },
  {
   "cell_type": "code",
   "execution_count": 1164,
   "id": "539acf95",
   "metadata": {},
   "outputs": [
    {
     "data": {
      "text/plain": [
       "0                    [Used, , Diesel (Particulate Filter)]\n",
       "1                                       [Used, , Gasoline]\n",
       "2                    [Used, , Diesel (Particulate Filter)]\n",
       "3                    [Used, , Diesel (Particulate Filter)]\n",
       "4                    [Used, , Diesel (Particulate Filter)]\n",
       "                               ...                        \n",
       "15914                 [New, , Diesel (Particulate Filter)]\n",
       "15915    [Used, , Super 95 / Super Plus 98 (Particulate...\n",
       "15916                           [Pre-registered, , Diesel]\n",
       "15917                           [Pre-registered, , Diesel]\n",
       "15918                          [Demonstration, , Super 95]\n",
       "Name: Type, Length: 15919, dtype: object"
      ]
     },
     "execution_count": 1164,
     "metadata": {},
     "output_type": "execute_result"
    }
   ],
   "source": [
    "df[\"Type\"].str.split(\",\")"
   ]
  },
  {
   "cell_type": "code",
   "execution_count": 1165,
   "id": "83e8e378",
   "metadata": {},
   "outputs": [
    {
     "data": {
      "text/plain": [
       "0                  Used\n",
       "1                  Used\n",
       "2                  Used\n",
       "3                  Used\n",
       "4                  Used\n",
       "              ...      \n",
       "15914               New\n",
       "15915              Used\n",
       "15916    Pre-registered\n",
       "15917    Pre-registered\n",
       "15918     Demonstration\n",
       "Name: Type, Length: 15919, dtype: object"
      ]
     },
     "execution_count": 1165,
     "metadata": {},
     "output_type": "execute_result"
    }
   ],
   "source": [
    "df[\"Type\"].str.split(\",\").str[0]  # burada mesela liste yeniden işimize yaradı."
   ]
  },
  {
   "cell_type": "code",
   "execution_count": 1166,
   "id": "980c70ef",
   "metadata": {},
   "outputs": [],
   "source": [
    "df[\"Type_\"] = df[\"Type\"].str.split(\",\").str[0]"
   ]
  },
  {
   "cell_type": "code",
   "execution_count": 1167,
   "id": "745eb690",
   "metadata": {},
   "outputs": [
    {
     "data": {
      "text/plain": [
       "Used              11096\n",
       "New                1650\n",
       "Pre-registered     1364\n",
       "Employee's car     1011\n",
       "Demonstration       796\n",
       "NaN                   2\n",
       "Name: Type_, dtype: int64"
      ]
     },
     "execution_count": 1167,
     "metadata": {},
     "output_type": "execute_result"
    }
   ],
   "source": [
    "df[\"Type_\"].value_counts(dropna=False)               "
   ]
  },
  {
   "cell_type": "markdown",
   "id": "7acfa0d3",
   "metadata": {},
   "source": [
    "NaN ------> 2"
   ]
  },
  {
   "cell_type": "code",
   "execution_count": 1168,
   "id": "d6dad743",
   "metadata": {},
   "outputs": [
    {
     "data": {
      "text/plain": [
       "(15919, 43)"
      ]
     },
     "execution_count": 1168,
     "metadata": {},
     "output_type": "execute_result"
    }
   ],
   "source": [
    "df.shape"
   ]
  },
  {
   "cell_type": "markdown",
   "id": "194aecf5",
   "metadata": {},
   "source": [
    "###  Next Inspection   ---> sonraki muayene tarihi"
   ]
  },
  {
   "cell_type": "code",
   "execution_count": 1169,
   "id": "38bb0389",
   "metadata": {},
   "outputs": [],
   "source": [
    "df.rename(columns={\"Next Inspection\":\"next_inspection\"},inplace=True)"
   ]
  },
  {
   "cell_type": "code",
   "execution_count": 1170,
   "id": "95cb6e32",
   "metadata": {},
   "outputs": [
    {
     "data": {
      "text/plain": [
       "NaN                            12384\n",
       "04/2022                           62\n",
       "06/2021                           47\n",
       "03/2021                           39\n",
       "03/2022                           36\n",
       "                               ...  \n",
       "06/2021,121 g CO2/km (comb)        1\n",
       "02/2020,139 g CO2/km (comb)        1\n",
       "10/2021,136 g CO2/km (comb)        1\n",
       "06/2019,139 g CO2/km (comb)        1\n",
       "01/2022,168 g CO2/km (comb)        1\n",
       "Name: next_inspection, Length: 1385, dtype: int64"
      ]
     },
     "execution_count": 1170,
     "metadata": {},
     "output_type": "execute_result"
    }
   ],
   "source": [
    "df[\"next_inspection\"].value_counts(dropna=False)"
   ]
  },
  {
   "cell_type": "code",
   "execution_count": 1171,
   "id": "908fb7b9",
   "metadata": {},
   "outputs": [
    {
     "data": {
      "text/plain": [
       "NaN                           0.778\n",
       "04/2022                       0.004\n",
       "06/2021                       0.003\n",
       "03/2021                       0.002\n",
       "03/2022                       0.002\n",
       "                               ... \n",
       "06/2021,121 g CO2/km (comb)   0.000\n",
       "02/2020,139 g CO2/km (comb)   0.000\n",
       "10/2021,136 g CO2/km (comb)   0.000\n",
       "06/2019,139 g CO2/km (comb)   0.000\n",
       "01/2022,168 g CO2/km (comb)   0.000\n",
       "Name: next_inspection, Length: 1385, dtype: float64"
      ]
     },
     "execution_count": 1171,
     "metadata": {},
     "output_type": "execute_result"
    }
   ],
   "source": [
    "df[\"next_inspection\"].value_counts(dropna=False,normalize=True)"
   ]
  },
  {
   "cell_type": "code",
   "execution_count": 1172,
   "id": "5e77f4f1",
   "metadata": {},
   "outputs": [],
   "source": [
    "# NaN DEĞER BAYA FAZLA."
   ]
  },
  {
   "cell_type": "code",
   "execution_count": 1173,
   "id": "58361de7",
   "metadata": {},
   "outputs": [
    {
     "data": {
      "text/plain": [
       "0    12384\n",
       "dtype: int64"
      ]
     },
     "execution_count": 1173,
     "metadata": {},
     "output_type": "execute_result"
    }
   ],
   "source": [
    "df.next_inspection.str.extract(\"(\\d+/\\d{0,4})\").isna().sum() \n",
    "## tarihler ayrı bir sütun yapılsa 12384 tane null değer var şimdilik böyle bırakıyorum.                                                             "
   ]
  },
  {
   "cell_type": "code",
   "execution_count": 1174,
   "id": "5a5c6c83",
   "metadata": {},
   "outputs": [],
   "source": [
    "## bir de bizim inspection new diye bir column'umuz var: "
   ]
  },
  {
   "cell_type": "markdown",
   "id": "15637f9f",
   "metadata": {},
   "source": [
    "### Inspection new "
   ]
  },
  {
   "cell_type": "code",
   "execution_count": 1175,
   "id": "28f81703",
   "metadata": {},
   "outputs": [],
   "source": [
    "df.rename(columns={\"Inspection new\":\"inspection_new\"},inplace=True)"
   ]
  },
  {
   "cell_type": "code",
   "execution_count": 1176,
   "id": "87713ce8",
   "metadata": {},
   "outputs": [
    {
     "data": {
      "text/plain": [
       "11987"
      ]
     },
     "execution_count": 1176,
     "metadata": {},
     "output_type": "execute_result"
    }
   ],
   "source": [
    "df[\"inspection_new\"].isna().sum()"
   ]
  },
  {
   "cell_type": "code",
   "execution_count": 1177,
   "id": "d373bb0c",
   "metadata": {},
   "outputs": [
    {
     "data": {
      "text/html": [
       "<div>\n",
       "<style scoped>\n",
       "    .dataframe tbody tr th:only-of-type {\n",
       "        vertical-align: middle;\n",
       "    }\n",
       "\n",
       "    .dataframe tbody tr th {\n",
       "        vertical-align: top;\n",
       "    }\n",
       "\n",
       "    .dataframe thead th {\n",
       "        text-align: right;\n",
       "    }\n",
       "</style>\n",
       "<table border=\"1\" class=\"dataframe\">\n",
       "  <thead>\n",
       "    <tr style=\"text-align: right;\">\n",
       "      <th></th>\n",
       "      <th>next_inspection</th>\n",
       "      <th>inspection_new</th>\n",
       "    </tr>\n",
       "  </thead>\n",
       "  <tbody>\n",
       "    <tr>\n",
       "      <th>7495</th>\n",
       "      <td>NaN</td>\n",
       "      <td>NaN</td>\n",
       "    </tr>\n",
       "    <tr>\n",
       "      <th>6312</th>\n",
       "      <td>NaN</td>\n",
       "      <td>NaN</td>\n",
       "    </tr>\n",
       "    <tr>\n",
       "      <th>6082</th>\n",
       "      <td>NaN</td>\n",
       "      <td>Yes,95 g CO2/km (comb)</td>\n",
       "    </tr>\n",
       "    <tr>\n",
       "      <th>14550</th>\n",
       "      <td>NaN</td>\n",
       "      <td>NaN</td>\n",
       "    </tr>\n",
       "    <tr>\n",
       "      <th>15560</th>\n",
       "      <td>06/2021,153 g CO2/km (comb)</td>\n",
       "      <td>Yes,Euro 6</td>\n",
       "    </tr>\n",
       "    <tr>\n",
       "      <th>9533</th>\n",
       "      <td>NaN</td>\n",
       "      <td>NaN</td>\n",
       "    </tr>\n",
       "    <tr>\n",
       "      <th>2308</th>\n",
       "      <td>06/2021,108 g CO2/km (comb)</td>\n",
       "      <td>Yes,Euro 6d-TEMP</td>\n",
       "    </tr>\n",
       "    <tr>\n",
       "      <th>2953</th>\n",
       "      <td>12/2020,0 kWh/100 km (comb)</td>\n",
       "      <td>NaN</td>\n",
       "    </tr>\n",
       "    <tr>\n",
       "      <th>970</th>\n",
       "      <td>NaN</td>\n",
       "      <td>Yes,104 g CO2/km (comb)</td>\n",
       "    </tr>\n",
       "    <tr>\n",
       "      <th>4232</th>\n",
       "      <td>NaN</td>\n",
       "      <td>NaN</td>\n",
       "    </tr>\n",
       "  </tbody>\n",
       "</table>\n",
       "</div>"
      ],
      "text/plain": [
       "                   next_inspection           inspection_new\n",
       "7495                           NaN                      NaN\n",
       "6312                           NaN                      NaN\n",
       "6082                           NaN   Yes,95 g CO2/km (comb)\n",
       "14550                          NaN                      NaN\n",
       "15560  06/2021,153 g CO2/km (comb)               Yes,Euro 6\n",
       "9533                           NaN                      NaN\n",
       "2308   06/2021,108 g CO2/km (comb)         Yes,Euro 6d-TEMP\n",
       "2953   12/2020,0 kWh/100 km (comb)                      NaN\n",
       "970                            NaN  Yes,104 g CO2/km (comb)\n",
       "4232                           NaN                      NaN"
      ]
     },
     "execution_count": 1177,
     "metadata": {},
     "output_type": "execute_result"
    }
   ],
   "source": [
    "df[[\"next_inspection\",\"inspection_new\"]].sample(10)"
   ]
  },
  {
   "cell_type": "code",
   "execution_count": 1178,
   "id": "9732188f",
   "metadata": {},
   "outputs": [],
   "source": [
    "## bir benzerlik bulunamadı aralarında."
   ]
  },
  {
   "cell_type": "markdown",
   "id": "356a2ee5",
   "metadata": {},
   "source": [
    "###   Warranty"
   ]
  },
  {
   "cell_type": "code",
   "execution_count": 1179,
   "id": "1885cc89",
   "metadata": {},
   "outputs": [
    {
     "data": {
      "text/plain": [
       "NaN                                                                          6763\n",
       "Euro 6                                                                       1868\n",
       "12 months                                                                    1305\n",
       "24 months                                                                     585\n",
       "4 (Green)                                                                     517\n",
       "                                                                             ... \n",
       "2 months                                                                        1\n",
       "72 months,125 g CO2/km (comb)                                                   1\n",
       "60 months,14 g CO2/km (comb)                                                    1\n",
       "24 months,121 g CO2/km (comb)                                                   1\n",
       "36 months,,7.4 l/100 km (comb),,9.6 l/100 km (city),,6 l/100 km (country)       1\n",
       "Name: Warranty, Length: 506, dtype: int64"
      ]
     },
     "execution_count": 1179,
     "metadata": {},
     "output_type": "execute_result"
    }
   ],
   "source": [
    "df[\"Warranty\"].value_counts(dropna=False)"
   ]
  },
  {
   "cell_type": "code",
   "execution_count": 1180,
   "id": "0ad1f0ec",
   "metadata": {},
   "outputs": [
    {
     "data": {
      "text/plain": [
       "NaN                                                                         0.425\n",
       "Euro 6                                                                      0.117\n",
       "12 months                                                                   0.082\n",
       "24 months                                                                   0.037\n",
       "4 (Green)                                                                   0.032\n",
       "                                                                             ... \n",
       "2 months                                                                    0.000\n",
       "72 months,125 g CO2/km (comb)                                               0.000\n",
       "60 months,14 g CO2/km (comb)                                                0.000\n",
       "24 months,121 g CO2/km (comb)                                               0.000\n",
       "36 months,,7.4 l/100 km (comb),,9.6 l/100 km (city),,6 l/100 km (country)   0.000\n",
       "Name: Warranty, Length: 506, dtype: float64"
      ]
     },
     "execution_count": 1180,
     "metadata": {},
     "output_type": "execute_result"
    }
   ],
   "source": [
    "df[\"Warranty\"].value_counts(dropna=False,normalize=True)"
   ]
  },
  {
   "cell_type": "code",
   "execution_count": 1181,
   "id": "7db6f303",
   "metadata": {},
   "outputs": [
    {
     "data": {
      "text/html": [
       "<div>\n",
       "<style scoped>\n",
       "    .dataframe tbody tr th:only-of-type {\n",
       "        vertical-align: middle;\n",
       "    }\n",
       "\n",
       "    .dataframe tbody tr th {\n",
       "        vertical-align: top;\n",
       "    }\n",
       "\n",
       "    .dataframe thead th {\n",
       "        text-align: right;\n",
       "    }\n",
       "</style>\n",
       "<table border=\"1\" class=\"dataframe\">\n",
       "  <thead>\n",
       "    <tr style=\"text-align: right;\">\n",
       "      <th></th>\n",
       "      <th>0</th>\n",
       "    </tr>\n",
       "  </thead>\n",
       "  <tbody>\n",
       "    <tr>\n",
       "      <th>0</th>\n",
       "      <td>NaN</td>\n",
       "    </tr>\n",
       "    <tr>\n",
       "      <th>1</th>\n",
       "      <td>NaN</td>\n",
       "    </tr>\n",
       "    <tr>\n",
       "      <th>2</th>\n",
       "      <td>NaN</td>\n",
       "    </tr>\n",
       "    <tr>\n",
       "      <th>3</th>\n",
       "      <td>NaN</td>\n",
       "    </tr>\n",
       "    <tr>\n",
       "      <th>4</th>\n",
       "      <td>NaN</td>\n",
       "    </tr>\n",
       "    <tr>\n",
       "      <th>...</th>\n",
       "      <td>...</td>\n",
       "    </tr>\n",
       "    <tr>\n",
       "      <th>15914</th>\n",
       "      <td>24.000</td>\n",
       "    </tr>\n",
       "    <tr>\n",
       "      <th>15915</th>\n",
       "      <td>NaN</td>\n",
       "    </tr>\n",
       "    <tr>\n",
       "      <th>15916</th>\n",
       "      <td>NaN</td>\n",
       "    </tr>\n",
       "    <tr>\n",
       "      <th>15917</th>\n",
       "      <td>NaN</td>\n",
       "    </tr>\n",
       "    <tr>\n",
       "      <th>15918</th>\n",
       "      <td>NaN</td>\n",
       "    </tr>\n",
       "  </tbody>\n",
       "</table>\n",
       "<p>15919 rows × 1 columns</p>\n",
       "</div>"
      ],
      "text/plain": [
       "           0\n",
       "0        NaN\n",
       "1        NaN\n",
       "2        NaN\n",
       "3        NaN\n",
       "4        NaN\n",
       "...      ...\n",
       "15914 24.000\n",
       "15915    NaN\n",
       "15916    NaN\n",
       "15917    NaN\n",
       "15918    NaN\n",
       "\n",
       "[15919 rows x 1 columns]"
      ]
     },
     "execution_count": 1181,
     "metadata": {},
     "output_type": "execute_result"
    }
   ],
   "source": [
    "df[\"Warranty\"].str.extract(r\"(\\d+)\\s*month\").astype(float)"
   ]
  },
  {
   "cell_type": "code",
   "execution_count": 1182,
   "id": "db899665",
   "metadata": {},
   "outputs": [],
   "source": [
    "df[\"warranty_month\"] = df[\"Warranty\"].str.extract(r\"(\\d+)\\s*month\").astype(float)"
   ]
  },
  {
   "cell_type": "code",
   "execution_count": 1183,
   "id": "f76f8661",
   "metadata": {},
   "outputs": [
    {
     "data": {
      "text/plain": [
       "11066"
      ]
     },
     "execution_count": 1183,
     "metadata": {},
     "output_type": "execute_result"
    }
   ],
   "source": [
    "df[\"warranty_month\"].isnull().sum()      # ÇOK FAZLA NULL DEĞER VAR YİNE."
   ]
  },
  {
   "cell_type": "markdown",
   "id": "e63411c4",
   "metadata": {},
   "source": [
    "### Full Service"
   ]
  },
  {
   "cell_type": "code",
   "execution_count": 1184,
   "id": "951c5335",
   "metadata": {},
   "outputs": [],
   "source": [
    "df.rename(columns={\"Full Service\":\"full_service\"},inplace=1)"
   ]
  },
  {
   "cell_type": "code",
   "execution_count": 1185,
   "id": "b3c76c21",
   "metadata": {},
   "outputs": [
    {
     "data": {
      "text/plain": [
       "NaN                                                                 9689\n",
       "4 (Green)                                                           2235\n",
       "Euro 6                                                              2097\n",
       "Euro 6d-TEMP                                                         399\n",
       "120 g CO2/km (comb)                                                  105\n",
       "                                                                    ... \n",
       "6 l/100 km (comb),,8 l/100 km (city),,4.9 l/100 km (country)           1\n",
       "84 g CO2/km (comb)                                                     1\n",
       "87 g CO2/km (comb)                                                     1\n",
       "5.7 l/100 km (comb),,7.3 l/100 km (city),,4.9 l/100 km (country)       1\n",
       "Euro 4                                                                 1\n",
       "Name: full_service, Length: 121, dtype: int64"
      ]
     },
     "execution_count": 1185,
     "metadata": {},
     "output_type": "execute_result"
    }
   ],
   "source": [
    "df[\"full_service\"].value_counts(dropna=False)"
   ]
  },
  {
   "cell_type": "code",
   "execution_count": 1186,
   "id": "cafa4b74",
   "metadata": {},
   "outputs": [
    {
     "data": {
      "text/plain": [
       "NaN                                                                0.609\n",
       "4 (Green)                                                          0.140\n",
       "Euro 6                                                             0.132\n",
       "Euro 6d-TEMP                                                       0.025\n",
       "120 g CO2/km (comb)                                                0.007\n",
       "                                                                    ... \n",
       "6 l/100 km (comb),,8 l/100 km (city),,4.9 l/100 km (country)       0.000\n",
       "84 g CO2/km (comb)                                                 0.000\n",
       "87 g CO2/km (comb)                                                 0.000\n",
       "5.7 l/100 km (comb),,7.3 l/100 km (city),,4.9 l/100 km (country)   0.000\n",
       "Euro 4                                                             0.000\n",
       "Name: full_service, Length: 121, dtype: float64"
      ]
     },
     "execution_count": 1186,
     "metadata": {},
     "output_type": "execute_result"
    }
   ],
   "source": [
    "df[\"full_service\"].value_counts(dropna=False,normalize=True)"
   ]
  },
  {
   "cell_type": "markdown",
   "id": "2bb11dac",
   "metadata": {},
   "source": [
    "### DİKKAT : SÜTUNLARI İNCELERKEN HEP AYNI ŞEYLERİ YAPTIĞIMIZDAN DOLAYI GENELLEŞTİRME İHİYACI\n",
    "### AKLIMA GELDİ  BİR SÜTUNU ALDIĞIMIZDA BİR FONKSİYON YARDIMIYLA BAKABİLİRİZ BUNLARA:"
   ]
  },
  {
   "cell_type": "code",
   "execution_count": 1187,
   "id": "84126358",
   "metadata": {},
   "outputs": [],
   "source": [
    "def summary(dataframe,col_name):\n",
    "    print(pd.DataFrame({col_name: dataframe[col_name].value_counts(dropna=False),\n",
    "           \"oran\" : (dataframe[col_name].value_counts(normalize=True,dropna=False) * 100)}))\n",
    "    print(\"########################################\")\n",
    "    print('Number_of_Nulls   : ', dataframe[col_name].isnull().sum())"
   ]
  },
  {
   "cell_type": "code",
   "execution_count": 1188,
   "id": "4c38f1fd",
   "metadata": {},
   "outputs": [
    {
     "name": "stdout",
     "output_type": "stream",
     "text": [
      "                                                    full_service   oran\n",
      "NaN                                                         9689 60.864\n",
      "4 (Green)                                                   2235 14.040\n",
      "Euro 6                                                      2097 13.173\n",
      "Euro 6d-TEMP                                                 399  2.506\n",
      "120 g CO2/km (comb)                                          105  0.660\n",
      "...                                                          ...    ...\n",
      "6 l/100 km (comb),,8 l/100 km (city),,4.9 l/100...             1  0.006\n",
      "84 g CO2/km (comb)                                             1  0.006\n",
      "87 g CO2/km (comb)                                             1  0.006\n",
      "5.7 l/100 km (comb),,7.3 l/100 km (city),,4.9 l...             1  0.006\n",
      "Euro 4                                                         1  0.006\n",
      "\n",
      "[121 rows x 2 columns]\n",
      "########################################\n",
      "Number_of_Nulls   :  9689\n"
     ]
    }
   ],
   "source": [
    "summary(df,\"full_service\")"
   ]
  },
  {
   "cell_type": "markdown",
   "id": "e46ab755",
   "metadata": {},
   "source": [
    "###  Non-smoking Vehicle"
   ]
  },
  {
   "cell_type": "code",
   "execution_count": 1189,
   "id": "f9cb2a14",
   "metadata": {},
   "outputs": [],
   "source": [
    "df.rename({\"Non-smoking Vehicle\" : \"non_smoking_vehicle\"},axis=1,inplace=1)"
   ]
  },
  {
   "cell_type": "code",
   "execution_count": 1190,
   "id": "ff2ba99d",
   "metadata": {},
   "outputs": [
    {
     "name": "stdout",
     "output_type": "stream",
     "text": [
      "                                                    non_smoking_vehicle   oran\n",
      "NaN                                                               12459 78.265\n",
      "4 (Green)                                                          1240  7.789\n",
      "Euro 6                                                             1127  7.080\n",
      "Euro 6d-TEMP                                                        345  2.167\n",
      "120 g CO2/km (comb)                                                  63  0.396\n",
      "85 g CO2/km (comb)                                                   46  0.289\n",
      "107 g CO2/km (comb)                                                  36  0.226\n",
      "104 g CO2/km (comb)                                                  36  0.226\n",
      "153 g CO2/km (comb)                                                  31  0.195\n",
      "124 g CO2/km (comb)                                                  29  0.182\n",
      "1 (No sticker)                                                       24  0.151\n",
      "99 g CO2/km (comb)                                                   23  0.144\n",
      "97 g CO2/km (comb)                                                   20  0.126\n",
      "106 g CO2/km (comb)                                                  20  0.126\n",
      "108 g CO2/km (comb)                                                  19  0.119\n",
      "109 g CO2/km (comb)                                                  18  0.113\n",
      "113 g CO2/km (comb)                                                  18  0.113\n",
      "105 g CO2/km (comb)                                                  18  0.113\n",
      "100 g CO2/km (comb)                                                  18  0.113\n",
      "Euro 6c                                                              17  0.107\n",
      "98 g CO2/km (comb)                                                   15  0.094\n",
      "129 g CO2/km (comb)                                                  14  0.088\n",
      "131 g CO2/km (comb)                                                  13  0.082\n",
      "133 g CO2/km (comb)                                                  12  0.075\n",
      "103 g CO2/km (comb)                                                  12  0.075\n",
      "114 g CO2/km (comb)                                                  12  0.075\n",
      "135 g CO2/km (comb)                                                  11  0.069\n",
      "116 g CO2/km (comb)                                                  11  0.069\n",
      "102 g CO2/km (comb)                                                  11  0.069\n",
      "143 g CO2/km (comb)                                                  10  0.063\n",
      "127 g CO2/km (comb)                                                  10  0.063\n",
      "Euro 6d                                                               9  0.057\n",
      "92 g CO2/km (comb)                                                    9  0.057\n",
      "112 g CO2/km (comb)                                                   9  0.057\n",
      "5 (Blue)                                                              8  0.050\n",
      "118 g CO2/km (comb)                                                   8  0.050\n",
      "147 g CO2/km (comb)                                                   7  0.044\n",
      "128 g CO2/km (comb)                                                   7  0.044\n",
      "139 g CO2/km (comb)                                                   7  0.044\n",
      "140 g CO2/km (comb)                                                   6  0.038\n",
      "137 g CO2/km (comb)                                                   6  0.038\n",
      "117 g CO2/km (comb)                                                   6  0.038\n",
      "126 g CO2/km (comb)                                                   6  0.038\n",
      "130 g CO2/km (comb)                                                   5  0.031\n",
      "115 g CO2/km (comb)                                                   5  0.031\n",
      "5.2 l/100 km (comb),,5.8 l/100 km (city),,4.8 l...                    4  0.025\n",
      "123 g CO2/km (comb)                                                   4  0.025\n",
      "Euro 5                                                                4  0.025\n",
      "151 g CO2/km (comb)                                                   4  0.025\n",
      "136 g CO2/km (comb)                                                   3  0.019\n",
      "110 g CO2/km (comb)                                                   3  0.019\n",
      "148 g CO2/km (comb)                                                   3  0.019\n",
      "157 g CO2/km (comb)                                                   3  0.019\n",
      "95 g CO2/km (comb)                                                    3  0.019\n",
      "119 g CO2/km (comb)                                                   3  0.019\n",
      "149 g CO2/km (comb)                                                   3  0.019\n",
      "166 g CO2/km (comb)                                                   2  0.013\n",
      "138 g CO2/km (comb)                                                   2  0.013\n",
      "121 g CO2/km (comb)                                                   2  0.013\n",
      "111 g CO2/km (comb)                                                   2  0.013\n",
      "90 g CO2/km (comb)                                                    2  0.013\n",
      "142 g CO2/km (comb)                                                   2  0.013\n",
      "125 g CO2/km (comb)                                                   2  0.013\n",
      "134 g CO2/km (comb)                                                   2  0.013\n",
      "5.2 l/100 km (comb),,6.4 l/100 km (city),,4.4 l...                    2  0.013\n",
      "6.5 l/100 km (comb),,8.5 l/100 km (city),,5.4 l...                    1  0.006\n",
      "146 g CO2/km (comb)                                                   1  0.006\n",
      "189 g CO2/km (comb)                                                   1  0.006\n",
      "6.1 l/100 km (comb),,7.7 l/100 km (city),,5.2 l...                    1  0.006\n",
      "6.3 l/100 km (comb),,8 l/100 km (city),,5.3 l/1...                    1  0.006\n",
      "154 g CO2/km (comb)                                                   1  0.006\n",
      "6.5 l/100 km (comb),,7.9 l/100 km (city),,5.6 l...                    1  0.006\n",
      "6.4 l/100 km (comb),,8.1 l/100 km (city),,5.4 l...                    1  0.006\n",
      "122 g CO2/km (comb)                                                   1  0.006\n",
      "82 g CO2/km (comb)                                                    1  0.006\n",
      "1.6 l/100 km (comb)                                                   1  0.006\n",
      "172 g CO2/km (comb)                                                   1  0.006\n",
      "161 g CO2/km (comb)                                                   1  0.006\n",
      "156 g CO2/km (comb)                                                   1  0.006\n",
      "169 g CO2/km (comb)                                                   1  0.006\n",
      "6.1 l/100 km (comb),,7.8 l/100 km (city),,5.1 l...                    1  0.006\n",
      "152 g CO2/km (comb)                                                   1  0.006\n",
      "144 g CO2/km (comb)                                                   1  0.006\n",
      "132 g CO2/km (comb)                                                   1  0.006\n",
      "159 g CO2/km (comb)                                                   1  0.006\n",
      "5.6 l/100 km (comb),,7.3 l/100 km (city),,4.7 l...                    1  0.006\n",
      "158 g CO2/km (comb)                                                   1  0.006\n",
      "150 g CO2/km (comb)                                                   1  0.006\n",
      "6.2 l/100 km (comb),,7.9 l/100 km (city),,5.3 l...                    1  0.006\n",
      "91 g CO2/km (comb)                                                    1  0.006\n",
      "101 g CO2/km (comb)                                                   1  0.006\n",
      "5.7 l/100 km (comb),,7.3 l/100 km (city),,4.7 l...                    1  0.006\n",
      "175 g CO2/km (comb)                                                   1  0.006\n",
      "########################################\n",
      "Number_of_Nulls   :  12459\n"
     ]
    }
   ],
   "source": [
    "summary(df,\"non_smoking_vehicle\")"
   ]
  },
  {
   "cell_type": "code",
   "execution_count": 1191,
   "id": "5ade0308",
   "metadata": {},
   "outputs": [],
   "source": [
    "## null değer 12459 *****  ayrıca içerikle sütun örtüşmüyor ama diğer sütunların doldurulmasında kullanılabilir."
   ]
  },
  {
   "cell_type": "markdown",
   "id": "a11f074d",
   "metadata": {},
   "source": [
    "###   null  "
   ]
  },
  {
   "cell_type": "code",
   "execution_count": 1192,
   "id": "ea72b33d",
   "metadata": {},
   "outputs": [
    {
     "name": "stdout",
     "output_type": "stream",
     "text": [
      "      null    oran\n",
      "NaN  15919 100.000\n",
      "########################################\n",
      "Number_of_Nulls   :  15919\n"
     ]
    }
   ],
   "source": [
    "summary(df,\"null\")"
   ]
  },
  {
   "cell_type": "code",
   "execution_count": 1193,
   "id": "b1bc8ae9",
   "metadata": {},
   "outputs": [],
   "source": [
    "# bunu önceden atmayı unutmuşuz.\n",
    "df.drop(\"null\",axis=1,inplace=True)"
   ]
  },
  {
   "cell_type": "markdown",
   "id": "bde87345",
   "metadata": {},
   "source": [
    "### Offer Number"
   ]
  },
  {
   "cell_type": "code",
   "execution_count": 1194,
   "id": "c53848ba",
   "metadata": {},
   "outputs": [
    {
     "name": "stdout",
     "output_type": "stream",
     "text": [
      "                                          Offer Number   oran\n",
      "NaN                                               3175 19.945\n",
      "LT67679                                             27  0.170\n",
      "UN89904                                             27  0.170\n",
      "XJ38068                                             27  0.170\n",
      "JV03654                                             27  0.170\n",
      "...                                                ...    ...\n",
      "160_dcbb6c3e-a6da-43a3-8754-ccd994cec93b             1  0.006\n",
      "6701576                                              1  0.006\n",
      "6701569                                              1  0.006\n",
      "158121                                               1  0.006\n",
      "Re_30000008029                                       1  0.006\n",
      "\n",
      "[11441 rows x 2 columns]\n",
      "########################################\n",
      "Number_of_Nulls   :  3175\n"
     ]
    }
   ],
   "source": [
    "summary(df,\"Offer Number\")"
   ]
  },
  {
   "cell_type": "code",
   "execution_count": 1195,
   "id": "23c3375d",
   "metadata": {},
   "outputs": [],
   "source": [
    "## url sütunu gibi bir sütun bizim için o yüzden düşeceğiz : "
   ]
  },
  {
   "cell_type": "code",
   "execution_count": 1196,
   "id": "2310a161",
   "metadata": {},
   "outputs": [],
   "source": [
    "df.drop(\"Offer Number\",axis=1,inplace=True)"
   ]
  },
  {
   "cell_type": "markdown",
   "id": "98302110",
   "metadata": {},
   "source": [
    "###  Body Color"
   ]
  },
  {
   "cell_type": "code",
   "execution_count": 1197,
   "id": "a7003688",
   "metadata": {},
   "outputs": [],
   "source": [
    "df.rename({\"Body Color\":\"body_color\"},axis=1,inplace=True)"
   ]
  },
  {
   "cell_type": "code",
   "execution_count": 1198,
   "id": "2df91f20",
   "metadata": {},
   "outputs": [
    {
     "name": "stdout",
     "output_type": "stream",
     "text": [
      "        body_color   oran\n",
      "Black         3745 23.525\n",
      "Grey          3505 22.018\n",
      "White         3406 21.396\n",
      "Silver        1647 10.346\n",
      "Blue          1431  8.989\n",
      "Red            957  6.012\n",
      "NaN            597  3.750\n",
      "Brown          289  1.815\n",
      "Green          154  0.967\n",
      "Beige          108  0.678\n",
      "Yellow          51  0.320\n",
      "Violet          18  0.113\n",
      "Bronze           6  0.038\n",
      "Orange           3  0.019\n",
      "Gold             2  0.013\n",
      "########################################\n",
      "Number_of_Nulls   :  597\n"
     ]
    }
   ],
   "source": [
    "summary(df,\"body_color\")"
   ]
  },
  {
   "cell_type": "code",
   "execution_count": 1199,
   "id": "86de8310",
   "metadata": {},
   "outputs": [],
   "source": [
    "## ekstra temizlenecek bir şey yok nullar var onlar doldurulabilir mi vs ona ileride bakılacak."
   ]
  },
  {
   "cell_type": "markdown",
   "id": "480170b2",
   "metadata": {},
   "source": [
    "###  Body Color Original"
   ]
  },
  {
   "cell_type": "code",
   "execution_count": 1200,
   "id": "9fb49862",
   "metadata": {},
   "outputs": [],
   "source": [
    "df.rename({\"Body Color Original\":\"body_color_orig\"},axis=1,inplace=True)"
   ]
  },
  {
   "cell_type": "code",
   "execution_count": 1201,
   "id": "16aa7329",
   "metadata": {},
   "outputs": [
    {
     "name": "stdout",
     "output_type": "stream",
     "text": [
      "                               body_color_orig   oran\n",
      "NaN                                       3759 23.613\n",
      "Onyx Schwarz                               338  2.123\n",
      "Bianco                                     282  1.771\n",
      "Mythosschwarz Metallic                     238  1.495\n",
      "Brillantschwarz                            216  1.357\n",
      "...                                        ...    ...\n",
      "Rouge-Braun (G0Y)                            1  0.006\n",
      "VARI COLRI DISPONIBILI                       1  0.006\n",
      "Kokosnussbraun Metallic                      1  0.006\n",
      "Farbe frei wählbar                           1  0.006\n",
      "Perlmutt-Weiß Metallic (Weiß)                1  0.006\n",
      "\n",
      "[1928 rows x 2 columns]\n",
      "########################################\n",
      "Number_of_Nulls   :  3759\n"
     ]
    }
   ],
   "source": [
    "summary(df,\"body_color_orig\")"
   ]
  },
  {
   "cell_type": "markdown",
   "id": "5f6f06eb",
   "metadata": {},
   "source": [
    "###   Paint Type"
   ]
  },
  {
   "cell_type": "code",
   "execution_count": 1202,
   "id": "bd4006ad",
   "metadata": {},
   "outputs": [],
   "source": [
    "df.rename({\"Paint Type\":\"paint_type\"},axis=1,inplace=True)"
   ]
  },
  {
   "cell_type": "code",
   "execution_count": 1203,
   "id": "cb60af67",
   "metadata": {},
   "outputs": [
    {
     "name": "stdout",
     "output_type": "stream",
     "text": [
      "             paint_type   oran\n",
      "Metallic           9794 61.524\n",
      "NaN                5772 36.259\n",
      "Uni/basic           347  2.180\n",
      "Perl effect           6  0.038\n",
      "########################################\n",
      "Number_of_Nulls   :  5772\n"
     ]
    }
   ],
   "source": [
    "summary(df,\"paint_type\")"
   ]
  },
  {
   "cell_type": "code",
   "execution_count": 1204,
   "id": "fddd1087",
   "metadata": {},
   "outputs": [],
   "source": [
    "## şimdi bu  3 column birbiriyle ilintili olabilir bunlara beraber bakacak olursak : "
   ]
  },
  {
   "cell_type": "code",
   "execution_count": 1205,
   "id": "ccd62d67",
   "metadata": {},
   "outputs": [
    {
     "data": {
      "text/html": [
       "<div>\n",
       "<style scoped>\n",
       "    .dataframe tbody tr th:only-of-type {\n",
       "        vertical-align: middle;\n",
       "    }\n",
       "\n",
       "    .dataframe tbody tr th {\n",
       "        vertical-align: top;\n",
       "    }\n",
       "\n",
       "    .dataframe thead th {\n",
       "        text-align: right;\n",
       "    }\n",
       "</style>\n",
       "<table border=\"1\" class=\"dataframe\">\n",
       "  <thead>\n",
       "    <tr style=\"text-align: right;\">\n",
       "      <th></th>\n",
       "      <th>paint_type</th>\n",
       "      <th>body_color_orig</th>\n",
       "      <th>body_color</th>\n",
       "    </tr>\n",
       "  </thead>\n",
       "  <tbody>\n",
       "    <tr>\n",
       "      <th>4073</th>\n",
       "      <td>Metallic</td>\n",
       "      <td>Mythosschwarz Metallic</td>\n",
       "      <td>Black</td>\n",
       "    </tr>\n",
       "    <tr>\n",
       "      <th>13713</th>\n",
       "      <td>NaN</td>\n",
       "      <td>NaN</td>\n",
       "      <td>White</td>\n",
       "    </tr>\n",
       "    <tr>\n",
       "      <th>2775</th>\n",
       "      <td>NaN</td>\n",
       "      <td>Brillantschwarz</td>\n",
       "      <td>Black</td>\n",
       "    </tr>\n",
       "    <tr>\n",
       "      <th>2349</th>\n",
       "      <td>Uni/basic</td>\n",
       "      <td>Pythongelb Metallic</td>\n",
       "      <td>Yellow</td>\n",
       "    </tr>\n",
       "    <tr>\n",
       "      <th>5963</th>\n",
       "      <td>Metallic</td>\n",
       "      <td>gris</td>\n",
       "      <td>Grey</td>\n",
       "    </tr>\n",
       "    <tr>\n",
       "      <th>8385</th>\n",
       "      <td>Metallic</td>\n",
       "      <td>Argon Silber</td>\n",
       "      <td>Silver</td>\n",
       "    </tr>\n",
       "    <tr>\n",
       "      <th>9782</th>\n",
       "      <td>NaN</td>\n",
       "      <td>LAVA ROT</td>\n",
       "      <td>Red</td>\n",
       "    </tr>\n",
       "    <tr>\n",
       "      <th>7497</th>\n",
       "      <td>NaN</td>\n",
       "      <td>SCHNEEWEISS/SUMMITWHITE/ARCTIC</td>\n",
       "      <td>White</td>\n",
       "    </tr>\n",
       "    <tr>\n",
       "      <th>2516</th>\n",
       "      <td>NaN</td>\n",
       "      <td>cortinaweiß</td>\n",
       "      <td>White</td>\n",
       "    </tr>\n",
       "    <tr>\n",
       "      <th>5724</th>\n",
       "      <td>Uni/basic</td>\n",
       "      <td>NaN</td>\n",
       "      <td>Grey</td>\n",
       "    </tr>\n",
       "    <tr>\n",
       "      <th>730</th>\n",
       "      <td>Metallic</td>\n",
       "      <td>NaN</td>\n",
       "      <td>Blue</td>\n",
       "    </tr>\n",
       "    <tr>\n",
       "      <th>5370</th>\n",
       "      <td>NaN</td>\n",
       "      <td>Schwarz</td>\n",
       "      <td>Black</td>\n",
       "    </tr>\n",
       "    <tr>\n",
       "      <th>9076</th>\n",
       "      <td>Metallic</td>\n",
       "      <td>Blauw</td>\n",
       "      <td>Blue</td>\n",
       "    </tr>\n",
       "    <tr>\n",
       "      <th>2288</th>\n",
       "      <td>NaN</td>\n",
       "      <td>Other</td>\n",
       "      <td>NaN</td>\n",
       "    </tr>\n",
       "    <tr>\n",
       "      <th>11691</th>\n",
       "      <td>Metallic</td>\n",
       "      <td>Quarz Grau</td>\n",
       "      <td>Grey</td>\n",
       "    </tr>\n",
       "  </tbody>\n",
       "</table>\n",
       "</div>"
      ],
      "text/plain": [
       "      paint_type                 body_color_orig body_color\n",
       "4073    Metallic          Mythosschwarz Metallic      Black\n",
       "13713        NaN                             NaN      White\n",
       "2775         NaN                 Brillantschwarz      Black\n",
       "2349   Uni/basic             Pythongelb Metallic     Yellow\n",
       "5963    Metallic                            gris       Grey\n",
       "8385    Metallic                    Argon Silber     Silver\n",
       "9782         NaN                        LAVA ROT        Red\n",
       "7497         NaN  SCHNEEWEISS/SUMMITWHITE/ARCTIC      White\n",
       "2516         NaN                     cortinaweiß      White\n",
       "5724   Uni/basic                             NaN       Grey\n",
       "730     Metallic                             NaN       Blue\n",
       "5370         NaN                         Schwarz      Black\n",
       "9076    Metallic                           Blauw       Blue\n",
       "2288         NaN                           Other        NaN\n",
       "11691   Metallic                      Quarz Grau       Grey"
      ]
     },
     "execution_count": 1205,
     "metadata": {},
     "output_type": "execute_result"
    }
   ],
   "source": [
    "df[[\"paint_type\",\"body_color_orig\",\"body_color\"]].sample(15)"
   ]
  },
  {
   "cell_type": "markdown",
   "id": "7981776f",
   "metadata": {},
   "source": [
    "### acaba body_color sütunundaki boş değerleri body_color_origin ile doldurabilir miyim ? "
   ]
  },
  {
   "cell_type": "code",
   "execution_count": 1206,
   "id": "e2b59bde",
   "metadata": {},
   "outputs": [
    {
     "data": {
      "text/html": [
       "<div>\n",
       "<style scoped>\n",
       "    .dataframe tbody tr th:only-of-type {\n",
       "        vertical-align: middle;\n",
       "    }\n",
       "\n",
       "    .dataframe tbody tr th {\n",
       "        vertical-align: top;\n",
       "    }\n",
       "\n",
       "    .dataframe thead th {\n",
       "        text-align: right;\n",
       "    }\n",
       "</style>\n",
       "<table border=\"1\" class=\"dataframe\">\n",
       "  <thead>\n",
       "    <tr style=\"text-align: right;\">\n",
       "      <th></th>\n",
       "      <th>body_color</th>\n",
       "      <th>body_color_orig</th>\n",
       "    </tr>\n",
       "  </thead>\n",
       "  <tbody>\n",
       "    <tr>\n",
       "      <th>70</th>\n",
       "      <td>NaN</td>\n",
       "      <td>gris nano</td>\n",
       "    </tr>\n",
       "    <tr>\n",
       "      <th>122</th>\n",
       "      <td>NaN</td>\n",
       "      <td>wählbar</td>\n",
       "    </tr>\n",
       "    <tr>\n",
       "      <th>150</th>\n",
       "      <td>NaN</td>\n",
       "      <td>BLEU UTOPIA</td>\n",
       "    </tr>\n",
       "    <tr>\n",
       "      <th>195</th>\n",
       "      <td>NaN</td>\n",
       "      <td>BLEU UTOPIA</td>\n",
       "    </tr>\n",
       "    <tr>\n",
       "      <th>198</th>\n",
       "      <td>NaN</td>\n",
       "      <td>null</td>\n",
       "    </tr>\n",
       "    <tr>\n",
       "      <th>...</th>\n",
       "      <td>...</td>\n",
       "      <td>...</td>\n",
       "    </tr>\n",
       "    <tr>\n",
       "      <th>15690</th>\n",
       "      <td>NaN</td>\n",
       "      <td>NaN</td>\n",
       "    </tr>\n",
       "    <tr>\n",
       "      <th>15785</th>\n",
       "      <td>NaN</td>\n",
       "      <td>GNE NOIR ETOILE</td>\n",
       "    </tr>\n",
       "    <tr>\n",
       "      <th>15849</th>\n",
       "      <td>NaN</td>\n",
       "      <td>Farbe: Sonstige</td>\n",
       "    </tr>\n",
       "    <tr>\n",
       "      <th>15854</th>\n",
       "      <td>NaN</td>\n",
       "      <td>NaN</td>\n",
       "    </tr>\n",
       "    <tr>\n",
       "      <th>15864</th>\n",
       "      <td>NaN</td>\n",
       "      <td>NaN</td>\n",
       "    </tr>\n",
       "  </tbody>\n",
       "</table>\n",
       "<p>597 rows × 2 columns</p>\n",
       "</div>"
      ],
      "text/plain": [
       "      body_color  body_color_orig\n",
       "70           NaN        gris nano\n",
       "122          NaN          wählbar\n",
       "150          NaN      BLEU UTOPIA\n",
       "195          NaN      BLEU UTOPIA\n",
       "198          NaN             null\n",
       "...          ...              ...\n",
       "15690        NaN              NaN\n",
       "15785        NaN  GNE NOIR ETOILE\n",
       "15849        NaN  Farbe: Sonstige\n",
       "15854        NaN              NaN\n",
       "15864        NaN              NaN\n",
       "\n",
       "[597 rows x 2 columns]"
      ]
     },
     "execution_count": 1206,
     "metadata": {},
     "output_type": "execute_result"
    }
   ],
   "source": [
    "df.loc[df[\"body_color\"].isna(),[\"body_color\",\"body_color_orig\"]]"
   ]
  },
  {
   "cell_type": "code",
   "execution_count": 1207,
   "id": "f8bf8d6c",
   "metadata": {},
   "outputs": [],
   "source": [
    "## bunu part2'de kullanabiliriz."
   ]
  },
  {
   "cell_type": "markdown",
   "id": "ae2b92ac",
   "metadata": {},
   "source": [
    "###  Upholstery (döşeme)"
   ]
  },
  {
   "cell_type": "code",
   "execution_count": 1208,
   "id": "4e2cc8d9",
   "metadata": {},
   "outputs": [
    {
     "name": "stdout",
     "output_type": "stream",
     "text": [
      "                     Upholstery   oran\n",
      "Cloth, Black               5821 36.566\n",
      "NaN                        3720 23.368\n",
      "Part leather, Black        1121  7.042\n",
      "Cloth                      1005  6.313\n",
      "Cloth, Grey                 891  5.597\n",
      "Cloth, Other                639  4.014\n",
      "Full leather, Black         575  3.612\n",
      "Black                       491  3.084\n",
      "Grey                        273  1.715\n",
      "Other, Other                182  1.143\n",
      "Part leather                140  0.879\n",
      "Full leather                139  0.873\n",
      "Full leather, Brown         116  0.729\n",
      "Part leather, Grey          116  0.729\n",
      "Other, Black                110  0.691\n",
      "Full leather, Other          72  0.452\n",
      "Full leather, Grey           67  0.421\n",
      "Part leather, Other          65  0.408\n",
      "Other                        56  0.352\n",
      "Part leather, Brown          50  0.314\n",
      "alcantara, Black             47  0.295\n",
      "Velour, Black                36  0.226\n",
      "Full leather, Beige          36  0.226\n",
      "Cloth, Brown                 28  0.176\n",
      "Velour                       16  0.101\n",
      "Other, Grey                  15  0.094\n",
      "Cloth, Beige                 13  0.082\n",
      "Brown                        12  0.075\n",
      "Cloth, Blue                  12  0.075\n",
      "Velour, Grey                  8  0.050\n",
      "Cloth, White                  8  0.050\n",
      "alcantara, Grey               6  0.038\n",
      "Cloth, Red                    5  0.031\n",
      "Other, Yellow                 4  0.025\n",
      "Part leather, Red             3  0.019\n",
      "Beige                         3  0.019\n",
      "Part leather, White           2  0.013\n",
      "Full leather, Blue            2  0.013\n",
      "alcantara, Other              2  0.013\n",
      "alcantara                     2  0.013\n",
      "White                         2  0.013\n",
      "Part leather, Beige           2  0.013\n",
      "Blue                          2  0.013\n",
      "Cloth, Orange                 1  0.006\n",
      "Full leather, Red             1  0.006\n",
      "Other, Brown                  1  0.006\n",
      "Full leather, White           1  0.006\n",
      "########################################\n",
      "Number_of_Nulls   :  3720\n"
     ]
    }
   ],
   "source": [
    "summary(df,\"Upholstery\")"
   ]
  },
  {
   "cell_type": "code",
   "execution_count": 1209,
   "id": "6409e686",
   "metadata": {},
   "outputs": [],
   "source": [
    "## deri , kumaş , other , kadife gibi döşeme türleri var ve\n",
    "## bunların renkleri var biz bunları 2 ayrı sütun gibi ele alabiliriz."
   ]
  },
  {
   "cell_type": "code",
   "execution_count": 1210,
   "id": "0bdfc95b",
   "metadata": {},
   "outputs": [
    {
     "data": {
      "text/html": [
       "<div>\n",
       "<style scoped>\n",
       "    .dataframe tbody tr th:only-of-type {\n",
       "        vertical-align: middle;\n",
       "    }\n",
       "\n",
       "    .dataframe tbody tr th {\n",
       "        vertical-align: top;\n",
       "    }\n",
       "\n",
       "    .dataframe thead th {\n",
       "        text-align: right;\n",
       "    }\n",
       "</style>\n",
       "<table border=\"1\" class=\"dataframe\">\n",
       "  <thead>\n",
       "    <tr style=\"text-align: right;\">\n",
       "      <th></th>\n",
       "      <th>0</th>\n",
       "      <th>1</th>\n",
       "    </tr>\n",
       "  </thead>\n",
       "  <tbody>\n",
       "    <tr>\n",
       "      <th>0</th>\n",
       "      <td>Cloth</td>\n",
       "      <td>Black</td>\n",
       "    </tr>\n",
       "    <tr>\n",
       "      <th>1</th>\n",
       "      <td>Cloth</td>\n",
       "      <td>Grey</td>\n",
       "    </tr>\n",
       "    <tr>\n",
       "      <th>2</th>\n",
       "      <td>Cloth</td>\n",
       "      <td>Black</td>\n",
       "    </tr>\n",
       "    <tr>\n",
       "      <th>3</th>\n",
       "      <td>NaN</td>\n",
       "      <td>NaN</td>\n",
       "    </tr>\n",
       "    <tr>\n",
       "      <th>4</th>\n",
       "      <td>Cloth</td>\n",
       "      <td>Black</td>\n",
       "    </tr>\n",
       "    <tr>\n",
       "      <th>...</th>\n",
       "      <td>...</td>\n",
       "      <td>...</td>\n",
       "    </tr>\n",
       "    <tr>\n",
       "      <th>15914</th>\n",
       "      <td>NaN</td>\n",
       "      <td>NaN</td>\n",
       "    </tr>\n",
       "    <tr>\n",
       "      <th>15915</th>\n",
       "      <td>Cloth</td>\n",
       "      <td>None</td>\n",
       "    </tr>\n",
       "    <tr>\n",
       "      <th>15916</th>\n",
       "      <td>Full leather</td>\n",
       "      <td>Black</td>\n",
       "    </tr>\n",
       "    <tr>\n",
       "      <th>15917</th>\n",
       "      <td>Part leather</td>\n",
       "      <td>None</td>\n",
       "    </tr>\n",
       "    <tr>\n",
       "      <th>15918</th>\n",
       "      <td>Full leather</td>\n",
       "      <td>Brown</td>\n",
       "    </tr>\n",
       "  </tbody>\n",
       "</table>\n",
       "<p>15919 rows × 2 columns</p>\n",
       "</div>"
      ],
      "text/plain": [
       "                  0      1\n",
       "0             Cloth  Black\n",
       "1             Cloth   Grey\n",
       "2             Cloth  Black\n",
       "3               NaN    NaN\n",
       "4             Cloth  Black\n",
       "...             ...    ...\n",
       "15914           NaN    NaN\n",
       "15915         Cloth   None\n",
       "15916  Full leather  Black\n",
       "15917  Part leather   None\n",
       "15918  Full leather  Brown\n",
       "\n",
       "[15919 rows x 2 columns]"
      ]
     },
     "execution_count": 1210,
     "metadata": {},
     "output_type": "execute_result"
    }
   ],
   "source": [
    "df[\"Upholstery\"].str.split(\", \", expand=True)"
   ]
  },
  {
   "cell_type": "code",
   "execution_count": 1211,
   "id": "9c88fdde",
   "metadata": {},
   "outputs": [],
   "source": [
    "df[[\"upholstery_type\",\"upholstery_color\"]] = df[\"Upholstery\"].str.split(\", \", expand=True)"
   ]
  },
  {
   "cell_type": "code",
   "execution_count": 1212,
   "id": "30dae8e3",
   "metadata": {},
   "outputs": [
    {
     "name": "stdout",
     "output_type": "stream",
     "text": [
      "              upholstery_type   oran\n",
      "Cloth                    8423 52.912\n",
      "NaN                      3720 23.368\n",
      "Part leather             1499  9.416\n",
      "Full leather             1009  6.338\n",
      "Black                     491  3.084\n",
      "Other                     368  2.312\n",
      "Grey                      273  1.715\n",
      "Velour                     60  0.377\n",
      "alcantara                  57  0.358\n",
      "Brown                      12  0.075\n",
      "Beige                       3  0.019\n",
      "Blue                        2  0.013\n",
      "White                       2  0.013\n",
      "########################################\n",
      "Number_of_Nulls   :  3720\n"
     ]
    }
   ],
   "source": [
    "summary(df,\"upholstery_type\")"
   ]
  },
  {
   "cell_type": "code",
   "execution_count": 1213,
   "id": "7b1281ea",
   "metadata": {},
   "outputs": [
    {
     "name": "stdout",
     "output_type": "stream",
     "text": [
      "        upholstery_color   oran\n",
      "Black               7710 48.433\n",
      "NaN                 5861 36.818\n",
      "Grey                1103  6.929\n",
      "Other                960  6.031\n",
      "Brown                195  1.225\n",
      "Beige                 51  0.320\n",
      "Blue                  14  0.088\n",
      "White                 11  0.069\n",
      "Red                    9  0.057\n",
      "Yellow                 4  0.025\n",
      "Orange                 1  0.006\n",
      "########################################\n",
      "Number_of_Nulls   :  5861\n"
     ]
    }
   ],
   "source": [
    "summary(df,\"upholstery_color\")"
   ]
  },
  {
   "cell_type": "markdown",
   "id": "6e5696e9",
   "metadata": {},
   "source": [
    "### bu sütuna tekrar BAKALIM"
   ]
  },
  {
   "cell_type": "markdown",
   "id": "cbd366bd",
   "metadata": {},
   "source": [
    "### Nr. of Doors"
   ]
  },
  {
   "cell_type": "code",
   "execution_count": 1214,
   "id": "5b885bd2",
   "metadata": {},
   "outputs": [],
   "source": [
    "df.rename({\"Nr. of Doors\":\"number_of_doors\"},axis=1,inplace=True)"
   ]
  },
  {
   "cell_type": "code",
   "execution_count": 1215,
   "id": "552f3942",
   "metadata": {
    "scrolled": true
   },
   "outputs": [
    {
     "name": "stdout",
     "output_type": "stream",
     "text": [
      "     number_of_doors   oran\n",
      "5              11575 72.712\n",
      "4               3079 19.342\n",
      "3                832  5.226\n",
      "2                219  1.376\n",
      "NaN              212  1.332\n",
      "1                  1  0.006\n",
      "7                  1  0.006\n",
      "########################################\n",
      "Number_of_Nulls   :  212\n"
     ]
    }
   ],
   "source": [
    "summary(df,\"number_of_doors\")"
   ]
  },
  {
   "cell_type": "code",
   "execution_count": 1216,
   "id": "9f27e1e0",
   "metadata": {},
   "outputs": [
    {
     "data": {
      "text/plain": [
       "0        5\n",
       "1        3\n",
       "2        4\n",
       "3        3\n",
       "4        5\n",
       "        ..\n",
       "15914    5\n",
       "15915    5\n",
       "15916    5\n",
       "15917    5\n",
       "15918    5\n",
       "Name: number_of_doors, Length: 15919, dtype: object"
      ]
     },
     "execution_count": 1216,
     "metadata": {},
     "output_type": "execute_result"
    }
   ],
   "source": [
    "df[\"number_of_doors\"]   # dtype'ı değiştirilebilir temizlenecek bir şey yok başka."
   ]
  },
  {
   "cell_type": "code",
   "execution_count": 1217,
   "id": "26840633",
   "metadata": {},
   "outputs": [],
   "source": [
    "df[\"number_of_doors\"]= df[\"number_of_doors\"].astype(float)"
   ]
  },
  {
   "cell_type": "markdown",
   "id": "da6e33c3",
   "metadata": {},
   "source": [
    "### Nr. of Seats"
   ]
  },
  {
   "cell_type": "code",
   "execution_count": 1218,
   "id": "5edbafff",
   "metadata": {},
   "outputs": [],
   "source": [
    "df.rename({\"Nr. of Seats\":\"number_of_seats\"},axis=1,inplace=True)"
   ]
  },
  {
   "cell_type": "code",
   "execution_count": 1219,
   "id": "238d54d0",
   "metadata": {},
   "outputs": [
    {
     "name": "stdout",
     "output_type": "stream",
     "text": [
      "     number_of_seats   oran\n",
      "5              13336 83.774\n",
      "4               1125  7.067\n",
      "NaN              977  6.137\n",
      "7                362  2.274\n",
      "2                116  0.729\n",
      "6                  2  0.013\n",
      "3                  1  0.006\n",
      "########################################\n",
      "Number_of_Nulls   :  977\n"
     ]
    }
   ],
   "source": [
    "summary(df,\"number_of_seats\")"
   ]
  },
  {
   "cell_type": "code",
   "execution_count": 1220,
   "id": "7beaedd4",
   "metadata": {},
   "outputs": [
    {
     "data": {
      "text/plain": [
       "0        5\n",
       "1        4\n",
       "2        4\n",
       "3        4\n",
       "4        5\n",
       "        ..\n",
       "15914    5\n",
       "15915    5\n",
       "15916    7\n",
       "15917    7\n",
       "15918    5\n",
       "Name: number_of_seats, Length: 15919, dtype: object"
      ]
     },
     "execution_count": 1220,
     "metadata": {},
     "output_type": "execute_result"
    }
   ],
   "source": [
    "df[\"number_of_seats\"]    # bunun da sadece dtype'ını değiştirmekle yetinilebiliriz"
   ]
  },
  {
   "cell_type": "code",
   "execution_count": 1221,
   "id": "c3a27878",
   "metadata": {},
   "outputs": [],
   "source": [
    "df[\"number_of_seats\"]= df[\"number_of_seats\"].astype(float)"
   ]
  },
  {
   "cell_type": "markdown",
   "id": "3b862aae",
   "metadata": {},
   "source": [
    "###  Model Code"
   ]
  },
  {
   "cell_type": "code",
   "execution_count": 1222,
   "id": "7228e8c8",
   "metadata": {},
   "outputs": [],
   "source": [
    "df.rename({\"Model Code\":\"model_code\"},axis=1,inplace=True)"
   ]
  },
  {
   "cell_type": "code",
   "execution_count": 1223,
   "id": "4be1966f",
   "metadata": {},
   "outputs": [
    {
     "name": "stdout",
     "output_type": "stream",
     "text": [
      "          model_code   oran\n",
      "NaN            10941 68.729\n",
      "0035/BCB         268  1.684\n",
      "0588/BNO         245  1.539\n",
      "0588/BDB         206  1.294\n",
      "0588/BHX         188  1.181\n",
      "...              ...    ...\n",
      "0035/AVN           1  0.006\n",
      "0035/BEM           1  0.006\n",
      "0035/BAG           1  0.006\n",
      "0035/BAA           1  0.006\n",
      "3333/BKG           1  0.006\n",
      "\n",
      "[233 rows x 2 columns]\n",
      "########################################\n",
      "Number_of_Nulls   :  10941\n"
     ]
    }
   ],
   "source": [
    "summary(df,\"model_code\")"
   ]
  },
  {
   "cell_type": "code",
   "execution_count": 1224,
   "id": "04f1488e",
   "metadata": {},
   "outputs": [],
   "source": [
    "## url sütunu gibi bizim için düşebiliriz."
   ]
  },
  {
   "cell_type": "code",
   "execution_count": 1225,
   "id": "45c3a792",
   "metadata": {},
   "outputs": [],
   "source": [
    "df.drop(columns=\"model_code\", inplace=True)"
   ]
  },
  {
   "cell_type": "code",
   "execution_count": 1226,
   "id": "4479f3ad",
   "metadata": {},
   "outputs": [
    {
     "data": {
      "text/plain": [
       "(15919, 43)"
      ]
     },
     "execution_count": 1226,
     "metadata": {},
     "output_type": "execute_result"
    }
   ],
   "source": [
    "df.shape"
   ]
  },
  {
   "cell_type": "markdown",
   "id": "7eebc0c0",
   "metadata": {},
   "source": [
    "###  Gearing Type  ( vites türü)"
   ]
  },
  {
   "cell_type": "code",
   "execution_count": 1227,
   "id": "8a4a767c",
   "metadata": {},
   "outputs": [],
   "source": [
    "df.rename({\"Gearing Type\":\"gearing_type\"},axis=1,inplace=True)"
   ]
  },
  {
   "cell_type": "code",
   "execution_count": 1228,
   "id": "76377308",
   "metadata": {},
   "outputs": [
    {
     "name": "stdout",
     "output_type": "stream",
     "text": [
      "                gearing_type   oran\n",
      "Manual                  8153 51.216\n",
      "Automatic               7297 45.838\n",
      "Semi-automatic           469  2.946\n",
      "########################################\n",
      "Number_of_Nulls   :  0\n"
     ]
    }
   ],
   "source": [
    "summary(df,\"gearing_type\")"
   ]
  },
  {
   "cell_type": "code",
   "execution_count": 1229,
   "id": "aa491d8c",
   "metadata": {},
   "outputs": [],
   "source": [
    "## null değer yok temizleme yapılacak kısım da yok."
   ]
  },
  {
   "cell_type": "markdown",
   "id": "61fdaed6",
   "metadata": {},
   "source": [
    "### Gears"
   ]
  },
  {
   "cell_type": "code",
   "execution_count": 1230,
   "id": "6694dcb1",
   "metadata": {},
   "outputs": [
    {
     "name": "stdout",
     "output_type": "stream",
     "text": [
      "     Gears   oran\n",
      "6     5822 36.573\n",
      "NaN   4712 29.600\n",
      "5     3239 20.347\n",
      "7     1908 11.986\n",
      "8      224  1.407\n",
      "9        6  0.038\n",
      "1        2  0.013\n",
      "3        2  0.013\n",
      "4        2  0.013\n",
      "2        1  0.006\n",
      "50       1  0.006\n",
      "########################################\n",
      "Number_of_Nulls   :  4712\n"
     ]
    }
   ],
   "source": [
    "summary(df,\"Gears\")"
   ]
  },
  {
   "cell_type": "code",
   "execution_count": 1231,
   "id": "2dd7895a",
   "metadata": {},
   "outputs": [
    {
     "data": {
      "text/plain": [
       "0        NaN\n",
       "1          7\n",
       "2        NaN\n",
       "3          6\n",
       "4        NaN\n",
       "        ... \n",
       "15914      6\n",
       "15915      7\n",
       "15916      6\n",
       "15917      6\n",
       "15918    NaN\n",
       "Name: Gears, Length: 15919, dtype: object"
      ]
     },
     "execution_count": 1231,
     "metadata": {},
     "output_type": "execute_result"
    }
   ],
   "source": [
    "df[\"Gears\"]"
   ]
  },
  {
   "cell_type": "code",
   "execution_count": 1232,
   "id": "3a628f69",
   "metadata": {},
   "outputs": [
    {
     "data": {
      "text/plain": [
       "0         NaN\n",
       "1       7.000\n",
       "2         NaN\n",
       "3       6.000\n",
       "4         NaN\n",
       "         ... \n",
       "15914   6.000\n",
       "15915   7.000\n",
       "15916   6.000\n",
       "15917   6.000\n",
       "15918     NaN\n",
       "Name: Gears, Length: 15919, dtype: float64"
      ]
     },
     "execution_count": 1232,
     "metadata": {},
     "output_type": "execute_result"
    }
   ],
   "source": [
    "df[\"Gears\"].astype(float)"
   ]
  },
  {
   "cell_type": "markdown",
   "id": "11946bb1",
   "metadata": {},
   "source": [
    "###  Displacement          ----> (motor hacmi ---> cc)"
   ]
  },
  {
   "cell_type": "code",
   "execution_count": 1233,
   "id": "185b82b4",
   "metadata": {},
   "outputs": [
    {
     "name": "stdout",
     "output_type": "stream",
     "text": [
      "           Displacement   oran\n",
      "1,598 cc           4761 29.908\n",
      "999 cc             2438 15.315\n",
      "1,398 cc           1314  8.254\n",
      "1,399 cc            749  4.705\n",
      "1,229 cc            677  4.253\n",
      "1,956 cc            670  4.209\n",
      "1,461 cc            595  3.738\n",
      "1,490 cc            559  3.512\n",
      "NaN                 496  3.116\n",
      "1,422 cc            467  2.934\n",
      "1,197 cc            353  2.217\n",
      "898 cc              351  2.205\n",
      "1,395 cc            320  2.010\n",
      "1,968 cc            301  1.891\n",
      "1,149 cc            288  1.809\n",
      "1,618 cc            212  1.332\n",
      "1,798 cc            210  1.319\n",
      "1,498 cc            196  1.231\n",
      "1,600 cc            130  0.817\n",
      "1,248 cc            110  0.691\n",
      "1,997 cc            103  0.647\n",
      "1,364 cc            102  0.641\n",
      "1,400 cc             90  0.565\n",
      "998 cc               72  0.452\n",
      "1,500 cc             50  0.314\n",
      "2,000 cc             46  0.289\n",
      "1,000 cc             40  0.251\n",
      "1 cc                 36  0.226\n",
      "1,998 cc             25  0.157\n",
      "2,480 cc             20  0.126\n",
      "1,200 cc             18  0.113\n",
      "1,984 cc             18  0.113\n",
      "1,397 cc             11  0.069\n",
      "899 cc               11  0.069\n",
      "160 cc                6  0.038\n",
      "929 cc                5  0.031\n",
      "1,499 cc              5  0.031\n",
      "997 cc                4  0.025\n",
      "1,596 cc              4  0.025\n",
      "139 cc                4  0.025\n",
      "900 cc                4  0.025\n",
      "1,599 cc              3  0.019\n",
      "1,199 cc              3  0.019\n",
      "1,396 cc              3  0.019\n",
      "1,495 cc              2  0.013\n",
      "1,589 cc              2  0.013\n",
      "1,300 cc              2  0.013\n",
      "2 cc                  2  0.013\n",
      "995 cc                2  0.013\n",
      "1,496 cc              1  0.006\n",
      "890 cc                1  0.006\n",
      "1,580 cc              1  0.006\n",
      "1,995 cc              1  0.006\n",
      "1,333 cc              1  0.006\n",
      "54 cc                 1  0.006\n",
      "1,533 cc              1  0.006\n",
      "1,100 cc              1  0.006\n",
      "1,350 cc              1  0.006\n",
      "16,000 cc             1  0.006\n",
      "1,856 cc              1  0.006\n",
      "1,568 cc              1  0.006\n",
      "1,896 cc              1  0.006\n",
      "1,584 cc              1  0.006\n",
      "996 cc                1  0.006\n",
      "1,696 cc              1  0.006\n",
      "1,686 cc              1  0.006\n",
      "15,898 cc             1  0.006\n",
      "1,368 cc              1  0.006\n",
      "140 cc                1  0.006\n",
      "973 cc                1  0.006\n",
      "1,239 cc              1  0.006\n",
      "1,369 cc              1  0.006\n",
      "1,390 cc              1  0.006\n",
      "122 cc                1  0.006\n",
      "1,198 cc              1  0.006\n",
      "1,195 cc              1  0.006\n",
      "2,967 cc              1  0.006\n",
      "1,800 cc              1  0.006\n",
      "########################################\n",
      "Number_of_Nulls   :  496\n"
     ]
    }
   ],
   "source": [
    "summary(df,\"Displacement\")"
   ]
  },
  {
   "cell_type": "code",
   "execution_count": 1234,
   "id": "f3e4ba78",
   "metadata": {},
   "outputs": [
    {
     "data": {
      "text/plain": [
       "0        1,422 cc\n",
       "1        1,798 cc\n",
       "2        1,598 cc\n",
       "3        1,422 cc\n",
       "4        1,422 cc\n",
       "           ...   \n",
       "15914    1,997 cc\n",
       "15915    1,798 cc\n",
       "15916    1,997 cc\n",
       "15917    1,997 cc\n",
       "15918    1,798 cc\n",
       "Name: Displacement, Length: 15919, dtype: object"
      ]
     },
     "execution_count": 1234,
     "metadata": {},
     "output_type": "execute_result"
    }
   ],
   "source": [
    "df[\"Displacement\"]"
   ]
  },
  {
   "cell_type": "code",
   "execution_count": 1235,
   "id": "9d175398",
   "metadata": {},
   "outputs": [],
   "source": [
    "# df[\"Displacement\"].str.strip(\"cc\").astype(float)         # astype(float) adeta bir emniyet kemeri bizim için."
   ]
  },
  {
   "cell_type": "code",
   "execution_count": 1236,
   "id": "79840a2e",
   "metadata": {},
   "outputs": [
    {
     "data": {
      "text/plain": [
       "0       1422.000\n",
       "1       1798.000\n",
       "2       1598.000\n",
       "3       1422.000\n",
       "4       1422.000\n",
       "          ...   \n",
       "15914   1997.000\n",
       "15915   1798.000\n",
       "15916   1997.000\n",
       "15917   1997.000\n",
       "15918   1798.000\n",
       "Name: Displacement, Length: 15919, dtype: float64"
      ]
     },
     "execution_count": 1236,
     "metadata": {},
     "output_type": "execute_result"
    }
   ],
   "source": [
    "df[\"Displacement\"].str.strip(\"cc\").str.replace(\",\",\"\").astype(float)  "
   ]
  },
  {
   "cell_type": "code",
   "execution_count": 1237,
   "id": "c014875c",
   "metadata": {},
   "outputs": [],
   "source": [
    "df[\"displacement_cc\"] = df[\"Displacement\"].str.strip(\"cc\").str.replace(\",\",\"\").astype(float)  "
   ]
  },
  {
   "cell_type": "code",
   "execution_count": 1238,
   "id": "5ead35c4",
   "metadata": {},
   "outputs": [],
   "source": [
    "df.drop(\"Displacement\",axis=1,inplace=True)"
   ]
  },
  {
   "cell_type": "code",
   "execution_count": 1239,
   "id": "d708053d",
   "metadata": {},
   "outputs": [
    {
     "name": "stdout",
     "output_type": "stream",
     "text": [
      "           displacement_cc   oran\n",
      "1598.000              4761 29.908\n",
      "999.000               2438 15.315\n",
      "1398.000              1314  8.254\n",
      "1399.000               749  4.705\n",
      "1229.000               677  4.253\n",
      "1956.000               670  4.209\n",
      "1461.000               595  3.738\n",
      "1490.000               559  3.512\n",
      "NaN                    496  3.116\n",
      "1422.000               467  2.934\n",
      "1197.000               353  2.217\n",
      "898.000                351  2.205\n",
      "1395.000               320  2.010\n",
      "1968.000               301  1.891\n",
      "1149.000               288  1.809\n",
      "1618.000               212  1.332\n",
      "1798.000               210  1.319\n",
      "1498.000               196  1.231\n",
      "1600.000               130  0.817\n",
      "1248.000               110  0.691\n",
      "1997.000               103  0.647\n",
      "1364.000               102  0.641\n",
      "1400.000                90  0.565\n",
      "998.000                 72  0.452\n",
      "1500.000                50  0.314\n",
      "2000.000                46  0.289\n",
      "1000.000                40  0.251\n",
      "1.000                   36  0.226\n",
      "1998.000                25  0.157\n",
      "2480.000                20  0.126\n",
      "1200.000                18  0.113\n",
      "1984.000                18  0.113\n",
      "1397.000                11  0.069\n",
      "899.000                 11  0.069\n",
      "160.000                  6  0.038\n",
      "929.000                  5  0.031\n",
      "1499.000                 5  0.031\n",
      "997.000                  4  0.025\n",
      "1596.000                 4  0.025\n",
      "139.000                  4  0.025\n",
      "900.000                  4  0.025\n",
      "1599.000                 3  0.019\n",
      "1199.000                 3  0.019\n",
      "1396.000                 3  0.019\n",
      "1495.000                 2  0.013\n",
      "1589.000                 2  0.013\n",
      "1300.000                 2  0.013\n",
      "2.000                    2  0.013\n",
      "995.000                  2  0.013\n",
      "1496.000                 1  0.006\n",
      "890.000                  1  0.006\n",
      "1580.000                 1  0.006\n",
      "1995.000                 1  0.006\n",
      "1333.000                 1  0.006\n",
      "54.000                   1  0.006\n",
      "1533.000                 1  0.006\n",
      "1100.000                 1  0.006\n",
      "1350.000                 1  0.006\n",
      "16000.000                1  0.006\n",
      "1856.000                 1  0.006\n",
      "1568.000                 1  0.006\n",
      "1896.000                 1  0.006\n",
      "1584.000                 1  0.006\n",
      "996.000                  1  0.006\n",
      "1696.000                 1  0.006\n",
      "1686.000                 1  0.006\n",
      "15898.000                1  0.006\n",
      "1368.000                 1  0.006\n",
      "140.000                  1  0.006\n",
      "973.000                  1  0.006\n",
      "1239.000                 1  0.006\n",
      "1369.000                 1  0.006\n",
      "1390.000                 1  0.006\n",
      "122.000                  1  0.006\n",
      "1198.000                 1  0.006\n",
      "1195.000                 1  0.006\n",
      "2967.000                 1  0.006\n",
      "1800.000                 1  0.006\n",
      "########################################\n",
      "Number_of_Nulls   :  496\n"
     ]
    }
   ],
   "source": [
    "summary(df,\"displacement_cc\")"
   ]
  },
  {
   "cell_type": "markdown",
   "id": "1a29a875",
   "metadata": {},
   "source": [
    "###  Cylinders"
   ]
  },
  {
   "cell_type": "code",
   "execution_count": 1240,
   "id": "97117d9b",
   "metadata": {},
   "outputs": [
    {
     "name": "stdout",
     "output_type": "stream",
     "text": [
      "     Cylinders   oran\n",
      "4         8105 50.914\n",
      "NaN       5680 35.681\n",
      "3         2104 13.217\n",
      "5           22  0.138\n",
      "6            3  0.019\n",
      "8            2  0.013\n",
      "2            2  0.013\n",
      "1            1  0.006\n",
      "########################################\n",
      "Number_of_Nulls   :  5680\n"
     ]
    }
   ],
   "source": [
    "summary(df,\"Cylinders\")"
   ]
  },
  {
   "cell_type": "code",
   "execution_count": 1241,
   "id": "8b7c7236",
   "metadata": {},
   "outputs": [
    {
     "data": {
      "text/plain": [
       "0          3\n",
       "1          4\n",
       "2        NaN\n",
       "3          3\n",
       "4          3\n",
       "        ... \n",
       "15914      4\n",
       "15915      4\n",
       "15916      4\n",
       "15917      4\n",
       "15918      4\n",
       "Name: Cylinders, Length: 15919, dtype: object"
      ]
     },
     "execution_count": 1241,
     "metadata": {},
     "output_type": "execute_result"
    }
   ],
   "source": [
    "df[\"Cylinders\"]         # type'ı değiştirilebilir geri kalanlar temiz."
   ]
  },
  {
   "cell_type": "code",
   "execution_count": 1242,
   "id": "a0476383",
   "metadata": {},
   "outputs": [],
   "source": [
    "df[\"Cylinders\"] = df[\"Cylinders\"].astype(float)  "
   ]
  },
  {
   "cell_type": "markdown",
   "id": "eb86d22f",
   "metadata": {},
   "source": [
    "###  Weight"
   ]
  },
  {
   "cell_type": "code",
   "execution_count": 1243,
   "id": "61b68f37",
   "metadata": {},
   "outputs": [
    {
     "name": "stdout",
     "output_type": "stream",
     "text": [
      "          Weight   oran\n",
      "NaN         6974 43.809\n",
      "1,163 kg     574  3.606\n",
      "1,360 kg     356  2.236\n",
      "1,165 kg     301  1.891\n",
      "1,335 kg     242  1.520\n",
      "...          ...    ...\n",
      "1,960 kg       1  0.006\n",
      "1,258 kg       1  0.006\n",
      "1,167 kg       1  0.006\n",
      "1,331 kg       1  0.006\n",
      "2,037 kg       1  0.006\n",
      "\n",
      "[435 rows x 2 columns]\n",
      "########################################\n",
      "Number_of_Nulls   :  6974\n"
     ]
    }
   ],
   "source": [
    "summary(df,\"Weight\")"
   ]
  },
  {
   "cell_type": "code",
   "execution_count": 1244,
   "id": "278264f3",
   "metadata": {},
   "outputs": [
    {
     "data": {
      "text/plain": [
       "dtype('O')"
      ]
     },
     "execution_count": 1244,
     "metadata": {},
     "output_type": "execute_result"
    }
   ],
   "source": [
    "df[\"Weight\"].dtype      ## bunu da summary fonksiyonumuza ekleyebilirdik.karışıklık olmasın diye şu anda eklemedim."
   ]
  },
  {
   "cell_type": "code",
   "execution_count": 1245,
   "id": "d472b9cb",
   "metadata": {},
   "outputs": [
    {
     "data": {
      "text/plain": [
       "0       1220.000\n",
       "1       1255.000\n",
       "2            NaN\n",
       "3       1195.000\n",
       "4            NaN\n",
       "          ...   \n",
       "15914   1758.000\n",
       "15915   1708.000\n",
       "15916        NaN\n",
       "15917   1758.000\n",
       "15918   1685.000\n",
       "Name: Weight, Length: 15919, dtype: float64"
      ]
     },
     "execution_count": 1245,
     "metadata": {},
     "output_type": "execute_result"
    }
   ],
   "source": [
    "df[\"Weight\"].str.strip(\"kg\").str.replace(\",\",\"\").astype(float)"
   ]
  },
  {
   "cell_type": "code",
   "execution_count": 1246,
   "id": "fa4aa7a7",
   "metadata": {},
   "outputs": [],
   "source": [
    "df[\"weight_kg\"] = df[\"Weight\"].str.strip(\"kg\").str.replace(\",\",\"\").astype(float)"
   ]
  },
  {
   "cell_type": "code",
   "execution_count": 1247,
   "id": "91c985fa",
   "metadata": {},
   "outputs": [],
   "source": [
    "df.drop(columns=\"Weight\", inplace=True)"
   ]
  },
  {
   "cell_type": "code",
   "execution_count": 1248,
   "id": "4444af14",
   "metadata": {},
   "outputs": [
    {
     "name": "stdout",
     "output_type": "stream",
     "text": [
      "          weight_kg   oran\n",
      "NaN            6974 43.809\n",
      "1163.000        574  3.606\n",
      "1360.000        356  2.236\n",
      "1165.000        301  1.891\n",
      "1335.000        242  1.520\n",
      "...             ...    ...\n",
      "1960.000          1  0.006\n",
      "1258.000          1  0.006\n",
      "1167.000          1  0.006\n",
      "1331.000          1  0.006\n",
      "2037.000          1  0.006\n",
      "\n",
      "[435 rows x 2 columns]\n",
      "########################################\n",
      "Number_of_Nulls   :  6974\n"
     ]
    }
   ],
   "source": [
    "summary(df,\"weight_kg\")"
   ]
  },
  {
   "cell_type": "markdown",
   "id": "bac10c9f",
   "metadata": {},
   "source": [
    "###  Drive chain ---> motorun ön tarafındaki dişliye bağlıdır motorun sorunsuzca çalışmasına yardımcı olur"
   ]
  },
  {
   "cell_type": "code",
   "execution_count": 1249,
   "id": "2db1ea4c",
   "metadata": {},
   "outputs": [],
   "source": [
    "df.rename({\"Drive chain\":\"drive_chain\"},axis=1,inplace=True)"
   ]
  },
  {
   "cell_type": "code",
   "execution_count": 1250,
   "id": "cd2aeb5c",
   "metadata": {},
   "outputs": [
    {
     "name": "stdout",
     "output_type": "stream",
     "text": [
      "       drive_chain   oran\n",
      "front         8886 55.820\n",
      "NaN           6858 43.081\n",
      "4WD            171  1.074\n",
      "rear             4  0.025\n",
      "########################################\n",
      "Number_of_Nulls   :  6858\n"
     ]
    }
   ],
   "source": [
    "summary(df,\"drive_chain\")"
   ]
  },
  {
   "cell_type": "markdown",
   "id": "54a72763",
   "metadata": {},
   "source": [
    "##  Country version"
   ]
  },
  {
   "cell_type": "code",
   "execution_count": 1251,
   "id": "e31a0a01",
   "metadata": {},
   "outputs": [],
   "source": [
    "df.rename({\"Country version\":\"country_version\"},axis=1,inplace=True)"
   ]
  },
  {
   "cell_type": "code",
   "execution_count": 1252,
   "id": "a216d799",
   "metadata": {},
   "outputs": [
    {
     "name": "stdout",
     "output_type": "stream",
     "text": [
      "                country_version   oran\n",
      "NaN                        8333 52.346\n",
      "Germany                    4502 28.281\n",
      "Italy                      1038  6.521\n",
      "European Union              507  3.185\n",
      "Netherlands                 464  2.915\n",
      "Spain                       325  2.042\n",
      "Belgium                     314  1.972\n",
      "Austria                     208  1.307\n",
      "Czech Republic               52  0.327\n",
      "Poland                       49  0.308\n",
      "France                       38  0.239\n",
      "Denmark                      33  0.207\n",
      "Hungary                      28  0.176\n",
      "Japan                         8  0.050\n",
      "Slovakia                      4  0.025\n",
      "Croatia                       4  0.025\n",
      "Sweden                        3  0.019\n",
      "Romania                       2  0.013\n",
      "Bulgaria                      2  0.013\n",
      "Luxembourg                    1  0.006\n",
      "Switzerland                   1  0.006\n",
      "Slovenia                      1  0.006\n",
      "Egypt                         1  0.006\n",
      "Serbia                        1  0.006\n",
      "########################################\n",
      "Number_of_Nulls   :  8333\n"
     ]
    }
   ],
   "source": [
    "summary(df,\"country_version\")"
   ]
  },
  {
   "cell_type": "code",
   "execution_count": 1253,
   "id": "44ac442f",
   "metadata": {},
   "outputs": [],
   "source": [
    "## arabnın fiyatıyla ülkesinin arasında bir bağlantı yoktur."
   ]
  },
  {
   "cell_type": "code",
   "execution_count": 1254,
   "id": "33e3f23f",
   "metadata": {},
   "outputs": [],
   "source": [
    "df.drop(\"country_version\",axis=1,inplace=True)"
   ]
  },
  {
   "cell_type": "markdown",
   "id": "5ffa9109",
   "metadata": {},
   "source": [
    "### Emission Label"
   ]
  },
  {
   "cell_type": "code",
   "execution_count": 1255,
   "id": "a1ce0a4e",
   "metadata": {},
   "outputs": [],
   "source": [
    "df.rename({\"Emission Label\":\"emission_label\"},axis=1,inplace=True)"
   ]
  },
  {
   "cell_type": "code",
   "execution_count": 1256,
   "id": "1a446035",
   "metadata": {},
   "outputs": [
    {
     "name": "stdout",
     "output_type": "stream",
     "text": [
      "                emission_label   oran\n",
      "NaN                      11934 74.967\n",
      "4 (Green)                 3553 22.319\n",
      "1 (No sticker)             381  2.393\n",
      "[],[],[]                    40  0.251\n",
      "5 (Blue)                     8  0.050\n",
      "3 (Yellow)                   2  0.013\n",
      "2 (Red)                      1  0.006\n",
      "########################################\n",
      "Number_of_Nulls   :  11934\n"
     ]
    }
   ],
   "source": [
    "summary(df,\"emission_label\")"
   ]
  },
  {
   "cell_type": "code",
   "execution_count": 1257,
   "id": "dd526c1c",
   "metadata": {},
   "outputs": [
    {
     "data": {
      "text/plain": [
       "dtype('O')"
      ]
     },
     "execution_count": 1257,
     "metadata": {},
     "output_type": "execute_result"
    }
   ],
   "source": [
    "df[\"emission_label\"].dtype"
   ]
  },
  {
   "cell_type": "markdown",
   "id": "ba3b27f4",
   "metadata": {},
   "source": [
    "## [],[],[]  dikkatimizi çekti !"
   ]
  },
  {
   "cell_type": "code",
   "execution_count": 1258,
   "id": "1db961c1",
   "metadata": {},
   "outputs": [
    {
     "data": {
      "text/plain": [
       "make_model                 0\n",
       "short_description          0\n",
       "body_type                  0\n",
       "price                      0\n",
       "vat                        0\n",
       "km                         0\n",
       "prev_owner                 0\n",
       "Type                       0\n",
       "Previous Owners            0\n",
       "next_inspection            0\n",
       "inspection_new             0\n",
       "Warranty                   0\n",
       "full_service               0\n",
       "non_smoking_vehicle        0\n",
       "body_color                 0\n",
       "paint_type                 0\n",
       "body_color_orig            0\n",
       "Upholstery                 0\n",
       "number_of_doors            0\n",
       "number_of_seats            0\n",
       "gearing_type               0\n",
       "Cylinders                  0\n",
       "drive_chain                0\n",
       "Fuel                       0\n",
       "Consumption                0\n",
       "CO2 Emission             628\n",
       "Emission Class           607\n",
       "Comfort & Convenience      0\n",
       "Entertainment & Media      0\n",
       "Extras                     0\n",
       "Safety & Security          0\n",
       "description                0\n",
       "emission_label            40\n",
       "Gears                      0\n",
       "age                        0\n",
       "hp_kw                      0\n",
       "Type_                      0\n",
       "warranty_month             0\n",
       "upholstery_type            0\n",
       "upholstery_color           0\n",
       "displacement_cc            0\n",
       "weight_kg                  0\n",
       "dtype: int64"
      ]
     },
     "execution_count": 1258,
     "metadata": {},
     "output_type": "execute_result"
    }
   ],
   "source": [
    "df.isin([\"[],[],[]\"]).sum()"
   ]
  },
  {
   "cell_type": "code",
   "execution_count": 1259,
   "id": "1f763daf",
   "metadata": {},
   "outputs": [],
   "source": [
    "## diğer bazı sütunlarda da varmış bunlar da bizim için NaN olduğundan ve python'nun da öyle anlaması için : "
   ]
  },
  {
   "cell_type": "code",
   "execution_count": 1260,
   "id": "9cc2f872",
   "metadata": {},
   "outputs": [],
   "source": [
    "df[df.isin(['[],[],[]'])] = np.nan"
   ]
  },
  {
   "cell_type": "code",
   "execution_count": 1261,
   "id": "8fb639fc",
   "metadata": {},
   "outputs": [
    {
     "data": {
      "text/plain": [
       "make_model               0\n",
       "short_description        0\n",
       "body_type                0\n",
       "price                    0\n",
       "vat                      0\n",
       "km                       0\n",
       "prev_owner               0\n",
       "Type                     0\n",
       "Previous Owners          0\n",
       "next_inspection          0\n",
       "inspection_new           0\n",
       "Warranty                 0\n",
       "full_service             0\n",
       "non_smoking_vehicle      0\n",
       "body_color               0\n",
       "paint_type               0\n",
       "body_color_orig          0\n",
       "Upholstery               0\n",
       "number_of_doors          0\n",
       "number_of_seats          0\n",
       "gearing_type             0\n",
       "Cylinders                0\n",
       "drive_chain              0\n",
       "Fuel                     0\n",
       "Consumption              0\n",
       "CO2 Emission             0\n",
       "Emission Class           0\n",
       "Comfort & Convenience    0\n",
       "Entertainment & Media    0\n",
       "Extras                   0\n",
       "Safety & Security        0\n",
       "description              0\n",
       "emission_label           0\n",
       "Gears                    0\n",
       "age                      0\n",
       "hp_kw                    0\n",
       "Type_                    0\n",
       "warranty_month           0\n",
       "upholstery_type          0\n",
       "upholstery_color         0\n",
       "displacement_cc          0\n",
       "weight_kg                0\n",
       "dtype: int64"
      ]
     },
     "execution_count": 1261,
     "metadata": {},
     "output_type": "execute_result"
    }
   ],
   "source": [
    "df.isin([\"[],[],[]\"]).sum()"
   ]
  },
  {
   "cell_type": "code",
   "execution_count": 1262,
   "id": "a9610e8b",
   "metadata": {},
   "outputs": [
    {
     "name": "stdout",
     "output_type": "stream",
     "text": [
      "                emission_label   oran\n",
      "NaN                      11974 75.218\n",
      "4 (Green)                 3553 22.319\n",
      "1 (No sticker)             381  2.393\n",
      "5 (Blue)                     8  0.050\n",
      "3 (Yellow)                   2  0.013\n",
      "2 (Red)                      1  0.006\n",
      "########################################\n",
      "Number_of_Nulls   :  11974\n"
     ]
    }
   ],
   "source": [
    "summary(df,\"emission_label\")"
   ]
  },
  {
   "cell_type": "code",
   "execution_count": 1263,
   "id": "39170ac2",
   "metadata": {},
   "outputs": [],
   "source": [
    "## NaN sayısı oldukça fazla.***"
   ]
  },
  {
   "cell_type": "markdown",
   "id": "c0a6b26e",
   "metadata": {},
   "source": [
    "### Consumption (yakıt tüketimi)"
   ]
  },
  {
   "cell_type": "code",
   "execution_count": 1264,
   "id": "4bad3249",
   "metadata": {},
   "outputs": [
    {
     "data": {
      "text/plain": [
       "0        ['3.8 l/100 km (comb)'],['4.3 l/100 km (city)'...\n",
       "1        ['5.6 l/100 km (comb)'],['7.1 l/100 km (city)'...\n",
       "2        ['3.8 l/100 km (comb)'],['4.4 l/100 km (city)'...\n",
       "3        ['3.8 l/100 km (comb)'],['4.3 l/100 km (city)'...\n",
       "4        ['4.1 l/100 km (comb)'],['4.6 l/100 km (city)'...\n",
       "                               ...                        \n",
       "15914    ['5.3 l/100 km (comb)'],['6.2 l/100 km (city)'...\n",
       "15915    7.4 l/100 km (comb),,9.2 l/100 km (city),,6.3 ...\n",
       "15916    ['5.3 l/100 km (comb)'],['6.2 l/100 km (city)'...\n",
       "15917    ['5.3 l/100 km (comb)'],['6.2 l/100 km (city)'...\n",
       "15918    ['6.8 l/100 km (comb)'],['8.7 l/100 km (city)'...\n",
       "Name: Consumption, Length: 15919, dtype: object"
      ]
     },
     "execution_count": 1264,
     "metadata": {},
     "output_type": "execute_result"
    }
   ],
   "source": [
    "df[\"Consumption\"]"
   ]
  },
  {
   "cell_type": "code",
   "execution_count": 1265,
   "id": "1865eb74",
   "metadata": {},
   "outputs": [
    {
     "data": {
      "text/plain": [
       "NaN                                                                           1906\n",
       "['3.9 l/100 km (comb)'],['4.1 l/100 km (city)'],['3.7 l/100 km (country)']     304\n",
       "['4.2 l/100 km (comb)'],['5 l/100 km (city)'],['3.7 l/100 km (country)']       276\n",
       "['5.4 l/100 km (comb)'],['6.8 l/100 km (city)'],['4.5 l/100 km (country)']     257\n",
       "['3.8 l/100 km (comb)'],['4.3 l/100 km (city)'],['3.5 l/100 km (country)']     253\n",
       "                                                                              ... \n",
       "['4.2 l/100 km (comb)'],['5.3 l/100 km (city)'],['3.6 l/100 km (country)']       1\n",
       "5.1 l/100 km (comb),,6.4 l/100 km (city),,4.3 l/100 km (country)                 1\n",
       "['4.6 l/100 km (comb)'],['5.4 l/100 km (city)'],['6.7 l/100 km (country)']       1\n",
       "6.3 l/100 km (comb)                                                              1\n",
       "7.4 l/100 km (comb),,9.6 l/100 km (city),,6 l/100 km (country)                   1\n",
       "Name: Consumption, Length: 882, dtype: int64"
      ]
     },
     "execution_count": 1265,
     "metadata": {},
     "output_type": "execute_result"
    }
   ],
   "source": [
    "df[\"Consumption\"].value_counts(dropna=False)"
   ]
  },
  {
   "cell_type": "code",
   "execution_count": 1070,
   "id": "99e20c46",
   "metadata": {},
   "outputs": [
    {
     "data": {
      "text/plain": [
       "0        3.8 l/100 km (comb),4.3 l/100 km (city),3.5 l/...\n",
       "1        5.6 l/100 km (comb),7.1 l/100 km (city),4.7 l/...\n",
       "2        3.8 l/100 km (comb),4.4 l/100 km (city),3.4 l/...\n",
       "3        3.8 l/100 km (comb),4.3 l/100 km (city),3.5 l/...\n",
       "4        4.1 l/100 km (comb),4.6 l/100 km (city),3.8 l/...\n",
       "                               ...                        \n",
       "15914    5.3 l/100 km (comb),6.2 l/100 km (city),4.7 l/...\n",
       "15915    7.4 l/100 km (comb),,9.2 l/100 km (city),,6.3 ...\n",
       "15916    5.3 l/100 km (comb),6.2 l/100 km (city),4.7 l/...\n",
       "15917    5.3 l/100 km (comb),6.2 l/100 km (city),4.7 l/...\n",
       "15918    6.8 l/100 km (comb),8.7 l/100 km (city),5.7 l/...\n",
       "Name: Consumption, Length: 15919, dtype: object"
      ]
     },
     "execution_count": 1070,
     "metadata": {},
     "output_type": "execute_result"
    }
   ],
   "source": [
    "df[\"Consumption\"].str.replace(\"[\\[\\]']?\",\"\")"
   ]
  },
  {
   "cell_type": "code",
   "execution_count": 1266,
   "id": "6b2b1057",
   "metadata": {},
   "outputs": [],
   "source": [
    "df[\"Consumption\"] = df[\"Consumption\"].str.replace(\"[\\[\\]']?\",\"\")"
   ]
  },
  {
   "cell_type": "code",
   "execution_count": 1072,
   "id": "3b303d23",
   "metadata": {},
   "outputs": [
    {
     "data": {
      "text/html": [
       "<div>\n",
       "<style scoped>\n",
       "    .dataframe tbody tr th:only-of-type {\n",
       "        vertical-align: middle;\n",
       "    }\n",
       "\n",
       "    .dataframe tbody tr th {\n",
       "        vertical-align: top;\n",
       "    }\n",
       "\n",
       "    .dataframe thead th {\n",
       "        text-align: right;\n",
       "    }\n",
       "</style>\n",
       "<table border=\"1\" class=\"dataframe\">\n",
       "  <thead>\n",
       "    <tr style=\"text-align: right;\">\n",
       "      <th></th>\n",
       "      <th>0</th>\n",
       "    </tr>\n",
       "  </thead>\n",
       "  <tbody>\n",
       "    <tr>\n",
       "      <th>0</th>\n",
       "      <td>3.8</td>\n",
       "    </tr>\n",
       "    <tr>\n",
       "      <th>1</th>\n",
       "      <td>5.6</td>\n",
       "    </tr>\n",
       "    <tr>\n",
       "      <th>2</th>\n",
       "      <td>3.8</td>\n",
       "    </tr>\n",
       "    <tr>\n",
       "      <th>3</th>\n",
       "      <td>3.8</td>\n",
       "    </tr>\n",
       "    <tr>\n",
       "      <th>4</th>\n",
       "      <td>4.1</td>\n",
       "    </tr>\n",
       "    <tr>\n",
       "      <th>...</th>\n",
       "      <td>...</td>\n",
       "    </tr>\n",
       "    <tr>\n",
       "      <th>15914</th>\n",
       "      <td>5.3</td>\n",
       "    </tr>\n",
       "    <tr>\n",
       "      <th>15915</th>\n",
       "      <td>7.4</td>\n",
       "    </tr>\n",
       "    <tr>\n",
       "      <th>15916</th>\n",
       "      <td>5.3</td>\n",
       "    </tr>\n",
       "    <tr>\n",
       "      <th>15917</th>\n",
       "      <td>5.3</td>\n",
       "    </tr>\n",
       "    <tr>\n",
       "      <th>15918</th>\n",
       "      <td>6.8</td>\n",
       "    </tr>\n",
       "  </tbody>\n",
       "</table>\n",
       "<p>15919 rows × 1 columns</p>\n",
       "</div>"
      ],
      "text/plain": [
       "         0\n",
       "0      3.8\n",
       "1      5.6\n",
       "2      3.8\n",
       "3      3.8\n",
       "4      4.1\n",
       "...    ...\n",
       "15914  5.3\n",
       "15915  7.4\n",
       "15916  5.3\n",
       "15917  5.3\n",
       "15918  6.8\n",
       "\n",
       "[15919 rows x 1 columns]"
      ]
     },
     "execution_count": 1072,
     "metadata": {},
     "output_type": "execute_result"
    }
   ],
   "source": [
    "df[\"Consumption\"].str.extract(\"(\\d+\\.\\d+|\\d+)\") "
   ]
  },
  {
   "cell_type": "code",
   "execution_count": 1267,
   "id": "e961f96b",
   "metadata": {},
   "outputs": [
    {
     "data": {
      "text/html": [
       "<div>\n",
       "<style scoped>\n",
       "    .dataframe tbody tr th:only-of-type {\n",
       "        vertical-align: middle;\n",
       "    }\n",
       "\n",
       "    .dataframe tbody tr th {\n",
       "        vertical-align: top;\n",
       "    }\n",
       "\n",
       "    .dataframe thead th {\n",
       "        text-align: right;\n",
       "    }\n",
       "</style>\n",
       "<table border=\"1\" class=\"dataframe\">\n",
       "  <thead>\n",
       "    <tr style=\"text-align: right;\">\n",
       "      <th></th>\n",
       "      <th>0</th>\n",
       "      <th>1</th>\n",
       "    </tr>\n",
       "  </thead>\n",
       "  <tbody>\n",
       "    <tr>\n",
       "      <th>0</th>\n",
       "      <td>3.8</td>\n",
       "      <td>100</td>\n",
       "    </tr>\n",
       "    <tr>\n",
       "      <th>1</th>\n",
       "      <td>5.6</td>\n",
       "      <td>100</td>\n",
       "    </tr>\n",
       "    <tr>\n",
       "      <th>2</th>\n",
       "      <td>3.8</td>\n",
       "      <td>100</td>\n",
       "    </tr>\n",
       "    <tr>\n",
       "      <th>3</th>\n",
       "      <td>3.8</td>\n",
       "      <td>100</td>\n",
       "    </tr>\n",
       "    <tr>\n",
       "      <th>4</th>\n",
       "      <td>4.1</td>\n",
       "      <td>100</td>\n",
       "    </tr>\n",
       "    <tr>\n",
       "      <th>...</th>\n",
       "      <td>...</td>\n",
       "      <td>...</td>\n",
       "    </tr>\n",
       "    <tr>\n",
       "      <th>15914</th>\n",
       "      <td>5.3</td>\n",
       "      <td>100</td>\n",
       "    </tr>\n",
       "    <tr>\n",
       "      <th>15915</th>\n",
       "      <td>7.4</td>\n",
       "      <td>100</td>\n",
       "    </tr>\n",
       "    <tr>\n",
       "      <th>15916</th>\n",
       "      <td>5.3</td>\n",
       "      <td>100</td>\n",
       "    </tr>\n",
       "    <tr>\n",
       "      <th>15917</th>\n",
       "      <td>5.3</td>\n",
       "      <td>100</td>\n",
       "    </tr>\n",
       "    <tr>\n",
       "      <th>15918</th>\n",
       "      <td>6.8</td>\n",
       "      <td>100</td>\n",
       "    </tr>\n",
       "  </tbody>\n",
       "</table>\n",
       "<p>15919 rows × 2 columns</p>\n",
       "</div>"
      ],
      "text/plain": [
       "         0    1\n",
       "0      3.8  100\n",
       "1      5.6  100\n",
       "2      3.8  100\n",
       "3      3.8  100\n",
       "4      4.1  100\n",
       "...    ...  ...\n",
       "15914  5.3  100\n",
       "15915  7.4  100\n",
       "15916  5.3  100\n",
       "15917  5.3  100\n",
       "15918  6.8  100\n",
       "\n",
       "[15919 rows x 2 columns]"
      ]
     },
     "execution_count": 1267,
     "metadata": {},
     "output_type": "execute_result"
    }
   ],
   "source": [
    "df[\"Consumption\"].str.extract('(\\d*.\\d*).+/(\\d*)') "
   ]
  },
  {
   "cell_type": "code",
   "execution_count": 1269,
   "id": "b2045f5f",
   "metadata": {},
   "outputs": [],
   "source": [
    "df[\"Consumption_comb\"] = df[\"Consumption\"].str.extract(r\"(\\d*\\.\\d+|\\d+).+\\(comb\\)\").astype(float)"
   ]
  },
  {
   "cell_type": "code",
   "execution_count": 1270,
   "id": "8c5f3d18",
   "metadata": {},
   "outputs": [],
   "source": [
    "df[\"Consumption_city\"] = df[\"Consumption\"].str.extract(r\"[.+]?,(\\d*\\.\\d+|\\d+).+\\(city\\)\").astype(float)"
   ]
  },
  {
   "cell_type": "code",
   "execution_count": 1275,
   "id": "237133c9",
   "metadata": {},
   "outputs": [],
   "source": [
    "df[\"Consumption_city\"] = df[\"Consumption\"].str.extract(r\".+,(\\d*\\.\\d+|\\d+).+\\(country\\)\").astype(float)\n",
    "df[\"Consumption_country\"] = df[\"Consumption\"].str.extract(r\".+,(\\d*\\.\\d+|\\d+).+\\(country\\)\").astype(float)"
   ]
  },
  {
   "cell_type": "code",
   "execution_count": 1276,
   "id": "051e8f20",
   "metadata": {},
   "outputs": [
    {
     "data": {
      "text/html": [
       "<div>\n",
       "<style scoped>\n",
       "    .dataframe tbody tr th:only-of-type {\n",
       "        vertical-align: middle;\n",
       "    }\n",
       "\n",
       "    .dataframe tbody tr th {\n",
       "        vertical-align: top;\n",
       "    }\n",
       "\n",
       "    .dataframe thead th {\n",
       "        text-align: right;\n",
       "    }\n",
       "</style>\n",
       "<table border=\"1\" class=\"dataframe\">\n",
       "  <thead>\n",
       "    <tr style=\"text-align: right;\">\n",
       "      <th></th>\n",
       "      <th>Consumption</th>\n",
       "      <th>Consumption_comb</th>\n",
       "      <th>Consumption_city</th>\n",
       "      <th>Consumption_country</th>\n",
       "    </tr>\n",
       "  </thead>\n",
       "  <tbody>\n",
       "    <tr>\n",
       "      <th>8442</th>\n",
       "      <td>5.4 l/100 km (comb),,</td>\n",
       "      <td>5.400</td>\n",
       "      <td>NaN</td>\n",
       "      <td>NaN</td>\n",
       "    </tr>\n",
       "    <tr>\n",
       "      <th>4278</th>\n",
       "      <td>4.2 l/100 km (comb),4.7 l/100 km (city),3.9 l/...</td>\n",
       "      <td>4.200</td>\n",
       "      <td>3.900</td>\n",
       "      <td>3.900</td>\n",
       "    </tr>\n",
       "    <tr>\n",
       "      <th>6854</th>\n",
       "      <td>3.5 l/100 km (comb),4 l/100 km (city),3.2 l/10...</td>\n",
       "      <td>3.500</td>\n",
       "      <td>3.200</td>\n",
       "      <td>3.200</td>\n",
       "    </tr>\n",
       "    <tr>\n",
       "      <th>1767</th>\n",
       "      <td>3.8 l/100 km (comb),4.6 l/100 km (city),3.3 l/...</td>\n",
       "      <td>3.800</td>\n",
       "      <td>3.300</td>\n",
       "      <td>3.300</td>\n",
       "    </tr>\n",
       "    <tr>\n",
       "      <th>15693</th>\n",
       "      <td>6.8 l/100 km (comb),8.7 l/100 km (city),5.7 l/...</td>\n",
       "      <td>6.800</td>\n",
       "      <td>5.700</td>\n",
       "      <td>5.700</td>\n",
       "    </tr>\n",
       "    <tr>\n",
       "      <th>1927</th>\n",
       "      <td>4.8 l/100 km (comb),5.9 l/100 km (city),4.1 l/...</td>\n",
       "      <td>4.800</td>\n",
       "      <td>4.100</td>\n",
       "      <td>4.100</td>\n",
       "    </tr>\n",
       "    <tr>\n",
       "      <th>12955</th>\n",
       "      <td>6.1 l/100 km (comb),7.7 l/100 km (city),5.2 l/...</td>\n",
       "      <td>6.100</td>\n",
       "      <td>5.200</td>\n",
       "      <td>5.200</td>\n",
       "    </tr>\n",
       "    <tr>\n",
       "      <th>11971</th>\n",
       "      <td>NaN</td>\n",
       "      <td>NaN</td>\n",
       "      <td>NaN</td>\n",
       "      <td>NaN</td>\n",
       "    </tr>\n",
       "    <tr>\n",
       "      <th>1658</th>\n",
       "      <td>4.8 l/100 km (comb),5.9 l/100 km (city),4.2 l/...</td>\n",
       "      <td>4.800</td>\n",
       "      <td>4.200</td>\n",
       "      <td>4.200</td>\n",
       "    </tr>\n",
       "    <tr>\n",
       "      <th>2176</th>\n",
       "      <td>6 l/100 km (comb),8.2 l/100 km (city),4.7 l/10...</td>\n",
       "      <td>6.000</td>\n",
       "      <td>4.700</td>\n",
       "      <td>4.700</td>\n",
       "    </tr>\n",
       "  </tbody>\n",
       "</table>\n",
       "</div>"
      ],
      "text/plain": [
       "                                             Consumption  Consumption_comb  \\\n",
       "8442                               5.4 l/100 km (comb),,             5.400   \n",
       "4278   4.2 l/100 km (comb),4.7 l/100 km (city),3.9 l/...             4.200   \n",
       "6854   3.5 l/100 km (comb),4 l/100 km (city),3.2 l/10...             3.500   \n",
       "1767   3.8 l/100 km (comb),4.6 l/100 km (city),3.3 l/...             3.800   \n",
       "15693  6.8 l/100 km (comb),8.7 l/100 km (city),5.7 l/...             6.800   \n",
       "1927   4.8 l/100 km (comb),5.9 l/100 km (city),4.1 l/...             4.800   \n",
       "12955  6.1 l/100 km (comb),7.7 l/100 km (city),5.2 l/...             6.100   \n",
       "11971                                                NaN               NaN   \n",
       "1658   4.8 l/100 km (comb),5.9 l/100 km (city),4.2 l/...             4.800   \n",
       "2176   6 l/100 km (comb),8.2 l/100 km (city),4.7 l/10...             6.000   \n",
       "\n",
       "       Consumption_city  Consumption_country  \n",
       "8442                NaN                  NaN  \n",
       "4278              3.900                3.900  \n",
       "6854              3.200                3.200  \n",
       "1767              3.300                3.300  \n",
       "15693             5.700                5.700  \n",
       "1927              4.100                4.100  \n",
       "12955             5.200                5.200  \n",
       "11971               NaN                  NaN  \n",
       "1658              4.200                4.200  \n",
       "2176              4.700                4.700  "
      ]
     },
     "execution_count": 1276,
     "metadata": {},
     "output_type": "execute_result"
    }
   ],
   "source": [
    "df[[\"Consumption\",\"Consumption_comb\",\"Consumption_city\",\"Consumption_country\"]].sample(10)"
   ]
  },
  {
   "cell_type": "code",
   "execution_count": 1278,
   "id": "b40c7e8b",
   "metadata": {},
   "outputs": [],
   "source": [
    "df.drop(columns=\"Consumption\", inplace=True)"
   ]
  },
  {
   "cell_type": "markdown",
   "id": "cc25ddb0",
   "metadata": {},
   "source": [
    "### CO2 Emission"
   ]
  },
  {
   "cell_type": "code",
   "execution_count": 1023,
   "id": "148d19c4",
   "metadata": {},
   "outputs": [],
   "source": [
    "df.rename({\"CO2 Emission\":\"co2_emission\"},axis=1,inplace=True)"
   ]
  },
  {
   "cell_type": "code",
   "execution_count": 1024,
   "id": "dcef6d55",
   "metadata": {},
   "outputs": [
    {
     "name": "stdout",
     "output_type": "stream",
     "text": [
      "                       co2_emission   oran\n",
      "NaN                            2436 15.302\n",
      "120 g CO2/km (comb)             740  4.649\n",
      "99 g CO2/km (comb)              545  3.424\n",
      "97 g CO2/km (comb)              537  3.373\n",
      "104 g CO2/km (comb)             501  3.147\n",
      "...                             ...    ...\n",
      "14 g CO2/km (comb)                1  0.006\n",
      "1,060 g CO2/km (comb)             1  0.006\n",
      "51 g CO2/km (comb)                1  0.006\n",
      "165 g CO2/km (comb)               1  0.006\n",
      "193 g CO2/km (comb)               1  0.006\n",
      "\n",
      "[123 rows x 2 columns]\n",
      "########################################\n",
      "Number_of_Nulls   :  2436\n"
     ]
    }
   ],
   "source": [
    "summary(df,\"co2_emission\")"
   ]
  },
  {
   "cell_type": "code",
   "execution_count": 1045,
   "id": "cd359735",
   "metadata": {},
   "outputs": [
    {
     "data": {
      "text/html": [
       "<div>\n",
       "<style scoped>\n",
       "    .dataframe tbody tr th:only-of-type {\n",
       "        vertical-align: middle;\n",
       "    }\n",
       "\n",
       "    .dataframe tbody tr th {\n",
       "        vertical-align: top;\n",
       "    }\n",
       "\n",
       "    .dataframe thead th {\n",
       "        text-align: right;\n",
       "    }\n",
       "</style>\n",
       "<table border=\"1\" class=\"dataframe\">\n",
       "  <thead>\n",
       "    <tr style=\"text-align: right;\">\n",
       "      <th></th>\n",
       "      <th>0</th>\n",
       "    </tr>\n",
       "  </thead>\n",
       "  <tbody>\n",
       "    <tr>\n",
       "      <th>0</th>\n",
       "      <td>99.000</td>\n",
       "    </tr>\n",
       "    <tr>\n",
       "      <th>1</th>\n",
       "      <td>129.000</td>\n",
       "    </tr>\n",
       "    <tr>\n",
       "      <th>2</th>\n",
       "      <td>99.000</td>\n",
       "    </tr>\n",
       "    <tr>\n",
       "      <th>3</th>\n",
       "      <td>99.000</td>\n",
       "    </tr>\n",
       "    <tr>\n",
       "      <th>4</th>\n",
       "      <td>109.000</td>\n",
       "    </tr>\n",
       "    <tr>\n",
       "      <th>...</th>\n",
       "      <td>...</td>\n",
       "    </tr>\n",
       "    <tr>\n",
       "      <th>15914</th>\n",
       "      <td>139.000</td>\n",
       "    </tr>\n",
       "    <tr>\n",
       "      <th>15915</th>\n",
       "      <td>168.000</td>\n",
       "    </tr>\n",
       "    <tr>\n",
       "      <th>15916</th>\n",
       "      <td>139.000</td>\n",
       "    </tr>\n",
       "    <tr>\n",
       "      <th>15917</th>\n",
       "      <td>139.000</td>\n",
       "    </tr>\n",
       "    <tr>\n",
       "      <th>15918</th>\n",
       "      <td>153.000</td>\n",
       "    </tr>\n",
       "  </tbody>\n",
       "</table>\n",
       "<p>15919 rows × 1 columns</p>\n",
       "</div>"
      ],
      "text/plain": [
       "            0\n",
       "0      99.000\n",
       "1     129.000\n",
       "2      99.000\n",
       "3      99.000\n",
       "4     109.000\n",
       "...       ...\n",
       "15914 139.000\n",
       "15915 168.000\n",
       "15916 139.000\n",
       "15917 139.000\n",
       "15918 153.000\n",
       "\n",
       "[15919 rows x 1 columns]"
      ]
     },
     "execution_count": 1045,
     "metadata": {},
     "output_type": "execute_result"
    }
   ],
   "source": [
    "df[\"co2_emission\"].str.replace(\",\",\"\").str.extract(\"(\\d+)\").astype(float)"
   ]
  },
  {
   "cell_type": "code",
   "execution_count": 1046,
   "id": "8d4bb5a2",
   "metadata": {},
   "outputs": [],
   "source": [
    "df[\"co2_emission\"] = df[\"co2_emission\"].str.replace(\",\",\"\").str.extract(\"(\\d+)\").astype(float)"
   ]
  },
  {
   "cell_type": "code",
   "execution_count": 1047,
   "id": "7a5daeea",
   "metadata": {},
   "outputs": [
    {
     "name": "stdout",
     "output_type": "stream",
     "text": [
      "          co2_emission   oran\n",
      "NaN               2436 15.302\n",
      "120.000            740  4.649\n",
      "99.000             545  3.424\n",
      "97.000             537  3.373\n",
      "104.000            501  3.147\n",
      "...                ...    ...\n",
      "14.000               1  0.006\n",
      "1060.000             1  0.006\n",
      "51.000               1  0.006\n",
      "165.000              1  0.006\n",
      "193.000              1  0.006\n",
      "\n",
      "[123 rows x 2 columns]\n",
      "########################################\n",
      "Number_of_Nulls   :  2436\n"
     ]
    }
   ],
   "source": [
    "summary(df,\"co2_emission\")"
   ]
  },
  {
   "cell_type": "markdown",
   "id": "d325de56",
   "metadata": {},
   "source": [
    "### Emission Class"
   ]
  },
  {
   "cell_type": "code",
   "execution_count": 1280,
   "id": "0ee53781",
   "metadata": {},
   "outputs": [],
   "source": [
    "df.rename({\"Emission Class\":\"emission_class\"},axis=1,inplace=True)"
   ]
  },
  {
   "cell_type": "code",
   "execution_count": 1281,
   "id": "ab0c0259",
   "metadata": {},
   "outputs": [
    {
     "name": "stdout",
     "output_type": "stream",
     "text": [
      "              emission_class   oran\n",
      "Euro 6                 10139 63.691\n",
      "NaN                     3628 22.790\n",
      "Euro 6d-TEMP            1845 11.590\n",
      "Euro 6c                  127  0.798\n",
      "Euro 5                    78  0.490\n",
      "Euro 6d                   62  0.389\n",
      "Euro 4                    40  0.251\n",
      "########################################\n",
      "Number_of_Nulls   :  3628\n"
     ]
    }
   ],
   "source": [
    "summary(df,\"emission_class\")"
   ]
  },
  {
   "cell_type": "code",
   "execution_count": null,
   "id": "989a8e4b",
   "metadata": {},
   "outputs": [],
   "source": []
  },
  {
   "cell_type": "code",
   "execution_count": null,
   "id": "cc29e4dd",
   "metadata": {},
   "outputs": [],
   "source": []
  },
  {
   "cell_type": "code",
   "execution_count": null,
   "id": "b9e27863",
   "metadata": {},
   "outputs": [],
   "source": []
  },
  {
   "cell_type": "markdown",
   "id": "325c305d",
   "metadata": {},
   "source": [
    "### Fuel"
   ]
  },
  {
   "cell_type": "code",
   "execution_count": 1048,
   "id": "0e2d3a04",
   "metadata": {},
   "outputs": [
    {
     "name": "stdout",
     "output_type": "stream",
     "text": [
      "                                                    Fuel   oran\n",
      "Diesel (Particulate Filter)                         4315 27.106\n",
      "Super 95                                            3338 20.969\n",
      "Gasoline                                            3175 19.945\n",
      "Diesel                                              2984 18.745\n",
      "Super 95 / Regular/Benzine 91                        424  2.663\n",
      "Regular/Benzine 91                                   354  2.224\n",
      "Super E10 95                                         331  2.079\n",
      "Super 95 (Particulate Filter)                        268  1.684\n",
      "Super 95 / Super E10 95                              131  0.823\n",
      "Regular/Benzine 91 (Particulate Filter)              100  0.628\n",
      "Super 95 / Super Plus 98                              85  0.534\n",
      "Gasoline (Particulate Filter)                         77  0.484\n",
      "Super 95 / Super Plus 98 / Super E10 95 / Super...    40  0.251\n",
      "Super E10 95 / Super 95                               38  0.239\n",
      "CNG                                                   33  0.207\n",
      "Super 95 / Super E10 95 (Particulate Filter)          25  0.157\n",
      "Super E10 95 / Super 95 / Super Plus 98 / Super...    19  0.119\n",
      "LPG                                                   16  0.101\n",
      "Super 95 / Super Plus 98 (Particulate Filter)         14  0.088\n",
      "Regular/Benzine 91 / Super 95 / Super Plus 98 /...    13  0.082\n",
      "Regular/Benzine E10 91                                11  0.069\n",
      "Liquid petroleum gas (LPG)                            10  0.063\n",
      "Super 95 / Super Plus 98 / Super E10 95                8  0.050\n",
      "Regular/Benzine 91 / Regular/Benzine E10 91            7  0.044\n",
      "Super 95 / Regular/Benzine 91 / Super Plus 98 /...     7  0.044\n",
      "Super Plus 98                                          7  0.044\n",
      "Super E10 95 (Particulate Filter)                      7  0.044\n",
      "Super 95 / Super Plus 98 / Super Plus E10 98 / ...     5  0.031\n",
      "Others                                                 5  0.031\n",
      "Super E10 95 / Super Plus E10 98                       4  0.025\n",
      "Electric/Gasoline                                      4  0.025\n",
      "Super 95 / Super Plus 98 / Super E10 95 / Super...     4  0.025\n",
      "Super 95 / Super E10 95 / Super Plus E10 98 / S...     4  0.025\n",
      "Regular/Benzine 91 / Super 95 / Super Plus 98 /...     4  0.025\n",
      "CNG (Particulate Filter)                               3  0.019\n",
      "Super E10 95 / Super 95 / Super Plus 98 / Super...     3  0.019\n",
      "Super E10 95 / Super 95 / Super Plus 98                3  0.019\n",
      "Super E10 95 / Regular/Benzine 91                      2  0.013\n",
      "Super 95 / Regular/Benzine 91 / Super Plus 98          2  0.013\n",
      "Regular/Benzine 91 / Super 95 / Super Plus 98 /...     2  0.013\n",
      "Regular/Benzine 91 / Super 95 / Super E10 95           1  0.006\n",
      "Electric                                               1  0.006\n",
      "Regular/Benzine 91 / Super 95 / Super E10 95 / ...     1  0.006\n",
      "Super 95 / Super E10 95 / Super Plus E10 98            1  0.006\n",
      "Super 95 / Super E10 95 / Super Plus 98                1  0.006\n",
      "Regular/Benzine 91 / Super 95 / Super Plus E10 ...     1  0.006\n",
      "Super 95 / Super Plus 98 / Regular/Benzine E10 ...     1  0.006\n",
      "Super 95 / Regular/Benzine E10 91                      1  0.006\n",
      "Super E10 95 / Regular/Benzine 91 / Regular/Ben...     1  0.006\n",
      "Super Plus 98 / Regular/Benzine 91                     1  0.006\n",
      "Super 95 / Regular/Benzine 91 / Super E10 95 / ...     1  0.006\n",
      "Super 95 / Super Plus 98 / Super Plus E10 98           1  0.006\n",
      "Super 95 / Regular/Benzine 91 (Particulate Filter)     1  0.006\n",
      "Super 95 / Super E10 95 / Regular/Benzine 91           1  0.006\n",
      "Regular/Benzine 91 / Super 95 / Super E10 95 / ...     1  0.006\n",
      "Super 95 / Regular/Benzine E10 91 / Super E10 95       1  0.006\n",
      "Super 95 / Regular/Benzine 91 / Super Plus 98 /...     1  0.006\n",
      "Regular/Benzine E10 91 / Super E10 95 / Super P...     1  0.006\n",
      "Super 95 / Regular/Benzine 91 / Super E10 95 / ...     1  0.006\n",
      "Others (Particulate Filter)                            1  0.006\n",
      "Biogas                                                 1  0.006\n",
      "Super 95 / Biodiesel                                   1  0.006\n",
      "Regular/Benzine 91 / Super 95 / Super Plus 98 /...     1  0.006\n",
      "Regular/Benzine 91 / Super 95 / Super Plus 98          1  0.006\n",
      "Regular/Benzine 91 / Super 95                          1  0.006\n",
      "Regular/Benzine E10 91 / Regular/Benzine 91 / S...     1  0.006\n",
      "Domestic gas H                                         1  0.006\n",
      "Super E10 95 / Regular/Benzine 91 / Super 95 / ...     1  0.006\n",
      "Super Plus E10 98 / Super 95 / Super Plus 98 / ...     1  0.006\n",
      "Super 95 / Regular/Benzine 91 / Super E10 95 / ...     1  0.006\n",
      "Super Plus 98 / Super 95 / Super E10 95                1  0.006\n",
      "Super Plus E10 98                                      1  0.006\n",
      "Regular/Benzine 91 / Super 95 / Regular/Benzine...     1  0.006\n",
      "Super Plus 98 / Super E10 95                           1  0.006\n",
      "Regular/Benzine 91 / Super 95 / Regular/Benzine...     1  0.006\n",
      "Regular/Benzine 91 / Super Plus 98 / Regular/Be...     1  0.006\n",
      "Super Plus 98 / Super 95 / Super Plus E10 98           1  0.006\n",
      "########################################\n",
      "Number_of_Nulls   :  0\n"
     ]
    }
   ],
   "source": [
    "summary(df,\"Fuel\")"
   ]
  },
  {
   "cell_type": "code",
   "execution_count": 1049,
   "id": "f9810a5d",
   "metadata": {},
   "outputs": [],
   "source": [
    "## çok fazla değer var bunları ayırmalıyız."
   ]
  },
  {
   "cell_type": "code",
   "execution_count": 1050,
   "id": "756e2d58",
   "metadata": {},
   "outputs": [],
   "source": [
    "benzine = [\"Gasoline\", \"Super 95\", \"Regular\",\"Super E10 95\",\"Super Plus 98\",\"Super Plus E10 98\", \"Others\"]\n",
    "diesel = [\"Biodiesel\",\"Diesel\"]\n",
    "lpg = [\"Biogas\", \"CNG\", \"Domestic gas H\", \"LPG\",\"Liquid petroleum gas\"]\n",
    "hybride = ['Electric', 'Electric/Gasoline']\n"
   ]
  },
  {
   "cell_type": "code",
   "execution_count": 1058,
   "id": "87d957db",
   "metadata": {},
   "outputs": [
    {
     "data": {
      "text/plain": [
       "Hybride    9062\n",
       "Benzine    6857\n",
       "Name: Fuel, dtype: int64"
      ]
     },
     "execution_count": 1058,
     "metadata": {},
     "output_type": "execute_result"
    }
   ],
   "source": [
    "def fueltypee(x):\n",
    "    if x in benzine:\n",
    "        return \"Benzine\"\n",
    "    elif x in \"diesel\":\n",
    "        return \"Diesel\"\n",
    "    elif x in \"lpg\":\n",
    "        return \"LPG/CNG\"\n",
    "    else:\n",
    "        return \"Hybride\"\n",
    "    \n",
    "df[\"Fuel\"].apply(fueltypee).value_counts(dropna=False)                     ### bu istediğimiz gibi çalışmadı."
   ]
  },
  {
   "cell_type": "code",
   "execution_count": 1059,
   "id": "98307acd",
   "metadata": {},
   "outputs": [
    {
     "data": {
      "text/plain": [
       "Benzine    8551\n",
       "Diesel     7299\n",
       "LPG/CNG      64\n",
       "Hybride       5\n",
       "Name: Fuel, dtype: int64"
      ]
     },
     "execution_count": 1059,
     "metadata": {},
     "output_type": "execute_result"
    }
   ],
   "source": [
    "def fueltype(x):\n",
    "    if any(i in x for i in hybride):\n",
    "        return \"Hybride\"\n",
    "    elif any(i in x for i in lpg):\n",
    "        return \"LPG/CNG\"\n",
    "    elif any(i in x for i in benzine):\n",
    "        return \"Benzine\"\n",
    "    elif any(i in x for i in diesel):\n",
    "        return \"Diesel\"\n",
    "\n",
    "    else:\n",
    "        return x\n",
    "    \n",
    "    \n",
    "df[\"Fuel\"].apply(fueltype).value_counts(dropna=False)"
   ]
  },
  {
   "cell_type": "code",
   "execution_count": 1060,
   "id": "38d6bfdf",
   "metadata": {},
   "outputs": [],
   "source": [
    "df[\"Fuel\"]= df[\"Fuel\"].apply(fueltype)"
   ]
  },
  {
   "cell_type": "code",
   "execution_count": null,
   "id": "bf6299a1",
   "metadata": {},
   "outputs": [],
   "source": []
  },
  {
   "cell_type": "code",
   "execution_count": null,
   "id": "fc2e7ea0",
   "metadata": {},
   "outputs": [],
   "source": []
  },
  {
   "cell_type": "code",
   "execution_count": null,
   "id": "ab29cec0",
   "metadata": {},
   "outputs": [],
   "source": []
  },
  {
   "cell_type": "code",
   "execution_count": null,
   "id": "7f4c7be4",
   "metadata": {},
   "outputs": [],
   "source": []
  },
  {
   "cell_type": "code",
   "execution_count": null,
   "id": "1ecc0fff",
   "metadata": {},
   "outputs": [],
   "source": []
  },
  {
   "cell_type": "code",
   "execution_count": 257,
   "id": "f2d78117",
   "metadata": {},
   "outputs": [
    {
     "name": "stdout",
     "output_type": "stream",
     "text": [
      "<class 'pandas.core.frame.DataFrame'>\n",
      "RangeIndex: 15919 entries, 0 to 15918\n",
      "Data columns (total 44 columns):\n",
      " #   Column                 Non-Null Count  Dtype \n",
      "---  ------                 --------------  ----- \n",
      " 0   short_description      15873 non-null  object\n",
      " 1   body_type              15859 non-null  object\n",
      " 2   price                  15919 non-null  int64 \n",
      " 3   vat                    11406 non-null  object\n",
      " 4   km                     15919 non-null  object\n",
      " 5   registration           15919 non-null  object\n",
      " 6   prev_owner             9091 non-null   object\n",
      " 7   hp                     15919 non-null  object\n",
      " 8   Type                   15917 non-null  object\n",
      " 9   Previous Owners        9279 non-null   object\n",
      " 10  Next Inspection        3535 non-null   object\n",
      " 11  Inspection new         3932 non-null   object\n",
      " 12  Warranty               10499 non-null  object\n",
      " 13  Full Service           8215 non-null   object\n",
      " 14  Non-smoking Vehicle    7177 non-null   object\n",
      " 15  null                   15919 non-null  object\n",
      " 16  Make                   15919 non-null  object\n",
      " 17  Model                  15919 non-null  object\n",
      " 18  Offer Number           12744 non-null  object\n",
      " 19  First Registration     14322 non-null  object\n",
      " 20  Body Color             15322 non-null  object\n",
      " 21  Paint Type             10147 non-null  object\n",
      " 22  Body Color Original    12160 non-null  object\n",
      " 23  Upholstery             12199 non-null  object\n",
      " 24  Nr. of Doors           15707 non-null  object\n",
      " 25  Nr. of Seats           14942 non-null  object\n",
      " 26  Model Code             4978 non-null   object\n",
      " 27  Gearing Type           15919 non-null  object\n",
      " 28  Displacement           15423 non-null  object\n",
      " 29  Cylinders              10239 non-null  object\n",
      " 30  Weight                 8945 non-null   object\n",
      " 31  Drive chain            9061 non-null   object\n",
      " 32  Fuel                   15919 non-null  object\n",
      " 33  Consumption            14013 non-null  object\n",
      " 34  CO2 Emission           14111 non-null  object\n",
      " 35  Emission Class         12898 non-null  object\n",
      " 36  Comfort & Convenience  14999 non-null  object\n",
      " 37  Entertainment & Media  14545 non-null  object\n",
      " 38  Extras                 12957 non-null  object\n",
      " 39  Safety & Security      14937 non-null  object\n",
      " 40  description            15919 non-null  object\n",
      " 41  Emission Label         3985 non-null   object\n",
      " 42  Gears                  11207 non-null  object\n",
      " 43  Country version        7586 non-null   object\n",
      "dtypes: int64(1), object(43)\n",
      "memory usage: 5.3+ MB\n"
     ]
    }
   ],
   "source": [
    "df.info()"
   ]
  },
  {
   "cell_type": "code",
   "execution_count": null,
   "id": "ebacc7ff",
   "metadata": {},
   "outputs": [],
   "source": []
  },
  {
   "cell_type": "markdown",
   "id": "9dbb999e",
   "metadata": {},
   "source": [
    "### 2-) price ------> target feature"
   ]
  },
  {
   "cell_type": "code",
   "execution_count": null,
   "id": "8964c5db",
   "metadata": {},
   "outputs": [],
   "source": []
  }
 ],
 "metadata": {
  "kernelspec": {
   "display_name": "Python 3 (ipykernel)",
   "language": "python",
   "name": "python3"
  },
  "language_info": {
   "codemirror_mode": {
    "name": "ipython",
    "version": 3
   },
   "file_extension": ".py",
   "mimetype": "text/x-python",
   "name": "python",
   "nbconvert_exporter": "python",
   "pygments_lexer": "ipython3",
   "version": "3.9.7"
  }
 },
 "nbformat": 4,
 "nbformat_minor": 5
}
